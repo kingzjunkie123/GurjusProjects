{
 "cells": [
  {
   "cell_type": "markdown",
   "metadata": {},
   "source": [
    "# Deliverables:\n",
    "\n",
    "- Submit two files that has the name: <font color = 'red'>YourLastName_Exercise_4:</font>\n",
    "\n",
    " 1. Your **HTML file** that has your Source code and output\n",
    " 2. Your **ipynb script** that has your Source code and output\n",
    "\n",
    "\n",
    "# Objectives:\n",
    "\n",
    "In this exercise, you will:\n",
    "\n",
    " - Analyze the dataset in the given CSV file\n",
    " - Clean the given dataset\n",
    " - Load the dataset into sqlite database engine\n",
    " - Execute different SQL queries\n",
    "\n",
    "Formatting Python Code\n",
    "When programming in Python, refer to Kenneth Reitz’ PEP 8: The Style Guide for Python Code:\n",
    "http://pep8.org/ (Links to an external site.)Links to an external site.\n",
    "There is the Google style guide for Python at\n",
    "https://google.github.io/styleguide/pyguide.html (Links to an external site.)Links to an external site.\n",
    "Comment often and in detail.\n"
   ]
  },
  {
   "cell_type": "markdown",
   "metadata": {},
   "source": [
    "###   Data Preparation"
   ]
  },
  {
   "cell_type": "markdown",
   "metadata": {},
   "source": [
    "As a data scientist for BestDeal retailer, you\n",
    "have been tasked with improving their revenue and the effectiveness of the\n",
    "marketing campaign of their electronic products. The given dataset has\n",
    "10,000 records for the purchases of their customers and is used to predict\n",
    "customers shopping patterns and to provide answers for ad-hoc queries.\n",
    "The dataset DirtyData4BestDeal10000.csv is drawn from its database of\n",
    "customers."
   ]
  },
  {
   "cell_type": "code",
   "execution_count": 3,
   "metadata": {},
   "outputs": [],
   "source": [
    "# load libraries\n",
    "import pandas as pd  \n",
    "import numpy as np  \n",
    "import sqlalchemy\n",
    "from sqlalchemy import create_engine\n",
    "from sqlalchemy import inspect\n",
    "\n",
    "# set up notebook to display multiple output in one cell\n",
    "from IPython.core.interactiveshell import InteractiveShell\n",
    "InteractiveShell.ast_node_interactivity = \"all\""
   ]
  },
  {
   "cell_type": "markdown",
   "metadata": {},
   "source": [
    "### Lets read the dirtydata4bestdeal CSV and load into a dataframe object"
   ]
  },
  {
   "cell_type": "code",
   "execution_count": 4,
   "metadata": {},
   "outputs": [
    {
     "name": "stdout",
     "output_type": "stream",
     "text": [
      "<class 'pandas.core.frame.DataFrame'>\n",
      "RangeIndex: 10000 entries, 0 to 9999\n",
      "Data columns (total 34 columns):\n",
      "ZipCode               9856 non-null float64\n",
      "CustomerAge           9856 non-null float64\n",
      "SamsungTV46LED        10000 non-null int64\n",
      "SonyTV42LED           9984 non-null object\n",
      "XBOX360               9992 non-null object\n",
      "DellLaptop            9968 non-null object\n",
      "BoseSoundSystem       9981 non-null object\n",
      "BoseHeadSet           9976 non-null float64\n",
      "SonyHeadSet           9976 non-null float64\n",
      "iPod                  9968 non-null float64\n",
      "iPhone                9984 non-null float64\n",
      "Panasonic50LED        9992 non-null float64\n",
      "SonyPS4               9999 non-null float64\n",
      "WiiU                  9976 non-null float64\n",
      "WDexternalHD          9985 non-null float64\n",
      "SamsungTV55LED        9984 non-null float64\n",
      "SonyTV60LED           9993 non-null float64\n",
      "SandiskMemoryCard     9991 non-null float64\n",
      "SonySoundSystem       9999 non-null float64\n",
      "SonyCamera            10000 non-null int64\n",
      "PanasonicCamera       10000 non-null int64\n",
      "HPPrinter             9992 non-null float64\n",
      "SonyDVDplayer         9984 non-null float64\n",
      "ToshibaDVDplayer      9992 non-null float64\n",
      "GalaxyTablet          10000 non-null int64\n",
      "SurfaceTablet         9986 non-null float64\n",
      "HPLaptop              9968 non-null float64\n",
      "HDMICable             9992 non-null float64\n",
      "SpeakerCable          9952 non-null float64\n",
      "CallOfDutyGame        9976 non-null float64\n",
      "GrandTheftAutoGame    9968 non-null float64\n",
      "ASUSLaptop            9960 non-null float64\n",
      "LenevoLaptop          9976 non-null float64\n",
      "TVStandWallMount      10000 non-null int64\n",
      "dtypes: float64(25), int64(5), object(4)\n",
      "memory usage: 2.6+ MB\n"
     ]
    }
   ],
   "source": [
    "dirtydata=pd.read_csv('DirtyData4BestDeal10000.csv')\n",
    "\n",
    "# check out the variables\n",
    "dirtydata.info()"
   ]
  },
  {
   "cell_type": "code",
   "execution_count": 5,
   "metadata": {},
   "outputs": [
    {
     "data": {
      "text/html": [
       "<div>\n",
       "<style scoped>\n",
       "    .dataframe tbody tr th:only-of-type {\n",
       "        vertical-align: middle;\n",
       "    }\n",
       "\n",
       "    .dataframe tbody tr th {\n",
       "        vertical-align: top;\n",
       "    }\n",
       "\n",
       "    .dataframe thead th {\n",
       "        text-align: right;\n",
       "    }\n",
       "</style>\n",
       "<table border=\"1\" class=\"dataframe\">\n",
       "  <thead>\n",
       "    <tr style=\"text-align: right;\">\n",
       "      <th></th>\n",
       "      <th>ZipCode</th>\n",
       "      <th>CustomerAge</th>\n",
       "      <th>SamsungTV46LED</th>\n",
       "      <th>SonyTV42LED</th>\n",
       "      <th>XBOX360</th>\n",
       "      <th>DellLaptop</th>\n",
       "      <th>BoseSoundSystem</th>\n",
       "      <th>BoseHeadSet</th>\n",
       "      <th>SonyHeadSet</th>\n",
       "      <th>iPod</th>\n",
       "      <th>...</th>\n",
       "      <th>GalaxyTablet</th>\n",
       "      <th>SurfaceTablet</th>\n",
       "      <th>HPLaptop</th>\n",
       "      <th>HDMICable</th>\n",
       "      <th>SpeakerCable</th>\n",
       "      <th>CallOfDutyGame</th>\n",
       "      <th>GrandTheftAutoGame</th>\n",
       "      <th>ASUSLaptop</th>\n",
       "      <th>LenevoLaptop</th>\n",
       "      <th>TVStandWallMount</th>\n",
       "    </tr>\n",
       "  </thead>\n",
       "  <tbody>\n",
       "    <tr>\n",
       "      <td>0</td>\n",
       "      <td>30134.0</td>\n",
       "      <td>35.0</td>\n",
       "      <td>1</td>\n",
       "      <td>1</td>\n",
       "      <td>1</td>\n",
       "      <td>0</td>\n",
       "      <td>0</td>\n",
       "      <td>1.0</td>\n",
       "      <td>1.0</td>\n",
       "      <td>0.0</td>\n",
       "      <td>...</td>\n",
       "      <td>1</td>\n",
       "      <td>0.0</td>\n",
       "      <td>1.0</td>\n",
       "      <td>1.0</td>\n",
       "      <td>1.0</td>\n",
       "      <td>1.0</td>\n",
       "      <td>0.0</td>\n",
       "      <td>1.0</td>\n",
       "      <td>1.0</td>\n",
       "      <td>1</td>\n",
       "    </tr>\n",
       "    <tr>\n",
       "      <td>1</td>\n",
       "      <td>62791.0</td>\n",
       "      <td>43.0</td>\n",
       "      <td>0</td>\n",
       "      <td>1</td>\n",
       "      <td>0</td>\n",
       "      <td>0</td>\n",
       "      <td>1</td>\n",
       "      <td>0.0</td>\n",
       "      <td>1.0</td>\n",
       "      <td>0.0</td>\n",
       "      <td>...</td>\n",
       "      <td>1</td>\n",
       "      <td>0.0</td>\n",
       "      <td>1.0</td>\n",
       "      <td>0.0</td>\n",
       "      <td>1.0</td>\n",
       "      <td>1.0</td>\n",
       "      <td>0.0</td>\n",
       "      <td>1.0</td>\n",
       "      <td>1.0</td>\n",
       "      <td>1</td>\n",
       "    </tr>\n",
       "    <tr>\n",
       "      <td>2</td>\n",
       "      <td>60611.0</td>\n",
       "      <td>23.0</td>\n",
       "      <td>1</td>\n",
       "      <td>NaN</td>\n",
       "      <td>0</td>\n",
       "      <td>1</td>\n",
       "      <td>0</td>\n",
       "      <td>NaN</td>\n",
       "      <td>1.0</td>\n",
       "      <td>1.0</td>\n",
       "      <td>...</td>\n",
       "      <td>0</td>\n",
       "      <td>0.0</td>\n",
       "      <td>1.0</td>\n",
       "      <td>0.0</td>\n",
       "      <td>1.0</td>\n",
       "      <td>1.0</td>\n",
       "      <td>0.0</td>\n",
       "      <td>NaN</td>\n",
       "      <td>1.0</td>\n",
       "      <td>1</td>\n",
       "    </tr>\n",
       "    <tr>\n",
       "      <td>3</td>\n",
       "      <td>60616.0</td>\n",
       "      <td>56.0</td>\n",
       "      <td>0</td>\n",
       "      <td>1</td>\n",
       "      <td>1</td>\n",
       "      <td>1</td>\n",
       "      <td>0</td>\n",
       "      <td>0.0</td>\n",
       "      <td>1.0</td>\n",
       "      <td>1.0</td>\n",
       "      <td>...</td>\n",
       "      <td>0</td>\n",
       "      <td>0.0</td>\n",
       "      <td>1.0</td>\n",
       "      <td>0.0</td>\n",
       "      <td>1.0</td>\n",
       "      <td>0.0</td>\n",
       "      <td>0.0</td>\n",
       "      <td>1.0</td>\n",
       "      <td>0.0</td>\n",
       "      <td>0</td>\n",
       "    </tr>\n",
       "    <tr>\n",
       "      <td>4</td>\n",
       "      <td>30303.0</td>\n",
       "      <td>25.0</td>\n",
       "      <td>1</td>\n",
       "      <td>NaN</td>\n",
       "      <td>0</td>\n",
       "      <td>NaN</td>\n",
       "      <td>1</td>\n",
       "      <td>1.0</td>\n",
       "      <td>1.0</td>\n",
       "      <td>0.0</td>\n",
       "      <td>...</td>\n",
       "      <td>1</td>\n",
       "      <td>0.0</td>\n",
       "      <td>1.0</td>\n",
       "      <td>1.0</td>\n",
       "      <td>1.0</td>\n",
       "      <td>1.0</td>\n",
       "      <td>0.0</td>\n",
       "      <td>1.0</td>\n",
       "      <td>10.0</td>\n",
       "      <td>0</td>\n",
       "    </tr>\n",
       "  </tbody>\n",
       "</table>\n",
       "<p>5 rows × 34 columns</p>\n",
       "</div>"
      ],
      "text/plain": [
       "   ZipCode  CustomerAge  SamsungTV46LED SonyTV42LED XBOX360 DellLaptop  \\\n",
       "0  30134.0         35.0               1           1       1          0   \n",
       "1  62791.0         43.0               0           1       0          0   \n",
       "2  60611.0         23.0               1         NaN       0          1   \n",
       "3  60616.0         56.0               0           1       1          1   \n",
       "4  30303.0         25.0               1         NaN       0        NaN   \n",
       "\n",
       "  BoseSoundSystem  BoseHeadSet  SonyHeadSet  iPod  ...  GalaxyTablet  \\\n",
       "0               0          1.0          1.0   0.0  ...             1   \n",
       "1               1          0.0          1.0   0.0  ...             1   \n",
       "2               0          NaN          1.0   1.0  ...             0   \n",
       "3               0          0.0          1.0   1.0  ...             0   \n",
       "4               1          1.0          1.0   0.0  ...             1   \n",
       "\n",
       "   SurfaceTablet  HPLaptop  HDMICable  SpeakerCable  CallOfDutyGame  \\\n",
       "0            0.0       1.0        1.0           1.0             1.0   \n",
       "1            0.0       1.0        0.0           1.0             1.0   \n",
       "2            0.0       1.0        0.0           1.0             1.0   \n",
       "3            0.0       1.0        0.0           1.0             0.0   \n",
       "4            0.0       1.0        1.0           1.0             1.0   \n",
       "\n",
       "   GrandTheftAutoGame  ASUSLaptop  LenevoLaptop  TVStandWallMount  \n",
       "0                 0.0         1.0           1.0                 1  \n",
       "1                 0.0         1.0           1.0                 1  \n",
       "2                 0.0         NaN           1.0                 1  \n",
       "3                 0.0         1.0           0.0                 0  \n",
       "4                 0.0         1.0          10.0                 0  \n",
       "\n",
       "[5 rows x 34 columns]"
      ]
     },
     "execution_count": 5,
     "metadata": {},
     "output_type": "execute_result"
    }
   ],
   "source": [
    "# Do you see NaN values below?\n",
    "dirtydata.head()"
   ]
  },
  {
   "cell_type": "markdown",
   "metadata": {},
   "source": [
    "### Lets use boxplot to visualize the data and get an idea if there are dirty/messy/invalid data"
   ]
  },
  {
   "cell_type": "code",
   "execution_count": 6,
   "metadata": {},
   "outputs": [
    {
     "data": {
      "text/plain": [
       "<matplotlib.axes._subplots.AxesSubplot at 0x1211e4710>"
      ]
     },
     "execution_count": 6,
     "metadata": {},
     "output_type": "execute_result"
    }
   ],
   "source": [
    "# check out customer age\n",
    "dirtydata.boxplot(column='CustomerAge')\n"
   ]
  },
  {
   "cell_type": "code",
   "execution_count": 7,
   "metadata": {},
   "outputs": [
    {
     "data": {
      "text/plain": [
       "<matplotlib.axes._subplots.AxesSubplot at 0x122a1ebd0>"
      ]
     },
     "execution_count": 7,
     "metadata": {},
     "output_type": "execute_result"
    },
    {
     "data": {
      "image/png": "[encoded data removed]",
      "text/plain": [
       "<Figure size 432x288 with 1 Axes>"
      ]
     },
     "metadata": {
      "needs_background": "light"
     },
     "output_type": "display_data"
    }
   ],
   "source": [
    "# check out customer age with a histogram\n",
    "dirtydata['CustomerAge'].hist(bins=20)"
   ]
  },
  {
   "cell_type": "code",
   "execution_count": 8,
   "metadata": {},
   "outputs": [
    {
     "data": {
      "text/plain": [
       "count    9976.000000\n",
       "mean        0.629711\n",
       "std         0.627375\n",
       "min         0.000000\n",
       "25%         0.000000\n",
       "50%         1.000000\n",
       "75%         1.000000\n",
       "max        11.000000\n",
       "Name: LenevoLaptop, dtype: float64"
      ]
     },
     "execution_count": 8,
     "metadata": {},
     "output_type": "execute_result"
    }
   ],
   "source": [
    "# look at details of LenenovaLaptop\n",
    "dirtydata.LenevoLaptop.describe()"
   ]
  },
  {
   "cell_type": "code",
   "execution_count": 9,
   "metadata": {},
   "outputs": [
    {
     "data": {
      "text/plain": [
       "<matplotlib.axes._subplots.AxesSubplot at 0x122ab6c10>"
      ]
     },
     "execution_count": 9,
     "metadata": {},
     "output_type": "execute_result"
    },
    {
     "data": {
      "image/png": "[encoded data removed]",
      "text/plain": [
       "<Figure size 432x288 with 1 Axes>"
      ]
     },
     "metadata": {
      "needs_background": "light"
     },
     "output_type": "display_data"
    }
   ],
   "source": [
    "dirtydata.boxplot(column='LenevoLaptop')"
   ]
  },
  {
   "cell_type": "code",
   "execution_count": 10,
   "metadata": {},
   "outputs": [
    {
     "data": {
      "text/plain": [
       "<matplotlib.axes._subplots.AxesSubplot at 0x122c79bd0>"
      ]
     },
     "execution_count": 10,
     "metadata": {},
     "output_type": "execute_result"
    },
    {
     "data": {
      "image/png": "[encoded data removed]",
      "text/plain": [
       "<Figure size 432x288 with 1 Axes>"
      ]
     },
     "metadata": {
      "needs_background": "light"
     },
     "output_type": "display_data"
    }
   ],
   "source": [
    "# look at zip codes\n",
    "dirtydata.boxplot(column='ZipCode')\n"
   ]
  },
  {
   "cell_type": "markdown",
   "metadata": {},
   "source": [
    "### Lets clean the dirty/messy data in the dirtydata dataframe object"
   ]
  },
  {
   "cell_type": "markdown",
   "metadata": {},
   "source": [
    "You need to write your python code such that:\n",
    "1. rows/records/tuples/transactions in the data frame that have missing values for fields/columns will be removed\n",
    "2. rows/records/tuples/transactions in the data frame that have invalid/abnormal values for fields/columns will be removed\n",
    "\n",
    "Examples of invalid/dirty/messy data:\n",
    "  1. NaN values in the dataframe (Blank/Empty cells in the CSV file)\n",
    "\n",
    "  2. Every product has a value 1 which means bought or 0 which means NOT bought; values like 11, 10, 9 are examples of invalid data\n",
    "\n",
    "  3. CustomerAge value range could be from 18 to 100; values like 723, 634 are examples of invalid data\n",
    "  \n",
    "  4. Zipcode should have at least 5 digits\n"
   ]
  },
  {
   "cell_type": "code",
   "execution_count": 11,
   "metadata": {},
   "outputs": [
    {
     "data": {
      "text/plain": [
       "(10000, 34)"
      ]
     },
     "execution_count": 11,
     "metadata": {},
     "output_type": "execute_result"
    },
    {
     "data": {
      "text/plain": [
       "(9432, 34)"
      ]
     },
     "execution_count": 11,
     "metadata": {},
     "output_type": "execute_result"
    },
    {
     "data": {
      "text/html": [
       "<div>\n",
       "<style scoped>\n",
       "    .dataframe tbody tr th:only-of-type {\n",
       "        vertical-align: middle;\n",
       "    }\n",
       "\n",
       "    .dataframe tbody tr th {\n",
       "        vertical-align: top;\n",
       "    }\n",
       "\n",
       "    .dataframe thead th {\n",
       "        text-align: right;\n",
       "    }\n",
       "</style>\n",
       "<table border=\"1\" class=\"dataframe\">\n",
       "  <thead>\n",
       "    <tr style=\"text-align: right;\">\n",
       "      <th></th>\n",
       "      <th>ZipCode</th>\n",
       "      <th>CustomerAge</th>\n",
       "      <th>SamsungTV46LED</th>\n",
       "      <th>SonyTV42LED</th>\n",
       "      <th>XBOX360</th>\n",
       "      <th>DellLaptop</th>\n",
       "      <th>BoseSoundSystem</th>\n",
       "      <th>BoseHeadSet</th>\n",
       "      <th>SonyHeadSet</th>\n",
       "      <th>iPod</th>\n",
       "      <th>...</th>\n",
       "      <th>GalaxyTablet</th>\n",
       "      <th>SurfaceTablet</th>\n",
       "      <th>HPLaptop</th>\n",
       "      <th>HDMICable</th>\n",
       "      <th>SpeakerCable</th>\n",
       "      <th>CallOfDutyGame</th>\n",
       "      <th>GrandTheftAutoGame</th>\n",
       "      <th>ASUSLaptop</th>\n",
       "      <th>LenevoLaptop</th>\n",
       "      <th>TVStandWallMount</th>\n",
       "    </tr>\n",
       "  </thead>\n",
       "  <tbody>\n",
       "    <tr>\n",
       "      <td>0</td>\n",
       "      <td>30134.0</td>\n",
       "      <td>35.0</td>\n",
       "      <td>1</td>\n",
       "      <td>1</td>\n",
       "      <td>1</td>\n",
       "      <td>0</td>\n",
       "      <td>0</td>\n",
       "      <td>1.0</td>\n",
       "      <td>1.0</td>\n",
       "      <td>0.0</td>\n",
       "      <td>...</td>\n",
       "      <td>1</td>\n",
       "      <td>0.0</td>\n",
       "      <td>1.0</td>\n",
       "      <td>1.0</td>\n",
       "      <td>1.0</td>\n",
       "      <td>1.0</td>\n",
       "      <td>0.0</td>\n",
       "      <td>1.0</td>\n",
       "      <td>1.0</td>\n",
       "      <td>1</td>\n",
       "    </tr>\n",
       "    <tr>\n",
       "      <td>1</td>\n",
       "      <td>62791.0</td>\n",
       "      <td>43.0</td>\n",
       "      <td>0</td>\n",
       "      <td>1</td>\n",
       "      <td>0</td>\n",
       "      <td>0</td>\n",
       "      <td>1</td>\n",
       "      <td>0.0</td>\n",
       "      <td>1.0</td>\n",
       "      <td>0.0</td>\n",
       "      <td>...</td>\n",
       "      <td>1</td>\n",
       "      <td>0.0</td>\n",
       "      <td>1.0</td>\n",
       "      <td>0.0</td>\n",
       "      <td>1.0</td>\n",
       "      <td>1.0</td>\n",
       "      <td>0.0</td>\n",
       "      <td>1.0</td>\n",
       "      <td>1.0</td>\n",
       "      <td>1</td>\n",
       "    </tr>\n",
       "    <tr>\n",
       "      <td>3</td>\n",
       "      <td>60616.0</td>\n",
       "      <td>56.0</td>\n",
       "      <td>0</td>\n",
       "      <td>1</td>\n",
       "      <td>1</td>\n",
       "      <td>1</td>\n",
       "      <td>0</td>\n",
       "      <td>0.0</td>\n",
       "      <td>1.0</td>\n",
       "      <td>1.0</td>\n",
       "      <td>...</td>\n",
       "      <td>0</td>\n",
       "      <td>0.0</td>\n",
       "      <td>1.0</td>\n",
       "      <td>0.0</td>\n",
       "      <td>1.0</td>\n",
       "      <td>0.0</td>\n",
       "      <td>0.0</td>\n",
       "      <td>1.0</td>\n",
       "      <td>0.0</td>\n",
       "      <td>0</td>\n",
       "    </tr>\n",
       "    <tr>\n",
       "      <td>5</td>\n",
       "      <td>2108.0</td>\n",
       "      <td>55.0</td>\n",
       "      <td>1</td>\n",
       "      <td>1</td>\n",
       "      <td>1</td>\n",
       "      <td>1</td>\n",
       "      <td>10</td>\n",
       "      <td>0.0</td>\n",
       "      <td>0.0</td>\n",
       "      <td>0.0</td>\n",
       "      <td>...</td>\n",
       "      <td>1</td>\n",
       "      <td>1.0</td>\n",
       "      <td>1.0</td>\n",
       "      <td>1.0</td>\n",
       "      <td>1.0</td>\n",
       "      <td>1.0</td>\n",
       "      <td>0.0</td>\n",
       "      <td>1.0</td>\n",
       "      <td>0.0</td>\n",
       "      <td>0</td>\n",
       "    </tr>\n",
       "    <tr>\n",
       "      <td>6</td>\n",
       "      <td>90033.0</td>\n",
       "      <td>44.0</td>\n",
       "      <td>1</td>\n",
       "      <td>1</td>\n",
       "      <td>1</td>\n",
       "      <td>1</td>\n",
       "      <td>0</td>\n",
       "      <td>0.0</td>\n",
       "      <td>0.0</td>\n",
       "      <td>0.0</td>\n",
       "      <td>...</td>\n",
       "      <td>1</td>\n",
       "      <td>1.0</td>\n",
       "      <td>1.0</td>\n",
       "      <td>1.0</td>\n",
       "      <td>0.0</td>\n",
       "      <td>1.0</td>\n",
       "      <td>1.0</td>\n",
       "      <td>0.0</td>\n",
       "      <td>0.0</td>\n",
       "      <td>1</td>\n",
       "    </tr>\n",
       "  </tbody>\n",
       "</table>\n",
       "<p>5 rows × 34 columns</p>\n",
       "</div>"
      ],
      "text/plain": [
       "   ZipCode  CustomerAge  SamsungTV46LED SonyTV42LED XBOX360 DellLaptop  \\\n",
       "0  30134.0         35.0               1           1       1          0   \n",
       "1  62791.0         43.0               0           1       0          0   \n",
       "3  60616.0         56.0               0           1       1          1   \n",
       "5   2108.0         55.0               1           1       1          1   \n",
       "6  90033.0         44.0               1           1       1          1   \n",
       "\n",
       "  BoseSoundSystem  BoseHeadSet  SonyHeadSet  iPod  ...  GalaxyTablet  \\\n",
       "0               0          1.0          1.0   0.0  ...             1   \n",
       "1               1          0.0          1.0   0.0  ...             1   \n",
       "3               0          0.0          1.0   1.0  ...             0   \n",
       "5              10          0.0          0.0   0.0  ...             1   \n",
       "6               0          0.0          0.0   0.0  ...             1   \n",
       "\n",
       "   SurfaceTablet  HPLaptop  HDMICable  SpeakerCable  CallOfDutyGame  \\\n",
       "0            0.0       1.0        1.0           1.0             1.0   \n",
       "1            0.0       1.0        0.0           1.0             1.0   \n",
       "3            0.0       1.0        0.0           1.0             0.0   \n",
       "5            1.0       1.0        1.0           1.0             1.0   \n",
       "6            1.0       1.0        1.0           0.0             1.0   \n",
       "\n",
       "   GrandTheftAutoGame  ASUSLaptop  LenevoLaptop  TVStandWallMount  \n",
       "0                 0.0         1.0           1.0                 1  \n",
       "1                 0.0         1.0           1.0                 1  \n",
       "3                 0.0         1.0           0.0                 0  \n",
       "5                 0.0         1.0           0.0                 0  \n",
       "6                 1.0         0.0           0.0                 1  \n",
       "\n",
       "[5 rows x 34 columns]"
      ]
     },
     "execution_count": 11,
     "metadata": {},
     "output_type": "execute_result"
    },
    {
     "data": {
      "text/plain": [
       "ZipCode               float64\n",
       "CustomerAge           float64\n",
       "SamsungTV46LED          int64\n",
       "SonyTV42LED            object\n",
       "XBOX360                object\n",
       "DellLaptop             object\n",
       "BoseSoundSystem        object\n",
       "BoseHeadSet           float64\n",
       "SonyHeadSet           float64\n",
       "iPod                  float64\n",
       "iPhone                float64\n",
       "Panasonic50LED        float64\n",
       "SonyPS4               float64\n",
       "WiiU                  float64\n",
       "WDexternalHD          float64\n",
       "SamsungTV55LED        float64\n",
       "SonyTV60LED           float64\n",
       "SandiskMemoryCard     float64\n",
       "SonySoundSystem       float64\n",
       "SonyCamera              int64\n",
       "PanasonicCamera         int64\n",
       "HPPrinter             float64\n",
       "SonyDVDplayer         float64\n",
       "ToshibaDVDplayer      float64\n",
       "GalaxyTablet            int64\n",
       "SurfaceTablet         float64\n",
       "HPLaptop              float64\n",
       "HDMICable             float64\n",
       "SpeakerCable          float64\n",
       "CallOfDutyGame        float64\n",
       "GrandTheftAutoGame    float64\n",
       "ASUSLaptop            float64\n",
       "LenevoLaptop          float64\n",
       "TVStandWallMount        int64\n",
       "dtype: object"
      ]
     },
     "execution_count": 11,
     "metadata": {},
     "output_type": "execute_result"
    }
   ],
   "source": [
    "# what is the shape of cleandata before manipulating it?\n",
    "dirtydata.shape\n",
    "\n",
    "# Drop the NaN values - remember that dropna will make a new copy of the dataframe\n",
    "cleandata = dirtydata.dropna()\n",
    "# how did this affect the data?\n",
    "cleandata.shape\n",
    "\n",
    "# Do you see NaN values dropped below?\n",
    "cleandata.head()\n",
    "cleandata.dtypes"
   ]
  },
  {
   "cell_type": "code",
   "execution_count": 12,
   "metadata": {},
   "outputs": [
    {
     "name": "stderr",
     "output_type": "stream",
     "text": [
      "/opt/anaconda3/lib/python3.7/site-packages/pandas/core/frame.py:3494: SettingWithCopyWarning: \n",
      "A value is trying to be set on a copy of a slice from a DataFrame.\n",
      "Try using .loc[row_indexer,col_indexer] = value instead\n",
      "\n",
      "See the caveats in the documentation: http://pandas.pydata.org/pandas-docs/stable/user_guide/indexing.html#returning-a-view-versus-a-copy\n",
      "  self[k1] = value[k2]\n"
     ]
    },
    {
     "data": {
      "text/plain": [
       "ZipCode               int64\n",
       "CustomerAge           int64\n",
       "SamsungTV46LED        int64\n",
       "SonyTV42LED           int64\n",
       "XBOX360               int64\n",
       "DellLaptop            int64\n",
       "BoseSoundSystem       int64\n",
       "BoseHeadSet           int64\n",
       "SonyHeadSet           int64\n",
       "iPod                  int64\n",
       "iPhone                int64\n",
       "Panasonic50LED        int64\n",
       "SonyPS4               int64\n",
       "WiiU                  int64\n",
       "WDexternalHD          int64\n",
       "SamsungTV55LED        int64\n",
       "SonyTV60LED           int64\n",
       "SandiskMemoryCard     int64\n",
       "SonySoundSystem       int64\n",
       "SonyCamera            int64\n",
       "PanasonicCamera       int64\n",
       "HPPrinter             int64\n",
       "SonyDVDplayer         int64\n",
       "ToshibaDVDplayer      int64\n",
       "GalaxyTablet          int64\n",
       "SurfaceTablet         int64\n",
       "HPLaptop              int64\n",
       "HDMICable             int64\n",
       "SpeakerCable          int64\n",
       "CallOfDutyGame        int64\n",
       "GrandTheftAutoGame    int64\n",
       "ASUSLaptop            int64\n",
       "LenevoLaptop          int64\n",
       "TVStandWallMount      int64\n",
       "dtype: object"
      ]
     },
     "execution_count": 12,
     "metadata": {},
     "output_type": "execute_result"
    },
    {
     "data": {
      "text/html": [
       "<div>\n",
       "<style scoped>\n",
       "    .dataframe tbody tr th:only-of-type {\n",
       "        vertical-align: middle;\n",
       "    }\n",
       "\n",
       "    .dataframe tbody tr th {\n",
       "        vertical-align: top;\n",
       "    }\n",
       "\n",
       "    .dataframe thead th {\n",
       "        text-align: right;\n",
       "    }\n",
       "</style>\n",
       "<table border=\"1\" class=\"dataframe\">\n",
       "  <thead>\n",
       "    <tr style=\"text-align: right;\">\n",
       "      <th></th>\n",
       "      <th>ZipCode</th>\n",
       "      <th>CustomerAge</th>\n",
       "      <th>SamsungTV46LED</th>\n",
       "      <th>SonyTV42LED</th>\n",
       "      <th>XBOX360</th>\n",
       "      <th>DellLaptop</th>\n",
       "      <th>BoseSoundSystem</th>\n",
       "      <th>BoseHeadSet</th>\n",
       "      <th>SonyHeadSet</th>\n",
       "      <th>iPod</th>\n",
       "      <th>...</th>\n",
       "      <th>GalaxyTablet</th>\n",
       "      <th>SurfaceTablet</th>\n",
       "      <th>HPLaptop</th>\n",
       "      <th>HDMICable</th>\n",
       "      <th>SpeakerCable</th>\n",
       "      <th>CallOfDutyGame</th>\n",
       "      <th>GrandTheftAutoGame</th>\n",
       "      <th>ASUSLaptop</th>\n",
       "      <th>LenevoLaptop</th>\n",
       "      <th>TVStandWallMount</th>\n",
       "    </tr>\n",
       "  </thead>\n",
       "  <tbody>\n",
       "    <tr>\n",
       "      <td>count</td>\n",
       "      <td>7338.000000</td>\n",
       "      <td>7338.000000</td>\n",
       "      <td>7338.000000</td>\n",
       "      <td>7338.000000</td>\n",
       "      <td>7338.000000</td>\n",
       "      <td>7338.000000</td>\n",
       "      <td>7338.000000</td>\n",
       "      <td>7338.000000</td>\n",
       "      <td>7338.000000</td>\n",
       "      <td>7338.000000</td>\n",
       "      <td>...</td>\n",
       "      <td>7338.000000</td>\n",
       "      <td>7338.000000</td>\n",
       "      <td>7338.0</td>\n",
       "      <td>7338.000000</td>\n",
       "      <td>7338.000000</td>\n",
       "      <td>7338.000000</td>\n",
       "      <td>7338.000000</td>\n",
       "      <td>7338.000000</td>\n",
       "      <td>7338.000000</td>\n",
       "      <td>7338.000000</td>\n",
       "    </tr>\n",
       "    <tr>\n",
       "      <td>mean</td>\n",
       "      <td>48566.889888</td>\n",
       "      <td>35.196239</td>\n",
       "      <td>0.654265</td>\n",
       "      <td>0.810439</td>\n",
       "      <td>0.812210</td>\n",
       "      <td>0.514582</td>\n",
       "      <td>0.502317</td>\n",
       "      <td>0.510357</td>\n",
       "      <td>0.849550</td>\n",
       "      <td>0.180294</td>\n",
       "      <td>...</td>\n",
       "      <td>0.712456</td>\n",
       "      <td>0.064459</td>\n",
       "      <td>1.0</td>\n",
       "      <td>0.511720</td>\n",
       "      <td>0.678114</td>\n",
       "      <td>0.702099</td>\n",
       "      <td>0.334424</td>\n",
       "      <td>0.592668</td>\n",
       "      <td>0.622922</td>\n",
       "      <td>0.685745</td>\n",
       "    </tr>\n",
       "    <tr>\n",
       "      <td>std</td>\n",
       "      <td>26008.457798</td>\n",
       "      <td>10.146813</td>\n",
       "      <td>0.475640</td>\n",
       "      <td>0.391980</td>\n",
       "      <td>0.390571</td>\n",
       "      <td>0.499821</td>\n",
       "      <td>0.500029</td>\n",
       "      <td>0.499927</td>\n",
       "      <td>0.357536</td>\n",
       "      <td>0.384459</td>\n",
       "      <td>...</td>\n",
       "      <td>0.452648</td>\n",
       "      <td>0.245586</td>\n",
       "      <td>0.0</td>\n",
       "      <td>0.499897</td>\n",
       "      <td>0.467231</td>\n",
       "      <td>0.457367</td>\n",
       "      <td>0.471821</td>\n",
       "      <td>0.491371</td>\n",
       "      <td>0.484688</td>\n",
       "      <td>0.464250</td>\n",
       "    </tr>\n",
       "    <tr>\n",
       "      <td>min</td>\n",
       "      <td>10065.000000</td>\n",
       "      <td>21.000000</td>\n",
       "      <td>0.000000</td>\n",
       "      <td>0.000000</td>\n",
       "      <td>0.000000</td>\n",
       "      <td>0.000000</td>\n",
       "      <td>0.000000</td>\n",
       "      <td>0.000000</td>\n",
       "      <td>0.000000</td>\n",
       "      <td>0.000000</td>\n",
       "      <td>...</td>\n",
       "      <td>0.000000</td>\n",
       "      <td>0.000000</td>\n",
       "      <td>1.0</td>\n",
       "      <td>0.000000</td>\n",
       "      <td>0.000000</td>\n",
       "      <td>0.000000</td>\n",
       "      <td>0.000000</td>\n",
       "      <td>0.000000</td>\n",
       "      <td>0.000000</td>\n",
       "      <td>0.000000</td>\n",
       "    </tr>\n",
       "    <tr>\n",
       "      <td>25%</td>\n",
       "      <td>30134.000000</td>\n",
       "      <td>27.000000</td>\n",
       "      <td>0.000000</td>\n",
       "      <td>1.000000</td>\n",
       "      <td>1.000000</td>\n",
       "      <td>0.000000</td>\n",
       "      <td>0.000000</td>\n",
       "      <td>0.000000</td>\n",
       "      <td>1.000000</td>\n",
       "      <td>0.000000</td>\n",
       "      <td>...</td>\n",
       "      <td>0.000000</td>\n",
       "      <td>0.000000</td>\n",
       "      <td>1.0</td>\n",
       "      <td>0.000000</td>\n",
       "      <td>0.000000</td>\n",
       "      <td>0.000000</td>\n",
       "      <td>0.000000</td>\n",
       "      <td>0.000000</td>\n",
       "      <td>0.000000</td>\n",
       "      <td>0.000000</td>\n",
       "    </tr>\n",
       "    <tr>\n",
       "      <td>50%</td>\n",
       "      <td>33130.000000</td>\n",
       "      <td>34.000000</td>\n",
       "      <td>1.000000</td>\n",
       "      <td>1.000000</td>\n",
       "      <td>1.000000</td>\n",
       "      <td>1.000000</td>\n",
       "      <td>1.000000</td>\n",
       "      <td>1.000000</td>\n",
       "      <td>1.000000</td>\n",
       "      <td>0.000000</td>\n",
       "      <td>...</td>\n",
       "      <td>1.000000</td>\n",
       "      <td>0.000000</td>\n",
       "      <td>1.0</td>\n",
       "      <td>1.000000</td>\n",
       "      <td>1.000000</td>\n",
       "      <td>1.000000</td>\n",
       "      <td>0.000000</td>\n",
       "      <td>1.000000</td>\n",
       "      <td>1.000000</td>\n",
       "      <td>1.000000</td>\n",
       "    </tr>\n",
       "    <tr>\n",
       "      <td>75%</td>\n",
       "      <td>60616.000000</td>\n",
       "      <td>43.000000</td>\n",
       "      <td>1.000000</td>\n",
       "      <td>1.000000</td>\n",
       "      <td>1.000000</td>\n",
       "      <td>1.000000</td>\n",
       "      <td>1.000000</td>\n",
       "      <td>1.000000</td>\n",
       "      <td>1.000000</td>\n",
       "      <td>0.000000</td>\n",
       "      <td>...</td>\n",
       "      <td>1.000000</td>\n",
       "      <td>0.000000</td>\n",
       "      <td>1.0</td>\n",
       "      <td>1.000000</td>\n",
       "      <td>1.000000</td>\n",
       "      <td>1.000000</td>\n",
       "      <td>1.000000</td>\n",
       "      <td>1.000000</td>\n",
       "      <td>1.000000</td>\n",
       "      <td>1.000000</td>\n",
       "    </tr>\n",
       "    <tr>\n",
       "      <td>max</td>\n",
       "      <td>94158.000000</td>\n",
       "      <td>61.000000</td>\n",
       "      <td>1.000000</td>\n",
       "      <td>1.000000</td>\n",
       "      <td>1.000000</td>\n",
       "      <td>1.000000</td>\n",
       "      <td>1.000000</td>\n",
       "      <td>1.000000</td>\n",
       "      <td>1.000000</td>\n",
       "      <td>1.000000</td>\n",
       "      <td>...</td>\n",
       "      <td>1.000000</td>\n",
       "      <td>1.000000</td>\n",
       "      <td>1.0</td>\n",
       "      <td>1.000000</td>\n",
       "      <td>1.000000</td>\n",
       "      <td>1.000000</td>\n",
       "      <td>1.000000</td>\n",
       "      <td>1.000000</td>\n",
       "      <td>1.000000</td>\n",
       "      <td>1.000000</td>\n",
       "    </tr>\n",
       "  </tbody>\n",
       "</table>\n",
       "<p>8 rows × 34 columns</p>\n",
       "</div>"
      ],
      "text/plain": [
       "            ZipCode  CustomerAge  SamsungTV46LED  SonyTV42LED      XBOX360  \\\n",
       "count   7338.000000  7338.000000     7338.000000  7338.000000  7338.000000   \n",
       "mean   48566.889888    35.196239        0.654265     0.810439     0.812210   \n",
       "std    26008.457798    10.146813        0.475640     0.391980     0.390571   \n",
       "min    10065.000000    21.000000        0.000000     0.000000     0.000000   \n",
       "25%    30134.000000    27.000000        0.000000     1.000000     1.000000   \n",
       "50%    33130.000000    34.000000        1.000000     1.000000     1.000000   \n",
       "75%    60616.000000    43.000000        1.000000     1.000000     1.000000   \n",
       "max    94158.000000    61.000000        1.000000     1.000000     1.000000   \n",
       "\n",
       "        DellLaptop  BoseSoundSystem  BoseHeadSet  SonyHeadSet         iPod  \\\n",
       "count  7338.000000      7338.000000  7338.000000  7338.000000  7338.000000   \n",
       "mean      0.514582         0.502317     0.510357     0.849550     0.180294   \n",
       "std       0.499821         0.500029     0.499927     0.357536     0.384459   \n",
       "min       0.000000         0.000000     0.000000     0.000000     0.000000   \n",
       "25%       0.000000         0.000000     0.000000     1.000000     0.000000   \n",
       "50%       1.000000         1.000000     1.000000     1.000000     0.000000   \n",
       "75%       1.000000         1.000000     1.000000     1.000000     0.000000   \n",
       "max       1.000000         1.000000     1.000000     1.000000     1.000000   \n",
       "\n",
       "       ...  GalaxyTablet  SurfaceTablet  HPLaptop    HDMICable  SpeakerCable  \\\n",
       "count  ...   7338.000000    7338.000000    7338.0  7338.000000   7338.000000   \n",
       "mean   ...      0.712456       0.064459       1.0     0.511720      0.678114   \n",
       "std    ...      0.452648       0.245586       0.0     0.499897      0.467231   \n",
       "min    ...      0.000000       0.000000       1.0     0.000000      0.000000   \n",
       "25%    ...      0.000000       0.000000       1.0     0.000000      0.000000   \n",
       "50%    ...      1.000000       0.000000       1.0     1.000000      1.000000   \n",
       "75%    ...      1.000000       0.000000       1.0     1.000000      1.000000   \n",
       "max    ...      1.000000       1.000000       1.0     1.000000      1.000000   \n",
       "\n",
       "       CallOfDutyGame  GrandTheftAutoGame   ASUSLaptop  LenevoLaptop  \\\n",
       "count     7338.000000         7338.000000  7338.000000   7338.000000   \n",
       "mean         0.702099            0.334424     0.592668      0.622922   \n",
       "std          0.457367            0.471821     0.491371      0.484688   \n",
       "min          0.000000            0.000000     0.000000      0.000000   \n",
       "25%          0.000000            0.000000     0.000000      0.000000   \n",
       "50%          1.000000            0.000000     1.000000      1.000000   \n",
       "75%          1.000000            1.000000     1.000000      1.000000   \n",
       "max          1.000000            1.000000     1.000000      1.000000   \n",
       "\n",
       "       TVStandWallMount  \n",
       "count       7338.000000  \n",
       "mean           0.685745  \n",
       "std            0.464250  \n",
       "min            0.000000  \n",
       "25%            0.000000  \n",
       "50%            1.000000  \n",
       "75%            1.000000  \n",
       "max            1.000000  \n",
       "\n",
       "[8 rows x 34 columns]"
      ]
     },
     "execution_count": 12,
     "metadata": {},
     "output_type": "execute_result"
    }
   ],
   "source": [
    "# ----------------------------------------------------------------------------------\n",
    "\n",
    "# Add the rest of your code here to clean the data\n",
    "\n",
    "# steps you must take\n",
    "# - eliminate NA's\n",
    "# - product values should only be either a 0 or a 1\n",
    "# - customer's age needs to be valid\n",
    "# - zipcodes should have at least 5 digits\n",
    "# - all numbers should be integers\n",
    "\n",
    "# Optional steps\n",
    "# - if there are other things you want to clean, clearly document them\n",
    "#   and run them in this section before you create a database\n",
    "\n",
    "\n",
    "# ----------------------------------------------------------------------------------\n",
    "#converting all columns to integers\n",
    "inttypeints = ['ZipCode','CustomerAge','SamsungTV46LED', 'SonyTV42LED', 'XBOX360', 'DellLaptop', 'BoseSoundSystem', 'BoseHeadSet', 'SonyHeadSet', 'iPod', 'iPhone', 'Panasonic50LED', \n",
    "                 'SonyPS4', 'WiiU','WDexternalHD', 'SamsungTV55LED', 'SonyTV60LED', 'SandiskMemoryCard', 'SonySoundSystem', 'SonyCamera', 'PanasonicCamera',\n",
    "                'HPPrinter', 'SonyDVDplayer','ToshibaDVDplayer', 'GalaxyTablet', 'SurfaceTablet', 'HPLaptop', 'HDMICable', 'SpeakerCable',\n",
    "                'CallOfDutyGame', 'GrandTheftAutoGame', 'ASUSLaptop','LenevoLaptop', 'TVStandWallMount']\n",
    "cleandata[inttypeints] = cleandata[inttypeints].apply(pd.to_numeric, errors= 'coerce', axis = 1).dropna()\n",
    "cleandata = cleandata[inttypeints].dropna().astype(int)\n",
    "fivebool = cleandata['ZipCode'].astype(str).map(len) == 5 \n",
    "cleandata = cleandata[fivebool]\n",
    "zerobool = cleandata['CustomerAge'].astype(int) > 0\n",
    "cleandata = cleandata[zerobool]\n",
    "#Keep all ages lesst than or equal to 122\n",
    "agebool = (cleandata['CustomerAge'].astype(int) <= 122) \n",
    "cleandata = cleandata[agebool]\n",
    "#Keep everything thats either 1 or 0 product value\n",
    "prodbool = ((cleandata['SamsungTV46LED'].astype(int)) <= 1) & ((cleandata['SonyTV42LED'].astype(int)) <= 1) & ((cleandata['XBOX360'].astype(int)) <= 1) & ((cleandata['DellLaptop'].astype(int)) <= 1) &((cleandata['BoseSoundSystem'].astype(int)) <= 1) & ((cleandata['BoseHeadSet'].astype(int) <= 1)) & ((cleandata['SonyHeadSet'].astype(int) <= 1))  & ((cleandata['iPod'].astype(int) <= 1)) & ((cleandata['iPhone'].astype(int) <= 1))& ((cleandata['Panasonic50LED'].astype(int)) <= 1) & ((cleandata['SonyPS4'].astype(int)) <= 1) & ((cleandata['WiiU'].astype(int)) <= 1) & ((cleandata['WDexternalHD'].astype(int) <= 1))& ((cleandata['SamsungTV55LED'].astype(int) <= 1))& ((cleandata['SonyTV60LED'].astype(int) <= 1)) & ((cleandata['SandiskMemoryCard'].astype(int) <= 1)) & ((cleandata['SonySoundSystem'].astype(int) <= 1)) & ((cleandata['SonyCamera'].astype(int) <= 1)) & ((cleandata['PanasonicCamera'].astype(int) <= 1)) & ((cleandata['HPPrinter'].astype(int) <= 1)) & ((cleandata['SonyDVDplayer'].astype(int) <= 1))  & ((cleandata['ToshibaDVDplayer'].astype(int) <= 1)) & ((cleandata['GalaxyTablet'].astype(int) <= 1)) & ((cleandata['SurfaceTablet'].astype(int) <= 1)) & ((cleandata['HPLaptop'].astype(int) <= 1)) & ((cleandata['HDMICable'].astype(int) <= 1)) & ((cleandata['SpeakerCable'].astype(int) <= 1)) & ((cleandata['CallOfDutyGame'].astype(int) <= 1))& ((cleandata['GrandTheftAutoGame'].astype(int) <= 1))& ((cleandata['ASUSLaptop'].astype(int) <= 1)) & ((cleandata['LenevoLaptop'].astype(int) <= 1)) & ((cleandata['TVStandWallMount'].astype(int) <= 1))                                                                                             \n",
    "cleandata = cleandata[prodbool]\n",
    "cleandata.dtypes\n",
    "\n",
    "cleandata.describe()\n",
    "\n"
   ]
  },
  {
   "cell_type": "code",
   "execution_count": 13,
   "metadata": {},
   "outputs": [],
   "source": [
    "#Keep all ages lesst than or equal to 122\n",
    "agebool = (cleandata['CustomerAge'].astype(int) <= 122) \n",
    "cleandata = cleandata[agebool]\n",
    "#Keep everything thats either 1 or 0 product value\n",
    "prodbool = ((cleandata['SamsungTV46LED'].astype(int)) <= 1) & ((cleandata['SonyTV42LED'].astype(int)) <= 1) & ((cleandata['XBOX360'].astype(int)) <= 1) & ((cleandata['DellLaptop'].astype(int)) <= 1) &((cleandata['BoseSoundSystem'].astype(int)) <= 1) & ((cleandata['BoseHeadSet'].astype(int) <= 1)) & ((cleandata['SonyHeadSet'].astype(int) <= 1))  & ((cleandata['iPod'].astype(int) <= 1)) & ((cleandata['iPhone'].astype(int) <= 1))& ((cleandata['Panasonic50LED'].astype(int)) <= 1) & ((cleandata['SonyPS4'].astype(int)) <= 1) & ((cleandata['WiiU'].astype(int)) <= 1) & ((cleandata['WDexternalHD'].astype(int) <= 1))& ((cleandata['SamsungTV55LED'].astype(int) <= 1))& ((cleandata['SonyTV60LED'].astype(int) <= 1)) & ((cleandata['SandiskMemoryCard'].astype(int) <= 1)) & ((cleandata['SonySoundSystem'].astype(int) <= 1)) & ((cleandata['SonyCamera'].astype(int) <= 1)) & ((cleandata['PanasonicCamera'].astype(int) <= 1)) & ((cleandata['HPPrinter'].astype(int) <= 1)) & ((cleandata['SonyDVDplayer'].astype(int) <= 1))  & ((cleandata['ToshibaDVDplayer'].astype(int) <= 1)) & ((cleandata['GalaxyTablet'].astype(int) <= 1)) & ((cleandata['SurfaceTablet'].astype(int) <= 1)) & ((cleandata['HPLaptop'].astype(int) <= 1)) & ((cleandata['HDMICable'].astype(int) <= 1)) & ((cleandata['SpeakerCable'].astype(int) <= 1)) & ((cleandata['CallOfDutyGame'].astype(int) <= 1))& ((cleandata['GrandTheftAutoGame'].astype(int) <= 1))& ((cleandata['ASUSLaptop'].astype(int) <= 1)) & ((cleandata['LenevoLaptop'].astype(int) <= 1)) & ((cleandata['TVStandWallMount'].astype(int) <= 1))                                                                                             \n",
    "cleandata = cleandata[prodbool]"
   ]
  },
  {
   "cell_type": "code",
   "execution_count": 14,
   "metadata": {},
   "outputs": [
    {
     "data": {
      "text/plain": [
       "<matplotlib.axes._subplots.AxesSubplot at 0x122b1df50>"
      ]
     },
     "execution_count": 14,
     "metadata": {},
     "output_type": "execute_result"
    },
    {
     "data": {
      "image/png": "[encoded data removed]",
      "text/plain": [
       "<Figure size 432x288 with 1 Axes>"
      ]
     },
     "metadata": {
      "needs_background": "light"
     },
     "output_type": "display_data"
    }
   ],
   "source": [
    "# after cleaning the customer age - does the boxplot still show outliers?\n",
    "# how does the histogram look?\n",
    "# if this does not look better - you are not ready to proceed\n",
    "cleandata.boxplot(column='CustomerAge')\n"
   ]
  },
  {
   "cell_type": "code",
   "execution_count": 15,
   "metadata": {},
   "outputs": [
    {
     "data": {
      "text/plain": [
       "<matplotlib.axes._subplots.AxesSubplot at 0x123e37110>"
      ]
     },
     "execution_count": 15,
     "metadata": {},
     "output_type": "execute_result"
    },
    {
     "data": {
      "image/png": "[encoded data removed]",
      "text/plain": [
       "<Figure size 432x288 with 1 Axes>"
      ]
     },
     "metadata": {
      "needs_background": "light"
     },
     "output_type": "display_data"
    }
   ],
   "source": [
    "cleandata['CustomerAge'].hist(bins=20)"
   ]
  },
  {
   "cell_type": "markdown",
   "metadata": {},
   "source": [
    "### Lets store the cleaned data into the Database"
   ]
  },
  {
   "cell_type": "code",
   "execution_count": 16,
   "metadata": {},
   "outputs": [
    {
     "data": {
      "text/plain": [
       "(7338, 34)"
      ]
     },
     "execution_count": 16,
     "metadata": {},
     "output_type": "execute_result"
    }
   ],
   "source": [
    "# how many records did you end up with after the data cleaning?\n",
    "cleandata.shape"
   ]
  },
  {
   "cell_type": "code",
   "execution_count": 17,
   "metadata": {},
   "outputs": [],
   "source": [
    "# now that your data has been cleaned, lets store it in a database\n",
    "\n",
    "# NOTE - the parameters to replace an existing database if it already exists\n",
    "\n",
    "engine = create_engine('sqlite:///bestdeal.db')"
   ]
  },
  {
   "cell_type": "code",
   "execution_count": 18,
   "metadata": {},
   "outputs": [],
   "source": [
    "cleandata.to_sql('trans4cust', engine, if_exists = 'replace', index = False)"
   ]
  },
  {
   "cell_type": "markdown",
   "metadata": {},
   "source": [
    "** Sanity Test: Did it create the table in bestdeal.db?  Check!!**"
   ]
  },
  {
   "cell_type": "code",
   "execution_count": 19,
   "metadata": {},
   "outputs": [],
   "source": [
    "insp = inspect(engine)"
   ]
  },
  {
   "cell_type": "code",
   "execution_count": 20,
   "metadata": {},
   "outputs": [
    {
     "data": {
      "text/plain": [
       "['trans4cust']"
      ]
     },
     "execution_count": 20,
     "metadata": {},
     "output_type": "execute_result"
    }
   ],
   "source": [
    " insp.get_table_names()"
   ]
  },
  {
   "cell_type": "code",
   "execution_count": 21,
   "metadata": {},
   "outputs": [
    {
     "data": {
      "text/plain": [
       "Index(['ZipCode', 'CustomerAge', 'SamsungTV46LED', 'SonyTV42LED', 'XBOX360',\n",
       "       'DellLaptop', 'BoseSoundSystem', 'BoseHeadSet', 'SonyHeadSet', 'iPod',\n",
       "       'iPhone', 'Panasonic50LED', 'SonyPS4', 'WiiU', 'WDexternalHD',\n",
       "       'SamsungTV55LED', 'SonyTV60LED', 'SandiskMemoryCard', 'SonySoundSystem',\n",
       "       'SonyCamera', 'PanasonicCamera', 'HPPrinter', 'SonyDVDplayer',\n",
       "       'ToshibaDVDplayer', 'GalaxyTablet', 'SurfaceTablet', 'HPLaptop',\n",
       "       'HDMICable', 'SpeakerCable', 'CallOfDutyGame', 'GrandTheftAutoGame',\n",
       "       'ASUSLaptop', 'LenevoLaptop', 'TVStandWallMount'],\n",
       "      dtype='object')"
      ]
     },
     "execution_count": 21,
     "metadata": {},
     "output_type": "execute_result"
    }
   ],
   "source": [
    "pd.read_sql_table('trans4cust', engine).columns"
   ]
  },
  {
   "cell_type": "raw",
   "metadata": {},
   "source": [
    "should produce the columns of the DataFrame you wrote to the db.  "
   ]
  },
  {
   "cell_type": "markdown",
   "metadata": {},
   "source": [
    "### Now we are ready to query the Database"
   ]
  },
  {
   "cell_type": "markdown",
   "metadata": {},
   "source": [
    "#### Query example #1: get the transactions for the customers in zipCode 60616"
   ]
  },
  {
   "cell_type": "code",
   "execution_count": 22,
   "metadata": {},
   "outputs": [],
   "source": [
    "# ======================================================================\n",
    "# **********************************************************************\n",
    "# \n",
    "# WARNING - this pre-run notebook is using dirty data\n",
    "# WARNING - after cleaning the data, your output should look different\n",
    "#\n",
    "# ======================================================================\n",
    "# **********************************************************************"
   ]
  },
  {
   "cell_type": "code",
   "execution_count": 23,
   "metadata": {},
   "outputs": [
    {
     "data": {
      "text/html": [
       "<div>\n",
       "<style scoped>\n",
       "    .dataframe tbody tr th:only-of-type {\n",
       "        vertical-align: middle;\n",
       "    }\n",
       "\n",
       "    .dataframe tbody tr th {\n",
       "        vertical-align: top;\n",
       "    }\n",
       "\n",
       "    .dataframe thead th {\n",
       "        text-align: right;\n",
       "    }\n",
       "</style>\n",
       "<table border=\"1\" class=\"dataframe\">\n",
       "  <thead>\n",
       "    <tr style=\"text-align: right;\">\n",
       "      <th></th>\n",
       "      <th>ZipCode</th>\n",
       "      <th>CustomerAge</th>\n",
       "      <th>SamsungTV46LED</th>\n",
       "      <th>SonyTV42LED</th>\n",
       "      <th>XBOX360</th>\n",
       "      <th>DellLaptop</th>\n",
       "      <th>BoseSoundSystem</th>\n",
       "      <th>BoseHeadSet</th>\n",
       "      <th>SonyHeadSet</th>\n",
       "      <th>iPod</th>\n",
       "      <th>...</th>\n",
       "      <th>GalaxyTablet</th>\n",
       "      <th>SurfaceTablet</th>\n",
       "      <th>HPLaptop</th>\n",
       "      <th>HDMICable</th>\n",
       "      <th>SpeakerCable</th>\n",
       "      <th>CallOfDutyGame</th>\n",
       "      <th>GrandTheftAutoGame</th>\n",
       "      <th>ASUSLaptop</th>\n",
       "      <th>LenevoLaptop</th>\n",
       "      <th>TVStandWallMount</th>\n",
       "    </tr>\n",
       "  </thead>\n",
       "  <tbody>\n",
       "    <tr>\n",
       "      <td>0</td>\n",
       "      <td>60616</td>\n",
       "      <td>56</td>\n",
       "      <td>0</td>\n",
       "      <td>1</td>\n",
       "      <td>1</td>\n",
       "      <td>1</td>\n",
       "      <td>0</td>\n",
       "      <td>0</td>\n",
       "      <td>1</td>\n",
       "      <td>1</td>\n",
       "      <td>...</td>\n",
       "      <td>0</td>\n",
       "      <td>0</td>\n",
       "      <td>1</td>\n",
       "      <td>0</td>\n",
       "      <td>1</td>\n",
       "      <td>0</td>\n",
       "      <td>0</td>\n",
       "      <td>1</td>\n",
       "      <td>0</td>\n",
       "      <td>0</td>\n",
       "    </tr>\n",
       "    <tr>\n",
       "      <td>1</td>\n",
       "      <td>60616</td>\n",
       "      <td>43</td>\n",
       "      <td>0</td>\n",
       "      <td>1</td>\n",
       "      <td>1</td>\n",
       "      <td>0</td>\n",
       "      <td>1</td>\n",
       "      <td>0</td>\n",
       "      <td>1</td>\n",
       "      <td>0</td>\n",
       "      <td>...</td>\n",
       "      <td>1</td>\n",
       "      <td>0</td>\n",
       "      <td>1</td>\n",
       "      <td>1</td>\n",
       "      <td>1</td>\n",
       "      <td>1</td>\n",
       "      <td>0</td>\n",
       "      <td>1</td>\n",
       "      <td>1</td>\n",
       "      <td>1</td>\n",
       "    </tr>\n",
       "    <tr>\n",
       "      <td>2</td>\n",
       "      <td>60616</td>\n",
       "      <td>54</td>\n",
       "      <td>1</td>\n",
       "      <td>0</td>\n",
       "      <td>0</td>\n",
       "      <td>1</td>\n",
       "      <td>0</td>\n",
       "      <td>1</td>\n",
       "      <td>1</td>\n",
       "      <td>0</td>\n",
       "      <td>...</td>\n",
       "      <td>0</td>\n",
       "      <td>1</td>\n",
       "      <td>1</td>\n",
       "      <td>0</td>\n",
       "      <td>1</td>\n",
       "      <td>1</td>\n",
       "      <td>0</td>\n",
       "      <td>1</td>\n",
       "      <td>1</td>\n",
       "      <td>1</td>\n",
       "    </tr>\n",
       "    <tr>\n",
       "      <td>3</td>\n",
       "      <td>60616</td>\n",
       "      <td>43</td>\n",
       "      <td>1</td>\n",
       "      <td>1</td>\n",
       "      <td>1</td>\n",
       "      <td>0</td>\n",
       "      <td>1</td>\n",
       "      <td>1</td>\n",
       "      <td>1</td>\n",
       "      <td>0</td>\n",
       "      <td>...</td>\n",
       "      <td>1</td>\n",
       "      <td>1</td>\n",
       "      <td>1</td>\n",
       "      <td>1</td>\n",
       "      <td>0</td>\n",
       "      <td>1</td>\n",
       "      <td>0</td>\n",
       "      <td>1</td>\n",
       "      <td>1</td>\n",
       "      <td>1</td>\n",
       "    </tr>\n",
       "    <tr>\n",
       "      <td>4</td>\n",
       "      <td>60616</td>\n",
       "      <td>31</td>\n",
       "      <td>0</td>\n",
       "      <td>1</td>\n",
       "      <td>1</td>\n",
       "      <td>1</td>\n",
       "      <td>0</td>\n",
       "      <td>0</td>\n",
       "      <td>1</td>\n",
       "      <td>1</td>\n",
       "      <td>...</td>\n",
       "      <td>1</td>\n",
       "      <td>0</td>\n",
       "      <td>1</td>\n",
       "      <td>1</td>\n",
       "      <td>1</td>\n",
       "      <td>1</td>\n",
       "      <td>1</td>\n",
       "      <td>0</td>\n",
       "      <td>0</td>\n",
       "      <td>1</td>\n",
       "    </tr>\n",
       "  </tbody>\n",
       "</table>\n",
       "<p>5 rows × 34 columns</p>\n",
       "</div>"
      ],
      "text/plain": [
       "   ZipCode  CustomerAge  SamsungTV46LED  SonyTV42LED  XBOX360  DellLaptop  \\\n",
       "0    60616           56               0            1        1           1   \n",
       "1    60616           43               0            1        1           0   \n",
       "2    60616           54               1            0        0           1   \n",
       "3    60616           43               1            1        1           0   \n",
       "4    60616           31               0            1        1           1   \n",
       "\n",
       "   BoseSoundSystem  BoseHeadSet  SonyHeadSet  iPod  ...  GalaxyTablet  \\\n",
       "0                0            0            1     1  ...             0   \n",
       "1                1            0            1     0  ...             1   \n",
       "2                0            1            1     0  ...             0   \n",
       "3                1            1            1     0  ...             1   \n",
       "4                0            0            1     1  ...             1   \n",
       "\n",
       "   SurfaceTablet  HPLaptop  HDMICable  SpeakerCable  CallOfDutyGame  \\\n",
       "0              0         1          0             1               0   \n",
       "1              0         1          1             1               1   \n",
       "2              1         1          0             1               1   \n",
       "3              1         1          1             0               1   \n",
       "4              0         1          1             1               1   \n",
       "\n",
       "   GrandTheftAutoGame  ASUSLaptop  LenevoLaptop  TVStandWallMount  \n",
       "0                   0           1             0                 0  \n",
       "1                   0           1             1                 1  \n",
       "2                   0           1             1                 1  \n",
       "3                   0           1             1                 1  \n",
       "4                   1           0             0                 1  \n",
       "\n",
       "[5 rows x 34 columns]"
      ]
     },
     "execution_count": 23,
     "metadata": {},
     "output_type": "execute_result"
    }
   ],
   "source": [
    "q1 = pd.read_sql_query(\"SELECT * \\\n",
    "                FROM trans4cust \\\n",
    "                WHERE ZipCode='60616'\", engine)\n",
    "\n",
    "q1.head()"
   ]
  },
  {
   "cell_type": "markdown",
   "metadata": {},
   "source": [
    "#### Query example #2: get the transactions for ALL customers"
   ]
  },
  {
   "cell_type": "code",
   "execution_count": 24,
   "metadata": {},
   "outputs": [
    {
     "data": {
      "text/html": [
       "<div>\n",
       "<style scoped>\n",
       "    .dataframe tbody tr th:only-of-type {\n",
       "        vertical-align: middle;\n",
       "    }\n",
       "\n",
       "    .dataframe tbody tr th {\n",
       "        vertical-align: top;\n",
       "    }\n",
       "\n",
       "    .dataframe thead th {\n",
       "        text-align: right;\n",
       "    }\n",
       "</style>\n",
       "<table border=\"1\" class=\"dataframe\">\n",
       "  <thead>\n",
       "    <tr style=\"text-align: right;\">\n",
       "      <th></th>\n",
       "      <th>ZipCode</th>\n",
       "      <th>CustomerAge</th>\n",
       "      <th>SamsungTV46LED</th>\n",
       "      <th>SonyTV42LED</th>\n",
       "      <th>XBOX360</th>\n",
       "      <th>DellLaptop</th>\n",
       "      <th>BoseSoundSystem</th>\n",
       "      <th>BoseHeadSet</th>\n",
       "      <th>SonyHeadSet</th>\n",
       "      <th>iPod</th>\n",
       "      <th>...</th>\n",
       "      <th>GalaxyTablet</th>\n",
       "      <th>SurfaceTablet</th>\n",
       "      <th>HPLaptop</th>\n",
       "      <th>HDMICable</th>\n",
       "      <th>SpeakerCable</th>\n",
       "      <th>CallOfDutyGame</th>\n",
       "      <th>GrandTheftAutoGame</th>\n",
       "      <th>ASUSLaptop</th>\n",
       "      <th>LenevoLaptop</th>\n",
       "      <th>TVStandWallMount</th>\n",
       "    </tr>\n",
       "  </thead>\n",
       "  <tbody>\n",
       "    <tr>\n",
       "      <td>0</td>\n",
       "      <td>30134</td>\n",
       "      <td>35</td>\n",
       "      <td>1</td>\n",
       "      <td>1</td>\n",
       "      <td>1</td>\n",
       "      <td>0</td>\n",
       "      <td>0</td>\n",
       "      <td>1</td>\n",
       "      <td>1</td>\n",
       "      <td>0</td>\n",
       "      <td>...</td>\n",
       "      <td>1</td>\n",
       "      <td>0</td>\n",
       "      <td>1</td>\n",
       "      <td>1</td>\n",
       "      <td>1</td>\n",
       "      <td>1</td>\n",
       "      <td>0</td>\n",
       "      <td>1</td>\n",
       "      <td>1</td>\n",
       "      <td>1</td>\n",
       "    </tr>\n",
       "    <tr>\n",
       "      <td>1</td>\n",
       "      <td>62791</td>\n",
       "      <td>43</td>\n",
       "      <td>0</td>\n",
       "      <td>1</td>\n",
       "      <td>0</td>\n",
       "      <td>0</td>\n",
       "      <td>1</td>\n",
       "      <td>0</td>\n",
       "      <td>1</td>\n",
       "      <td>0</td>\n",
       "      <td>...</td>\n",
       "      <td>1</td>\n",
       "      <td>0</td>\n",
       "      <td>1</td>\n",
       "      <td>0</td>\n",
       "      <td>1</td>\n",
       "      <td>1</td>\n",
       "      <td>0</td>\n",
       "      <td>1</td>\n",
       "      <td>1</td>\n",
       "      <td>1</td>\n",
       "    </tr>\n",
       "    <tr>\n",
       "      <td>2</td>\n",
       "      <td>60616</td>\n",
       "      <td>56</td>\n",
       "      <td>0</td>\n",
       "      <td>1</td>\n",
       "      <td>1</td>\n",
       "      <td>1</td>\n",
       "      <td>0</td>\n",
       "      <td>0</td>\n",
       "      <td>1</td>\n",
       "      <td>1</td>\n",
       "      <td>...</td>\n",
       "      <td>0</td>\n",
       "      <td>0</td>\n",
       "      <td>1</td>\n",
       "      <td>0</td>\n",
       "      <td>1</td>\n",
       "      <td>0</td>\n",
       "      <td>0</td>\n",
       "      <td>1</td>\n",
       "      <td>0</td>\n",
       "      <td>0</td>\n",
       "    </tr>\n",
       "    <tr>\n",
       "      <td>3</td>\n",
       "      <td>90033</td>\n",
       "      <td>44</td>\n",
       "      <td>1</td>\n",
       "      <td>1</td>\n",
       "      <td>1</td>\n",
       "      <td>1</td>\n",
       "      <td>0</td>\n",
       "      <td>0</td>\n",
       "      <td>0</td>\n",
       "      <td>0</td>\n",
       "      <td>...</td>\n",
       "      <td>1</td>\n",
       "      <td>1</td>\n",
       "      <td>1</td>\n",
       "      <td>1</td>\n",
       "      <td>0</td>\n",
       "      <td>1</td>\n",
       "      <td>1</td>\n",
       "      <td>0</td>\n",
       "      <td>0</td>\n",
       "      <td>1</td>\n",
       "    </tr>\n",
       "    <tr>\n",
       "      <td>4</td>\n",
       "      <td>62791</td>\n",
       "      <td>27</td>\n",
       "      <td>1</td>\n",
       "      <td>1</td>\n",
       "      <td>0</td>\n",
       "      <td>1</td>\n",
       "      <td>0</td>\n",
       "      <td>0</td>\n",
       "      <td>0</td>\n",
       "      <td>0</td>\n",
       "      <td>...</td>\n",
       "      <td>1</td>\n",
       "      <td>1</td>\n",
       "      <td>1</td>\n",
       "      <td>0</td>\n",
       "      <td>0</td>\n",
       "      <td>1</td>\n",
       "      <td>0</td>\n",
       "      <td>1</td>\n",
       "      <td>1</td>\n",
       "      <td>1</td>\n",
       "    </tr>\n",
       "  </tbody>\n",
       "</table>\n",
       "<p>5 rows × 34 columns</p>\n",
       "</div>"
      ],
      "text/plain": [
       "   ZipCode  CustomerAge  SamsungTV46LED  SonyTV42LED  XBOX360  DellLaptop  \\\n",
       "0    30134           35               1            1        1           0   \n",
       "1    62791           43               0            1        0           0   \n",
       "2    60616           56               0            1        1           1   \n",
       "3    90033           44               1            1        1           1   \n",
       "4    62791           27               1            1        0           1   \n",
       "\n",
       "   BoseSoundSystem  BoseHeadSet  SonyHeadSet  iPod  ...  GalaxyTablet  \\\n",
       "0                0            1            1     0  ...             1   \n",
       "1                1            0            1     0  ...             1   \n",
       "2                0            0            1     1  ...             0   \n",
       "3                0            0            0     0  ...             1   \n",
       "4                0            0            0     0  ...             1   \n",
       "\n",
       "   SurfaceTablet  HPLaptop  HDMICable  SpeakerCable  CallOfDutyGame  \\\n",
       "0              0         1          1             1               1   \n",
       "1              0         1          0             1               1   \n",
       "2              0         1          0             1               0   \n",
       "3              1         1          1             0               1   \n",
       "4              1         1          0             0               1   \n",
       "\n",
       "   GrandTheftAutoGame  ASUSLaptop  LenevoLaptop  TVStandWallMount  \n",
       "0                   0           1             1                 1  \n",
       "1                   0           1             1                 1  \n",
       "2                   0           1             0                 0  \n",
       "3                   1           0             0                 1  \n",
       "4                   0           1             1                 1  \n",
       "\n",
       "[5 rows x 34 columns]"
      ]
     },
     "execution_count": 24,
     "metadata": {},
     "output_type": "execute_result"
    }
   ],
   "source": [
    "q2 = pd.read_sql_query(\"SELECT * \\\n",
    "                FROM trans4cust\", engine)\n",
    "\n",
    "q2.head()"
   ]
  },
  {
   "cell_type": "markdown",
   "metadata": {},
   "source": [
    "#### Query example #3: get the number of customers in every ZipCode sorted by ZipCode"
   ]
  },
  {
   "cell_type": "code",
   "execution_count": 25,
   "metadata": {},
   "outputs": [
    {
     "data": {
      "text/html": [
       "<div>\n",
       "<style scoped>\n",
       "    .dataframe tbody tr th:only-of-type {\n",
       "        vertical-align: middle;\n",
       "    }\n",
       "\n",
       "    .dataframe tbody tr th {\n",
       "        vertical-align: top;\n",
       "    }\n",
       "\n",
       "    .dataframe thead th {\n",
       "        text-align: right;\n",
       "    }\n",
       "</style>\n",
       "<table border=\"1\" class=\"dataframe\">\n",
       "  <thead>\n",
       "    <tr style=\"text-align: right;\">\n",
       "      <th></th>\n",
       "      <th>ZipCode</th>\n",
       "      <th>num_customers</th>\n",
       "    </tr>\n",
       "  </thead>\n",
       "  <tbody>\n",
       "    <tr>\n",
       "      <td>0</td>\n",
       "      <td>10065</td>\n",
       "      <td>750</td>\n",
       "    </tr>\n",
       "    <tr>\n",
       "      <td>1</td>\n",
       "      <td>30134</td>\n",
       "      <td>1133</td>\n",
       "    </tr>\n",
       "    <tr>\n",
       "      <td>2</td>\n",
       "      <td>30303</td>\n",
       "      <td>985</td>\n",
       "    </tr>\n",
       "    <tr>\n",
       "      <td>3</td>\n",
       "      <td>33129</td>\n",
       "      <td>531</td>\n",
       "    </tr>\n",
       "    <tr>\n",
       "      <td>4</td>\n",
       "      <td>33130</td>\n",
       "      <td>280</td>\n",
       "    </tr>\n",
       "  </tbody>\n",
       "</table>\n",
       "</div>"
      ],
      "text/plain": [
       "   ZipCode  num_customers\n",
       "0    10065            750\n",
       "1    30134           1133\n",
       "2    30303            985\n",
       "3    33129            531\n",
       "4    33130            280"
      ]
     },
     "execution_count": 25,
     "metadata": {},
     "output_type": "execute_result"
    }
   ],
   "source": [
    "q3 = pd.read_sql_query(\"SELECT ZipCode , COUNT(*) as 'num_customers' \\\n",
    "            FROM trans4cust \\\n",
    "            GROUP BY ZipCode \\\n",
    "            ORDER BY ZipCode\", engine)\n",
    "\n",
    "q3.head()"
   ]
  },
  {
   "cell_type": "markdown",
   "metadata": {},
   "source": [
    "#### Query example #4: get the number of customers for  every Age Group in ZipCode 60616 sorted by CustomerAge"
   ]
  },
  {
   "cell_type": "code",
   "execution_count": 26,
   "metadata": {},
   "outputs": [
    {
     "data": {
      "text/html": [
       "<div>\n",
       "<style scoped>\n",
       "    .dataframe tbody tr th:only-of-type {\n",
       "        vertical-align: middle;\n",
       "    }\n",
       "\n",
       "    .dataframe tbody tr th {\n",
       "        vertical-align: top;\n",
       "    }\n",
       "\n",
       "    .dataframe thead th {\n",
       "        text-align: right;\n",
       "    }\n",
       "</style>\n",
       "<table border=\"1\" class=\"dataframe\">\n",
       "  <thead>\n",
       "    <tr style=\"text-align: right;\">\n",
       "      <th></th>\n",
       "      <th>CustomerAge</th>\n",
       "      <th>num_customers</th>\n",
       "    </tr>\n",
       "  </thead>\n",
       "  <tbody>\n",
       "    <tr>\n",
       "      <td>0</td>\n",
       "      <td>21</td>\n",
       "      <td>56</td>\n",
       "    </tr>\n",
       "    <tr>\n",
       "      <td>1</td>\n",
       "      <td>22</td>\n",
       "      <td>32</td>\n",
       "    </tr>\n",
       "    <tr>\n",
       "      <td>2</td>\n",
       "      <td>23</td>\n",
       "      <td>40</td>\n",
       "    </tr>\n",
       "    <tr>\n",
       "      <td>3</td>\n",
       "      <td>25</td>\n",
       "      <td>88</td>\n",
       "    </tr>\n",
       "    <tr>\n",
       "      <td>4</td>\n",
       "      <td>26</td>\n",
       "      <td>48</td>\n",
       "    </tr>\n",
       "  </tbody>\n",
       "</table>\n",
       "</div>"
      ],
      "text/plain": [
       "   CustomerAge  num_customers\n",
       "0           21             56\n",
       "1           22             32\n",
       "2           23             40\n",
       "3           25             88\n",
       "4           26             48"
      ]
     },
     "execution_count": 26,
     "metadata": {},
     "output_type": "execute_result"
    }
   ],
   "source": [
    "q4 = pd.read_sql_query(\n",
    "        \"SELECT CustomerAge , COUNT(*) as 'num_customers' \\\n",
    "        FROM trans4cust \\\n",
    "        WHERE ZipCode=60616 \\\n",
    "        GROUP BY CustomerAge  \\\n",
    "        ORDER BY CustomerAge\", engine)\n",
    "\n",
    "q4.head()"
   ]
  },
  {
   "cell_type": "markdown",
   "metadata": {},
   "source": [
    "#### Query example #5: Plot in a stacked-bar figure the number of customers who bought SonyTV60LED and/or BoseSoundSystem in  every zipcode that has more than 400 customers who bought these two products(either bought one of these products or the two products)"
   ]
  },
  {
   "cell_type": "code",
   "execution_count": 27,
   "metadata": {},
   "outputs": [],
   "source": [
    "SonyTV60LEDCustTrans = pd.read_sql_query(\n",
    "    \"SELECT ZipCode , COUNT(*) as 'num_customers' \\\n",
    "    FROM trans4cust \\\n",
    "    WHERE SonyTV60LED=1  \\\n",
    "    GROUP BY ZipCode \\\n",
    "    HAVING COUNT(*) > 400\", engine)\n",
    "\n",
    "BoseSoundSystemCustTrans = pd.read_sql_query(\n",
    "    \"SELECT ZipCode , COUNT(*) as 'num_customers'\\\n",
    "    FROM trans4cust \\\n",
    "    WHERE BoseSoundSystem=1 \\\n",
    "    GROUP BY ZipCode \\\n",
    "    HAVING COUNT(*) > 400\", engine)"
   ]
  },
  {
   "cell_type": "code",
   "execution_count": 28,
   "metadata": {},
   "outputs": [
    {
     "data": {
      "text/html": [
       "<div>\n",
       "<style scoped>\n",
       "    .dataframe tbody tr th:only-of-type {\n",
       "        vertical-align: middle;\n",
       "    }\n",
       "\n",
       "    .dataframe tbody tr th {\n",
       "        vertical-align: top;\n",
       "    }\n",
       "\n",
       "    .dataframe thead th {\n",
       "        text-align: right;\n",
       "    }\n",
       "</style>\n",
       "<table border=\"1\" class=\"dataframe\">\n",
       "  <thead>\n",
       "    <tr style=\"text-align: right;\">\n",
       "      <th></th>\n",
       "      <th>ZipCode</th>\n",
       "      <th>num_customers</th>\n",
       "    </tr>\n",
       "  </thead>\n",
       "  <tbody>\n",
       "    <tr>\n",
       "      <td>0</td>\n",
       "      <td>10065</td>\n",
       "      <td>439</td>\n",
       "    </tr>\n",
       "    <tr>\n",
       "      <td>1</td>\n",
       "      <td>30134</td>\n",
       "      <td>757</td>\n",
       "    </tr>\n",
       "    <tr>\n",
       "      <td>2</td>\n",
       "      <td>30303</td>\n",
       "      <td>517</td>\n",
       "    </tr>\n",
       "    <tr>\n",
       "      <td>3</td>\n",
       "      <td>60616</td>\n",
       "      <td>689</td>\n",
       "    </tr>\n",
       "  </tbody>\n",
       "</table>\n",
       "</div>"
      ],
      "text/plain": [
       "   ZipCode  num_customers\n",
       "0    10065            439\n",
       "1    30134            757\n",
       "2    30303            517\n",
       "3    60616            689"
      ]
     },
     "execution_count": 28,
     "metadata": {},
     "output_type": "execute_result"
    }
   ],
   "source": [
    "SonyTV60LEDCustTrans"
   ]
  },
  {
   "cell_type": "code",
   "execution_count": 29,
   "metadata": {},
   "outputs": [
    {
     "data": {
      "text/html": [
       "<div>\n",
       "<style scoped>\n",
       "    .dataframe tbody tr th:only-of-type {\n",
       "        vertical-align: middle;\n",
       "    }\n",
       "\n",
       "    .dataframe tbody tr th {\n",
       "        vertical-align: top;\n",
       "    }\n",
       "\n",
       "    .dataframe thead th {\n",
       "        text-align: right;\n",
       "    }\n",
       "</style>\n",
       "<table border=\"1\" class=\"dataframe\">\n",
       "  <thead>\n",
       "    <tr style=\"text-align: right;\">\n",
       "      <th></th>\n",
       "      <th>ZipCode</th>\n",
       "      <th>num_customers</th>\n",
       "    </tr>\n",
       "  </thead>\n",
       "  <tbody>\n",
       "    <tr>\n",
       "      <td>0</td>\n",
       "      <td>30134</td>\n",
       "      <td>799</td>\n",
       "    </tr>\n",
       "    <tr>\n",
       "      <td>1</td>\n",
       "      <td>30303</td>\n",
       "      <td>464</td>\n",
       "    </tr>\n",
       "    <tr>\n",
       "      <td>2</td>\n",
       "      <td>60616</td>\n",
       "      <td>466</td>\n",
       "    </tr>\n",
       "    <tr>\n",
       "      <td>3</td>\n",
       "      <td>90033</td>\n",
       "      <td>404</td>\n",
       "    </tr>\n",
       "  </tbody>\n",
       "</table>\n",
       "</div>"
      ],
      "text/plain": [
       "   ZipCode  num_customers\n",
       "0    30134            799\n",
       "1    30303            464\n",
       "2    60616            466\n",
       "3    90033            404"
      ]
     },
     "execution_count": 29,
     "metadata": {},
     "output_type": "execute_result"
    }
   ],
   "source": [
    "BoseSoundSystemCustTrans"
   ]
  },
  {
   "cell_type": "code",
   "execution_count": 30,
   "metadata": {},
   "outputs": [
    {
     "data": {
      "text/plain": [
       "0    10065\n",
       "1    30134\n",
       "2    30303\n",
       "3    60616\n",
       "Name: ZipCode, dtype: int64"
      ]
     },
     "execution_count": 30,
     "metadata": {},
     "output_type": "execute_result"
    }
   ],
   "source": [
    "SonyTV60LEDCustTrans.ZipCode\n"
   ]
  },
  {
   "cell_type": "code",
   "execution_count": 31,
   "metadata": {},
   "outputs": [],
   "source": [
    "import numpy\n",
    "\n",
    "#   There are zipcodes that Sony got bought but not Bose \n",
    "#   but there are also zipcodes that Bose got bought but not Sony\n",
    "#\n",
    "#   AND we need to use stacked-bar graph and we have a potentially asymmetrical set  of zipcode values\n",
    "#   So, we need to do somework to create the symmteric set of zipcode values for Sony and Bose\n",
    "\n",
    "\n",
    "sonyZipCodeTuples = tuple(SonyTV60LEDCustTrans.ZipCode.astype(numpy.int))\n",
    "sony_num_customersTuples = tuple(SonyTV60LEDCustTrans.num_customers.astype(numpy.int))\n",
    "\n",
    "boseZipCodeTuples = tuple(BoseSoundSystemCustTrans.ZipCode.astype(numpy.int))\n",
    "bose_num_customersTuples = tuple(BoseSoundSystemCustTrans.num_customers.astype(numpy.int))\n",
    "\n",
    "sony_dict = dict(zip(sonyZipCodeTuples, sony_num_customersTuples))\n",
    "bose_dict = dict(zip(boseZipCodeTuples, bose_num_customersTuples))\n",
    "\n",
    "for key in bose_dict.keys():\n",
    "    if ((key in sony_dict.keys()) == False): sony_dict[key]=0\n",
    "        \n",
    "for key in sony_dict.keys():\n",
    "    if ((key in bose_dict.keys()) == False): bose_dict[key]=0\n",
    "        \n",
    "bose_zip = sorted(bose_dict.keys())\n",
    "\n",
    "sony_zip = sorted(sony_dict.keys())\n",
    "\n",
    "bose_zip_tuple = tuple(bose_zip)\n",
    "\n",
    "sony_zip_tuple = tuple(sony_zip)\n",
    "\n",
    "bose_customer_list = []\n",
    "\n",
    "for bose in bose_zip_tuple:\n",
    "    bose_customer_list.append(bose_dict[bose])\n",
    "\n",
    "sony_customer_list = []\n",
    "\n",
    "for sony in sony_zip_tuple:\n",
    "    sony_customer_list.append(sony_dict[sony])\n",
    "\n",
    "bose_customer_tuple = tuple(bose_customer_list)\n",
    "sony_customer_tuple = tuple(sony_customer_list)\n"
   ]
  },
  {
   "cell_type": "code",
   "execution_count": 32,
   "metadata": {},
   "outputs": [
    {
     "data": {
      "text/plain": [
       "Text(0, 0.5, 'Number of Customers')"
      ]
     },
     "execution_count": 32,
     "metadata": {},
     "output_type": "execute_result"
    },
    {
     "data": {
      "text/plain": [
       "Text(0.5, 0, 'Zip Code')"
      ]
     },
     "execution_count": 32,
     "metadata": {},
     "output_type": "execute_result"
    },
    {
     "data": {
      "text/plain": [
       "Text(0.5, 1.0, 'Number of Customers by ZipCode and 2 Products')"
      ]
     },
     "execution_count": 32,
     "metadata": {},
     "output_type": "execute_result"
    },
    {
     "data": {
      "text/plain": [
       "([<matplotlib.axis.XTick at 0x123b00250>,\n",
       "  <matplotlib.axis.XTick at 0x123b1e950>,\n",
       "  <matplotlib.axis.XTick at 0x123b1e6d0>,\n",
       "  <matplotlib.axis.XTick at 0x123e39490>,\n",
       "  <matplotlib.axis.XTick at 0x123e39790>],\n",
       " <a list of 5 Text xticklabel objects>)"
      ]
     },
     "execution_count": 32,
     "metadata": {},
     "output_type": "execute_result"
    },
    {
     "data": {
      "text/plain": [
       "([<matplotlib.axis.YTick at 0x123aff310>,\n",
       "  <matplotlib.axis.YTick at 0x123b00a50>,\n",
       "  <matplotlib.axis.YTick at 0x123b110d0>,\n",
       "  <matplotlib.axis.YTick at 0x123e41510>,\n",
       "  <matplotlib.axis.YTick at 0x123e41d10>,\n",
       "  <matplotlib.axis.YTick at 0x12489e350>,\n",
       "  <matplotlib.axis.YTick at 0x12489e890>,\n",
       "  <matplotlib.axis.YTick at 0x12489ee10>,\n",
       "  <matplotlib.axis.YTick at 0x12489e810>,\n",
       "  <matplotlib.axis.YTick at 0x123e41650>,\n",
       "  <matplotlib.axis.YTick at 0x123e39090>,\n",
       "  <matplotlib.axis.YTick at 0x1248a7750>,\n",
       "  <matplotlib.axis.YTick at 0x1248a7cd0>,\n",
       "  <matplotlib.axis.YTick at 0x1248af310>,\n",
       "  <matplotlib.axis.YTick at 0x1248af810>,\n",
       "  <matplotlib.axis.YTick at 0x1248afd90>,\n",
       "  <matplotlib.axis.YTick at 0x1248c0350>,\n",
       "  <matplotlib.axis.YTick at 0x1248c08d0>,\n",
       "  <matplotlib.axis.YTick at 0x1248c0e50>,\n",
       "  <matplotlib.axis.YTick at 0x1248c0790>],\n",
       " <a list of 20 Text yticklabel objects>)"
      ]
     },
     "execution_count": 32,
     "metadata": {},
     "output_type": "execute_result"
    },
    {
     "data": {
      "text/plain": [
       "<matplotlib.legend.Legend at 0x123e41690>"
      ]
     },
     "execution_count": 32,
     "metadata": {},
     "output_type": "execute_result"
    },
    {
     "data": {
      "image/png": "[encoded data removed]",
      "text/plain": [
       "<Figure size 432x288 with 1 Axes>"
      ]
     },
     "metadata": {
      "needs_background": "light"
     },
     "output_type": "display_data"
    }
   ],
   "source": [
    "# See docs for bar_stack at the URL\n",
    "# http://matplotlib.org/examples/pylab_examples/bar_stacked.html\n",
    "\n",
    "import numpy as np\n",
    "import matplotlib.pyplot as plt\n",
    "\n",
    "%matplotlib inline \n",
    "\n",
    "ind = np.arange(len(sony_customer_tuple))    \n",
    "\n",
    "# the width of the bars: can also be len(x) sequence\n",
    "width = .5\n",
    "\n",
    "p1 = plt.bar(ind, sony_customer_tuple, width,  color='r')\n",
    "p2 = plt.bar(ind, bose_customer_tuple, width, color='y', bottom=sony_customer_tuple)\n",
    "\n",
    "plt.ylabel('Number of Customers')\n",
    "plt.xlabel('Zip Code')\n",
    "\n",
    "plt.title('Number of Customers by ZipCode and 2 Products')\n",
    "\n",
    "plt.xticks(ind + width, sony_zip_tuple, horizontalalignment='right')\n",
    "\n",
    "plt.yticks(np.arange(0, 2000, 100))\n",
    "plt.legend((p1[0], p2[0]), ('Sony', 'Bose'))\n",
    "\n",
    "plt.show()"
   ]
  },
  {
   "cell_type": "markdown",
   "metadata": {},
   "source": [
    "<div class=\"alert alert-block alert-warning\">\n",
    "    \n",
    "# Requirements :\n",
    "\n",
    "Answer the homework questions below; add cells as needed.\n",
    "\n",
    "</div>"
   ]
  },
  {
   "cell_type": "markdown",
   "metadata": {},
   "source": [
    "### Requirement 1 (5 points)\n",
    "\n",
    "Show the shape of your data and the variable types of your data. You will get points for clean data - no NA's, product values of only 0 or 1, valid customer ages, zipcodes with 5 digits."
   ]
  },
  {
   "cell_type": "code",
   "execution_count": 33,
   "metadata": {
    "scrolled": false
   },
   "outputs": [
    {
     "data": {
      "text/plain": [
       "(7338, 34)"
      ]
     },
     "execution_count": 33,
     "metadata": {},
     "output_type": "execute_result"
    }
   ],
   "source": [
    "cleandata.shape"
   ]
  },
  {
   "cell_type": "markdown",
   "metadata": {},
   "source": [
    "### Requirement 2 (5 points) - Use SQL/SQLite\n",
    "\n",
    "a) Show the top 3 zip codes with the most customers.  <br>\n",
    "b) Using just the top 3 zip codes, what are the ages of the customers? Sort the output by highest count on top."
   ]
  },
  {
   "cell_type": "code",
   "execution_count": 34,
   "metadata": {},
   "outputs": [
    {
     "data": {
      "text/html": [
       "<div>\n",
       "<style scoped>\n",
       "    .dataframe tbody tr th:only-of-type {\n",
       "        vertical-align: middle;\n",
       "    }\n",
       "\n",
       "    .dataframe tbody tr th {\n",
       "        vertical-align: top;\n",
       "    }\n",
       "\n",
       "    .dataframe thead th {\n",
       "        text-align: right;\n",
       "    }\n",
       "</style>\n",
       "<table border=\"1\" class=\"dataframe\">\n",
       "  <thead>\n",
       "    <tr style=\"text-align: right;\">\n",
       "      <th></th>\n",
       "      <th>ZipCode</th>\n",
       "      <th>num_customers</th>\n",
       "    </tr>\n",
       "  </thead>\n",
       "  <tbody>\n",
       "    <tr>\n",
       "      <td>0</td>\n",
       "      <td>30134</td>\n",
       "      <td>1133</td>\n",
       "    </tr>\n",
       "    <tr>\n",
       "      <td>1</td>\n",
       "      <td>30303</td>\n",
       "      <td>985</td>\n",
       "    </tr>\n",
       "    <tr>\n",
       "      <td>2</td>\n",
       "      <td>60616</td>\n",
       "      <td>951</td>\n",
       "    </tr>\n",
       "  </tbody>\n",
       "</table>\n",
       "</div>"
      ],
      "text/plain": [
       "   ZipCode  num_customers\n",
       "0    30134           1133\n",
       "1    30303            985\n",
       "2    60616            951"
      ]
     },
     "execution_count": 34,
     "metadata": {},
     "output_type": "execute_result"
    }
   ],
   "source": [
    "pd.read_sql_query(\n",
    "    \"SELECT ZipCode , COUNT(CustomerAge) as 'num_customers' \\\n",
    "    FROM trans4cust \\\n",
    "    GROUP BY ZipCode \\\n",
    "    ORDER BY num_customers DESC\\\n",
    "    LIMIT 3 \", engine)"
   ]
  },
  {
   "cell_type": "markdown",
   "metadata": {},
   "source": [
    "A.) The top three zips are 30134, 30303, and 60616."
   ]
  },
  {
   "cell_type": "code",
   "execution_count": 46,
   "metadata": {},
   "outputs": [
    {
     "data": {
      "text/html": [
       "<div>\n",
       "<style scoped>\n",
       "    .dataframe tbody tr th:only-of-type {\n",
       "        vertical-align: middle;\n",
       "    }\n",
       "\n",
       "    .dataframe tbody tr th {\n",
       "        vertical-align: top;\n",
       "    }\n",
       "\n",
       "    .dataframe thead th {\n",
       "        text-align: right;\n",
       "    }\n",
       "</style>\n",
       "<table border=\"1\" class=\"dataframe\">\n",
       "  <thead>\n",
       "    <tr style=\"text-align: right;\">\n",
       "      <th></th>\n",
       "      <th>ZipCode</th>\n",
       "      <th>CustomerAge</th>\n",
       "      <th>num_customers</th>\n",
       "    </tr>\n",
       "  </thead>\n",
       "  <tbody>\n",
       "    <tr>\n",
       "      <td>0</td>\n",
       "      <td>30134</td>\n",
       "      <td>25</td>\n",
       "      <td>154</td>\n",
       "    </tr>\n",
       "    <tr>\n",
       "      <td>1</td>\n",
       "      <td>60616</td>\n",
       "      <td>34</td>\n",
       "      <td>96</td>\n",
       "    </tr>\n",
       "    <tr>\n",
       "      <td>2</td>\n",
       "      <td>60616</td>\n",
       "      <td>25</td>\n",
       "      <td>88</td>\n",
       "    </tr>\n",
       "    <tr>\n",
       "      <td>3</td>\n",
       "      <td>60616</td>\n",
       "      <td>44</td>\n",
       "      <td>87</td>\n",
       "    </tr>\n",
       "    <tr>\n",
       "      <td>4</td>\n",
       "      <td>30134</td>\n",
       "      <td>29</td>\n",
       "      <td>84</td>\n",
       "    </tr>\n",
       "    <tr>\n",
       "      <td>...</td>\n",
       "      <td>...</td>\n",
       "      <td>...</td>\n",
       "      <td>...</td>\n",
       "    </tr>\n",
       "    <tr>\n",
       "      <td>72</td>\n",
       "      <td>30134</td>\n",
       "      <td>26</td>\n",
       "      <td>2</td>\n",
       "    </tr>\n",
       "    <tr>\n",
       "      <td>73</td>\n",
       "      <td>30134</td>\n",
       "      <td>33</td>\n",
       "      <td>2</td>\n",
       "    </tr>\n",
       "    <tr>\n",
       "      <td>74</td>\n",
       "      <td>30134</td>\n",
       "      <td>39</td>\n",
       "      <td>2</td>\n",
       "    </tr>\n",
       "    <tr>\n",
       "      <td>75</td>\n",
       "      <td>30134</td>\n",
       "      <td>59</td>\n",
       "      <td>2</td>\n",
       "    </tr>\n",
       "    <tr>\n",
       "      <td>76</td>\n",
       "      <td>30134</td>\n",
       "      <td>46</td>\n",
       "      <td>1</td>\n",
       "    </tr>\n",
       "  </tbody>\n",
       "</table>\n",
       "<p>77 rows × 3 columns</p>\n",
       "</div>"
      ],
      "text/plain": [
       "    ZipCode  CustomerAge  num_customers\n",
       "0     30134           25            154\n",
       "1     60616           34             96\n",
       "2     60616           25             88\n",
       "3     60616           44             87\n",
       "4     30134           29             84\n",
       "..      ...          ...            ...\n",
       "72    30134           26              2\n",
       "73    30134           33              2\n",
       "74    30134           39              2\n",
       "75    30134           59              2\n",
       "76    30134           46              1\n",
       "\n",
       "[77 rows x 3 columns]"
      ]
     },
     "execution_count": 46,
     "metadata": {},
     "output_type": "execute_result"
    }
   ],
   "source": [
    "pd.read_sql_query(\n",
    "    \"SELECT ZipCode, CustomerAge, COUNT(CustomerAge) as 'num_customers' \\\n",
    "    FROM trans4cust  \\\n",
    "    WHERE ZipCode IN (30134,30303, 60616)\\\n",
    "    GROUP BY ZipCode, CustomerAge\\\n",
    "    ORDER BY num_customers DESC\", engine)\n"
   ]
  },
  {
   "cell_type": "markdown",
   "metadata": {},
   "source": [
    "### Requirement 3 (5 points) - Use SQL/SQLite\n",
    "\n",
    "Get the number of customers that bought both a DellLaptop and HPPrinter. Show the results for every age and sort the output by age so that the oldest customers are shown at the top."
   ]
  },
  {
   "cell_type": "code",
   "execution_count": 367,
   "metadata": {},
   "outputs": [
    {
     "data": {
      "text/html": [
       "<div>\n",
       "<style scoped>\n",
       "    .dataframe tbody tr th:only-of-type {\n",
       "        vertical-align: middle;\n",
       "    }\n",
       "\n",
       "    .dataframe tbody tr th {\n",
       "        vertical-align: top;\n",
       "    }\n",
       "\n",
       "    .dataframe thead th {\n",
       "        text-align: right;\n",
       "    }\n",
       "</style>\n",
       "<table border=\"1\" class=\"dataframe\">\n",
       "  <thead>\n",
       "    <tr style=\"text-align: right;\">\n",
       "      <th></th>\n",
       "      <th>CustomerAge</th>\n",
       "      <th>COUNT(CustomerAge)</th>\n",
       "    </tr>\n",
       "  </thead>\n",
       "  <tbody>\n",
       "    <tr>\n",
       "      <td>0</td>\n",
       "      <td>61</td>\n",
       "      <td>32</td>\n",
       "    </tr>\n",
       "    <tr>\n",
       "      <td>1</td>\n",
       "      <td>59</td>\n",
       "      <td>80</td>\n",
       "    </tr>\n",
       "    <tr>\n",
       "      <td>2</td>\n",
       "      <td>57</td>\n",
       "      <td>25</td>\n",
       "    </tr>\n",
       "    <tr>\n",
       "      <td>3</td>\n",
       "      <td>56</td>\n",
       "      <td>162</td>\n",
       "    </tr>\n",
       "    <tr>\n",
       "      <td>4</td>\n",
       "      <td>54</td>\n",
       "      <td>108</td>\n",
       "    </tr>\n",
       "    <tr>\n",
       "      <td>5</td>\n",
       "      <td>53</td>\n",
       "      <td>10</td>\n",
       "    </tr>\n",
       "    <tr>\n",
       "      <td>6</td>\n",
       "      <td>51</td>\n",
       "      <td>7</td>\n",
       "    </tr>\n",
       "    <tr>\n",
       "      <td>7</td>\n",
       "      <td>47</td>\n",
       "      <td>32</td>\n",
       "    </tr>\n",
       "    <tr>\n",
       "      <td>8</td>\n",
       "      <td>46</td>\n",
       "      <td>33</td>\n",
       "    </tr>\n",
       "    <tr>\n",
       "      <td>9</td>\n",
       "      <td>45</td>\n",
       "      <td>32</td>\n",
       "    </tr>\n",
       "    <tr>\n",
       "      <td>10</td>\n",
       "      <td>44</td>\n",
       "      <td>160</td>\n",
       "    </tr>\n",
       "    <tr>\n",
       "      <td>11</td>\n",
       "      <td>42</td>\n",
       "      <td>61</td>\n",
       "    </tr>\n",
       "    <tr>\n",
       "      <td>12</td>\n",
       "      <td>39</td>\n",
       "      <td>77</td>\n",
       "    </tr>\n",
       "    <tr>\n",
       "      <td>13</td>\n",
       "      <td>38</td>\n",
       "      <td>11</td>\n",
       "    </tr>\n",
       "    <tr>\n",
       "      <td>14</td>\n",
       "      <td>36</td>\n",
       "      <td>160</td>\n",
       "    </tr>\n",
       "    <tr>\n",
       "      <td>15</td>\n",
       "      <td>35</td>\n",
       "      <td>128</td>\n",
       "    </tr>\n",
       "    <tr>\n",
       "      <td>16</td>\n",
       "      <td>34</td>\n",
       "      <td>64</td>\n",
       "    </tr>\n",
       "    <tr>\n",
       "      <td>17</td>\n",
       "      <td>32</td>\n",
       "      <td>173</td>\n",
       "    </tr>\n",
       "    <tr>\n",
       "      <td>18</td>\n",
       "      <td>31</td>\n",
       "      <td>122</td>\n",
       "    </tr>\n",
       "    <tr>\n",
       "      <td>19</td>\n",
       "      <td>29</td>\n",
       "      <td>124</td>\n",
       "    </tr>\n",
       "    <tr>\n",
       "      <td>20</td>\n",
       "      <td>28</td>\n",
       "      <td>48</td>\n",
       "    </tr>\n",
       "    <tr>\n",
       "      <td>21</td>\n",
       "      <td>27</td>\n",
       "      <td>225</td>\n",
       "    </tr>\n",
       "    <tr>\n",
       "      <td>22</td>\n",
       "      <td>26</td>\n",
       "      <td>159</td>\n",
       "    </tr>\n",
       "    <tr>\n",
       "      <td>23</td>\n",
       "      <td>25</td>\n",
       "      <td>64</td>\n",
       "    </tr>\n",
       "    <tr>\n",
       "      <td>24</td>\n",
       "      <td>23</td>\n",
       "      <td>234</td>\n",
       "    </tr>\n",
       "    <tr>\n",
       "      <td>25</td>\n",
       "      <td>22</td>\n",
       "      <td>171</td>\n",
       "    </tr>\n",
       "    <tr>\n",
       "      <td>26</td>\n",
       "      <td>21</td>\n",
       "      <td>179</td>\n",
       "    </tr>\n",
       "  </tbody>\n",
       "</table>\n",
       "</div>"
      ],
      "text/plain": [
       "    CustomerAge  COUNT(CustomerAge)\n",
       "0            61                  32\n",
       "1            59                  80\n",
       "2            57                  25\n",
       "3            56                 162\n",
       "4            54                 108\n",
       "5            53                  10\n",
       "6            51                   7\n",
       "7            47                  32\n",
       "8            46                  33\n",
       "9            45                  32\n",
       "10           44                 160\n",
       "11           42                  61\n",
       "12           39                  77\n",
       "13           38                  11\n",
       "14           36                 160\n",
       "15           35                 128\n",
       "16           34                  64\n",
       "17           32                 173\n",
       "18           31                 122\n",
       "19           29                 124\n",
       "20           28                  48\n",
       "21           27                 225\n",
       "22           26                 159\n",
       "23           25                  64\n",
       "24           23                 234\n",
       "25           22                 171\n",
       "26           21                 179"
      ]
     },
     "execution_count": 367,
     "metadata": {},
     "output_type": "execute_result"
    }
   ],
   "source": [
    "pd.read_sql_query(\n",
    "    \"SELECT CustomerAge, COUNT(CustomerAge) \\\n",
    "    FROM trans4cust  \\\n",
    "    WHERE DellLaptop = 1 AND HPPrinter = 1\\\n",
    "    GROUP BY CustomerAge \\\n",
    "    ORDER BY CustomerAge DESC\", engine)"
   ]
  },
  {
   "cell_type": "markdown",
   "metadata": {},
   "source": [
    "### Requirement 4 (5 points) - Use SQL/SQLite\n",
    "\n",
    "a) How many customers are in the 25 and under group? <br>\n",
    "b) Of these customers, how many iPods were purchased? How many CallOfDutyGame were purchased? <br>\n",
    "c) How many customers are in the 55 and over group? <br>\n",
    "d) Of these customers, how many iPods were purchased? How many CallOfDutyGame were purchased? <br>"
   ]
  },
  {
   "cell_type": "code",
   "execution_count": 368,
   "metadata": {},
   "outputs": [
    {
     "data": {
      "text/html": [
       "<div>\n",
       "<style scoped>\n",
       "    .dataframe tbody tr th:only-of-type {\n",
       "        vertical-align: middle;\n",
       "    }\n",
       "\n",
       "    .dataframe tbody tr th {\n",
       "        vertical-align: top;\n",
       "    }\n",
       "\n",
       "    .dataframe thead th {\n",
       "        text-align: right;\n",
       "    }\n",
       "</style>\n",
       "<table border=\"1\" class=\"dataframe\">\n",
       "  <thead>\n",
       "    <tr style=\"text-align: right;\">\n",
       "      <th></th>\n",
       "      <th>num_age</th>\n",
       "    </tr>\n",
       "  </thead>\n",
       "  <tbody>\n",
       "    <tr>\n",
       "      <td>0</td>\n",
       "      <td>1504</td>\n",
       "    </tr>\n",
       "  </tbody>\n",
       "</table>\n",
       "</div>"
      ],
      "text/plain": [
       "   num_age\n",
       "0     1504"
      ]
     },
     "execution_count": 368,
     "metadata": {},
     "output_type": "execute_result"
    }
   ],
   "source": [
    "pd.read_sql_query(\n",
    "    \"SELECT COUNT(CustomerAge) as num_age\\\n",
    "    FROM trans4cust  \\\n",
    "    WHERE CustomerAge < 26\", engine)"
   ]
  },
  {
   "cell_type": "markdown",
   "metadata": {},
   "source": [
    "A.) The number of customers in 25 and under group are 1,504."
   ]
  },
  {
   "cell_type": "code",
   "execution_count": 382,
   "metadata": {},
   "outputs": [
    {
     "data": {
      "text/html": [
       "<div>\n",
       "<style scoped>\n",
       "    .dataframe tbody tr th:only-of-type {\n",
       "        vertical-align: middle;\n",
       "    }\n",
       "\n",
       "    .dataframe tbody tr th {\n",
       "        vertical-align: top;\n",
       "    }\n",
       "\n",
       "    .dataframe thead th {\n",
       "        text-align: right;\n",
       "    }\n",
       "</style>\n",
       "<table border=\"1\" class=\"dataframe\">\n",
       "  <thead>\n",
       "    <tr style=\"text-align: right;\">\n",
       "      <th></th>\n",
       "      <th>iPodcount</th>\n",
       "    </tr>\n",
       "  </thead>\n",
       "  <tbody>\n",
       "    <tr>\n",
       "      <td>0</td>\n",
       "      <td>243</td>\n",
       "    </tr>\n",
       "  </tbody>\n",
       "</table>\n",
       "</div>"
      ],
      "text/plain": [
       "   iPodcount\n",
       "0        243"
      ]
     },
     "execution_count": 382,
     "metadata": {},
     "output_type": "execute_result"
    },
    {
     "data": {
      "text/html": [
       "<div>\n",
       "<style scoped>\n",
       "    .dataframe tbody tr th:only-of-type {\n",
       "        vertical-align: middle;\n",
       "    }\n",
       "\n",
       "    .dataframe tbody tr th {\n",
       "        vertical-align: top;\n",
       "    }\n",
       "\n",
       "    .dataframe thead th {\n",
       "        text-align: right;\n",
       "    }\n",
       "</style>\n",
       "<table border=\"1\" class=\"dataframe\">\n",
       "  <thead>\n",
       "    <tr style=\"text-align: right;\">\n",
       "      <th></th>\n",
       "      <th>GameCount</th>\n",
       "    </tr>\n",
       "  </thead>\n",
       "  <tbody>\n",
       "    <tr>\n",
       "      <td>0</td>\n",
       "      <td>1379</td>\n",
       "    </tr>\n",
       "  </tbody>\n",
       "</table>\n",
       "</div>"
      ],
      "text/plain": [
       "   GameCount\n",
       "0       1379"
      ]
     },
     "execution_count": 382,
     "metadata": {},
     "output_type": "execute_result"
    }
   ],
   "source": [
    "pd.read_sql_query(\n",
    "    \"SELECT COUNT (iPod) as iPodcount \\\n",
    "    FROM trans4cust  \\\n",
    "    WHERE CustomerAge < 26 AND (iPod = 1)\", engine)\n",
    "\n",
    "pd.read_sql_query(\n",
    "    \"SELECT COUNT (CallOfDutyGame) as GameCount\\\n",
    "    FROM trans4cust  \\\n",
    "    WHERE CustomerAge < 26 AND (CallOfDutyGame = 1)\", engine)"
   ]
  },
  {
   "cell_type": "markdown",
   "metadata": {},
   "source": [
    "B.) The number customers who purchased iPods were 243, and CallofDutyGame were 1379."
   ]
  },
  {
   "cell_type": "code",
   "execution_count": 370,
   "metadata": {},
   "outputs": [
    {
     "data": {
      "text/html": [
       "<div>\n",
       "<style scoped>\n",
       "    .dataframe tbody tr th:only-of-type {\n",
       "        vertical-align: middle;\n",
       "    }\n",
       "\n",
       "    .dataframe tbody tr th {\n",
       "        vertical-align: top;\n",
       "    }\n",
       "\n",
       "    .dataframe thead th {\n",
       "        text-align: right;\n",
       "    }\n",
       "</style>\n",
       "<table border=\"1\" class=\"dataframe\">\n",
       "  <thead>\n",
       "    <tr style=\"text-align: right;\">\n",
       "      <th></th>\n",
       "      <th>num_age</th>\n",
       "    </tr>\n",
       "  </thead>\n",
       "  <tbody>\n",
       "    <tr>\n",
       "      <td>0</td>\n",
       "      <td>467</td>\n",
       "    </tr>\n",
       "  </tbody>\n",
       "</table>\n",
       "</div>"
      ],
      "text/plain": [
       "   num_age\n",
       "0      467"
      ]
     },
     "execution_count": 370,
     "metadata": {},
     "output_type": "execute_result"
    }
   ],
   "source": [
    "pd.read_sql_query(\n",
    "    \"SELECT COUNT(CustomerAge) as num_age\\\n",
    "    FROM trans4cust  \\\n",
    "    WHERE CustomerAge > 54\", engine)"
   ]
  },
  {
   "cell_type": "markdown",
   "metadata": {},
   "source": [
    "C.) The number of customers in 55 and older are 467."
   ]
  },
  {
   "cell_type": "code",
   "execution_count": 371,
   "metadata": {},
   "outputs": [
    {
     "data": {
      "text/html": [
       "<div>\n",
       "<style scoped>\n",
       "    .dataframe tbody tr th:only-of-type {\n",
       "        vertical-align: middle;\n",
       "    }\n",
       "\n",
       "    .dataframe tbody tr th {\n",
       "        vertical-align: top;\n",
       "    }\n",
       "\n",
       "    .dataframe thead th {\n",
       "        text-align: right;\n",
       "    }\n",
       "</style>\n",
       "<table border=\"1\" class=\"dataframe\">\n",
       "  <thead>\n",
       "    <tr style=\"text-align: right;\">\n",
       "      <th></th>\n",
       "      <th>iPodcount</th>\n",
       "      <th>CallOfDutyGamecount</th>\n",
       "    </tr>\n",
       "  </thead>\n",
       "  <tbody>\n",
       "    <tr>\n",
       "      <td>0</td>\n",
       "      <td>266</td>\n",
       "      <td>305</td>\n",
       "    </tr>\n",
       "  </tbody>\n",
       "</table>\n",
       "</div>"
      ],
      "text/plain": [
       "   iPodcount  CallOfDutyGamecount\n",
       "0        266                  305"
      ]
     },
     "execution_count": 371,
     "metadata": {},
     "output_type": "execute_result"
    }
   ],
   "source": [
    "pd.read_sql_query(\n",
    "    \"SELECT SUM(iPod) as iPodcount, SUM(CallOfDutyGame) as CallOfDutyGamecount \\\n",
    "    FROM trans4cust  \\\n",
    "    WHERE CustomerAge > 54 AND (iPod = 1 OR CallOfDutyGame = 1)\", engine)"
   ]
  },
  {
   "cell_type": "markdown",
   "metadata": {},
   "source": [
    "D.) The number of customer in 55 and older who purchased iPods were 266, and CallofDuty were 305."
   ]
  },
  {
   "cell_type": "markdown",
   "metadata": {},
   "source": [
    "### Requirement 5 (10 points) - Use SQL/SQLite\n",
    " \n",
    "Plot in a stacked-bar figure the number of customers who bought HPLaptop and/or HPPrinter but did NOT buy WDexternalHD for every CustomerAge group that has more than 100 customers who bought these two products(either bought one of these products or the two products but didn't buy WDexternalHD)."
   ]
  },
  {
   "cell_type": "code",
   "execution_count": 372,
   "metadata": {},
   "outputs": [],
   "source": [
    "HPLapCustTrans = pd.read_sql_query(\n",
    "    \"SELECT CustomerAge , COUNT(*) as 'num_customers' \\\n",
    "    FROM trans4cust \\\n",
    "    WHERE HPLaptop=1 AND WDexternalHD = 0 \\\n",
    "    GROUP BY CustomerAge \\\n",
    "    HAVING COUNT(*) > 100\", engine)\n",
    "\n",
    "HPPrintCustTrans = pd.read_sql_query(\n",
    "    \"SELECT CustomerAge , COUNT(*) as 'num_customers'\\\n",
    "    FROM trans4cust \\\n",
    "    WHERE HPPrinter=1 AND WDexternalHD = 0 \\\n",
    "    GROUP BY CustomerAge \\\n",
    "    HAVING COUNT(*) > 100\", engine)\n",
    "\n"
   ]
  },
  {
   "cell_type": "code",
   "execution_count": 373,
   "metadata": {},
   "outputs": [],
   "source": [
    "import numpy\n",
    "\n",
    "#   There are custages that HPLap got bought but not HPPrint\n",
    "#   but there are also custages that HPPrint got bought but not HPLap\n",
    "#\n",
    "#   AND we need to use stacked-bar graph and we have a potentially asymmetrical set  of custages values\n",
    "#   So, we need to do somework to create the symmteric set of custages values for HPLAP and HPPrint\n",
    "\n",
    "\n",
    "HPLapCustTransCustAgeTuples = tuple(HPLapCustTrans.CustomerAge.astype(numpy.int))\n",
    "HPLapCustTranscustomersTuples = tuple(HPLapCustTrans.num_customers.astype(numpy.int))\n",
    "\n",
    "HPPrintCustTransTuples = tuple(HPPrintCustTrans.CustomerAge.astype(numpy.int))\n",
    "HPPrintCustTranscustomersTuples = tuple(HPPrintCustTrans.num_customers.astype(numpy.int))\n",
    "\n",
    "HPLapCustTrans_dict = dict(zip(HPLapCustTransCustAgeTuples, HPLapCustTranscustomersTuples))\n",
    "HPPrintCustTrans_dict = dict(zip(HPPrintCustTransTuples, HPPrintCustTranscustomersTuples))\n",
    "\n",
    "for key in HPPrintCustTrans_dict.keys():\n",
    "    if ((key in HPLapCustTrans_dict.keys()) == False): HPLapCustTrans_dict[key]=0\n",
    "        \n",
    "for key in HPLapCustTrans_dict.keys():\n",
    "    if ((key in HPPrintCustTrans_dict.keys()) == False): HPPrintCustTrans_dict[key]=0\n",
    "        \n",
    "HPPrint_zip = sorted(HPPrintCustTrans_dict.keys())\n",
    "\n",
    "HPLap_zip = sorted(HPLapCustTrans_dict.keys())\n",
    "\n",
    "HPPrint_zip_tuple = tuple(HPPrint_zip)\n",
    "\n",
    "HPLap_zip_tuple = tuple(HPLap_zip)\n",
    "\n",
    "HPPrint_customer_list = []\n",
    "\n",
    "for HP in HPPrint_zip_tuple:\n",
    "    HPPrint_customer_list.append(HPPrintCustTrans_dict[HP])\n",
    "\n",
    "HPLap_customer_list = []\n",
    "\n",
    "for LAP in HPLap_zip_tuple:\n",
    "    HPLap_customer_list.append(HPLapCustTrans_dict[LAP])\n",
    "\n",
    "HPPrint_customer_tuple = tuple(HPPrint_customer_list)\n",
    "HPLap_customer_tuple = tuple(HPLap_customer_list)\n"
   ]
  },
  {
   "cell_type": "code",
   "execution_count": 374,
   "metadata": {},
   "outputs": [
    {
     "data": {
      "text/plain": [
       "Text(0, 0.5, 'Number of Customers')"
      ]
     },
     "execution_count": 374,
     "metadata": {},
     "output_type": "execute_result"
    },
    {
     "data": {
      "text/plain": [
       "Text(0.5, 0, 'CustomerAge')"
      ]
     },
     "execution_count": 374,
     "metadata": {},
     "output_type": "execute_result"
    },
    {
     "data": {
      "text/plain": [
       "Text(0.5, 1.0, 'Number of Customers by CustomerAge and 2 Products')"
      ]
     },
     "execution_count": 374,
     "metadata": {},
     "output_type": "execute_result"
    },
    {
     "data": {
      "text/plain": [
       "([<matplotlib.axis.XTick at 0x12a12fed0>,\n",
       "  <matplotlib.axis.XTick at 0x128ceeb50>,\n",
       "  <matplotlib.axis.XTick at 0x128a00850>,\n",
       "  <matplotlib.axis.XTick at 0x12a5903d0>,\n",
       "  <matplotlib.axis.XTick at 0x12a590890>,\n",
       "  <matplotlib.axis.XTick at 0x12a590e90>,\n",
       "  <matplotlib.axis.XTick at 0x12a5544d0>,\n",
       "  <matplotlib.axis.XTick at 0x12a554b10>,\n",
       "  <matplotlib.axis.XTick at 0x12a5831d0>,\n",
       "  <matplotlib.axis.XTick at 0x12a5837d0>,\n",
       "  <matplotlib.axis.XTick at 0x12a583dd0>,\n",
       "  <matplotlib.axis.XTick at 0x12a558450>,\n",
       "  <matplotlib.axis.XTick at 0x12a583cd0>,\n",
       "  <matplotlib.axis.XTick at 0x12a590790>,\n",
       "  <matplotlib.axis.XTick at 0x12a5589d0>,\n",
       "  <matplotlib.axis.XTick at 0x12a558090>,\n",
       "  <matplotlib.axis.XTick at 0x12a578650>],\n",
       " <a list of 17 Text xticklabel objects>)"
      ]
     },
     "execution_count": 374,
     "metadata": {},
     "output_type": "execute_result"
    },
    {
     "data": {
      "text/plain": [
       "([<matplotlib.axis.YTick at 0x128a20950>,\n",
       "  <matplotlib.axis.YTick at 0x12a130710>,\n",
       "  <matplotlib.axis.YTick at 0x128a20cd0>,\n",
       "  <matplotlib.axis.YTick at 0x12a55cfd0>,\n",
       "  <matplotlib.axis.YTick at 0x128b11350>,\n",
       "  <matplotlib.axis.YTick at 0x128b11850>,\n",
       "  <matplotlib.axis.YTick at 0x128b11e90>,\n",
       "  <matplotlib.axis.YTick at 0x128b117d0>,\n",
       "  <matplotlib.axis.YTick at 0x12a578c10>,\n",
       "  <matplotlib.axis.YTick at 0x128b33410>,\n",
       "  <matplotlib.axis.YTick at 0x128b33990>,\n",
       "  <matplotlib.axis.YTick at 0x128b33a90>,\n",
       "  <matplotlib.axis.YTick at 0x128b46650>,\n",
       "  <matplotlib.axis.YTick at 0x128b46c90>,\n",
       "  <matplotlib.axis.YTick at 0x128b0c310>,\n",
       "  <matplotlib.axis.YTick at 0x128b0c950>,\n",
       "  <matplotlib.axis.YTick at 0x128b0c810>,\n",
       "  <matplotlib.axis.YTick at 0x128b46550>,\n",
       "  <matplotlib.axis.YTick at 0x12a578a50>,\n",
       "  <matplotlib.axis.YTick at 0x128b2b590>],\n",
       " <a list of 20 Text yticklabel objects>)"
      ]
     },
     "execution_count": 374,
     "metadata": {},
     "output_type": "execute_result"
    },
    {
     "data": {
      "text/plain": [
       "<matplotlib.legend.Legend at 0x128b2b8d0>"
      ]
     },
     "execution_count": 374,
     "metadata": {},
     "output_type": "execute_result"
    },
    {
     "data": {
      "image/png": "[encoded data removed]",
      "text/plain": [
       "<Figure size 432x288 with 1 Axes>"
      ]
     },
     "metadata": {
      "needs_background": "light"
     },
     "output_type": "display_data"
    }
   ],
   "source": [
    "# See docs for bar_stack at the URL\n",
    "# http://matplotlib.org/examples/pylab_examples/bar_stacked.html\n",
    "\n",
    "import numpy as np\n",
    "import matplotlib.pyplot as plt\n",
    "\n",
    "%matplotlib inline \n",
    "\n",
    "ind = np.arange(len(HPLap_customer_tuple))    \n",
    "\n",
    "# the width of the bars: can also be len(x) sequence\n",
    "width = .5\n",
    "\n",
    "p1 = plt.bar(ind,HPLap_customer_tuple , width,  color='r')\n",
    "p2 = plt.bar(ind, HPPrint_customer_tuple, width, color='y', bottom=HPLap_customer_tuple)\n",
    "\n",
    "plt.ylabel('Number of Customers')\n",
    "plt.xlabel('CustomerAge')\n",
    "\n",
    "plt.title('Number of Customers by CustomerAge and 2 Products')\n",
    "\n",
    "plt.xticks(ind + width,HPLap_customer_tuple , horizontalalignment='right')\n",
    "\n",
    "plt.yticks(np.arange(0, 2000, 100))\n",
    "plt.legend((p1[0], p2[0]), ('HPLaptop', 'HPPrinter'))\n",
    "\n",
    "plt.show()"
   ]
  }
 ],
 "metadata": {
  "kernelspec": {
   "display_name": "Python 3",
   "language": "python",
   "name": "python3"
  },
  "language_info": {
   "codemirror_mode": {
    "name": "ipython",
    "version": 3
   },
   "file_extension": ".py",
   "mimetype": "text/x-python",
   "name": "python",
   "nbconvert_exporter": "python",
   "pygments_lexer": "ipython3",
   "version": "3.7.4"
  }
 },
 "nbformat": 4,
 "nbformat_minor": 1
}
