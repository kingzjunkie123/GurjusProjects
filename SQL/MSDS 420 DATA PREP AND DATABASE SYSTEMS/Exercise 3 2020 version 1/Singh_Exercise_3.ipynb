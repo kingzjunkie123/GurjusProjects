{
 "cells": [
  {
   "cell_type": "markdown",
   "metadata": {},
   "source": [
    "# Deliverables:\n",
    "\n",
    "- Submit two files that have the name: <font color = 'red'>YourLastName_Exercise_3</font> that include the following files:\n",
    "\n",
    " 1. An **HTML file** that has your Source code and output\n",
    " 2. Your **ipynb script** that has your Source code and output\n",
    "\n",
    "\n",
    "# Objectives:\n",
    "\n",
    "In this exercise, you will:\n",
    "\n",
    " - Perform data analysis tasks on data read from a CSV file and loaded into a DataFrame object\n",
    " - Use sqlalchemy to load data stored in a DatFrame object into sqlite database engine\n",
    " - Use sqlalchemy to connect to sqlite database engine to execute  SQL  queries\n",
    "\n",
    "\n",
    "Formatting Python Code\n",
    "When programming in Python, refer to Kenneth Reitz’ PEP 8: The Style Guide for Python Code:\n",
    "http://pep8.org/ (Links to an external site.)Links to an external site.\n",
    "There is the Google style guide for Python at\n",
    "https://google.github.io/styleguide/pyguide.html (Links to an external site.)Links to an external site.\n",
    "Comment often and in detail.\n"
   ]
  },
  {
   "cell_type": "code",
   "execution_count": 1,
   "metadata": {},
   "outputs": [],
   "source": [
    "# import libraries\n",
    "import os\n",
    "import pandas as pd \n",
    "import numpy as np  \n"
   ]
  },
  {
   "cell_type": "code",
   "execution_count": 2,
   "metadata": {},
   "outputs": [],
   "source": [
    "# allow muliple output in one cell window\n",
    "from IPython.core.interactiveshell import InteractiveShell\n",
    "InteractiveShell.ast_node_interactivity = \"all\""
   ]
  },
  {
   "cell_type": "code",
   "execution_count": 3,
   "metadata": {},
   "outputs": [
    {
     "data": {
      "text/plain": [
       "ACCTNO                    object\n",
       "ZIP                        int64\n",
       "ZIP4                       int64\n",
       "LTD_SALES                float64\n",
       "LTD_TRANSACTIONS           int64\n",
       "YTD_SALES_2009           float64\n",
       "YTD_TRANSACTIONS_2009      int64\n",
       "CHANNEL_ACQUISITION       object\n",
       "BUYER_STATUS              object\n",
       "ZIP9_Supercode             int64\n",
       "ZIP9_SUPERCODE             int64\n",
       "dtype: object"
      ]
     },
     "execution_count": 3,
     "metadata": {},
     "output_type": "execute_result"
    }
   ],
   "source": [
    "# read in the file\n",
    "xyzcust10 = pd.read_csv('xyzcust10.csv')\n",
    "\n",
    "# what are the data types\n",
    "(xyzcust10).dtypes"
   ]
  },
  {
   "cell_type": "code",
   "execution_count": 4,
   "metadata": {},
   "outputs": [
    {
     "name": "stdout",
     "output_type": "stream",
     "text": [
      "<class 'pandas.core.frame.DataFrame'>\n",
      "RangeIndex: 30471 entries, 0 to 30470\n",
      "Data columns (total 11 columns):\n",
      "ACCTNO                   30471 non-null object\n",
      "ZIP                      30471 non-null int64\n",
      "ZIP4                     30471 non-null int64\n",
      "LTD_SALES                30471 non-null float64\n",
      "LTD_TRANSACTIONS         30471 non-null int64\n",
      "YTD_SALES_2009           30471 non-null float64\n",
      "YTD_TRANSACTIONS_2009    30471 non-null int64\n",
      "CHANNEL_ACQUISITION      30471 non-null object\n",
      "BUYER_STATUS             30471 non-null object\n",
      "ZIP9_Supercode           30471 non-null int64\n",
      "ZIP9_SUPERCODE           30471 non-null int64\n",
      "dtypes: float64(2), int64(6), object(3)\n",
      "memory usage: 2.6+ MB\n"
     ]
    }
   ],
   "source": [
    "# info compared to dtypes\n",
    "xyzcust10.info()"
   ]
  },
  {
   "cell_type": "code",
   "execution_count": 5,
   "metadata": {},
   "outputs": [
    {
     "data": {
      "text/plain": [
       "4356156240"
      ]
     },
     "execution_count": 5,
     "metadata": {},
     "output_type": "execute_result"
    },
    {
     "data": {
      "text/plain": [
       "4356156240"
      ]
     },
     "execution_count": 5,
     "metadata": {},
     "output_type": "execute_result"
    }
   ],
   "source": [
    "# all objects in python are given a unique id\n",
    "id(xyzcust10)\n",
    "\n",
    "# in this case the object 'test' is the same as object 'xyzcust10'\n",
    "# a change to either one changes both\n",
    "test = xyzcust10\n",
    "id(test)"
   ]
  },
  {
   "cell_type": "code",
   "execution_count": 6,
   "metadata": {},
   "outputs": [
    {
     "name": "stdout",
     "output_type": "stream",
     "text": [
      "<class 'pandas.core.frame.DataFrame'>\n",
      "RangeIndex: 30471 entries, 0 to 30470\n",
      "Data columns (total 12 columns):\n",
      "ACCTNO                   30471 non-null object\n",
      "ZIP                      30471 non-null int64\n",
      "ZIP4                     30471 non-null int64\n",
      "LTD_SALES                30471 non-null float64\n",
      "LTD_TRANSACTIONS         30471 non-null int64\n",
      "YTD_SALES_2009           30471 non-null float64\n",
      "YTD_TRANSACTIONS_2009    30471 non-null int64\n",
      "CHANNEL_ACQUISITION      30471 non-null object\n",
      "BUYER_STATUS             30471 non-null object\n",
      "ZIP9_Supercode           30471 non-null int64\n",
      "ZIP9_SUPERCODE           30471 non-null int64\n",
      "test                     30471 non-null float64\n",
      "dtypes: float64(3), int64(6), object(3)\n",
      "memory usage: 2.8+ MB\n",
      "<class 'pandas.core.frame.DataFrame'>\n",
      "RangeIndex: 30471 entries, 0 to 30470\n",
      "Data columns (total 12 columns):\n",
      "ACCTNO                   30471 non-null object\n",
      "ZIP                      30471 non-null int64\n",
      "ZIP4                     30471 non-null int64\n",
      "LTD_SALES                30471 non-null float64\n",
      "LTD_TRANSACTIONS         30471 non-null int64\n",
      "YTD_SALES_2009           30471 non-null float64\n",
      "YTD_TRANSACTIONS_2009    30471 non-null int64\n",
      "CHANNEL_ACQUISITION      30471 non-null object\n",
      "BUYER_STATUS             30471 non-null object\n",
      "ZIP9_Supercode           30471 non-null int64\n",
      "ZIP9_SUPERCODE           30471 non-null int64\n",
      "test                     30471 non-null float64\n",
      "dtypes: float64(3), int64(6), object(3)\n",
      "memory usage: 2.8+ MB\n"
     ]
    }
   ],
   "source": [
    "# want to see if these two objects are the same?\n",
    "# we added a column to test dataframe and it also added to xyzcust10!!!!\n",
    "# that is becuase they are the same object\n",
    "test['test'] = test['LTD_SALES']/test['LTD_TRANSACTIONS']\n",
    "test.info()\n",
    "xyzcust10.info()"
   ]
  },
  {
   "cell_type": "code",
   "execution_count": 7,
   "metadata": {},
   "outputs": [
    {
     "data": {
      "text/plain": [
       "4356156240"
      ]
     },
     "execution_count": 7,
     "metadata": {},
     "output_type": "execute_result"
    },
    {
     "data": {
      "text/plain": [
       "4380787856"
      ]
     },
     "execution_count": 7,
     "metadata": {},
     "output_type": "execute_result"
    },
    {
     "data": {
      "text/plain": [
       "4370329936"
      ]
     },
     "execution_count": 7,
     "metadata": {},
     "output_type": "execute_result"
    }
   ],
   "source": [
    "# make a copy and get differnt object ids\n",
    "# now you can independently manipulate each copy and leave the original intact\n",
    "xyzcust10red = xyzcust10.copy() \n",
    "\n",
    "xyzcust10rev1 = xyzcust10.copy() \n",
    "\n",
    "id(xyzcust10)\n",
    "id(xyzcust10red)\n",
    "id(xyzcust10rev1)"
   ]
  },
  {
   "cell_type": "code",
   "execution_count": 8,
   "metadata": {},
   "outputs": [
    {
     "data": {
      "text/plain": [
       "pandas.core.frame.DataFrame"
      ]
     },
     "execution_count": 8,
     "metadata": {},
     "output_type": "execute_result"
    }
   ],
   "source": [
    "# working with a Pandas DataFrame\n",
    "type(xyzcust10)"
   ]
  },
  {
   "cell_type": "code",
   "execution_count": 9,
   "metadata": {},
   "outputs": [
    {
     "data": {
      "text/html": [
       "<div>\n",
       "<style scoped>\n",
       "    .dataframe tbody tr th:only-of-type {\n",
       "        vertical-align: middle;\n",
       "    }\n",
       "\n",
       "    .dataframe tbody tr th {\n",
       "        vertical-align: top;\n",
       "    }\n",
       "\n",
       "    .dataframe thead th {\n",
       "        text-align: right;\n",
       "    }\n",
       "</style>\n",
       "<table border=\"1\" class=\"dataframe\">\n",
       "  <thead>\n",
       "    <tr style=\"text-align: right;\">\n",
       "      <th></th>\n",
       "      <th>ACCTNO</th>\n",
       "      <th>ZIP</th>\n",
       "      <th>ZIP4</th>\n",
       "      <th>LTD_SALES</th>\n",
       "      <th>LTD_TRANSACTIONS</th>\n",
       "      <th>YTD_SALES_2009</th>\n",
       "      <th>YTD_TRANSACTIONS_2009</th>\n",
       "      <th>CHANNEL_ACQUISITION</th>\n",
       "      <th>BUYER_STATUS</th>\n",
       "      <th>ZIP9_Supercode</th>\n",
       "      <th>ZIP9_SUPERCODE</th>\n",
       "      <th>test</th>\n",
       "    </tr>\n",
       "  </thead>\n",
       "  <tbody>\n",
       "    <tr>\n",
       "      <td>0</td>\n",
       "      <td>WDQQLLDQL</td>\n",
       "      <td>60084</td>\n",
       "      <td>5016</td>\n",
       "      <td>90.0</td>\n",
       "      <td>1</td>\n",
       "      <td>0.0</td>\n",
       "      <td>0</td>\n",
       "      <td>IB</td>\n",
       "      <td>INACTIVE</td>\n",
       "      <td>600845016</td>\n",
       "      <td>600845016</td>\n",
       "      <td>90.000000</td>\n",
       "    </tr>\n",
       "    <tr>\n",
       "      <td>1</td>\n",
       "      <td>WQWAYHYLA</td>\n",
       "      <td>60091</td>\n",
       "      <td>1750</td>\n",
       "      <td>4227.0</td>\n",
       "      <td>9</td>\n",
       "      <td>1263.0</td>\n",
       "      <td>3</td>\n",
       "      <td>RT</td>\n",
       "      <td>ACTIVE</td>\n",
       "      <td>600911750</td>\n",
       "      <td>600911750</td>\n",
       "      <td>469.666667</td>\n",
       "    </tr>\n",
       "    <tr>\n",
       "      <td>2</td>\n",
       "      <td>GSHAPLHAW</td>\n",
       "      <td>60067</td>\n",
       "      <td>900</td>\n",
       "      <td>420.0</td>\n",
       "      <td>3</td>\n",
       "      <td>129.0</td>\n",
       "      <td>1</td>\n",
       "      <td>RT</td>\n",
       "      <td>ACTIVE</td>\n",
       "      <td>600670900</td>\n",
       "      <td>600670900</td>\n",
       "      <td>140.000000</td>\n",
       "    </tr>\n",
       "    <tr>\n",
       "      <td>3</td>\n",
       "      <td>PGGYDYWAD</td>\n",
       "      <td>60068</td>\n",
       "      <td>3838</td>\n",
       "      <td>6552.0</td>\n",
       "      <td>6</td>\n",
       "      <td>0.0</td>\n",
       "      <td>0</td>\n",
       "      <td>RT</td>\n",
       "      <td>INACTIVE</td>\n",
       "      <td>600683838</td>\n",
       "      <td>600683838</td>\n",
       "      <td>1092.000000</td>\n",
       "    </tr>\n",
       "    <tr>\n",
       "      <td>4</td>\n",
       "      <td>LWPSGPLLS</td>\n",
       "      <td>60090</td>\n",
       "      <td>3932</td>\n",
       "      <td>189.0</td>\n",
       "      <td>3</td>\n",
       "      <td>72.0</td>\n",
       "      <td>1</td>\n",
       "      <td>RT</td>\n",
       "      <td>ACTIVE</td>\n",
       "      <td>600903932</td>\n",
       "      <td>600903932</td>\n",
       "      <td>63.000000</td>\n",
       "    </tr>\n",
       "  </tbody>\n",
       "</table>\n",
       "</div>"
      ],
      "text/plain": [
       "      ACCTNO    ZIP  ZIP4  LTD_SALES  LTD_TRANSACTIONS  YTD_SALES_2009  \\\n",
       "0  WDQQLLDQL  60084  5016       90.0                 1             0.0   \n",
       "1  WQWAYHYLA  60091  1750     4227.0                 9          1263.0   \n",
       "2  GSHAPLHAW  60067   900      420.0                 3           129.0   \n",
       "3  PGGYDYWAD  60068  3838     6552.0                 6             0.0   \n",
       "4  LWPSGPLLS  60090  3932      189.0                 3            72.0   \n",
       "\n",
       "   YTD_TRANSACTIONS_2009 CHANNEL_ACQUISITION BUYER_STATUS  ZIP9_Supercode  \\\n",
       "0                      0                  IB     INACTIVE       600845016   \n",
       "1                      3                  RT       ACTIVE       600911750   \n",
       "2                      1                  RT       ACTIVE       600670900   \n",
       "3                      0                  RT     INACTIVE       600683838   \n",
       "4                      1                  RT       ACTIVE       600903932   \n",
       "\n",
       "   ZIP9_SUPERCODE         test  \n",
       "0       600845016    90.000000  \n",
       "1       600911750   469.666667  \n",
       "2       600670900   140.000000  \n",
       "3       600683838  1092.000000  \n",
       "4       600903932    63.000000  "
      ]
     },
     "execution_count": 9,
     "metadata": {},
     "output_type": "execute_result"
    },
    {
     "data": {
      "text/html": [
       "<div>\n",
       "<style scoped>\n",
       "    .dataframe tbody tr th:only-of-type {\n",
       "        vertical-align: middle;\n",
       "    }\n",
       "\n",
       "    .dataframe tbody tr th {\n",
       "        vertical-align: top;\n",
       "    }\n",
       "\n",
       "    .dataframe thead th {\n",
       "        text-align: right;\n",
       "    }\n",
       "</style>\n",
       "<table border=\"1\" class=\"dataframe\">\n",
       "  <thead>\n",
       "    <tr style=\"text-align: right;\">\n",
       "      <th></th>\n",
       "      <th>ACCTNO</th>\n",
       "      <th>ZIP</th>\n",
       "      <th>ZIP4</th>\n",
       "      <th>LTD_SALES</th>\n",
       "      <th>LTD_TRANSACTIONS</th>\n",
       "      <th>YTD_SALES_2009</th>\n",
       "      <th>YTD_TRANSACTIONS_2009</th>\n",
       "      <th>CHANNEL_ACQUISITION</th>\n",
       "      <th>BUYER_STATUS</th>\n",
       "      <th>ZIP9_Supercode</th>\n",
       "      <th>ZIP9_SUPERCODE</th>\n",
       "      <th>test</th>\n",
       "    </tr>\n",
       "  </thead>\n",
       "  <tbody>\n",
       "    <tr>\n",
       "      <td>30466</td>\n",
       "      <td>SYDQYLSWH</td>\n",
       "      <td>60098</td>\n",
       "      <td>3951</td>\n",
       "      <td>2736.0</td>\n",
       "      <td>9</td>\n",
       "      <td>96.0</td>\n",
       "      <td>1</td>\n",
       "      <td>RT</td>\n",
       "      <td>ACTIVE</td>\n",
       "      <td>600983951</td>\n",
       "      <td>600983951</td>\n",
       "      <td>304.0000</td>\n",
       "    </tr>\n",
       "    <tr>\n",
       "      <td>30467</td>\n",
       "      <td>SAPDQHQLP</td>\n",
       "      <td>60098</td>\n",
       "      <td>9681</td>\n",
       "      <td>2412.0</td>\n",
       "      <td>8</td>\n",
       "      <td>108.0</td>\n",
       "      <td>1</td>\n",
       "      <td>RT</td>\n",
       "      <td>ACTIVE</td>\n",
       "      <td>600989681</td>\n",
       "      <td>600989681</td>\n",
       "      <td>301.5000</td>\n",
       "    </tr>\n",
       "    <tr>\n",
       "      <td>30468</td>\n",
       "      <td>SASYAPDSY</td>\n",
       "      <td>60098</td>\n",
       "      <td>0</td>\n",
       "      <td>429.0</td>\n",
       "      <td>1</td>\n",
       "      <td>0.0</td>\n",
       "      <td>0</td>\n",
       "      <td>RT</td>\n",
       "      <td>INACTIVE</td>\n",
       "      <td>600983858</td>\n",
       "      <td>600983858</td>\n",
       "      <td>429.0000</td>\n",
       "    </tr>\n",
       "    <tr>\n",
       "      <td>30469</td>\n",
       "      <td>PWQPDWHA</td>\n",
       "      <td>60098</td>\n",
       "      <td>7927</td>\n",
       "      <td>651.0</td>\n",
       "      <td>1</td>\n",
       "      <td>0.0</td>\n",
       "      <td>0</td>\n",
       "      <td>RT</td>\n",
       "      <td>INACTIVE</td>\n",
       "      <td>600987927</td>\n",
       "      <td>600987927</td>\n",
       "      <td>651.0000</td>\n",
       "    </tr>\n",
       "    <tr>\n",
       "      <td>30470</td>\n",
       "      <td>SQQHDYHWH</td>\n",
       "      <td>60098</td>\n",
       "      <td>4160</td>\n",
       "      <td>4527.0</td>\n",
       "      <td>16</td>\n",
       "      <td>672.0</td>\n",
       "      <td>2</td>\n",
       "      <td>RT</td>\n",
       "      <td>ACTIVE</td>\n",
       "      <td>600984160</td>\n",
       "      <td>600984160</td>\n",
       "      <td>282.9375</td>\n",
       "    </tr>\n",
       "  </tbody>\n",
       "</table>\n",
       "</div>"
      ],
      "text/plain": [
       "          ACCTNO    ZIP  ZIP4  LTD_SALES  LTD_TRANSACTIONS  YTD_SALES_2009  \\\n",
       "30466  SYDQYLSWH  60098  3951     2736.0                 9            96.0   \n",
       "30467  SAPDQHQLP  60098  9681     2412.0                 8           108.0   \n",
       "30468  SASYAPDSY  60098     0      429.0                 1             0.0   \n",
       "30469   PWQPDWHA  60098  7927      651.0                 1             0.0   \n",
       "30470  SQQHDYHWH  60098  4160     4527.0                16           672.0   \n",
       "\n",
       "       YTD_TRANSACTIONS_2009 CHANNEL_ACQUISITION BUYER_STATUS  ZIP9_Supercode  \\\n",
       "30466                      1                  RT       ACTIVE       600983951   \n",
       "30467                      1                  RT       ACTIVE       600989681   \n",
       "30468                      0                  RT     INACTIVE       600983858   \n",
       "30469                      0                  RT     INACTIVE       600987927   \n",
       "30470                      2                  RT       ACTIVE       600984160   \n",
       "\n",
       "       ZIP9_SUPERCODE      test  \n",
       "30466       600983951  304.0000  \n",
       "30467       600989681  301.5000  \n",
       "30468       600983858  429.0000  \n",
       "30469       600987927  651.0000  \n",
       "30470       600984160  282.9375  "
      ]
     },
     "execution_count": 9,
     "metadata": {},
     "output_type": "execute_result"
    }
   ],
   "source": [
    "# check out the first five records\n",
    "xyzcust10.head()\n",
    "\n",
    "# check out the last five records\n",
    "xyzcust10.tail()"
   ]
  },
  {
   "cell_type": "markdown",
   "metadata": {},
   "source": [
    "xyzcust10 appears to have two nine-digit ZIP “supercode” columns with slightly different column labels or names.  To see them, try entering xyzcust10.columns or xyzcust10.dtypes at the command prompt.  Are the values in these two columns the same?  If so, we can get rid of one of them.  There are different ways we can figure out whether they are the same, but a simple way is to test each pair of values to see if they are equal or not.\n"
   ]
  },
  {
   "cell_type": "code",
   "execution_count": 11,
   "metadata": {},
   "outputs": [
    {
     "data": {
      "text/plain": [
       "Index(['ACCTNO', 'ZIP', 'ZIP4', 'LTD_SALES', 'LTD_TRANSACTIONS',\n",
       "       'YTD_SALES_2009', 'YTD_TRANSACTIONS_2009', 'CHANNEL_ACQUISITION',\n",
       "       'BUYER_STATUS', 'ZIP9_Supercode', 'ZIP9_SUPERCODE', 'test'],\n",
       "      dtype='object')"
      ]
     },
     "execution_count": 11,
     "metadata": {},
     "output_type": "execute_result"
    },
    {
     "data": {
      "text/plain": [
       "list"
      ]
     },
     "execution_count": 11,
     "metadata": {},
     "output_type": "execute_result"
    },
    {
     "data": {
      "text/plain": [
       "['ACCTNO',\n",
       " 'ZIP',\n",
       " 'ZIP4',\n",
       " 'LTD_SALES',\n",
       " 'LTD_TRANSACTIONS',\n",
       " 'YTD_SALES_2009',\n",
       " 'YTD_TRANSACTIONS_2009',\n",
       " 'CHANNEL_ACQUISITION',\n",
       " 'BUYER_STATUS',\n",
       " 'ZIP9_Supercode',\n",
       " 'ZIP9_SUPERCODE',\n",
       " 'test']"
      ]
     },
     "execution_count": 11,
     "metadata": {},
     "output_type": "execute_result"
    }
   ],
   "source": [
    "# check out the columns\n",
    "xyzcust10.columns\n",
    "\n",
    "# can put columns in a list - may come in handy sometime\n",
    "col_list = list(xyzcust10.columns)\n",
    "type(col_list)\n",
    "col_list"
   ]
  },
  {
   "cell_type": "code",
   "execution_count": 12,
   "metadata": {},
   "outputs": [
    {
     "data": {
      "text/plain": [
       "0"
      ]
     },
     "execution_count": 12,
     "metadata": {},
     "output_type": "execute_result"
    }
   ],
   "source": [
    "# are the two zip code columns exactly the same\n",
    "# logical comparison\n",
    "(xyzcust10.ZIP9_Supercode != xyzcust10.ZIP9_SUPERCODE).sum()"
   ]
  },
  {
   "cell_type": "markdown",
   "metadata": {},
   "source": [
    "So, Oops!  Someone included the same column in the data twice, but with slightly different names. Why waste the space?  Why risk confusion?  Let's get rid of one of them:\n",
    "\n",
    "We could do:\n"
   ]
  },
  {
   "cell_type": "code",
   "execution_count": 13,
   "metadata": {},
   "outputs": [],
   "source": [
    "# deletes the series in-place. Can only operate on one item at a time\n",
    "del xyzcust10['ZIP9_Supercode']\n",
    "del xyzcust10['test']\n",
    "\n",
    "del xyzcust10rev1['ZIP9_Supercode']\n",
    "del xyzcust10rev1['test']"
   ]
  },
  {
   "cell_type": "markdown",
   "metadata": {},
   "source": [
    "or"
   ]
  },
  {
   "cell_type": "code",
   "execution_count": 16,
   "metadata": {},
   "outputs": [
    {
     "ename": "KeyError",
     "evalue": "\"['ZIP9_Supercode' 'test'] not found in axis\"",
     "output_type": "error",
     "traceback": [
      "\u001b[0;31m---------------------------------------------------------------------------\u001b[0m",
      "\u001b[0;31mKeyError\u001b[0m                                  Traceback (most recent call last)",
      "\u001b[0;32m<ipython-input-16-13a99cdd622d>\u001b[0m in \u001b[0;36m<module>\u001b[0;34m\u001b[0m\n\u001b[1;32m      1\u001b[0m \u001b[0;31m# Pandas drop command\u001b[0m\u001b[0;34m\u001b[0m\u001b[0;34m\u001b[0m\u001b[0;34m\u001b[0m\u001b[0m\n\u001b[0;32m----> 2\u001b[0;31m \u001b[0mxyzcust10red\u001b[0m\u001b[0;34m.\u001b[0m\u001b[0mdrop\u001b[0m\u001b[0;34m(\u001b[0m\u001b[0;34m[\u001b[0m\u001b[0;34m'ZIP9_Supercode'\u001b[0m\u001b[0;34m,\u001b[0m\u001b[0;34m'test'\u001b[0m\u001b[0;34m]\u001b[0m\u001b[0;34m,\u001b[0m \u001b[0maxis\u001b[0m\u001b[0;34m=\u001b[0m\u001b[0;36m1\u001b[0m\u001b[0;34m,\u001b[0m \u001b[0minplace\u001b[0m\u001b[0;34m=\u001b[0m\u001b[0;32mTrue\u001b[0m\u001b[0;34m)\u001b[0m\u001b[0;34m\u001b[0m\u001b[0;34m\u001b[0m\u001b[0m\n\u001b[0m\u001b[1;32m      3\u001b[0m \u001b[0mxyzcust10red\u001b[0m\u001b[0;34m.\u001b[0m\u001b[0minfo\u001b[0m\u001b[0;34m(\u001b[0m\u001b[0;34m)\u001b[0m\u001b[0;34m\u001b[0m\u001b[0;34m\u001b[0m\u001b[0m\n",
      "\u001b[0;32m/opt/anaconda3/lib/python3.7/site-packages/pandas/core/frame.py\u001b[0m in \u001b[0;36mdrop\u001b[0;34m(self, labels, axis, index, columns, level, inplace, errors)\u001b[0m\n\u001b[1;32m   4100\u001b[0m             \u001b[0mlevel\u001b[0m\u001b[0;34m=\u001b[0m\u001b[0mlevel\u001b[0m\u001b[0;34m,\u001b[0m\u001b[0;34m\u001b[0m\u001b[0;34m\u001b[0m\u001b[0m\n\u001b[1;32m   4101\u001b[0m             \u001b[0minplace\u001b[0m\u001b[0;34m=\u001b[0m\u001b[0minplace\u001b[0m\u001b[0;34m,\u001b[0m\u001b[0;34m\u001b[0m\u001b[0;34m\u001b[0m\u001b[0m\n\u001b[0;32m-> 4102\u001b[0;31m             \u001b[0merrors\u001b[0m\u001b[0;34m=\u001b[0m\u001b[0merrors\u001b[0m\u001b[0;34m,\u001b[0m\u001b[0;34m\u001b[0m\u001b[0;34m\u001b[0m\u001b[0m\n\u001b[0m\u001b[1;32m   4103\u001b[0m         )\n\u001b[1;32m   4104\u001b[0m \u001b[0;34m\u001b[0m\u001b[0m\n",
      "\u001b[0;32m/opt/anaconda3/lib/python3.7/site-packages/pandas/core/generic.py\u001b[0m in \u001b[0;36mdrop\u001b[0;34m(self, labels, axis, index, columns, level, inplace, errors)\u001b[0m\n\u001b[1;32m   3912\u001b[0m         \u001b[0;32mfor\u001b[0m \u001b[0maxis\u001b[0m\u001b[0;34m,\u001b[0m \u001b[0mlabels\u001b[0m \u001b[0;32min\u001b[0m \u001b[0maxes\u001b[0m\u001b[0;34m.\u001b[0m\u001b[0mitems\u001b[0m\u001b[0;34m(\u001b[0m\u001b[0;34m)\u001b[0m\u001b[0;34m:\u001b[0m\u001b[0;34m\u001b[0m\u001b[0;34m\u001b[0m\u001b[0m\n\u001b[1;32m   3913\u001b[0m             \u001b[0;32mif\u001b[0m \u001b[0mlabels\u001b[0m \u001b[0;32mis\u001b[0m \u001b[0;32mnot\u001b[0m \u001b[0;32mNone\u001b[0m\u001b[0;34m:\u001b[0m\u001b[0;34m\u001b[0m\u001b[0;34m\u001b[0m\u001b[0m\n\u001b[0;32m-> 3914\u001b[0;31m                 \u001b[0mobj\u001b[0m \u001b[0;34m=\u001b[0m \u001b[0mobj\u001b[0m\u001b[0;34m.\u001b[0m\u001b[0m_drop_axis\u001b[0m\u001b[0;34m(\u001b[0m\u001b[0mlabels\u001b[0m\u001b[0;34m,\u001b[0m \u001b[0maxis\u001b[0m\u001b[0;34m,\u001b[0m \u001b[0mlevel\u001b[0m\u001b[0;34m=\u001b[0m\u001b[0mlevel\u001b[0m\u001b[0;34m,\u001b[0m \u001b[0merrors\u001b[0m\u001b[0;34m=\u001b[0m\u001b[0merrors\u001b[0m\u001b[0;34m)\u001b[0m\u001b[0;34m\u001b[0m\u001b[0;34m\u001b[0m\u001b[0m\n\u001b[0m\u001b[1;32m   3915\u001b[0m \u001b[0;34m\u001b[0m\u001b[0m\n\u001b[1;32m   3916\u001b[0m         \u001b[0;32mif\u001b[0m \u001b[0minplace\u001b[0m\u001b[0;34m:\u001b[0m\u001b[0;34m\u001b[0m\u001b[0;34m\u001b[0m\u001b[0m\n",
      "\u001b[0;32m/opt/anaconda3/lib/python3.7/site-packages/pandas/core/generic.py\u001b[0m in \u001b[0;36m_drop_axis\u001b[0;34m(self, labels, axis, level, errors)\u001b[0m\n\u001b[1;32m   3944\u001b[0m                 \u001b[0mnew_axis\u001b[0m \u001b[0;34m=\u001b[0m \u001b[0maxis\u001b[0m\u001b[0;34m.\u001b[0m\u001b[0mdrop\u001b[0m\u001b[0;34m(\u001b[0m\u001b[0mlabels\u001b[0m\u001b[0;34m,\u001b[0m \u001b[0mlevel\u001b[0m\u001b[0;34m=\u001b[0m\u001b[0mlevel\u001b[0m\u001b[0;34m,\u001b[0m \u001b[0merrors\u001b[0m\u001b[0;34m=\u001b[0m\u001b[0merrors\u001b[0m\u001b[0;34m)\u001b[0m\u001b[0;34m\u001b[0m\u001b[0;34m\u001b[0m\u001b[0m\n\u001b[1;32m   3945\u001b[0m             \u001b[0;32melse\u001b[0m\u001b[0;34m:\u001b[0m\u001b[0;34m\u001b[0m\u001b[0;34m\u001b[0m\u001b[0m\n\u001b[0;32m-> 3946\u001b[0;31m                 \u001b[0mnew_axis\u001b[0m \u001b[0;34m=\u001b[0m \u001b[0maxis\u001b[0m\u001b[0;34m.\u001b[0m\u001b[0mdrop\u001b[0m\u001b[0;34m(\u001b[0m\u001b[0mlabels\u001b[0m\u001b[0;34m,\u001b[0m \u001b[0merrors\u001b[0m\u001b[0;34m=\u001b[0m\u001b[0merrors\u001b[0m\u001b[0;34m)\u001b[0m\u001b[0;34m\u001b[0m\u001b[0;34m\u001b[0m\u001b[0m\n\u001b[0m\u001b[1;32m   3947\u001b[0m             \u001b[0mresult\u001b[0m \u001b[0;34m=\u001b[0m \u001b[0mself\u001b[0m\u001b[0;34m.\u001b[0m\u001b[0mreindex\u001b[0m\u001b[0;34m(\u001b[0m\u001b[0;34m**\u001b[0m\u001b[0;34m{\u001b[0m\u001b[0maxis_name\u001b[0m\u001b[0;34m:\u001b[0m \u001b[0mnew_axis\u001b[0m\u001b[0;34m}\u001b[0m\u001b[0;34m)\u001b[0m\u001b[0;34m\u001b[0m\u001b[0;34m\u001b[0m\u001b[0m\n\u001b[1;32m   3948\u001b[0m \u001b[0;34m\u001b[0m\u001b[0m\n",
      "\u001b[0;32m/opt/anaconda3/lib/python3.7/site-packages/pandas/core/indexes/base.py\u001b[0m in \u001b[0;36mdrop\u001b[0;34m(self, labels, errors)\u001b[0m\n\u001b[1;32m   5338\u001b[0m         \u001b[0;32mif\u001b[0m \u001b[0mmask\u001b[0m\u001b[0;34m.\u001b[0m\u001b[0many\u001b[0m\u001b[0;34m(\u001b[0m\u001b[0;34m)\u001b[0m\u001b[0;34m:\u001b[0m\u001b[0;34m\u001b[0m\u001b[0;34m\u001b[0m\u001b[0m\n\u001b[1;32m   5339\u001b[0m             \u001b[0;32mif\u001b[0m \u001b[0merrors\u001b[0m \u001b[0;34m!=\u001b[0m \u001b[0;34m\"ignore\"\u001b[0m\u001b[0;34m:\u001b[0m\u001b[0;34m\u001b[0m\u001b[0;34m\u001b[0m\u001b[0m\n\u001b[0;32m-> 5340\u001b[0;31m                 \u001b[0;32mraise\u001b[0m \u001b[0mKeyError\u001b[0m\u001b[0;34m(\u001b[0m\u001b[0;34m\"{} not found in axis\"\u001b[0m\u001b[0;34m.\u001b[0m\u001b[0mformat\u001b[0m\u001b[0;34m(\u001b[0m\u001b[0mlabels\u001b[0m\u001b[0;34m[\u001b[0m\u001b[0mmask\u001b[0m\u001b[0;34m]\u001b[0m\u001b[0;34m)\u001b[0m\u001b[0;34m)\u001b[0m\u001b[0;34m\u001b[0m\u001b[0;34m\u001b[0m\u001b[0m\n\u001b[0m\u001b[1;32m   5341\u001b[0m             \u001b[0mindexer\u001b[0m \u001b[0;34m=\u001b[0m \u001b[0mindexer\u001b[0m\u001b[0;34m[\u001b[0m\u001b[0;34m~\u001b[0m\u001b[0mmask\u001b[0m\u001b[0;34m]\u001b[0m\u001b[0;34m\u001b[0m\u001b[0;34m\u001b[0m\u001b[0m\n\u001b[1;32m   5342\u001b[0m         \u001b[0;32mreturn\u001b[0m \u001b[0mself\u001b[0m\u001b[0;34m.\u001b[0m\u001b[0mdelete\u001b[0m\u001b[0;34m(\u001b[0m\u001b[0mindexer\u001b[0m\u001b[0;34m)\u001b[0m\u001b[0;34m\u001b[0m\u001b[0;34m\u001b[0m\u001b[0m\n",
      "\u001b[0;31mKeyError\u001b[0m: \"['ZIP9_Supercode' 'test'] not found in axis\""
     ]
    }
   ],
   "source": [
    "# Pandas drop command\n",
    "xyzcust10red.drop(['ZIP9_Supercode','test'], axis=1, inplace=True)\n",
    "xyzcust10red.info()"
   ]
  },
  {
   "cell_type": "markdown",
   "metadata": {},
   "source": [
    "Let's next look at xyz transactional data that is in a table in a SQLite3 relational database (“RDB”) file that's called xyz.db.  You should have put the xyz.db file you downloaded from Canvas in the same directory as your python code.\n",
    "\n",
    "You can use os.getcwd() to see your current directory."
   ]
  },
  {
   "cell_type": "code",
   "execution_count": 17,
   "metadata": {},
   "outputs": [
    {
     "data": {
      "text/plain": [
       "'/Users/gurjy/Downloads/Exercise 3 2020 version 1'"
      ]
     },
     "execution_count": 17,
     "metadata": {},
     "output_type": "execute_result"
    }
   ],
   "source": [
    "os.getcwd()"
   ]
  },
  {
   "cell_type": "markdown",
   "metadata": {},
   "source": [
    "If you installed the sqlite3 client, you can take a look at this database (“DB”) without using Python. sqlSQLite3 is a very simple and easy to use RDB, and it doesn't require a server.  Assuming that you've installed it and that you're in the directory where you put xyz.db, using the command from your OS command prompt:\n",
    "\n",
    "c:\\Users\\Sharon\\Desktop\\MSDS 420\\Mod 5 Exercise 3>sqlite3 xyz.db\n",
    "SQLite version 3.21.0 2017-10-24 18:55:49\n",
    "Enter \".help\" for usage hints.\n",
    "sqlite>\n",
    "\n",
    "will start sqlite3 and open the db file.  You can see the tables in this db with the sqlite3 command .tables .  (That's a period, “.” before tables. “Help” in sqlSQLite3 is .help  .)\n",
    "\n",
    "sqlite> .tables\n",
    "xyztrans\n",
    "sqlite> \n"
   ]
  },
  {
   "cell_type": "markdown",
   "metadata": {},
   "source": [
    "There are a couple of different ways to read and write data to RDBs using Python, but the most flexible and easiest may be by using what's in pandas.  Pandas will make use of the SQLAlchemy package. SQLAlchemy provides a consistent interface with different RDBs, SQLite being one of them.\n",
    "\n",
    "Let's get SQLAlchemy into our IPython session:\n"
   ]
  },
  {
   "cell_type": "code",
   "execution_count": 18,
   "metadata": {},
   "outputs": [],
   "source": [
    "import sqlalchemy\n",
    "from sqlalchemy import create_engine"
   ]
  },
  {
   "cell_type": "markdown",
   "metadata": {},
   "source": [
    "Now let's specify the xyz db as the SQLite3 RDB we want to work with:"
   ]
  },
  {
   "cell_type": "code",
   "execution_count": 19,
   "metadata": {},
   "outputs": [],
   "source": [
    "engine = create_engine('sqlite:///xyz.db')"
   ]
  },
  {
   "cell_type": "markdown",
   "metadata": {},
   "source": [
    "This assumes that you have xyz.db in your current working directory.  There are different valid syntaxes, e.g.\n",
    "\n",
    "sqlite:///:memory: (or, sqlite://) \n",
    "sqlite:///relative/path/to/file.db \n",
    "sqlite:////absolute/path/to/file.db \n",
    "\n",
    "We used the second syntax, above.  Be sure to use the correct number of slashes for the version you want to use.  You need the enclosing single quotes, too.\n"
   ]
  },
  {
   "cell_type": "markdown",
   "metadata": {},
   "source": [
    "There's only one table in this RDB.  It's called “xyztrans.” Let's read it into a DataFrame:"
   ]
  },
  {
   "cell_type": "code",
   "execution_count": 20,
   "metadata": {},
   "outputs": [
    {
     "name": "stdout",
     "output_type": "stream",
     "text": [
      "<class 'pandas.core.frame.DataFrame'>\n",
      "RangeIndex: 62395 entries, 0 to 62394\n",
      "Data columns (total 9 columns):\n",
      "index           62395 non-null int64\n",
      "ACCTNO          62395 non-null object\n",
      "QTY             62395 non-null int64\n",
      "TRANDATE        62395 non-null object\n",
      "TRAN_CHANNEL    62395 non-null object\n",
      "PRICE           62395 non-null float64\n",
      "TOTAMT          62395 non-null float64\n",
      "ORDERNO         62395 non-null object\n",
      "DEPTDESCR       62395 non-null object\n",
      "dtypes: float64(2), int64(2), object(5)\n",
      "memory usage: 4.3+ MB\n"
     ]
    }
   ],
   "source": [
    "# read in one table\n",
    "xyztrans = pd.read_sql('xyztrans', engine)\n",
    "xyztrans.info()"
   ]
  },
  {
   "cell_type": "markdown",
   "metadata": {},
   "source": [
    "This db has only one table in it.  What if it had more than one, and you didn't know their names?  How would you know? Well, one way is to read some “metadata” from it:"
   ]
  },
  {
   "cell_type": "code",
   "execution_count": 21,
   "metadata": {},
   "outputs": [],
   "source": [
    "from sqlalchemy import schema"
   ]
  },
  {
   "cell_type": "code",
   "execution_count": 22,
   "metadata": {},
   "outputs": [],
   "source": [
    "xyzMetaData=schema.MetaData(bind=engine)\n",
    "xyzMetaData.reflect()"
   ]
  },
  {
   "cell_type": "code",
   "execution_count": 23,
   "metadata": {},
   "outputs": [
    {
     "data": {
      "text/plain": [
       "immutabledict({'xyztrans': Table('xyztrans', MetaData(bind=Engine(sqlite:///xyz.db)), Column('index', BIGINT(), table=<xyztrans>), Column('ACCTNO', TEXT(), table=<xyztrans>), Column('QTY', BIGINT(), table=<xyztrans>), Column('TRANDATE', TEXT(), table=<xyztrans>), Column('TRAN_CHANNEL', TEXT(), table=<xyztrans>), Column('PRICE', FLOAT(), table=<xyztrans>), Column('TOTAMT', FLOAT(), table=<xyztrans>), Column('ORDERNO', TEXT(), table=<xyztrans>), Column('DEPTDESCR', TEXT(), table=<xyztrans>), schema=None)})"
      ]
     },
     "execution_count": 23,
     "metadata": {},
     "output_type": "execute_result"
    }
   ],
   "source": [
    "xyzMetaData.tables"
   ]
  },
  {
   "cell_type": "markdown",
   "metadata": {},
   "source": [
    "\n",
    "xyzMetaData.tables will be a dict that contains information about the db.  Tables will be keys in this dict:\n"
   ]
  },
  {
   "cell_type": "code",
   "execution_count": null,
   "metadata": {},
   "outputs": [],
   "source": [
    "# ----------------------------------------------------------------------------------\n",
    "# if you have run this code before, you will have xyzcust table in your database\n",
    "# to remove the table, you can run the code below\n",
    "# ----------------------------------------------------------------------------------\n",
    "sql = ('DROP TABLE IF EXISTS xyzcust;')\n",
    "result = engine.execute(sql)\n",
    "\n",
    "# you should only be able to see the yxztrans table\n",
    "xyzMetaData=schema.MetaData(bind=engine)\n",
    "xyzMetaData.reflect()\n",
    "xyzMetaData.tables"
   ]
  },
  {
   "cell_type": "code",
   "execution_count": null,
   "metadata": {},
   "outputs": [],
   "source": [
    "xyzMetaData.tables.keys()"
   ]
  },
  {
   "cell_type": "markdown",
   "metadata": {},
   "source": [
    "\n",
    "At this point there's only one table name, 'xyztrans,” in xyz.db.  You'll see another method for inspecting DB's below.\n",
    "\n",
    "We're going to write the xyz customer records into a new table in the sqlite3 RDB, but before we do that let's make sure that the records are unique, that is, that no customer has more than one record.   We can do this with some pandas DataFrame methods.  Using the customer DataFrame xyzcust10rev1\n"
   ]
  },
  {
   "cell_type": "code",
   "execution_count": 26,
   "metadata": {},
   "outputs": [
    {
     "data": {
      "text/plain": [
       "292"
      ]
     },
     "execution_count": 26,
     "metadata": {},
     "output_type": "execute_result"
    }
   ],
   "source": [
    "# lets check for row duplicates\n",
    "xyzcust10rev1.duplicated().sum()"
   ]
  },
  {
   "cell_type": "markdown",
   "metadata": {},
   "source": [
    "will return a zero if all records are unique, or the number of rows in xyzcust10rev1 that are duplicates.  The reason is that the duplicated() method for the DataFrame returns a Series of Trues and Falses, a Boolean Series.  Summing over the Series forces the values to be cast as numeric.\n",
    "\n",
    "Oops.  There are some duplicates.  How many duplicates do you find in xyzcust10rev1? \n"
   ]
  },
  {
   "cell_type": "markdown",
   "metadata": {},
   "source": [
    "To rid a DataFrame of unduplicated rows, "
   ]
  },
  {
   "cell_type": "code",
   "execution_count": 27,
   "metadata": {},
   "outputs": [
    {
     "data": {
      "text/plain": [
       "0"
      ]
     },
     "execution_count": 27,
     "metadata": {},
     "output_type": "execute_result"
    },
    {
     "data": {
      "text/plain": [
       "4370329936"
      ]
     },
     "execution_count": 27,
     "metadata": {},
     "output_type": "execute_result"
    },
    {
     "data": {
      "text/plain": [
       "4644505808"
      ]
     },
     "execution_count": 27,
     "metadata": {},
     "output_type": "execute_result"
    }
   ],
   "source": [
    "# drop duplicates and then make sure they are gone\n",
    "xyzcustUnDup = xyzcust10rev1.drop_duplicates()\n",
    "\n",
    "xyzcustUnDup.duplicated().sum()\n",
    "\n",
    "id(xyzcust10rev1)\n",
    "# a drop_duplicates creates a new object\n",
    "id(xyzcustUnDup)"
   ]
  },
  {
   "cell_type": "markdown",
   "metadata": {},
   "source": [
    "\n",
    "How many unique customer records do you now have?  By the way, note that you could have limited your examination to just one or more columns, for example just ACCTNO, customer account number, by providing ACCTNO as an argument or by using it to define a Series:\n"
   ]
  },
  {
   "cell_type": "code",
   "execution_count": 28,
   "metadata": {},
   "outputs": [
    {
     "data": {
      "text/plain": [
       "292"
      ]
     },
     "execution_count": 28,
     "metadata": {},
     "output_type": "execute_result"
    }
   ],
   "source": [
    "xyzcust10rev1.duplicated('ACCTNO').sum()"
   ]
  },
  {
   "cell_type": "code",
   "execution_count": 29,
   "metadata": {},
   "outputs": [
    {
     "data": {
      "text/plain": [
       "292"
      ]
     },
     "execution_count": 29,
     "metadata": {},
     "output_type": "execute_result"
    }
   ],
   "source": [
    "xyzcust10rev1.ACCTNO.duplicated().sum()"
   ]
  },
  {
   "cell_type": "markdown",
   "metadata": {},
   "source": [
    "\n",
    "When there are duplicates of a record, which of them do you think .drop_duplicates() retains?\n",
    "\n",
    "Now that we've checked for, and have removed, duplicate customer records, from the customer records, let's write them into a new table in xyztrans.db. \n"
   ]
  },
  {
   "cell_type": "code",
   "execution_count": 30,
   "metadata": {},
   "outputs": [],
   "source": [
    "# add the data from the csv file into a new table in xyz database\n",
    "xyzcustUnDup.to_sql('xyzcust', engine)"
   ]
  },
  {
   "cell_type": "markdown",
   "metadata": {},
   "source": [
    "Did it create the table in xyz.db?  Check:"
   ]
  },
  {
   "cell_type": "code",
   "execution_count": 31,
   "metadata": {},
   "outputs": [
    {
     "data": {
      "text/plain": [
       "Index(['index', 'ACCTNO', 'ZIP', 'ZIP4', 'LTD_SALES', 'LTD_TRANSACTIONS',\n",
       "       'YTD_SALES_2009', 'YTD_TRANSACTIONS_2009', 'CHANNEL_ACQUISITION',\n",
       "       'BUYER_STATUS', 'ZIP9_SUPERCODE'],\n",
       "      dtype='object')"
      ]
     },
     "execution_count": 31,
     "metadata": {},
     "output_type": "execute_result"
    }
   ],
   "source": [
    "pd.read_sql_table('xyzcust', engine).columns"
   ]
  },
  {
   "cell_type": "markdown",
   "metadata": {},
   "source": [
    "should produce the columns of the DataFrame you wrote to the db.  Remember that “engine” refers to the SQLite3 DB by way of defining the connection using SQLAlchemy's create_engine method.\n",
    "\n",
    "How many tables are there now in xyz.db?  And, what are their names? \n"
   ]
  },
  {
   "cell_type": "code",
   "execution_count": 32,
   "metadata": {},
   "outputs": [
    {
     "data": {
      "text/plain": [
       "immutabledict({'xyzcust': Table('xyzcust', MetaData(bind=Engine(sqlite:///xyz.db)), Column('index', BIGINT(), table=<xyzcust>), Column('ACCTNO', TEXT(), table=<xyzcust>), Column('ZIP', BIGINT(), table=<xyzcust>), Column('ZIP4', BIGINT(), table=<xyzcust>), Column('LTD_SALES', FLOAT(), table=<xyzcust>), Column('LTD_TRANSACTIONS', BIGINT(), table=<xyzcust>), Column('YTD_SALES_2009', FLOAT(), table=<xyzcust>), Column('YTD_TRANSACTIONS_2009', BIGINT(), table=<xyzcust>), Column('CHANNEL_ACQUISITION', TEXT(), table=<xyzcust>), Column('BUYER_STATUS', TEXT(), table=<xyzcust>), Column('ZIP9_SUPERCODE', BIGINT(), table=<xyzcust>), schema=None), 'xyztrans': Table('xyztrans', MetaData(bind=Engine(sqlite:///xyz.db)), Column('index', BIGINT(), table=<xyztrans>), Column('ACCTNO', TEXT(), table=<xyztrans>), Column('QTY', BIGINT(), table=<xyztrans>), Column('TRANDATE', TEXT(), table=<xyztrans>), Column('TRAN_CHANNEL', TEXT(), table=<xyztrans>), Column('PRICE', FLOAT(), table=<xyztrans>), Column('TOTAMT', FLOAT(), table=<xyztrans>), Column('ORDERNO', TEXT(), table=<xyztrans>), Column('DEPTDESCR', TEXT(), table=<xyztrans>), schema=None)})"
      ]
     },
     "execution_count": 32,
     "metadata": {},
     "output_type": "execute_result"
    }
   ],
   "source": [
    "xyzMetaData=schema.MetaData(bind=engine)\n",
    "xyzMetaData.reflect()\n",
    "xyzMetaData.tables"
   ]
  },
  {
   "cell_type": "code",
   "execution_count": 33,
   "metadata": {},
   "outputs": [
    {
     "data": {
      "text/plain": [
       "dict_keys(['xyzcust', 'xyztrans'])"
      ]
     },
     "execution_count": 33,
     "metadata": {},
     "output_type": "execute_result"
    }
   ],
   "source": [
    "xyzMetaData.tables.keys()"
   ]
  },
  {
   "cell_type": "markdown",
   "metadata": {},
   "source": [
    "Another way to look at the metadata of an RDB using SQLAlchemy is by using the “inspect” method:"
   ]
  },
  {
   "cell_type": "code",
   "execution_count": 34,
   "metadata": {},
   "outputs": [
    {
     "data": {
      "text/plain": [
       "MetaData(bind=Engine(sqlite:///xyz.db))"
      ]
     },
     "execution_count": 34,
     "metadata": {},
     "output_type": "execute_result"
    }
   ],
   "source": [
    "xyzMetaData"
   ]
  },
  {
   "cell_type": "code",
   "execution_count": 35,
   "metadata": {},
   "outputs": [
    {
     "data": {
      "text/plain": [
       "['xyzcust', 'xyztrans']"
      ]
     },
     "execution_count": 35,
     "metadata": {},
     "output_type": "execute_result"
    }
   ],
   "source": [
    "from sqlalchemy import inspect\n",
    "insp = inspect(engine)\n",
    "insp.get_table_names()"
   ]
  },
  {
   "cell_type": "markdown",
   "metadata": {},
   "source": [
    "You can use SQLAlchemy to query a DB so as to import selected records from an RDB.  You can also append records to existing tables in an RDB, create various kinds of DB indexes, and pretty much do everything you would do using standard SQL while interacting with an RDB using a client for it.   As a query example, suppose we wanted to select from the xyz tranaction data in the xyztrans.db all transactions made in XYZ's retail stores.  These are coded as RT in the table's TRAN_CHANNEL.  We could do:\n"
   ]
  },
  {
   "cell_type": "code",
   "execution_count": 36,
   "metadata": {},
   "outputs": [
    {
     "data": {
      "text/html": [
       "<div>\n",
       "<style scoped>\n",
       "    .dataframe tbody tr th:only-of-type {\n",
       "        vertical-align: middle;\n",
       "    }\n",
       "\n",
       "    .dataframe tbody tr th {\n",
       "        vertical-align: top;\n",
       "    }\n",
       "\n",
       "    .dataframe thead th {\n",
       "        text-align: right;\n",
       "    }\n",
       "</style>\n",
       "<table border=\"1\" class=\"dataframe\">\n",
       "  <thead>\n",
       "    <tr style=\"text-align: right;\">\n",
       "      <th></th>\n",
       "      <th>index</th>\n",
       "      <th>ACCTNO</th>\n",
       "      <th>QTY</th>\n",
       "      <th>TRANDATE</th>\n",
       "      <th>TRAN_CHANNEL</th>\n",
       "      <th>PRICE</th>\n",
       "      <th>TOTAMT</th>\n",
       "      <th>ORDERNO</th>\n",
       "      <th>DEPTDESCR</th>\n",
       "    </tr>\n",
       "  </thead>\n",
       "  <tbody>\n",
       "    <tr>\n",
       "      <td>47554</td>\n",
       "      <td>54962</td>\n",
       "      <td>GQDQSYQYY</td>\n",
       "      <td>1</td>\n",
       "      <td>23MAR2009</td>\n",
       "      <td>RT</td>\n",
       "      <td>28.50</td>\n",
       "      <td>28.50</td>\n",
       "      <td>CCXUKRVXXXVI</td>\n",
       "      <td>Mobile Electronic Accessories</td>\n",
       "    </tr>\n",
       "    <tr>\n",
       "      <td>17099</td>\n",
       "      <td>20241</td>\n",
       "      <td>WHPSWLWSL</td>\n",
       "      <td>1</td>\n",
       "      <td>24MAR2009</td>\n",
       "      <td>RT</td>\n",
       "      <td>59.85</td>\n",
       "      <td>59.85</td>\n",
       "      <td>CCXVVINXXXVI</td>\n",
       "      <td>Mobile Electronic Accessories</td>\n",
       "    </tr>\n",
       "    <tr>\n",
       "      <td>34606</td>\n",
       "      <td>40084</td>\n",
       "      <td>SYGSHGLGQ</td>\n",
       "      <td>1</td>\n",
       "      <td>05SEP2009</td>\n",
       "      <td>RT</td>\n",
       "      <td>60.00</td>\n",
       "      <td>60.00</td>\n",
       "      <td>CCXVIIZXXXVI</td>\n",
       "      <td>Portable Electronics</td>\n",
       "    </tr>\n",
       "    <tr>\n",
       "      <td>47190</td>\n",
       "      <td>54574</td>\n",
       "      <td>GQWHSWDHD</td>\n",
       "      <td>1</td>\n",
       "      <td>11DEC2009</td>\n",
       "      <td>RT</td>\n",
       "      <td>89.85</td>\n",
       "      <td>89.85</td>\n",
       "      <td>CCXUZXVXXXNI</td>\n",
       "      <td>Portable Electronics</td>\n",
       "    </tr>\n",
       "    <tr>\n",
       "      <td>42269</td>\n",
       "      <td>48906</td>\n",
       "      <td>LWHAHLQGW</td>\n",
       "      <td>1</td>\n",
       "      <td>12JUN2009</td>\n",
       "      <td>RT</td>\n",
       "      <td>149.85</td>\n",
       "      <td>149.85</td>\n",
       "      <td>CCXIEKXXXXRC</td>\n",
       "      <td>Small Appliances</td>\n",
       "    </tr>\n",
       "    <tr>\n",
       "      <td>8132</td>\n",
       "      <td>9771</td>\n",
       "      <td>DHHLDHGL</td>\n",
       "      <td>1</td>\n",
       "      <td>11NOV2009</td>\n",
       "      <td>RT</td>\n",
       "      <td>45.00</td>\n",
       "      <td>45.00</td>\n",
       "      <td>CCXNUNVXXXNX</td>\n",
       "      <td>Mobile Electronics</td>\n",
       "    </tr>\n",
       "    <tr>\n",
       "      <td>23337</td>\n",
       "      <td>27334</td>\n",
       "      <td>APLLSLSHA</td>\n",
       "      <td>1</td>\n",
       "      <td>19JUL2009</td>\n",
       "      <td>RT</td>\n",
       "      <td>20.97</td>\n",
       "      <td>20.97</td>\n",
       "      <td>CCXIKXEXXXKC</td>\n",
       "      <td>Small Appliances</td>\n",
       "    </tr>\n",
       "    <tr>\n",
       "      <td>27967</td>\n",
       "      <td>32615</td>\n",
       "      <td>SQPHHHQLL</td>\n",
       "      <td>1</td>\n",
       "      <td>15OCT2009</td>\n",
       "      <td>RT</td>\n",
       "      <td>29.85</td>\n",
       "      <td>29.85</td>\n",
       "      <td>CCXKIXNXXXKI</td>\n",
       "      <td>Small Appliances</td>\n",
       "    </tr>\n",
       "    <tr>\n",
       "      <td>18178</td>\n",
       "      <td>21495</td>\n",
       "      <td>WYGADAHLW</td>\n",
       "      <td>1</td>\n",
       "      <td>11DEC2009</td>\n",
       "      <td>RT</td>\n",
       "      <td>48.00</td>\n",
       "      <td>48.00</td>\n",
       "      <td>CCXXKCVXXXNI</td>\n",
       "      <td>Small Appliances</td>\n",
       "    </tr>\n",
       "    <tr>\n",
       "      <td>17534</td>\n",
       "      <td>20748</td>\n",
       "      <td>WHYQYALHP</td>\n",
       "      <td>1</td>\n",
       "      <td>25AUG2009</td>\n",
       "      <td>RT</td>\n",
       "      <td>135.00</td>\n",
       "      <td>135.00</td>\n",
       "      <td>CCXKKKKXXXKI</td>\n",
       "      <td>Home Audio</td>\n",
       "    </tr>\n",
       "  </tbody>\n",
       "</table>\n",
       "</div>"
      ],
      "text/plain": [
       "       index     ACCTNO  QTY   TRANDATE TRAN_CHANNEL   PRICE  TOTAMT  \\\n",
       "47554  54962  GQDQSYQYY    1  23MAR2009           RT   28.50   28.50   \n",
       "17099  20241  WHPSWLWSL    1  24MAR2009           RT   59.85   59.85   \n",
       "34606  40084  SYGSHGLGQ    1  05SEP2009           RT   60.00   60.00   \n",
       "47190  54574  GQWHSWDHD    1  11DEC2009           RT   89.85   89.85   \n",
       "42269  48906  LWHAHLQGW    1  12JUN2009           RT  149.85  149.85   \n",
       "8132    9771   DHHLDHGL    1  11NOV2009           RT   45.00   45.00   \n",
       "23337  27334  APLLSLSHA    1  19JUL2009           RT   20.97   20.97   \n",
       "27967  32615  SQPHHHQLL    1  15OCT2009           RT   29.85   29.85   \n",
       "18178  21495  WYGADAHLW    1  11DEC2009           RT   48.00   48.00   \n",
       "17534  20748  WHYQYALHP    1  25AUG2009           RT  135.00  135.00   \n",
       "\n",
       "            ORDERNO                      DEPTDESCR  \n",
       "47554  CCXUKRVXXXVI  Mobile Electronic Accessories  \n",
       "17099  CCXVVINXXXVI  Mobile Electronic Accessories  \n",
       "34606  CCXVIIZXXXVI           Portable Electronics  \n",
       "47190  CCXUZXVXXXNI           Portable Electronics  \n",
       "42269  CCXIEKXXXXRC               Small Appliances  \n",
       "8132   CCXNUNVXXXNX             Mobile Electronics  \n",
       "23337  CCXIKXEXXXKC               Small Appliances  \n",
       "27967  CCXKIXNXXXKI               Small Appliances  \n",
       "18178  CCXXKCVXXXNI               Small Appliances  \n",
       "17534  CCXKKKKXXXKI                     Home Audio  "
      ]
     },
     "execution_count": 36,
     "metadata": {},
     "output_type": "execute_result"
    }
   ],
   "source": [
    "rttrans = pd.read_sql_query(\"SELECT * FROM xyztrans WHERE TRAN_CHANNEL='RT'\", engine)\n",
    "rttrans.sample(10)"
   ]
  },
  {
   "cell_type": "markdown",
   "metadata": {},
   "source": [
    "\n",
    "A last point about SQLAlchemy:  it has its own declarative language that provides means of interacting with DB's that is more “object oriented” than traditional SQL is.  You can find lots of documentation about SQLAlchemy at http://www.sqlalchemy.org.\n"
   ]
  },
  {
   "cell_type": "code",
   "execution_count": 37,
   "metadata": {},
   "outputs": [
    {
     "data": {
      "text/html": [
       "<div>\n",
       "<style scoped>\n",
       "    .dataframe tbody tr th:only-of-type {\n",
       "        vertical-align: middle;\n",
       "    }\n",
       "\n",
       "    .dataframe tbody tr th {\n",
       "        vertical-align: top;\n",
       "    }\n",
       "\n",
       "    .dataframe thead th {\n",
       "        text-align: right;\n",
       "    }\n",
       "</style>\n",
       "<table border=\"1\" class=\"dataframe\">\n",
       "  <thead>\n",
       "    <tr style=\"text-align: right;\">\n",
       "      <th></th>\n",
       "      <th>index</th>\n",
       "      <th>ACCTNO</th>\n",
       "      <th>ZIP</th>\n",
       "      <th>ZIP4</th>\n",
       "      <th>LTD_SALES</th>\n",
       "      <th>LTD_TRANSACTIONS</th>\n",
       "      <th>YTD_SALES_2009</th>\n",
       "      <th>YTD_TRANSACTIONS_2009</th>\n",
       "      <th>CHANNEL_ACQUISITION</th>\n",
       "      <th>BUYER_STATUS</th>\n",
       "      <th>ZIP9_SUPERCODE</th>\n",
       "    </tr>\n",
       "  </thead>\n",
       "  <tbody>\n",
       "    <tr>\n",
       "      <td>0</td>\n",
       "      <td>0</td>\n",
       "      <td>WDQQLLDQL</td>\n",
       "      <td>60084</td>\n",
       "      <td>5016</td>\n",
       "      <td>90.0</td>\n",
       "      <td>1</td>\n",
       "      <td>0.0</td>\n",
       "      <td>0</td>\n",
       "      <td>IB</td>\n",
       "      <td>INACTIVE</td>\n",
       "      <td>600845016</td>\n",
       "    </tr>\n",
       "    <tr>\n",
       "      <td>1</td>\n",
       "      <td>1</td>\n",
       "      <td>WQWAYHYLA</td>\n",
       "      <td>60091</td>\n",
       "      <td>1750</td>\n",
       "      <td>4227.0</td>\n",
       "      <td>9</td>\n",
       "      <td>1263.0</td>\n",
       "      <td>3</td>\n",
       "      <td>RT</td>\n",
       "      <td>ACTIVE</td>\n",
       "      <td>600911750</td>\n",
       "    </tr>\n",
       "    <tr>\n",
       "      <td>2</td>\n",
       "      <td>2</td>\n",
       "      <td>GSHAPLHAW</td>\n",
       "      <td>60067</td>\n",
       "      <td>900</td>\n",
       "      <td>420.0</td>\n",
       "      <td>3</td>\n",
       "      <td>129.0</td>\n",
       "      <td>1</td>\n",
       "      <td>RT</td>\n",
       "      <td>ACTIVE</td>\n",
       "      <td>600670900</td>\n",
       "    </tr>\n",
       "    <tr>\n",
       "      <td>3</td>\n",
       "      <td>3</td>\n",
       "      <td>PGGYDYWAD</td>\n",
       "      <td>60068</td>\n",
       "      <td>3838</td>\n",
       "      <td>6552.0</td>\n",
       "      <td>6</td>\n",
       "      <td>0.0</td>\n",
       "      <td>0</td>\n",
       "      <td>RT</td>\n",
       "      <td>INACTIVE</td>\n",
       "      <td>600683838</td>\n",
       "    </tr>\n",
       "    <tr>\n",
       "      <td>4</td>\n",
       "      <td>4</td>\n",
       "      <td>LWPSGPLLS</td>\n",
       "      <td>60090</td>\n",
       "      <td>3932</td>\n",
       "      <td>189.0</td>\n",
       "      <td>3</td>\n",
       "      <td>72.0</td>\n",
       "      <td>1</td>\n",
       "      <td>RT</td>\n",
       "      <td>ACTIVE</td>\n",
       "      <td>600903932</td>\n",
       "    </tr>\n",
       "  </tbody>\n",
       "</table>\n",
       "</div>"
      ],
      "text/plain": [
       "   index     ACCTNO    ZIP  ZIP4  LTD_SALES  LTD_TRANSACTIONS  YTD_SALES_2009  \\\n",
       "0      0  WDQQLLDQL  60084  5016       90.0                 1             0.0   \n",
       "1      1  WQWAYHYLA  60091  1750     4227.0                 9          1263.0   \n",
       "2      2  GSHAPLHAW  60067   900      420.0                 3           129.0   \n",
       "3      3  PGGYDYWAD  60068  3838     6552.0                 6             0.0   \n",
       "4      4  LWPSGPLLS  60090  3932      189.0                 3            72.0   \n",
       "\n",
       "   YTD_TRANSACTIONS_2009 CHANNEL_ACQUISITION BUYER_STATUS  ZIP9_SUPERCODE  \n",
       "0                      0                  IB     INACTIVE       600845016  \n",
       "1                      3                  RT       ACTIVE       600911750  \n",
       "2                      1                  RT       ACTIVE       600670900  \n",
       "3                      0                  RT     INACTIVE       600683838  \n",
       "4                      1                  RT       ACTIVE       600903932  "
      ]
     },
     "execution_count": 37,
     "metadata": {},
     "output_type": "execute_result"
    }
   ],
   "source": [
    "# read in all customer data\n",
    "customers = pd.read_sql_query(\"SELECT * FROM xyzcust\", engine)\n",
    "# look at first 5 rows\n",
    "customers.head()"
   ]
  },
  {
   "cell_type": "code",
   "execution_count": 38,
   "metadata": {},
   "outputs": [
    {
     "data": {
      "text/html": [
       "<div>\n",
       "<style scoped>\n",
       "    .dataframe tbody tr th:only-of-type {\n",
       "        vertical-align: middle;\n",
       "    }\n",
       "\n",
       "    .dataframe tbody tr th {\n",
       "        vertical-align: top;\n",
       "    }\n",
       "\n",
       "    .dataframe thead th {\n",
       "        text-align: right;\n",
       "    }\n",
       "</style>\n",
       "<table border=\"1\" class=\"dataframe\">\n",
       "  <thead>\n",
       "    <tr style=\"text-align: right;\">\n",
       "      <th></th>\n",
       "      <th>index</th>\n",
       "      <th>ACCTNO</th>\n",
       "      <th>QTY</th>\n",
       "      <th>TRANDATE</th>\n",
       "      <th>TRAN_CHANNEL</th>\n",
       "      <th>PRICE</th>\n",
       "      <th>TOTAMT</th>\n",
       "      <th>ORDERNO</th>\n",
       "      <th>DEPTDESCR</th>\n",
       "    </tr>\n",
       "  </thead>\n",
       "  <tbody>\n",
       "    <tr>\n",
       "      <td>0</td>\n",
       "      <td>0</td>\n",
       "      <td>WGDQLA</td>\n",
       "      <td>1</td>\n",
       "      <td>09JUN2009</td>\n",
       "      <td>RT</td>\n",
       "      <td>599.85</td>\n",
       "      <td>599.85</td>\n",
       "      <td>CCXXNNXXXXUX</td>\n",
       "      <td>Home Audio</td>\n",
       "    </tr>\n",
       "    <tr>\n",
       "      <td>1</td>\n",
       "      <td>1</td>\n",
       "      <td>WGDQLA</td>\n",
       "      <td>1</td>\n",
       "      <td>09JUN2009</td>\n",
       "      <td>RT</td>\n",
       "      <td>39.00</td>\n",
       "      <td>39.00</td>\n",
       "      <td>CCXXNNXXXXUX</td>\n",
       "      <td>Small Appliances</td>\n",
       "    </tr>\n",
       "    <tr>\n",
       "      <td>2</td>\n",
       "      <td>2</td>\n",
       "      <td>WGDQLA</td>\n",
       "      <td>1</td>\n",
       "      <td>28NOV2009</td>\n",
       "      <td>RT</td>\n",
       "      <td>15.00</td>\n",
       "      <td>15.00</td>\n",
       "      <td>CCXNXXKXXXRI</td>\n",
       "      <td>Small Appliances</td>\n",
       "    </tr>\n",
       "    <tr>\n",
       "      <td>3</td>\n",
       "      <td>3</td>\n",
       "      <td>WGDQLA</td>\n",
       "      <td>1</td>\n",
       "      <td>28NOV2009</td>\n",
       "      <td>RT</td>\n",
       "      <td>69.00</td>\n",
       "      <td>69.00</td>\n",
       "      <td>CCXNXXKXXXRI</td>\n",
       "      <td>Small Appliances</td>\n",
       "    </tr>\n",
       "    <tr>\n",
       "      <td>4</td>\n",
       "      <td>4</td>\n",
       "      <td>WGDQLA</td>\n",
       "      <td>1</td>\n",
       "      <td>28NOV2009</td>\n",
       "      <td>RT</td>\n",
       "      <td>84.00</td>\n",
       "      <td>84.00</td>\n",
       "      <td>CCXNXXKXXXRI</td>\n",
       "      <td>Small Appliances</td>\n",
       "    </tr>\n",
       "  </tbody>\n",
       "</table>\n",
       "</div>"
      ],
      "text/plain": [
       "   index  ACCTNO  QTY   TRANDATE TRAN_CHANNEL   PRICE  TOTAMT       ORDERNO  \\\n",
       "0      0  WGDQLA    1  09JUN2009           RT  599.85  599.85  CCXXNNXXXXUX   \n",
       "1      1  WGDQLA    1  09JUN2009           RT   39.00   39.00  CCXXNNXXXXUX   \n",
       "2      2  WGDQLA    1  28NOV2009           RT   15.00   15.00  CCXNXXKXXXRI   \n",
       "3      3  WGDQLA    1  28NOV2009           RT   69.00   69.00  CCXNXXKXXXRI   \n",
       "4      4  WGDQLA    1  28NOV2009           RT   84.00   84.00  CCXNXXKXXXRI   \n",
       "\n",
       "          DEPTDESCR  \n",
       "0        Home Audio  \n",
       "1  Small Appliances  \n",
       "2  Small Appliances  \n",
       "3  Small Appliances  \n",
       "4  Small Appliances  "
      ]
     },
     "execution_count": 38,
     "metadata": {},
     "output_type": "execute_result"
    }
   ],
   "source": [
    "# read in all transactional data\n",
    "transactions = pd.read_sql_query(\"SELECT * FROM xyztrans\", engine)\n",
    "# look at first five rows\n",
    "transactions.head()"
   ]
  },
  {
   "cell_type": "code",
   "execution_count": 39,
   "metadata": {},
   "outputs": [
    {
     "data": {
      "text/plain": [
       "RT    53811\n",
       "IB     6373\n",
       "CB     2211\n",
       "Name: TRAN_CHANNEL, dtype: int64"
      ]
     },
     "execution_count": 39,
     "metadata": {},
     "output_type": "execute_result"
    },
    {
     "data": {
      "text/plain": [
       "Mobile Electronic Accessories    18007\n",
       "Small Appliances                 15641\n",
       "Mobile Electronics               13063\n",
       "Home Audio                        7257\n",
       "Portable Electronics              5691\n",
       "Cameras & Camcorder Accessori     2732\n",
       "Appliances                           4\n",
       "Name: DEPTDESCR, dtype: int64"
      ]
     },
     "execution_count": 39,
     "metadata": {},
     "output_type": "execute_result"
    },
    {
     "data": {
      "text/plain": [
       "60091    3422\n",
       "60093    3152\n",
       "60062    3059\n",
       "60067    3022\n",
       "60068    2754\n",
       "60089    1990\n",
       "60056    1515\n",
       "60074    1297\n",
       "60060    1283\n",
       "60061    1197\n",
       "60076    1081\n",
       "60069     776\n",
       "60077     735\n",
       "60084     717\n",
       "60073     678\n",
       "60090     644\n",
       "60098     562\n",
       "60070     458\n",
       "60085     377\n",
       "60083     342\n",
       "60081     318\n",
       "60087     264\n",
       "60097     150\n",
       "60096     122\n",
       "60071      97\n",
       "60064      41\n",
       "60072      34\n",
       "60088      28\n",
       "60078      25\n",
       "60065      21\n",
       "60075       5\n",
       "60094       4\n",
       "60082       3\n",
       "60079       2\n",
       "60192       2\n",
       "60095       1\n",
       "0           1\n",
       "Name: ZIP, dtype: int64"
      ]
     },
     "execution_count": 39,
     "metadata": {},
     "output_type": "execute_result"
    }
   ],
   "source": [
    "# now that you have read in your database into dataframes, you can use \n",
    "# the dataframes to analyze your data.\n",
    "\n",
    "# BUT FOR YOUR HOMEWORK, YOU ARE TO USE SQL \n",
    "\n",
    "transactions['TRAN_CHANNEL'].value_counts()\n",
    "\n",
    "transactions['DEPTDESCR'].value_counts()\n",
    "\n",
    "customers['ZIP'].value_counts()"
   ]
  },
  {
   "cell_type": "code",
   "execution_count": 40,
   "metadata": {},
   "outputs": [
    {
     "data": {
      "text/html": [
       "<div>\n",
       "<style scoped>\n",
       "    .dataframe tbody tr th:only-of-type {\n",
       "        vertical-align: middle;\n",
       "    }\n",
       "\n",
       "    .dataframe tbody tr th {\n",
       "        vertical-align: top;\n",
       "    }\n",
       "\n",
       "    .dataframe thead th {\n",
       "        text-align: right;\n",
       "    }\n",
       "</style>\n",
       "<table border=\"1\" class=\"dataframe\">\n",
       "  <thead>\n",
       "    <tr style=\"text-align: right;\">\n",
       "      <th></th>\n",
       "      <th>TRAN_CHANNEL</th>\n",
       "      <th>Customers</th>\n",
       "    </tr>\n",
       "  </thead>\n",
       "  <tbody>\n",
       "    <tr>\n",
       "      <td>0</td>\n",
       "      <td>CB</td>\n",
       "      <td>2211</td>\n",
       "    </tr>\n",
       "    <tr>\n",
       "      <td>1</td>\n",
       "      <td>IB</td>\n",
       "      <td>6373</td>\n",
       "    </tr>\n",
       "    <tr>\n",
       "      <td>2</td>\n",
       "      <td>RT</td>\n",
       "      <td>53811</td>\n",
       "    </tr>\n",
       "  </tbody>\n",
       "</table>\n",
       "</div>"
      ],
      "text/plain": [
       "  TRAN_CHANNEL  Customers\n",
       "0           CB       2211\n",
       "1           IB       6373\n",
       "2           RT      53811"
      ]
     },
     "execution_count": 40,
     "metadata": {},
     "output_type": "execute_result"
    }
   ],
   "source": [
    "# SQL groupby lets you summarize \n",
    "# https://www.sqlitetutorial.net/sqlite-group-by/\n",
    "\n",
    "channel = pd.read_sql_query(\"SELECT TRAN_CHANNEL, count(ACCTNO) as Customers  \\\n",
    "                             FROM xyztrans \\\n",
    "                             GROUP BY TRAN_CHANNEL\", engine)\n",
    "channel"
   ]
  },
  {
   "cell_type": "markdown",
   "metadata": {},
   "source": [
    "<div class=\"alert alert-block alert-warning\">\n",
    "\n",
    "# Requirements :\n",
    "\n",
    "### Note that all of your answers should use SQL and SQLAlchemy to answer the homework requirements.\n",
    "\n",
    "</div>"
   ]
  },
  {
   "cell_type": "markdown",
   "metadata": {},
   "source": [
    "### Requirement 1 (6 points)\n",
    "\n",
    "Show all customers that have over 10,000 sales in 2009 and over 25,000 sales in LTD_Sales."
   ]
  },
  {
   "cell_type": "code",
   "execution_count": 44,
   "metadata": {},
   "outputs": [
    {
     "data": {
      "text/html": [
       "<div>\n",
       "<style scoped>\n",
       "    .dataframe tbody tr th:only-of-type {\n",
       "        vertical-align: middle;\n",
       "    }\n",
       "\n",
       "    .dataframe tbody tr th {\n",
       "        vertical-align: top;\n",
       "    }\n",
       "\n",
       "    .dataframe thead th {\n",
       "        text-align: right;\n",
       "    }\n",
       "</style>\n",
       "<table border=\"1\" class=\"dataframe\">\n",
       "  <thead>\n",
       "    <tr style=\"text-align: right;\">\n",
       "      <th></th>\n",
       "      <th>index</th>\n",
       "      <th>ACCTNO</th>\n",
       "      <th>ZIP</th>\n",
       "      <th>ZIP4</th>\n",
       "      <th>LTD_SALES</th>\n",
       "      <th>LTD_TRANSACTIONS</th>\n",
       "      <th>YTD_SALES_2009</th>\n",
       "      <th>YTD_TRANSACTIONS_2009</th>\n",
       "      <th>CHANNEL_ACQUISITION</th>\n",
       "      <th>BUYER_STATUS</th>\n",
       "      <th>ZIP9_SUPERCODE</th>\n",
       "    </tr>\n",
       "  </thead>\n",
       "  <tbody>\n",
       "    <tr>\n",
       "      <td>0</td>\n",
       "      <td>1510</td>\n",
       "      <td>LGYYAGQQA</td>\n",
       "      <td>60067</td>\n",
       "      <td>6613</td>\n",
       "      <td>47307.0</td>\n",
       "      <td>48</td>\n",
       "      <td>12684.0</td>\n",
       "      <td>9</td>\n",
       "      <td>RT</td>\n",
       "      <td>ACTIVE</td>\n",
       "      <td>600676613</td>\n",
       "    </tr>\n",
       "    <tr>\n",
       "      <td>1</td>\n",
       "      <td>1872</td>\n",
       "      <td>LLSYGYDAY</td>\n",
       "      <td>60074</td>\n",
       "      <td>0</td>\n",
       "      <td>2247750.0</td>\n",
       "      <td>84</td>\n",
       "      <td>351000.0</td>\n",
       "      <td>19</td>\n",
       "      <td>CB</td>\n",
       "      <td>ACTIVE</td>\n",
       "      <td>600746495</td>\n",
       "    </tr>\n",
       "    <tr>\n",
       "      <td>2</td>\n",
       "      <td>17695</td>\n",
       "      <td>SAPYPAP</td>\n",
       "      <td>60093</td>\n",
       "      <td>1320</td>\n",
       "      <td>122352.0</td>\n",
       "      <td>34</td>\n",
       "      <td>28002.0</td>\n",
       "      <td>5</td>\n",
       "      <td>CB</td>\n",
       "      <td>ACTIVE</td>\n",
       "      <td>600931320</td>\n",
       "    </tr>\n",
       "    <tr>\n",
       "      <td>3</td>\n",
       "      <td>25095</td>\n",
       "      <td>SDAPWQHLD</td>\n",
       "      <td>60093</td>\n",
       "      <td>3939</td>\n",
       "      <td>40329.0</td>\n",
       "      <td>25</td>\n",
       "      <td>11616.0</td>\n",
       "      <td>7</td>\n",
       "      <td>CB</td>\n",
       "      <td>ACTIVE</td>\n",
       "      <td>600933939</td>\n",
       "    </tr>\n",
       "  </tbody>\n",
       "</table>\n",
       "</div>"
      ],
      "text/plain": [
       "   index     ACCTNO    ZIP  ZIP4  LTD_SALES  LTD_TRANSACTIONS  YTD_SALES_2009  \\\n",
       "0   1510  LGYYAGQQA  60067  6613    47307.0                48         12684.0   \n",
       "1   1872  LLSYGYDAY  60074     0  2247750.0                84        351000.0   \n",
       "2  17695    SAPYPAP  60093  1320   122352.0                34         28002.0   \n",
       "3  25095  SDAPWQHLD  60093  3939    40329.0                25         11616.0   \n",
       "\n",
       "   YTD_TRANSACTIONS_2009 CHANNEL_ACQUISITION BUYER_STATUS  ZIP9_SUPERCODE  \n",
       "0                      9                  RT       ACTIVE       600676613  \n",
       "1                     19                  CB       ACTIVE       600746495  \n",
       "2                      5                  CB       ACTIVE       600931320  \n",
       "3                      7                  CB       ACTIVE       600933939  "
      ]
     },
     "execution_count": 44,
     "metadata": {},
     "output_type": "execute_result"
    }
   ],
   "source": [
    "topcust = pd.read_sql_query(\"SELECT * \\\n",
    "                            FROM xyzcust\\ \n",
    "                            WHERE LTD_SALES > 25000 AND YTD_SALES_2009 > 10000\", engine)\n",
    "topcust.head()"
   ]
  },
  {
   "cell_type": "markdown",
   "metadata": {},
   "source": [
    "### Requirement 2 (6 points)\n",
    "\n",
    "Show a list of customers that live in zip 60076 and have over 30 LTD Transactions"
   ]
  },
  {
   "cell_type": "code",
   "execution_count": 49,
   "metadata": {},
   "outputs": [
    {
     "data": {
      "text/html": [
       "<div>\n",
       "<style scoped>\n",
       "    .dataframe tbody tr th:only-of-type {\n",
       "        vertical-align: middle;\n",
       "    }\n",
       "\n",
       "    .dataframe tbody tr th {\n",
       "        vertical-align: top;\n",
       "    }\n",
       "\n",
       "    .dataframe thead th {\n",
       "        text-align: right;\n",
       "    }\n",
       "</style>\n",
       "<table border=\"1\" class=\"dataframe\">\n",
       "  <thead>\n",
       "    <tr style=\"text-align: right;\">\n",
       "      <th></th>\n",
       "      <th>index</th>\n",
       "      <th>ACCTNO</th>\n",
       "      <th>ZIP</th>\n",
       "      <th>ZIP4</th>\n",
       "      <th>LTD_SALES</th>\n",
       "      <th>LTD_TRANSACTIONS</th>\n",
       "      <th>YTD_SALES_2009</th>\n",
       "      <th>YTD_TRANSACTIONS_2009</th>\n",
       "      <th>CHANNEL_ACQUISITION</th>\n",
       "      <th>BUYER_STATUS</th>\n",
       "      <th>ZIP9_SUPERCODE</th>\n",
       "    </tr>\n",
       "  </thead>\n",
       "  <tbody>\n",
       "    <tr>\n",
       "      <td>0</td>\n",
       "      <td>3118</td>\n",
       "      <td>PHQQYAYQW</td>\n",
       "      <td>60076</td>\n",
       "      <td>3527</td>\n",
       "      <td>7407.0</td>\n",
       "      <td>31</td>\n",
       "      <td>4953.0</td>\n",
       "      <td>18</td>\n",
       "      <td>RT</td>\n",
       "      <td>ACTIVE</td>\n",
       "      <td>600763527</td>\n",
       "    </tr>\n",
       "    <tr>\n",
       "      <td>1</td>\n",
       "      <td>16386</td>\n",
       "      <td>GGGSDSLQD</td>\n",
       "      <td>60076</td>\n",
       "      <td>1741</td>\n",
       "      <td>18726.0</td>\n",
       "      <td>32</td>\n",
       "      <td>2385.0</td>\n",
       "      <td>5</td>\n",
       "      <td>IB</td>\n",
       "      <td>ACTIVE</td>\n",
       "      <td>600761741</td>\n",
       "    </tr>\n",
       "    <tr>\n",
       "      <td>2</td>\n",
       "      <td>22060</td>\n",
       "      <td>SPSAQHAGA</td>\n",
       "      <td>60076</td>\n",
       "      <td>1464</td>\n",
       "      <td>6534.0</td>\n",
       "      <td>35</td>\n",
       "      <td>1032.0</td>\n",
       "      <td>7</td>\n",
       "      <td>IB</td>\n",
       "      <td>ACTIVE</td>\n",
       "      <td>600761464</td>\n",
       "    </tr>\n",
       "    <tr>\n",
       "      <td>3</td>\n",
       "      <td>29323</td>\n",
       "      <td>WWPYQDQDY</td>\n",
       "      <td>60076</td>\n",
       "      <td>1946</td>\n",
       "      <td>2076.0</td>\n",
       "      <td>33</td>\n",
       "      <td>0.0</td>\n",
       "      <td>0</td>\n",
       "      <td>RT</td>\n",
       "      <td>LAPSED</td>\n",
       "      <td>600761946</td>\n",
       "    </tr>\n",
       "  </tbody>\n",
       "</table>\n",
       "</div>"
      ],
      "text/plain": [
       "   index     ACCTNO    ZIP  ZIP4  LTD_SALES  LTD_TRANSACTIONS  YTD_SALES_2009  \\\n",
       "0   3118  PHQQYAYQW  60076  3527     7407.0                31          4953.0   \n",
       "1  16386  GGGSDSLQD  60076  1741    18726.0                32          2385.0   \n",
       "2  22060  SPSAQHAGA  60076  1464     6534.0                35          1032.0   \n",
       "3  29323  WWPYQDQDY  60076  1946     2076.0                33             0.0   \n",
       "\n",
       "   YTD_TRANSACTIONS_2009 CHANNEL_ACQUISITION BUYER_STATUS  ZIP9_SUPERCODE  \n",
       "0                     18                  RT       ACTIVE       600763527  \n",
       "1                      5                  IB       ACTIVE       600761741  \n",
       "2                      7                  IB       ACTIVE       600761464  \n",
       "3                      0                  RT       LAPSED       600761946  "
      ]
     },
     "execution_count": 49,
     "metadata": {},
     "output_type": "execute_result"
    }
   ],
   "source": [
    "zipcust = pd.read_sql_query(\"SELECT * FROM xyzcust\\\n",
    "                            WHERE LTD_TRANSACTIONS > 30 AND ZIP = 60076\", engine)\n",
    "zipcust.head()"
   ]
  },
  {
   "cell_type": "markdown",
   "metadata": {},
   "source": [
    "### Requirement 3 (6 points)\n",
    "\n",
    "List the inactive customers that had over 5,000 LTD sales. Sort by LTD Sales with highest amount on top."
   ]
  },
  {
   "cell_type": "code",
   "execution_count": 59,
   "metadata": {},
   "outputs": [
    {
     "data": {
      "text/html": [
       "<div>\n",
       "<style scoped>\n",
       "    .dataframe tbody tr th:only-of-type {\n",
       "        vertical-align: middle;\n",
       "    }\n",
       "\n",
       "    .dataframe tbody tr th {\n",
       "        vertical-align: top;\n",
       "    }\n",
       "\n",
       "    .dataframe thead th {\n",
       "        text-align: right;\n",
       "    }\n",
       "</style>\n",
       "<table border=\"1\" class=\"dataframe\">\n",
       "  <thead>\n",
       "    <tr style=\"text-align: right;\">\n",
       "      <th></th>\n",
       "      <th>index</th>\n",
       "      <th>ACCTNO</th>\n",
       "      <th>ZIP</th>\n",
       "      <th>ZIP4</th>\n",
       "      <th>LTD_SALES</th>\n",
       "      <th>LTD_TRANSACTIONS</th>\n",
       "      <th>YTD_SALES_2009</th>\n",
       "      <th>YTD_TRANSACTIONS_2009</th>\n",
       "      <th>CHANNEL_ACQUISITION</th>\n",
       "      <th>BUYER_STATUS</th>\n",
       "      <th>ZIP9_SUPERCODE</th>\n",
       "    </tr>\n",
       "  </thead>\n",
       "  <tbody>\n",
       "    <tr>\n",
       "      <td>0</td>\n",
       "      <td>11714</td>\n",
       "      <td>ALGHWHDDA</td>\n",
       "      <td>60093</td>\n",
       "      <td>2322</td>\n",
       "      <td>30696.0</td>\n",
       "      <td>3</td>\n",
       "      <td>0.0</td>\n",
       "      <td>0</td>\n",
       "      <td>RT</td>\n",
       "      <td>INACTIVE</td>\n",
       "      <td>600932322</td>\n",
       "    </tr>\n",
       "    <tr>\n",
       "      <td>1</td>\n",
       "      <td>5761</td>\n",
       "      <td>WDQPGQAPG</td>\n",
       "      <td>60077</td>\n",
       "      <td>0</td>\n",
       "      <td>14946.0</td>\n",
       "      <td>5</td>\n",
       "      <td>0.0</td>\n",
       "      <td>0</td>\n",
       "      <td>RT</td>\n",
       "      <td>INACTIVE</td>\n",
       "      <td>600773511</td>\n",
       "    </tr>\n",
       "    <tr>\n",
       "      <td>2</td>\n",
       "      <td>15700</td>\n",
       "      <td>PLSPDWDSY</td>\n",
       "      <td>60093</td>\n",
       "      <td>1820</td>\n",
       "      <td>12078.0</td>\n",
       "      <td>8</td>\n",
       "      <td>0.0</td>\n",
       "      <td>0</td>\n",
       "      <td>CB</td>\n",
       "      <td>INACTIVE</td>\n",
       "      <td>600931820</td>\n",
       "    </tr>\n",
       "    <tr>\n",
       "      <td>3</td>\n",
       "      <td>28839</td>\n",
       "      <td>LQLAHQASW</td>\n",
       "      <td>60077</td>\n",
       "      <td>1081</td>\n",
       "      <td>11529.0</td>\n",
       "      <td>5</td>\n",
       "      <td>0.0</td>\n",
       "      <td>0</td>\n",
       "      <td>IB</td>\n",
       "      <td>INACTIVE</td>\n",
       "      <td>600771081</td>\n",
       "    </tr>\n",
       "    <tr>\n",
       "      <td>4</td>\n",
       "      <td>13790</td>\n",
       "      <td>GQDQPHGYS</td>\n",
       "      <td>60097</td>\n",
       "      <td>8451</td>\n",
       "      <td>10455.0</td>\n",
       "      <td>1</td>\n",
       "      <td>0.0</td>\n",
       "      <td>0</td>\n",
       "      <td>RT</td>\n",
       "      <td>INACTIVE</td>\n",
       "      <td>600978451</td>\n",
       "    </tr>\n",
       "    <tr>\n",
       "      <td>5</td>\n",
       "      <td>11095</td>\n",
       "      <td>ALDLSSASQ</td>\n",
       "      <td>60062</td>\n",
       "      <td>5500</td>\n",
       "      <td>10095.0</td>\n",
       "      <td>4</td>\n",
       "      <td>0.0</td>\n",
       "      <td>0</td>\n",
       "      <td>RT</td>\n",
       "      <td>INACTIVE</td>\n",
       "      <td>600625500</td>\n",
       "    </tr>\n",
       "    <tr>\n",
       "      <td>6</td>\n",
       "      <td>9375</td>\n",
       "      <td>GQQPYGPQW</td>\n",
       "      <td>60062</td>\n",
       "      <td>0</td>\n",
       "      <td>8889.0</td>\n",
       "      <td>1</td>\n",
       "      <td>0.0</td>\n",
       "      <td>0</td>\n",
       "      <td>CB</td>\n",
       "      <td>INACTIVE</td>\n",
       "      <td>600627155</td>\n",
       "    </tr>\n",
       "    <tr>\n",
       "      <td>7</td>\n",
       "      <td>5692</td>\n",
       "      <td>LAQSDQYYW</td>\n",
       "      <td>60061</td>\n",
       "      <td>0</td>\n",
       "      <td>8745.0</td>\n",
       "      <td>5</td>\n",
       "      <td>0.0</td>\n",
       "      <td>0</td>\n",
       "      <td>RT</td>\n",
       "      <td>INACTIVE</td>\n",
       "      <td>600611953</td>\n",
       "    </tr>\n",
       "    <tr>\n",
       "      <td>8</td>\n",
       "      <td>12919</td>\n",
       "      <td>LPDWWHDDA</td>\n",
       "      <td>60093</td>\n",
       "      <td>0</td>\n",
       "      <td>8661.0</td>\n",
       "      <td>12</td>\n",
       "      <td>0.0</td>\n",
       "      <td>0</td>\n",
       "      <td>IB</td>\n",
       "      <td>INACTIVE</td>\n",
       "      <td>600931272</td>\n",
       "    </tr>\n",
       "    <tr>\n",
       "      <td>9</td>\n",
       "      <td>6535</td>\n",
       "      <td>AAYLYDYYS</td>\n",
       "      <td>60083</td>\n",
       "      <td>9607</td>\n",
       "      <td>8598.0</td>\n",
       "      <td>16</td>\n",
       "      <td>0.0</td>\n",
       "      <td>0</td>\n",
       "      <td>IB</td>\n",
       "      <td>INACTIVE</td>\n",
       "      <td>600839607</td>\n",
       "    </tr>\n",
       "    <tr>\n",
       "      <td>10</td>\n",
       "      <td>28039</td>\n",
       "      <td>PWLYYSADH</td>\n",
       "      <td>60084</td>\n",
       "      <td>1961</td>\n",
       "      <td>8178.0</td>\n",
       "      <td>7</td>\n",
       "      <td>0.0</td>\n",
       "      <td>0</td>\n",
       "      <td>IB</td>\n",
       "      <td>INACTIVE</td>\n",
       "      <td>600841961</td>\n",
       "    </tr>\n",
       "    <tr>\n",
       "      <td>11</td>\n",
       "      <td>7332</td>\n",
       "      <td>LSHHGGYGH</td>\n",
       "      <td>60067</td>\n",
       "      <td>7801</td>\n",
       "      <td>8022.0</td>\n",
       "      <td>39</td>\n",
       "      <td>0.0</td>\n",
       "      <td>0</td>\n",
       "      <td>IB</td>\n",
       "      <td>INACTIVE</td>\n",
       "      <td>600677801</td>\n",
       "    </tr>\n",
       "    <tr>\n",
       "      <td>12</td>\n",
       "      <td>6866</td>\n",
       "      <td>PWAYSDSSP</td>\n",
       "      <td>60091</td>\n",
       "      <td>2925</td>\n",
       "      <td>8007.0</td>\n",
       "      <td>2</td>\n",
       "      <td>0.0</td>\n",
       "      <td>0</td>\n",
       "      <td>RT</td>\n",
       "      <td>INACTIVE</td>\n",
       "      <td>600912925</td>\n",
       "    </tr>\n",
       "    <tr>\n",
       "      <td>13</td>\n",
       "      <td>7209</td>\n",
       "      <td>AGGAGDDGY</td>\n",
       "      <td>60068</td>\n",
       "      <td>1102</td>\n",
       "      <td>7980.0</td>\n",
       "      <td>8</td>\n",
       "      <td>0.0</td>\n",
       "      <td>0</td>\n",
       "      <td>CB</td>\n",
       "      <td>INACTIVE</td>\n",
       "      <td>600681102</td>\n",
       "    </tr>\n",
       "    <tr>\n",
       "      <td>14</td>\n",
       "      <td>9867</td>\n",
       "      <td>LAWPAAQLL</td>\n",
       "      <td>60061</td>\n",
       "      <td>3817</td>\n",
       "      <td>7806.0</td>\n",
       "      <td>2</td>\n",
       "      <td>0.0</td>\n",
       "      <td>0</td>\n",
       "      <td>IB</td>\n",
       "      <td>INACTIVE</td>\n",
       "      <td>600613817</td>\n",
       "    </tr>\n",
       "    <tr>\n",
       "      <td>15</td>\n",
       "      <td>20327</td>\n",
       "      <td>HGDPQQAA</td>\n",
       "      <td>60056</td>\n",
       "      <td>0</td>\n",
       "      <td>7569.0</td>\n",
       "      <td>15</td>\n",
       "      <td>0.0</td>\n",
       "      <td>0</td>\n",
       "      <td>RT</td>\n",
       "      <td>INACTIVE</td>\n",
       "      <td>600564328</td>\n",
       "    </tr>\n",
       "    <tr>\n",
       "      <td>16</td>\n",
       "      <td>29121</td>\n",
       "      <td>PWLYGLHPQ</td>\n",
       "      <td>60062</td>\n",
       "      <td>5502</td>\n",
       "      <td>7308.0</td>\n",
       "      <td>10</td>\n",
       "      <td>0.0</td>\n",
       "      <td>0</td>\n",
       "      <td>RT</td>\n",
       "      <td>INACTIVE</td>\n",
       "      <td>600625502</td>\n",
       "    </tr>\n",
       "    <tr>\n",
       "      <td>17</td>\n",
       "      <td>3658</td>\n",
       "      <td>LQDSGYWAA</td>\n",
       "      <td>60067</td>\n",
       "      <td>5930</td>\n",
       "      <td>7263.0</td>\n",
       "      <td>6</td>\n",
       "      <td>0.0</td>\n",
       "      <td>0</td>\n",
       "      <td>RT</td>\n",
       "      <td>INACTIVE</td>\n",
       "      <td>600675930</td>\n",
       "    </tr>\n",
       "    <tr>\n",
       "      <td>18</td>\n",
       "      <td>27009</td>\n",
       "      <td>WHALPDQDD</td>\n",
       "      <td>60062</td>\n",
       "      <td>5218</td>\n",
       "      <td>7251.0</td>\n",
       "      <td>8</td>\n",
       "      <td>0.0</td>\n",
       "      <td>0</td>\n",
       "      <td>RT</td>\n",
       "      <td>INACTIVE</td>\n",
       "      <td>600625218</td>\n",
       "    </tr>\n",
       "    <tr>\n",
       "      <td>19</td>\n",
       "      <td>27306</td>\n",
       "      <td>WYWGQSWSL</td>\n",
       "      <td>60067</td>\n",
       "      <td>2088</td>\n",
       "      <td>7176.0</td>\n",
       "      <td>6</td>\n",
       "      <td>0.0</td>\n",
       "      <td>0</td>\n",
       "      <td>RT</td>\n",
       "      <td>INACTIVE</td>\n",
       "      <td>600672088</td>\n",
       "    </tr>\n",
       "    <tr>\n",
       "      <td>20</td>\n",
       "      <td>17198</td>\n",
       "      <td>LHAPWQDHL</td>\n",
       "      <td>60068</td>\n",
       "      <td>3036</td>\n",
       "      <td>7164.0</td>\n",
       "      <td>8</td>\n",
       "      <td>0.0</td>\n",
       "      <td>0</td>\n",
       "      <td>RT</td>\n",
       "      <td>INACTIVE</td>\n",
       "      <td>600683036</td>\n",
       "    </tr>\n",
       "    <tr>\n",
       "      <td>21</td>\n",
       "      <td>17802</td>\n",
       "      <td>LQYLAPHGG</td>\n",
       "      <td>60093</td>\n",
       "      <td>0</td>\n",
       "      <td>7008.0</td>\n",
       "      <td>11</td>\n",
       "      <td>0.0</td>\n",
       "      <td>0</td>\n",
       "      <td>RT</td>\n",
       "      <td>INACTIVE</td>\n",
       "      <td>600931561</td>\n",
       "    </tr>\n",
       "    <tr>\n",
       "      <td>22</td>\n",
       "      <td>5227</td>\n",
       "      <td>SLLWSYPAW</td>\n",
       "      <td>60077</td>\n",
       "      <td>1991</td>\n",
       "      <td>6882.0</td>\n",
       "      <td>5</td>\n",
       "      <td>0.0</td>\n",
       "      <td>0</td>\n",
       "      <td>RT</td>\n",
       "      <td>INACTIVE</td>\n",
       "      <td>600771991</td>\n",
       "    </tr>\n",
       "    <tr>\n",
       "      <td>23</td>\n",
       "      <td>14038</td>\n",
       "      <td>LGWQHPLPS</td>\n",
       "      <td>60062</td>\n",
       "      <td>1243</td>\n",
       "      <td>6633.0</td>\n",
       "      <td>3</td>\n",
       "      <td>0.0</td>\n",
       "      <td>0</td>\n",
       "      <td>RT</td>\n",
       "      <td>INACTIVE</td>\n",
       "      <td>600621243</td>\n",
       "    </tr>\n",
       "    <tr>\n",
       "      <td>24</td>\n",
       "      <td>3</td>\n",
       "      <td>PGGYDYWAD</td>\n",
       "      <td>60068</td>\n",
       "      <td>3838</td>\n",
       "      <td>6552.0</td>\n",
       "      <td>6</td>\n",
       "      <td>0.0</td>\n",
       "      <td>0</td>\n",
       "      <td>RT</td>\n",
       "      <td>INACTIVE</td>\n",
       "      <td>600683838</td>\n",
       "    </tr>\n",
       "    <tr>\n",
       "      <td>25</td>\n",
       "      <td>25015</td>\n",
       "      <td>LDLLHHDWH</td>\n",
       "      <td>60068</td>\n",
       "      <td>1452</td>\n",
       "      <td>6540.0</td>\n",
       "      <td>1</td>\n",
       "      <td>0.0</td>\n",
       "      <td>0</td>\n",
       "      <td>CB</td>\n",
       "      <td>INACTIVE</td>\n",
       "      <td>600681452</td>\n",
       "    </tr>\n",
       "    <tr>\n",
       "      <td>26</td>\n",
       "      <td>4314</td>\n",
       "      <td>AALHDLWAD</td>\n",
       "      <td>60062</td>\n",
       "      <td>8108</td>\n",
       "      <td>6516.0</td>\n",
       "      <td>5</td>\n",
       "      <td>0.0</td>\n",
       "      <td>0</td>\n",
       "      <td>IB</td>\n",
       "      <td>INACTIVE</td>\n",
       "      <td>600628108</td>\n",
       "    </tr>\n",
       "    <tr>\n",
       "      <td>27</td>\n",
       "      <td>30091</td>\n",
       "      <td>WPHYGHSGQ</td>\n",
       "      <td>60068</td>\n",
       "      <td>4344</td>\n",
       "      <td>6501.0</td>\n",
       "      <td>8</td>\n",
       "      <td>0.0</td>\n",
       "      <td>0</td>\n",
       "      <td>IB</td>\n",
       "      <td>INACTIVE</td>\n",
       "      <td>600684344</td>\n",
       "    </tr>\n",
       "    <tr>\n",
       "      <td>28</td>\n",
       "      <td>1052</td>\n",
       "      <td>LGWQSDHPP</td>\n",
       "      <td>60067</td>\n",
       "      <td>7736</td>\n",
       "      <td>6231.0</td>\n",
       "      <td>2</td>\n",
       "      <td>0.0</td>\n",
       "      <td>0</td>\n",
       "      <td>RT</td>\n",
       "      <td>INACTIVE</td>\n",
       "      <td>600677736</td>\n",
       "    </tr>\n",
       "    <tr>\n",
       "      <td>29</td>\n",
       "      <td>22011</td>\n",
       "      <td>AHLGPWASW</td>\n",
       "      <td>60093</td>\n",
       "      <td>4251</td>\n",
       "      <td>6186.0</td>\n",
       "      <td>14</td>\n",
       "      <td>0.0</td>\n",
       "      <td>0</td>\n",
       "      <td>RT</td>\n",
       "      <td>INACTIVE</td>\n",
       "      <td>600934251</td>\n",
       "    </tr>\n",
       "    <tr>\n",
       "      <td>30</td>\n",
       "      <td>4381</td>\n",
       "      <td>AGDDPGHWW</td>\n",
       "      <td>60062</td>\n",
       "      <td>6348</td>\n",
       "      <td>6042.0</td>\n",
       "      <td>2</td>\n",
       "      <td>0.0</td>\n",
       "      <td>0</td>\n",
       "      <td>CB</td>\n",
       "      <td>INACTIVE</td>\n",
       "      <td>600626348</td>\n",
       "    </tr>\n",
       "    <tr>\n",
       "      <td>31</td>\n",
       "      <td>16342</td>\n",
       "      <td>WGGLDYGP</td>\n",
       "      <td>60060</td>\n",
       "      <td>3327</td>\n",
       "      <td>6018.0</td>\n",
       "      <td>4</td>\n",
       "      <td>0.0</td>\n",
       "      <td>0</td>\n",
       "      <td>RT</td>\n",
       "      <td>INACTIVE</td>\n",
       "      <td>600603327</td>\n",
       "    </tr>\n",
       "  </tbody>\n",
       "</table>\n",
       "</div>"
      ],
      "text/plain": [
       "    index     ACCTNO    ZIP  ZIP4  LTD_SALES  LTD_TRANSACTIONS  \\\n",
       "0   11714  ALGHWHDDA  60093  2322    30696.0                 3   \n",
       "1    5761  WDQPGQAPG  60077     0    14946.0                 5   \n",
       "2   15700  PLSPDWDSY  60093  1820    12078.0                 8   \n",
       "3   28839  LQLAHQASW  60077  1081    11529.0                 5   \n",
       "4   13790  GQDQPHGYS  60097  8451    10455.0                 1   \n",
       "5   11095  ALDLSSASQ  60062  5500    10095.0                 4   \n",
       "6    9375  GQQPYGPQW  60062     0     8889.0                 1   \n",
       "7    5692  LAQSDQYYW  60061     0     8745.0                 5   \n",
       "8   12919  LPDWWHDDA  60093     0     8661.0                12   \n",
       "9    6535  AAYLYDYYS  60083  9607     8598.0                16   \n",
       "10  28039  PWLYYSADH  60084  1961     8178.0                 7   \n",
       "11   7332  LSHHGGYGH  60067  7801     8022.0                39   \n",
       "12   6866  PWAYSDSSP  60091  2925     8007.0                 2   \n",
       "13   7209  AGGAGDDGY  60068  1102     7980.0                 8   \n",
       "14   9867  LAWPAAQLL  60061  3817     7806.0                 2   \n",
       "15  20327   HGDPQQAA  60056     0     7569.0                15   \n",
       "16  29121  PWLYGLHPQ  60062  5502     7308.0                10   \n",
       "17   3658  LQDSGYWAA  60067  5930     7263.0                 6   \n",
       "18  27009  WHALPDQDD  60062  5218     7251.0                 8   \n",
       "19  27306  WYWGQSWSL  60067  2088     7176.0                 6   \n",
       "20  17198  LHAPWQDHL  60068  3036     7164.0                 8   \n",
       "21  17802  LQYLAPHGG  60093     0     7008.0                11   \n",
       "22   5227  SLLWSYPAW  60077  1991     6882.0                 5   \n",
       "23  14038  LGWQHPLPS  60062  1243     6633.0                 3   \n",
       "24      3  PGGYDYWAD  60068  3838     6552.0                 6   \n",
       "25  25015  LDLLHHDWH  60068  1452     6540.0                 1   \n",
       "26   4314  AALHDLWAD  60062  8108     6516.0                 5   \n",
       "27  30091  WPHYGHSGQ  60068  4344     6501.0                 8   \n",
       "28   1052  LGWQSDHPP  60067  7736     6231.0                 2   \n",
       "29  22011  AHLGPWASW  60093  4251     6186.0                14   \n",
       "30   4381  AGDDPGHWW  60062  6348     6042.0                 2   \n",
       "31  16342   WGGLDYGP  60060  3327     6018.0                 4   \n",
       "\n",
       "    YTD_SALES_2009  YTD_TRANSACTIONS_2009 CHANNEL_ACQUISITION BUYER_STATUS  \\\n",
       "0              0.0                      0                  RT     INACTIVE   \n",
       "1              0.0                      0                  RT     INACTIVE   \n",
       "2              0.0                      0                  CB     INACTIVE   \n",
       "3              0.0                      0                  IB     INACTIVE   \n",
       "4              0.0                      0                  RT     INACTIVE   \n",
       "5              0.0                      0                  RT     INACTIVE   \n",
       "6              0.0                      0                  CB     INACTIVE   \n",
       "7              0.0                      0                  RT     INACTIVE   \n",
       "8              0.0                      0                  IB     INACTIVE   \n",
       "9              0.0                      0                  IB     INACTIVE   \n",
       "10             0.0                      0                  IB     INACTIVE   \n",
       "11             0.0                      0                  IB     INACTIVE   \n",
       "12             0.0                      0                  RT     INACTIVE   \n",
       "13             0.0                      0                  CB     INACTIVE   \n",
       "14             0.0                      0                  IB     INACTIVE   \n",
       "15             0.0                      0                  RT     INACTIVE   \n",
       "16             0.0                      0                  RT     INACTIVE   \n",
       "17             0.0                      0                  RT     INACTIVE   \n",
       "18             0.0                      0                  RT     INACTIVE   \n",
       "19             0.0                      0                  RT     INACTIVE   \n",
       "20             0.0                      0                  RT     INACTIVE   \n",
       "21             0.0                      0                  RT     INACTIVE   \n",
       "22             0.0                      0                  RT     INACTIVE   \n",
       "23             0.0                      0                  RT     INACTIVE   \n",
       "24             0.0                      0                  RT     INACTIVE   \n",
       "25             0.0                      0                  CB     INACTIVE   \n",
       "26             0.0                      0                  IB     INACTIVE   \n",
       "27             0.0                      0                  IB     INACTIVE   \n",
       "28             0.0                      0                  RT     INACTIVE   \n",
       "29             0.0                      0                  RT     INACTIVE   \n",
       "30             0.0                      0                  CB     INACTIVE   \n",
       "31             0.0                      0                  RT     INACTIVE   \n",
       "\n",
       "    ZIP9_SUPERCODE  \n",
       "0        600932322  \n",
       "1        600773511  \n",
       "2        600931820  \n",
       "3        600771081  \n",
       "4        600978451  \n",
       "5        600625500  \n",
       "6        600627155  \n",
       "7        600611953  \n",
       "8        600931272  \n",
       "9        600839607  \n",
       "10       600841961  \n",
       "11       600677801  \n",
       "12       600912925  \n",
       "13       600681102  \n",
       "14       600613817  \n",
       "15       600564328  \n",
       "16       600625502  \n",
       "17       600675930  \n",
       "18       600625218  \n",
       "19       600672088  \n",
       "20       600683036  \n",
       "21       600931561  \n",
       "22       600771991  \n",
       "23       600621243  \n",
       "24       600683838  \n",
       "25       600681452  \n",
       "26       600628108  \n",
       "27       600684344  \n",
       "28       600677736  \n",
       "29       600934251  \n",
       "30       600626348  \n",
       "31       600603327  "
      ]
     },
     "execution_count": 59,
     "metadata": {},
     "output_type": "execute_result"
    }
   ],
   "source": [
    "inactcust = pd.read_sql_query(\"SELECT * \\\n",
    "                              FROM xyzcust \\\n",
    "                              WHERE LTD_SALES > 6000 AND BUYER_STATUS = 'INACTIVE' \\\n",
    "                              ORDER BY LTD_SALES DESC\", engine)\n",
    "inactcust.head(2000)"
   ]
  },
  {
   "cell_type": "markdown",
   "metadata": {},
   "source": [
    "### Requirement 4 (6 points)\n",
    "\n",
    "Using SQL, get the same results as you would get from the following python command: <br>  transactions['DEPTDESCR'].value_counts()"
   ]
  },
  {
   "cell_type": "code",
   "execution_count": 66,
   "metadata": {},
   "outputs": [
    {
     "data": {
      "text/plain": [
       "Mobile Electronic Accessories    18007\n",
       "Small Appliances                 15641\n",
       "Mobile Electronics               13063\n",
       "Home Audio                        7257\n",
       "Portable Electronics              5691\n",
       "Cameras & Camcorder Accessori     2732\n",
       "Appliances                           4\n",
       "Name: DEPTDESCR, dtype: int64"
      ]
     },
     "execution_count": 66,
     "metadata": {},
     "output_type": "execute_result"
    },
    {
     "data": {
      "text/html": [
       "<div>\n",
       "<style scoped>\n",
       "    .dataframe tbody tr th:only-of-type {\n",
       "        vertical-align: middle;\n",
       "    }\n",
       "\n",
       "    .dataframe tbody tr th {\n",
       "        vertical-align: top;\n",
       "    }\n",
       "\n",
       "    .dataframe thead th {\n",
       "        text-align: right;\n",
       "    }\n",
       "</style>\n",
       "<table border=\"1\" class=\"dataframe\">\n",
       "  <thead>\n",
       "    <tr style=\"text-align: right;\">\n",
       "      <th></th>\n",
       "      <th>DEPTDESCR</th>\n",
       "      <th>COUNT(*)</th>\n",
       "    </tr>\n",
       "  </thead>\n",
       "  <tbody>\n",
       "    <tr>\n",
       "      <td>0</td>\n",
       "      <td>Mobile Electronic Accessories</td>\n",
       "      <td>18007</td>\n",
       "    </tr>\n",
       "    <tr>\n",
       "      <td>1</td>\n",
       "      <td>Small Appliances</td>\n",
       "      <td>15641</td>\n",
       "    </tr>\n",
       "    <tr>\n",
       "      <td>2</td>\n",
       "      <td>Mobile Electronics</td>\n",
       "      <td>13063</td>\n",
       "    </tr>\n",
       "    <tr>\n",
       "      <td>3</td>\n",
       "      <td>Home Audio</td>\n",
       "      <td>7257</td>\n",
       "    </tr>\n",
       "    <tr>\n",
       "      <td>4</td>\n",
       "      <td>Portable Electronics</td>\n",
       "      <td>5691</td>\n",
       "    </tr>\n",
       "    <tr>\n",
       "      <td>5</td>\n",
       "      <td>Cameras &amp; Camcorder Accessori</td>\n",
       "      <td>2732</td>\n",
       "    </tr>\n",
       "    <tr>\n",
       "      <td>6</td>\n",
       "      <td>Appliances</td>\n",
       "      <td>4</td>\n",
       "    </tr>\n",
       "  </tbody>\n",
       "</table>\n",
       "</div>"
      ],
      "text/plain": [
       "                       DEPTDESCR  COUNT(*)\n",
       "0  Mobile Electronic Accessories     18007\n",
       "1               Small Appliances     15641\n",
       "2             Mobile Electronics     13063\n",
       "3                     Home Audio      7257\n",
       "4           Portable Electronics      5691\n",
       "5  Cameras & Camcorder Accessori      2732\n",
       "6                     Appliances         4"
      ]
     },
     "execution_count": 66,
     "metadata": {},
     "output_type": "execute_result"
    }
   ],
   "source": [
    "transactions['DEPTDESCR'].value_counts()\n",
    "inactcust = pd.read_sql_query(\"SELECT DEPTDESCR, COUNT(*) \\\n",
    "                              FROM xyztrans \\\n",
    "                              GROUP BY DEPTDESCR \\\n",
    "                              ORDER BY COUNT(*) DESC \", engine)\n",
    "inactcust.head(7)"
   ]
  },
  {
   "cell_type": "markdown",
   "metadata": {},
   "source": [
    "### Requirement 5 (6 points)\n",
    "\n",
    "Which customers purchased over 5,000 from Home Audio (DEPTDESCR)?\n",
    "Display Account number, Zip code, Total Amount (from transactions) and DEPTDESCR."
   ]
  },
  {
   "cell_type": "code",
   "execution_count": 85,
   "metadata": {},
   "outputs": [
    {
     "data": {
      "text/html": [
       "<div>\n",
       "<style scoped>\n",
       "    .dataframe tbody tr th:only-of-type {\n",
       "        vertical-align: middle;\n",
       "    }\n",
       "\n",
       "    .dataframe tbody tr th {\n",
       "        vertical-align: top;\n",
       "    }\n",
       "\n",
       "    .dataframe thead th {\n",
       "        text-align: right;\n",
       "    }\n",
       "</style>\n",
       "<table border=\"1\" class=\"dataframe\">\n",
       "  <thead>\n",
       "    <tr style=\"text-align: right;\">\n",
       "      <th></th>\n",
       "      <th>ACCTNO</th>\n",
       "      <th>ZIP</th>\n",
       "      <th>TOTAMT</th>\n",
       "      <th>DEPTDESCR</th>\n",
       "    </tr>\n",
       "  </thead>\n",
       "  <tbody>\n",
       "    <tr>\n",
       "      <td>0</td>\n",
       "      <td>ALDGDAQQA</td>\n",
       "      <td>60091</td>\n",
       "      <td>7499.85</td>\n",
       "      <td>Home Audio</td>\n",
       "    </tr>\n",
       "    <tr>\n",
       "      <td>1</td>\n",
       "      <td>PQGDYASGS</td>\n",
       "      <td>60091</td>\n",
       "      <td>7499.85</td>\n",
       "      <td>Home Audio</td>\n",
       "    </tr>\n",
       "    <tr>\n",
       "      <td>2</td>\n",
       "      <td>LHSGAAQLH</td>\n",
       "      <td>60084</td>\n",
       "      <td>7499.85</td>\n",
       "      <td>Home Audio</td>\n",
       "    </tr>\n",
       "    <tr>\n",
       "      <td>3</td>\n",
       "      <td>GQGDSWGYW</td>\n",
       "      <td>60093</td>\n",
       "      <td>7499.85</td>\n",
       "      <td>Home Audio</td>\n",
       "    </tr>\n",
       "  </tbody>\n",
       "</table>\n",
       "</div>"
      ],
      "text/plain": [
       "      ACCTNO    ZIP   TOTAMT   DEPTDESCR\n",
       "0  ALDGDAQQA  60091  7499.85  Home Audio\n",
       "1  PQGDYASGS  60091  7499.85  Home Audio\n",
       "2  LHSGAAQLH  60084  7499.85  Home Audio\n",
       "3  GQGDSWGYW  60093  7499.85  Home Audio"
      ]
     },
     "execution_count": 85,
     "metadata": {},
     "output_type": "execute_result"
    }
   ],
   "source": [
    "custAUDIO = pd.read_sql_query(\"SELECT trans.ACCTNO, ZIP,TOTAMT ,DEPTDESCR\\\n",
    "  FROM xyztrans as trans, xyzcust as cust\\\n",
    "  WHERE trans.ACCTNO = cust.ACCTNO AND DEPTDESCR = 'Home Audio' AND TOTAMT > 6000\", engine)\n",
    "\n",
    "custAUDIO.head()"
   ]
  }
 ],
 "metadata": {
  "kernelspec": {
   "display_name": "Python 3",
   "language": "python",
   "name": "python3"
  },
  "language_info": {
   "codemirror_mode": {
    "name": "ipython",
    "version": 3
   },
   "file_extension": ".py",
   "mimetype": "text/x-python",
   "name": "python",
   "nbconvert_exporter": "python",
   "pygments_lexer": "ipython3",
   "version": "3.7.4"
  }
 },
 "nbformat": 4,
 "nbformat_minor": 1
}
