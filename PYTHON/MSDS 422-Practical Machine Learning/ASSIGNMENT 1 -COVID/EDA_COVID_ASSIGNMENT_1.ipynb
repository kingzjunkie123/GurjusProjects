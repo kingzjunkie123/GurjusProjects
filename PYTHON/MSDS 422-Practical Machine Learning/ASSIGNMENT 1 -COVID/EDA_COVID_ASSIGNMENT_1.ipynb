{
 "cells": [
  {
   "cell_type": "code",
   "execution_count": 85,
   "metadata": {},
   "outputs": [],
   "source": [
    "#Import Statements\n",
    "import pandas as pd\n",
    "import matplotlib.pyplot as plt\n",
    "from sklearn.preprocessing import MinMaxScaler\n",
    "from sklearn.preprocessing import StandardScaler"
   ]
  },
  {
   "cell_type": "code",
   "execution_count": 86,
   "metadata": {},
   "outputs": [],
   "source": [
    "#Open CSV file\n",
    "CovidDF = pd.read_csv('/Users/gurjy/Downloads/download')"
   ]
  },
  {
   "cell_type": "code",
   "execution_count": 87,
   "metadata": {},
   "outputs": [
    {
     "data": {
      "text/plain": [
       "<matplotlib.legend.Legend at 0x1a1bc025d0>"
      ]
     },
     "execution_count": 87,
     "metadata": {},
     "output_type": "execute_result"
    },
    {
     "data": {
      "image/png": "[encoded data removed]",
      "text/plain": [
       "<Figure size 432x288 with 1 Axes>"
      ]
     },
     "metadata": {
      "needs_background": "light"
     },
     "output_type": "display_data"
    }
   ],
   "source": [
    "CovidDF = CovidDF.dropna()\n",
    "\n",
    "CovidDFusa = CovidDF[CovidDF['countriesAndTerritories'] == 'United_States_of_America']\n",
    "CovidDFCanada = CovidDF[CovidDF['countriesAndTerritories'] == 'Canada']\n",
    "CovidDFChina = CovidDF[CovidDF['countriesAndTerritories'] == 'China']\n",
    "rollingaverageCANADA = CovidDFCanada['deaths'].rolling(14).sum()/CovidDFCanada['popData2019'][7236]*100000\n",
    "fourteencumulativedaydeathsCANADA = [rollingaverageCANADA[x] for x in range(7249, 7263)]\n",
    "\n",
    "rollingaverageUSA = CovidDFusa['deaths'].rolling(14).sum()/CovidDFusa['popData2019'][41374]*100000\n",
    "fourteencumulativedaydeathsUSA = [rollingaverageUSA[x] for x in range(41387, 41401)]\n",
    "\n",
    "rollingaverageCHINA= CovidDFChina['deaths'].rolling(14).sum()/CovidDFChina['popData2019'][8490]*100000\n",
    "fourteencumulativedaydeathsCHINA = [rollingaverageCHINA[x] for x in range(8503, 8517)]\n",
    "\n",
    "\n",
    "plt.plot(range(0, 14), fourteencumulativedaydeathsCANADA[::-1])\n",
    "\n",
    "plt.plot(range(0, 14), fourteencumulativedaydeathsCHINA[::-1])\n",
    "\n",
    "plt.plot(range(0, 14), fourteencumulativedaydeathsUSA[::-1])\n",
    "\n",
    "plt.legend(['Canada', 'China'])"
   ]
  },
  {
   "cell_type": "code",
   "execution_count": 88,
   "metadata": {},
   "outputs": [
    {
     "data": {
      "text/plain": [
       "<matplotlib.legend.Legend at 0x1a21b8fb10>"
      ]
     },
     "execution_count": 88,
     "metadata": {},
     "output_type": "execute_result"
    },
    {
     "data": {
      "image/png": "[encoded data removed]",
      "text/plain": [
       "<Figure size 432x288 with 1 Axes>"
      ]
     },
     "metadata": {
      "needs_background": "light"
     },
     "output_type": "display_data"
    }
   ],
   "source": [
    "plt.plot(range(0, 14), fourteencumulativedaydeathsCANADA[::-1])\n",
    "\n",
    "plt.plot(range(0, 14), fourteencumulativedaydeathsCHINA[::-1])\n",
    "\n",
    "plt.legend(['Canada', 'China'])"
   ]
  },
  {
   "cell_type": "code",
   "execution_count": 89,
   "metadata": {},
   "outputs": [
    {
     "data": {
      "text/html": [
       "<div>\n",
       "<style scoped>\n",
       "    .dataframe tbody tr th:only-of-type {\n",
       "        vertical-align: middle;\n",
       "    }\n",
       "\n",
       "    .dataframe tbody tr th {\n",
       "        vertical-align: top;\n",
       "    }\n",
       "\n",
       "    .dataframe thead th {\n",
       "        text-align: right;\n",
       "    }\n",
       "</style>\n",
       "<table border=\"1\" class=\"dataframe\">\n",
       "  <thead>\n",
       "    <tr style=\"text-align: right;\">\n",
       "      <th></th>\n",
       "      <th>dateRep</th>\n",
       "      <th>day</th>\n",
       "      <th>month</th>\n",
       "      <th>year</th>\n",
       "      <th>cases</th>\n",
       "      <th>deaths</th>\n",
       "      <th>countriesAndTerritories</th>\n",
       "      <th>geoId</th>\n",
       "      <th>countryterritoryCode</th>\n",
       "      <th>popData2019</th>\n",
       "      <th>continentExp</th>\n",
       "      <th>Cumulative_number_for_14_days_of_COVID-19_cases_per_100000</th>\n",
       "    </tr>\n",
       "  </thead>\n",
       "  <tbody>\n",
       "    <tr>\n",
       "      <td>0</td>\n",
       "      <td>17/09/2020</td>\n",
       "      <td>17</td>\n",
       "      <td>9</td>\n",
       "      <td>2020</td>\n",
       "      <td>17</td>\n",
       "      <td>0</td>\n",
       "      <td>Afghanistan</td>\n",
       "      <td>AF</td>\n",
       "      <td>AFG</td>\n",
       "      <td>38041757.0</td>\n",
       "      <td>Asia</td>\n",
       "      <td>1.653446</td>\n",
       "    </tr>\n",
       "    <tr>\n",
       "      <td>1</td>\n",
       "      <td>16/09/2020</td>\n",
       "      <td>16</td>\n",
       "      <td>9</td>\n",
       "      <td>2020</td>\n",
       "      <td>40</td>\n",
       "      <td>10</td>\n",
       "      <td>Afghanistan</td>\n",
       "      <td>AF</td>\n",
       "      <td>AFG</td>\n",
       "      <td>38041757.0</td>\n",
       "      <td>Asia</td>\n",
       "      <td>1.708649</td>\n",
       "    </tr>\n",
       "    <tr>\n",
       "      <td>2</td>\n",
       "      <td>15/09/2020</td>\n",
       "      <td>15</td>\n",
       "      <td>9</td>\n",
       "      <td>2020</td>\n",
       "      <td>99</td>\n",
       "      <td>6</td>\n",
       "      <td>Afghanistan</td>\n",
       "      <td>AF</td>\n",
       "      <td>AFG</td>\n",
       "      <td>38041757.0</td>\n",
       "      <td>Asia</td>\n",
       "      <td>1.627159</td>\n",
       "    </tr>\n",
       "    <tr>\n",
       "      <td>3</td>\n",
       "      <td>14/09/2020</td>\n",
       "      <td>14</td>\n",
       "      <td>9</td>\n",
       "      <td>2020</td>\n",
       "      <td>75</td>\n",
       "      <td>0</td>\n",
       "      <td>Afghanistan</td>\n",
       "      <td>AF</td>\n",
       "      <td>AFG</td>\n",
       "      <td>38041757.0</td>\n",
       "      <td>Asia</td>\n",
       "      <td>1.456294</td>\n",
       "    </tr>\n",
       "    <tr>\n",
       "      <td>4</td>\n",
       "      <td>13/09/2020</td>\n",
       "      <td>13</td>\n",
       "      <td>9</td>\n",
       "      <td>2020</td>\n",
       "      <td>35</td>\n",
       "      <td>0</td>\n",
       "      <td>Afghanistan</td>\n",
       "      <td>AF</td>\n",
       "      <td>AFG</td>\n",
       "      <td>38041757.0</td>\n",
       "      <td>Asia</td>\n",
       "      <td>1.309088</td>\n",
       "    </tr>\n",
       "    <tr>\n",
       "      <td>5</td>\n",
       "      <td>12/09/2020</td>\n",
       "      <td>12</td>\n",
       "      <td>9</td>\n",
       "      <td>2020</td>\n",
       "      <td>34</td>\n",
       "      <td>0</td>\n",
       "      <td>Afghanistan</td>\n",
       "      <td>AF</td>\n",
       "      <td>AFG</td>\n",
       "      <td>38041757.0</td>\n",
       "      <td>Asia</td>\n",
       "      <td>1.224970</td>\n",
       "    </tr>\n",
       "    <tr>\n",
       "      <td>6</td>\n",
       "      <td>11/09/2020</td>\n",
       "      <td>11</td>\n",
       "      <td>9</td>\n",
       "      <td>2020</td>\n",
       "      <td>28</td>\n",
       "      <td>0</td>\n",
       "      <td>Afghanistan</td>\n",
       "      <td>AF</td>\n",
       "      <td>AFG</td>\n",
       "      <td>38041757.0</td>\n",
       "      <td>Asia</td>\n",
       "      <td>1.164510</td>\n",
       "    </tr>\n",
       "    <tr>\n",
       "      <td>7</td>\n",
       "      <td>10/09/2020</td>\n",
       "      <td>10</td>\n",
       "      <td>9</td>\n",
       "      <td>2020</td>\n",
       "      <td>24</td>\n",
       "      <td>2</td>\n",
       "      <td>Afghanistan</td>\n",
       "      <td>AF</td>\n",
       "      <td>AFG</td>\n",
       "      <td>38041757.0</td>\n",
       "      <td>Asia</td>\n",
       "      <td>1.098793</td>\n",
       "    </tr>\n",
       "    <tr>\n",
       "      <td>8</td>\n",
       "      <td>09/09/2020</td>\n",
       "      <td>9</td>\n",
       "      <td>9</td>\n",
       "      <td>2020</td>\n",
       "      <td>26</td>\n",
       "      <td>3</td>\n",
       "      <td>Afghanistan</td>\n",
       "      <td>AF</td>\n",
       "      <td>AFG</td>\n",
       "      <td>38041757.0</td>\n",
       "      <td>Asia</td>\n",
       "      <td>1.180282</td>\n",
       "    </tr>\n",
       "    <tr>\n",
       "      <td>9</td>\n",
       "      <td>08/09/2020</td>\n",
       "      <td>8</td>\n",
       "      <td>9</td>\n",
       "      <td>2020</td>\n",
       "      <td>96</td>\n",
       "      <td>3</td>\n",
       "      <td>Afghanistan</td>\n",
       "      <td>AF</td>\n",
       "      <td>AFG</td>\n",
       "      <td>38041757.0</td>\n",
       "      <td>Asia</td>\n",
       "      <td>1.114565</td>\n",
       "    </tr>\n",
       "    <tr>\n",
       "      <td>10</td>\n",
       "      <td>07/09/2020</td>\n",
       "      <td>7</td>\n",
       "      <td>9</td>\n",
       "      <td>2020</td>\n",
       "      <td>74</td>\n",
       "      <td>2</td>\n",
       "      <td>Afghanistan</td>\n",
       "      <td>AF</td>\n",
       "      <td>AFG</td>\n",
       "      <td>38041757.0</td>\n",
       "      <td>Asia</td>\n",
       "      <td>1.048847</td>\n",
       "    </tr>\n",
       "    <tr>\n",
       "      <td>11</td>\n",
       "      <td>06/09/2020</td>\n",
       "      <td>6</td>\n",
       "      <td>9</td>\n",
       "      <td>2020</td>\n",
       "      <td>20</td>\n",
       "      <td>0</td>\n",
       "      <td>Afghanistan</td>\n",
       "      <td>AF</td>\n",
       "      <td>AFG</td>\n",
       "      <td>38041757.0</td>\n",
       "      <td>Asia</td>\n",
       "      <td>0.854324</td>\n",
       "    </tr>\n",
       "    <tr>\n",
       "      <td>12</td>\n",
       "      <td>05/09/2020</td>\n",
       "      <td>5</td>\n",
       "      <td>9</td>\n",
       "      <td>2020</td>\n",
       "      <td>16</td>\n",
       "      <td>0</td>\n",
       "      <td>Afghanistan</td>\n",
       "      <td>AF</td>\n",
       "      <td>AFG</td>\n",
       "      <td>38041757.0</td>\n",
       "      <td>Asia</td>\n",
       "      <td>1.077763</td>\n",
       "    </tr>\n",
       "    <tr>\n",
       "      <td>13</td>\n",
       "      <td>04/09/2020</td>\n",
       "      <td>4</td>\n",
       "      <td>9</td>\n",
       "      <td>2020</td>\n",
       "      <td>45</td>\n",
       "      <td>1</td>\n",
       "      <td>Afghanistan</td>\n",
       "      <td>AF</td>\n",
       "      <td>AFG</td>\n",
       "      <td>38041757.0</td>\n",
       "      <td>Asia</td>\n",
       "      <td>1.135594</td>\n",
       "    </tr>\n",
       "  </tbody>\n",
       "</table>\n",
       "</div>"
      ],
      "text/plain": [
       "       dateRep  day  month  year  cases  deaths countriesAndTerritories geoId  \\\n",
       "0   17/09/2020   17      9  2020     17       0             Afghanistan    AF   \n",
       "1   16/09/2020   16      9  2020     40      10             Afghanistan    AF   \n",
       "2   15/09/2020   15      9  2020     99       6             Afghanistan    AF   \n",
       "3   14/09/2020   14      9  2020     75       0             Afghanistan    AF   \n",
       "4   13/09/2020   13      9  2020     35       0             Afghanistan    AF   \n",
       "5   12/09/2020   12      9  2020     34       0             Afghanistan    AF   \n",
       "6   11/09/2020   11      9  2020     28       0             Afghanistan    AF   \n",
       "7   10/09/2020   10      9  2020     24       2             Afghanistan    AF   \n",
       "8   09/09/2020    9      9  2020     26       3             Afghanistan    AF   \n",
       "9   08/09/2020    8      9  2020     96       3             Afghanistan    AF   \n",
       "10  07/09/2020    7      9  2020     74       2             Afghanistan    AF   \n",
       "11  06/09/2020    6      9  2020     20       0             Afghanistan    AF   \n",
       "12  05/09/2020    5      9  2020     16       0             Afghanistan    AF   \n",
       "13  04/09/2020    4      9  2020     45       1             Afghanistan    AF   \n",
       "\n",
       "   countryterritoryCode  popData2019 continentExp  \\\n",
       "0                   AFG   38041757.0         Asia   \n",
       "1                   AFG   38041757.0         Asia   \n",
       "2                   AFG   38041757.0         Asia   \n",
       "3                   AFG   38041757.0         Asia   \n",
       "4                   AFG   38041757.0         Asia   \n",
       "5                   AFG   38041757.0         Asia   \n",
       "6                   AFG   38041757.0         Asia   \n",
       "7                   AFG   38041757.0         Asia   \n",
       "8                   AFG   38041757.0         Asia   \n",
       "9                   AFG   38041757.0         Asia   \n",
       "10                  AFG   38041757.0         Asia   \n",
       "11                  AFG   38041757.0         Asia   \n",
       "12                  AFG   38041757.0         Asia   \n",
       "13                  AFG   38041757.0         Asia   \n",
       "\n",
       "    Cumulative_number_for_14_days_of_COVID-19_cases_per_100000  \n",
       "0                                            1.653446           \n",
       "1                                            1.708649           \n",
       "2                                            1.627159           \n",
       "3                                            1.456294           \n",
       "4                                            1.309088           \n",
       "5                                            1.224970           \n",
       "6                                            1.164510           \n",
       "7                                            1.098793           \n",
       "8                                            1.180282           \n",
       "9                                            1.114565           \n",
       "10                                           1.048847           \n",
       "11                                           0.854324           \n",
       "12                                           1.077763           \n",
       "13                                           1.135594           "
      ]
     },
     "execution_count": 89,
     "metadata": {},
     "output_type": "execute_result"
    }
   ],
   "source": [
    "#see head of dataframe\n",
    "CovidDF.head(14)"
   ]
  },
  {
   "cell_type": "code",
   "execution_count": 90,
   "metadata": {},
   "outputs": [
    {
     "data": {
      "text/plain": [
       "dateRep                                                        object\n",
       "day                                                             int64\n",
       "month                                                           int64\n",
       "year                                                            int64\n",
       "cases                                                           int64\n",
       "deaths                                                          int64\n",
       "countriesAndTerritories                                        object\n",
       "geoId                                                          object\n",
       "countryterritoryCode                                           object\n",
       "popData2019                                                   float64\n",
       "continentExp                                                   object\n",
       "Cumulative_number_for_14_days_of_COVID-19_cases_per_100000    float64\n",
       "dtype: object"
      ]
     },
     "execution_count": 90,
     "metadata": {},
     "output_type": "execute_result"
    }
   ],
   "source": [
    "#evaluate types\n",
    "CovidDF.dtypes"
   ]
  },
  {
   "cell_type": "code",
   "execution_count": 91,
   "metadata": {},
   "outputs": [
    {
     "data": {
      "text/html": [
       "<div>\n",
       "<style scoped>\n",
       "    .dataframe tbody tr th:only-of-type {\n",
       "        vertical-align: middle;\n",
       "    }\n",
       "\n",
       "    .dataframe tbody tr th {\n",
       "        vertical-align: top;\n",
       "    }\n",
       "\n",
       "    .dataframe thead th {\n",
       "        text-align: right;\n",
       "    }\n",
       "</style>\n",
       "<table border=\"1\" class=\"dataframe\">\n",
       "  <thead>\n",
       "    <tr style=\"text-align: right;\">\n",
       "      <th></th>\n",
       "      <th>day</th>\n",
       "      <th>month</th>\n",
       "      <th>year</th>\n",
       "      <th>cases</th>\n",
       "      <th>deaths</th>\n",
       "      <th>popData2019</th>\n",
       "      <th>Cumulative_number_for_14_days_of_COVID-19_cases_per_100000</th>\n",
       "    </tr>\n",
       "  </thead>\n",
       "  <tbody>\n",
       "    <tr>\n",
       "      <td>count</td>\n",
       "      <td>40345.000000</td>\n",
       "      <td>40345.000000</td>\n",
       "      <td>40345.0</td>\n",
       "      <td>40345.000000</td>\n",
       "      <td>40345.000000</td>\n",
       "      <td>4.034500e+04</td>\n",
       "      <td>40345.000000</td>\n",
       "    </tr>\n",
       "    <tr>\n",
       "      <td>mean</td>\n",
       "      <td>15.650167</td>\n",
       "      <td>5.778857</td>\n",
       "      <td>2020.0</td>\n",
       "      <td>740.634998</td>\n",
       "      <td>23.323039</td>\n",
       "      <td>4.352456e+07</td>\n",
       "      <td>32.692452</td>\n",
       "    </tr>\n",
       "    <tr>\n",
       "      <td>std</td>\n",
       "      <td>8.789114</td>\n",
       "      <td>2.079801</td>\n",
       "      <td>0.0</td>\n",
       "      <td>4454.383489</td>\n",
       "      <td>130.907297</td>\n",
       "      <td>1.593796e+08</td>\n",
       "      <td>75.593779</td>\n",
       "    </tr>\n",
       "    <tr>\n",
       "      <td>min</td>\n",
       "      <td>1.000000</td>\n",
       "      <td>1.000000</td>\n",
       "      <td>2020.0</td>\n",
       "      <td>-8261.000000</td>\n",
       "      <td>-1918.000000</td>\n",
       "      <td>8.150000e+02</td>\n",
       "      <td>-147.419587</td>\n",
       "    </tr>\n",
       "    <tr>\n",
       "      <td>25%</td>\n",
       "      <td>8.000000</td>\n",
       "      <td>4.000000</td>\n",
       "      <td>2020.0</td>\n",
       "      <td>0.000000</td>\n",
       "      <td>0.000000</td>\n",
       "      <td>1.355982e+06</td>\n",
       "      <td>0.366917</td>\n",
       "    </tr>\n",
       "    <tr>\n",
       "      <td>50%</td>\n",
       "      <td>15.000000</td>\n",
       "      <td>6.000000</td>\n",
       "      <td>2020.0</td>\n",
       "      <td>13.000000</td>\n",
       "      <td>0.000000</td>\n",
       "      <td>8.519373e+06</td>\n",
       "      <td>4.521082</td>\n",
       "    </tr>\n",
       "    <tr>\n",
       "      <td>75%</td>\n",
       "      <td>23.000000</td>\n",
       "      <td>7.000000</td>\n",
       "      <td>2020.0</td>\n",
       "      <td>176.000000</td>\n",
       "      <td>3.000000</td>\n",
       "      <td>2.916192e+07</td>\n",
       "      <td>26.125156</td>\n",
       "    </tr>\n",
       "    <tr>\n",
       "      <td>max</td>\n",
       "      <td>31.000000</td>\n",
       "      <td>9.000000</td>\n",
       "      <td>2020.0</td>\n",
       "      <td>97894.000000</td>\n",
       "      <td>4928.000000</td>\n",
       "      <td>1.433784e+09</td>\n",
       "      <td>1058.225943</td>\n",
       "    </tr>\n",
       "  </tbody>\n",
       "</table>\n",
       "</div>"
      ],
      "text/plain": [
       "                day         month     year         cases        deaths  \\\n",
       "count  40345.000000  40345.000000  40345.0  40345.000000  40345.000000   \n",
       "mean      15.650167      5.778857   2020.0    740.634998     23.323039   \n",
       "std        8.789114      2.079801      0.0   4454.383489    130.907297   \n",
       "min        1.000000      1.000000   2020.0  -8261.000000  -1918.000000   \n",
       "25%        8.000000      4.000000   2020.0      0.000000      0.000000   \n",
       "50%       15.000000      6.000000   2020.0     13.000000      0.000000   \n",
       "75%       23.000000      7.000000   2020.0    176.000000      3.000000   \n",
       "max       31.000000      9.000000   2020.0  97894.000000   4928.000000   \n",
       "\n",
       "        popData2019  \\\n",
       "count  4.034500e+04   \n",
       "mean   4.352456e+07   \n",
       "std    1.593796e+08   \n",
       "min    8.150000e+02   \n",
       "25%    1.355982e+06   \n",
       "50%    8.519373e+06   \n",
       "75%    2.916192e+07   \n",
       "max    1.433784e+09   \n",
       "\n",
       "       Cumulative_number_for_14_days_of_COVID-19_cases_per_100000  \n",
       "count                                       40345.000000           \n",
       "mean                                           32.692452           \n",
       "std                                            75.593779           \n",
       "min                                          -147.419587           \n",
       "25%                                             0.366917           \n",
       "50%                                             4.521082           \n",
       "75%                                            26.125156           \n",
       "max                                          1058.225943           "
      ]
     },
     "execution_count": 91,
     "metadata": {},
     "output_type": "execute_result"
    }
   ],
   "source": [
    "#see statistics in data set\n",
    "CovidDF.describe()"
   ]
  },
  {
   "cell_type": "code",
   "execution_count": 92,
   "metadata": {},
   "outputs": [],
   "source": [
    "#convert all numbers in cases, deaths, cumulative_number to positives\n",
    "CovidDF['cases'] = CovidDF['cases'] .abs()\n",
    "CovidDF['deaths'] = CovidDF['deaths'].abs()\n",
    "CovidDF['Cumulative_number_for_14_days_of_COVID-19_cases_per_100000'] = CovidDF['Cumulative_number_for_14_days_of_COVID-19_cases_per_100000'].abs()"
   ]
  },
  {
   "cell_type": "code",
   "execution_count": 93,
   "metadata": {},
   "outputs": [
    {
     "data": {
      "text/html": [
       "<div>\n",
       "<style scoped>\n",
       "    .dataframe tbody tr th:only-of-type {\n",
       "        vertical-align: middle;\n",
       "    }\n",
       "\n",
       "    .dataframe tbody tr th {\n",
       "        vertical-align: top;\n",
       "    }\n",
       "\n",
       "    .dataframe thead th {\n",
       "        text-align: right;\n",
       "    }\n",
       "</style>\n",
       "<table border=\"1\" class=\"dataframe\">\n",
       "  <thead>\n",
       "    <tr style=\"text-align: right;\">\n",
       "      <th></th>\n",
       "      <th>day</th>\n",
       "      <th>month</th>\n",
       "      <th>year</th>\n",
       "      <th>cases</th>\n",
       "      <th>deaths</th>\n",
       "      <th>popData2019</th>\n",
       "      <th>Cumulative_number_for_14_days_of_COVID-19_cases_per_100000</th>\n",
       "    </tr>\n",
       "  </thead>\n",
       "  <tbody>\n",
       "    <tr>\n",
       "      <td>count</td>\n",
       "      <td>40345.000000</td>\n",
       "      <td>40345.000000</td>\n",
       "      <td>40345.0</td>\n",
       "      <td>40345.000000</td>\n",
       "      <td>40345.000000</td>\n",
       "      <td>4.034500e+04</td>\n",
       "      <td>40345.000000</td>\n",
       "    </tr>\n",
       "    <tr>\n",
       "      <td>mean</td>\n",
       "      <td>15.650167</td>\n",
       "      <td>5.778857</td>\n",
       "      <td>2020.0</td>\n",
       "      <td>741.445607</td>\n",
       "      <td>23.442508</td>\n",
       "      <td>4.352456e+07</td>\n",
       "      <td>32.788201</td>\n",
       "    </tr>\n",
       "    <tr>\n",
       "      <td>std</td>\n",
       "      <td>8.789114</td>\n",
       "      <td>2.079801</td>\n",
       "      <td>0.0</td>\n",
       "      <td>4454.248629</td>\n",
       "      <td>130.885955</td>\n",
       "      <td>1.593796e+08</td>\n",
       "      <td>75.552297</td>\n",
       "    </tr>\n",
       "    <tr>\n",
       "      <td>min</td>\n",
       "      <td>1.000000</td>\n",
       "      <td>1.000000</td>\n",
       "      <td>2020.0</td>\n",
       "      <td>0.000000</td>\n",
       "      <td>0.000000</td>\n",
       "      <td>8.150000e+02</td>\n",
       "      <td>0.000000</td>\n",
       "    </tr>\n",
       "    <tr>\n",
       "      <td>25%</td>\n",
       "      <td>8.000000</td>\n",
       "      <td>4.000000</td>\n",
       "      <td>2020.0</td>\n",
       "      <td>0.000000</td>\n",
       "      <td>0.000000</td>\n",
       "      <td>1.355982e+06</td>\n",
       "      <td>0.370995</td>\n",
       "    </tr>\n",
       "    <tr>\n",
       "      <td>50%</td>\n",
       "      <td>15.000000</td>\n",
       "      <td>6.000000</td>\n",
       "      <td>2020.0</td>\n",
       "      <td>13.000000</td>\n",
       "      <td>0.000000</td>\n",
       "      <td>8.519373e+06</td>\n",
       "      <td>4.526350</td>\n",
       "    </tr>\n",
       "    <tr>\n",
       "      <td>75%</td>\n",
       "      <td>23.000000</td>\n",
       "      <td>7.000000</td>\n",
       "      <td>2020.0</td>\n",
       "      <td>176.000000</td>\n",
       "      <td>3.000000</td>\n",
       "      <td>2.916192e+07</td>\n",
       "      <td>26.190997</td>\n",
       "    </tr>\n",
       "    <tr>\n",
       "      <td>max</td>\n",
       "      <td>31.000000</td>\n",
       "      <td>9.000000</td>\n",
       "      <td>2020.0</td>\n",
       "      <td>97894.000000</td>\n",
       "      <td>4928.000000</td>\n",
       "      <td>1.433784e+09</td>\n",
       "      <td>1058.225943</td>\n",
       "    </tr>\n",
       "  </tbody>\n",
       "</table>\n",
       "</div>"
      ],
      "text/plain": [
       "                day         month     year         cases        deaths  \\\n",
       "count  40345.000000  40345.000000  40345.0  40345.000000  40345.000000   \n",
       "mean      15.650167      5.778857   2020.0    741.445607     23.442508   \n",
       "std        8.789114      2.079801      0.0   4454.248629    130.885955   \n",
       "min        1.000000      1.000000   2020.0      0.000000      0.000000   \n",
       "25%        8.000000      4.000000   2020.0      0.000000      0.000000   \n",
       "50%       15.000000      6.000000   2020.0     13.000000      0.000000   \n",
       "75%       23.000000      7.000000   2020.0    176.000000      3.000000   \n",
       "max       31.000000      9.000000   2020.0  97894.000000   4928.000000   \n",
       "\n",
       "        popData2019  \\\n",
       "count  4.034500e+04   \n",
       "mean   4.352456e+07   \n",
       "std    1.593796e+08   \n",
       "min    8.150000e+02   \n",
       "25%    1.355982e+06   \n",
       "50%    8.519373e+06   \n",
       "75%    2.916192e+07   \n",
       "max    1.433784e+09   \n",
       "\n",
       "       Cumulative_number_for_14_days_of_COVID-19_cases_per_100000  \n",
       "count                                       40345.000000           \n",
       "mean                                           32.788201           \n",
       "std                                            75.552297           \n",
       "min                                             0.000000           \n",
       "25%                                             0.370995           \n",
       "50%                                             4.526350           \n",
       "75%                                            26.190997           \n",
       "max                                          1058.225943           "
      ]
     },
     "execution_count": 93,
     "metadata": {},
     "output_type": "execute_result"
    }
   ],
   "source": [
    "CovidDF.describe()"
   ]
  },
  {
   "cell_type": "code",
   "execution_count": 94,
   "metadata": {},
   "outputs": [
    {
     "data": {
      "text/plain": [
       "Text(0.5, 1.0, 'World Deaths')"
      ]
     },
     "execution_count": 94,
     "metadata": {},
     "output_type": "execute_result"
    },
    {
     "data": {
      "image/png": "[encoded data removed]",
      "text/plain": [
       "<Figure size 432x288 with 1 Axes>"
      ]
     },
     "metadata": {
      "needs_background": "light"
     },
     "output_type": "display_data"
    }
   ],
   "source": [
    "plt.hist(CovidDF['deaths'], bins = 5)\n",
    "plt.xlabel('deaths')\n",
    "plt.ylabel('frequency')\n",
    "plt.title('World Deaths')"
   ]
  },
  {
   "cell_type": "code",
   "execution_count": 95,
   "metadata": {},
   "outputs": [
    {
     "data": {
      "text/plain": [
       "Text(0.5, 1.0, 'World Cases')"
      ]
     },
     "execution_count": 95,
     "metadata": {},
     "output_type": "execute_result"
    },
    {
     "data": {
      "image/png": "[encoded data removed]",
      "text/plain": [
       "<Figure size 432x288 with 1 Axes>"
      ]
     },
     "metadata": {
      "needs_background": "light"
     },
     "output_type": "display_data"
    }
   ],
   "source": [
    "plt.hist(CovidDF['cases'], bins = 5)\n",
    "plt.xlabel('cases')\n",
    "plt.ylabel('frequency')\n",
    "plt.title('World Cases')"
   ]
  },
  {
   "cell_type": "code",
   "execution_count": 96,
   "metadata": {},
   "outputs": [
    {
     "data": {
      "text/plain": [
       "(array([3.9842e+04, 1.5800e+02, 1.0600e+02, 6.2000e+01, 6.1000e+01,\n",
       "        5.2000e+01, 3.1000e+01, 1.5000e+01, 8.0000e+00, 1.0000e+01]),\n",
       " array([0. , 0.1, 0.2, 0.3, 0.4, 0.5, 0.6, 0.7, 0.8, 0.9, 1. ]),\n",
       " <a list of 10 Patch objects>)"
      ]
     },
     "execution_count": 96,
     "metadata": {},
     "output_type": "execute_result"
    },
    {
     "data": {
      "image/png": "[encoded data removed]",
      "text/plain": [
       "<Figure size 432x288 with 1 Axes>"
      ]
     },
     "metadata": {
      "needs_background": "light"
     },
     "output_type": "display_data"
    }
   ],
   "source": [
    "plt.hist(MinMaxScaler().fit_transform(CovidDF[['cases']]))"
   ]
  },
  {
   "cell_type": "code",
   "execution_count": 97,
   "metadata": {},
   "outputs": [
    {
     "data": {
      "text/plain": [
       "(array([3.9802e+04, 3.3300e+02, 1.6400e+02, 2.5000e+01, 1.3000e+01,\n",
       "        2.0000e+00, 1.0000e+00, 4.0000e+00, 0.0000e+00, 1.0000e+00]),\n",
       " array([0. , 0.1, 0.2, 0.3, 0.4, 0.5, 0.6, 0.7, 0.8, 0.9, 1. ]),\n",
       " <a list of 10 Patch objects>)"
      ]
     },
     "execution_count": 97,
     "metadata": {},
     "output_type": "execute_result"
    },
    {
     "data": {
      "image/png": "[encoded data removed]",
      "text/plain": [
       "<Figure size 432x288 with 1 Axes>"
      ]
     },
     "metadata": {
      "needs_background": "light"
     },
     "output_type": "display_data"
    }
   ],
   "source": [
    "df = pd.DataFrame(CovidDF['deaths'])\n",
    "df['cases'] = CovidDF['cases']\n",
    "df['deaths'] = MinMaxScaler().fit_transform(df[['deaths']])\n",
    "plt.hist(df['deaths'])"
   ]
  },
  {
   "cell_type": "code",
   "execution_count": 98,
   "metadata": {},
   "outputs": [
    {
     "data": {
      "text/plain": [
       "Text(0.5, 0, 'cases')"
      ]
     },
     "execution_count": 98,
     "metadata": {},
     "output_type": "execute_result"
    },
    {
     "data": {
      "image/png": "[encoded data removed]",
      "text/plain": [
       "<Figure size 432x288 with 1 Axes>"
      ]
     },
     "metadata": {
      "needs_background": "light"
     },
     "output_type": "display_data"
    }
   ],
   "source": [
    "df['cases'] = MinMaxScaler().fit_transform(df[['cases']])\n",
    "plt.hist(df['cases'])\n",
    "plt.xlabel('cases')"
   ]
  },
  {
   "cell_type": "code",
   "execution_count": 101,
   "metadata": {},
   "outputs": [
    {
     "data": {
      "text/plain": [
       "Text(0.5, 0, 'cases')"
      ]
     },
     "execution_count": 101,
     "metadata": {},
     "output_type": "execute_result"
    },
    {
     "data": {
      "image/png": "[encoded data removed]",
      "text/plain": [
       "<Figure size 432x288 with 1 Axes>"
      ]
     },
     "metadata": {
      "needs_background": "light"
     },
     "output_type": "display_data"
    }
   ],
   "source": [
    "testdf = pd.DataFrame(CovidDF['deaths'])\n",
    "testdf['cases'] = CovidDF['cases']\n",
    "testdf['cases'] = StandardScaler().fit_transform(testdf[['cases']])\n",
    "plt.hist(testdf['cases'])\n",
    "plt.xlabel('cases')"
   ]
  },
  {
   "cell_type": "code",
   "execution_count": 102,
   "metadata": {},
   "outputs": [
    {
     "data": {
      "text/plain": [
       "Text(0.5, 0, 'deaths')"
      ]
     },
     "execution_count": 102,
     "metadata": {},
     "output_type": "execute_result"
    },
    {
     "data": {
      "image/png": "[encoded data removed]",
      "text/plain": [
       "<Figure size 432x288 with 1 Axes>"
      ]
     },
     "metadata": {
      "needs_background": "light"
     },
     "output_type": "display_data"
    }
   ],
   "source": [
    "testdf['deaths'] = StandardScaler().fit_transform(testdf[['deaths']])\n",
    "plt.hist(testdf['deaths'])\n",
    "plt.xlabel('deaths')"
   ]
  },
  {
   "cell_type": "code",
   "execution_count": 235,
   "metadata": {},
   "outputs": [
    {
     "data": {
      "text/html": [
       "<div>\n",
       "<style scoped>\n",
       "    .dataframe tbody tr th:only-of-type {\n",
       "        vertical-align: middle;\n",
       "    }\n",
       "\n",
       "    .dataframe tbody tr th {\n",
       "        vertical-align: top;\n",
       "    }\n",
       "\n",
       "    .dataframe thead th {\n",
       "        text-align: right;\n",
       "    }\n",
       "</style>\n",
       "<table border=\"1\" class=\"dataframe\">\n",
       "  <thead>\n",
       "    <tr style=\"text-align: right;\">\n",
       "      <th></th>\n",
       "      <th>day</th>\n",
       "      <th>year</th>\n",
       "      <th>cases</th>\n",
       "      <th>deaths</th>\n",
       "      <th>popData2019</th>\n",
       "      <th>Cumulative_number_for_14_days_of_COVID-19_cases_per_100000</th>\n",
       "    </tr>\n",
       "    <tr>\n",
       "      <th>month</th>\n",
       "      <th></th>\n",
       "      <th></th>\n",
       "      <th></th>\n",
       "      <th></th>\n",
       "      <th></th>\n",
       "      <th></th>\n",
       "    </tr>\n",
       "  </thead>\n",
       "  <tbody>\n",
       "    <tr>\n",
       "      <td>1</td>\n",
       "      <td>27588</td>\n",
       "      <td>2533080</td>\n",
       "      <td>9765</td>\n",
       "      <td>212</td>\n",
       "      <td>1.102120e+11</td>\n",
       "      <td>9.494658</td>\n",
       "    </tr>\n",
       "    <tr>\n",
       "      <td>2</td>\n",
       "      <td>28710</td>\n",
       "      <td>3866280</td>\n",
       "      <td>74707</td>\n",
       "      <td>2702</td>\n",
       "      <td>1.682183e+11</td>\n",
       "      <td>150.000095</td>\n",
       "    </tr>\n",
       "    <tr>\n",
       "      <td>3</td>\n",
       "      <td>44706</td>\n",
       "      <td>4680340</td>\n",
       "      <td>713121</td>\n",
       "      <td>35607</td>\n",
       "      <td>1.773923e+11</td>\n",
       "      <td>38166.036608</td>\n",
       "    </tr>\n",
       "    <tr>\n",
       "      <td>4</td>\n",
       "      <td>92999</td>\n",
       "      <td>11724080</td>\n",
       "      <td>2331293</td>\n",
       "      <td>189099</td>\n",
       "      <td>2.271054e+11</td>\n",
       "      <td>167942.210693</td>\n",
       "    </tr>\n",
       "    <tr>\n",
       "      <td>5</td>\n",
       "      <td>102558</td>\n",
       "      <td>12899720</td>\n",
       "      <td>2883066</td>\n",
       "      <td>144006</td>\n",
       "      <td>2.374732e+11</td>\n",
       "      <td>138218.374930</td>\n",
       "    </tr>\n",
       "    <tr>\n",
       "      <td>6</td>\n",
       "      <td>96702</td>\n",
       "      <td>12602780</td>\n",
       "      <td>4234645</td>\n",
       "      <td>134161</td>\n",
       "      <td>2.299731e+11</td>\n",
       "      <td>179060.938183</td>\n",
       "    </tr>\n",
       "    <tr>\n",
       "      <td>7</td>\n",
       "      <td>103168</td>\n",
       "      <td>13024960</td>\n",
       "      <td>7051516</td>\n",
       "      <td>166224</td>\n",
       "      <td>2.376684e+11</td>\n",
       "      <td>247716.722874</td>\n",
       "    </tr>\n",
       "    <tr>\n",
       "      <td>8</td>\n",
       "      <td>103168</td>\n",
       "      <td>13024960</td>\n",
       "      <td>7974888</td>\n",
       "      <td>179475</td>\n",
       "      <td>2.376684e+11</td>\n",
       "      <td>341028.112195</td>\n",
       "    </tr>\n",
       "    <tr>\n",
       "      <td>9</td>\n",
       "      <td>31807</td>\n",
       "      <td>7140700</td>\n",
       "      <td>4640622</td>\n",
       "      <td>94302</td>\n",
       "      <td>1.302873e+11</td>\n",
       "      <td>210548.062737</td>\n",
       "    </tr>\n",
       "  </tbody>\n",
       "</table>\n",
       "</div>"
      ],
      "text/plain": [
       "          day      year    cases  deaths   popData2019  \\\n",
       "month                                                    \n",
       "1       27588   2533080     9765     212  1.102120e+11   \n",
       "2       28710   3866280    74707    2702  1.682183e+11   \n",
       "3       44706   4680340   713121   35607  1.773923e+11   \n",
       "4       92999  11724080  2331293  189099  2.271054e+11   \n",
       "5      102558  12899720  2883066  144006  2.374732e+11   \n",
       "6       96702  12602780  4234645  134161  2.299731e+11   \n",
       "7      103168  13024960  7051516  166224  2.376684e+11   \n",
       "8      103168  13024960  7974888  179475  2.376684e+11   \n",
       "9       31807   7140700  4640622   94302  1.302873e+11   \n",
       "\n",
       "       Cumulative_number_for_14_days_of_COVID-19_cases_per_100000  \n",
       "month                                                              \n",
       "1                                               9.494658           \n",
       "2                                             150.000095           \n",
       "3                                           38166.036608           \n",
       "4                                          167942.210693           \n",
       "5                                          138218.374930           \n",
       "6                                          179060.938183           \n",
       "7                                          247716.722874           \n",
       "8                                          341028.112195           \n",
       "9                                          210548.062737           "
      ]
     },
     "execution_count": 235,
     "metadata": {},
     "output_type": "execute_result"
    }
   ],
   "source": [
    "CovidDF.groupby(['month']).sum()"
   ]
  },
  {
   "cell_type": "code",
   "execution_count": 236,
   "metadata": {},
   "outputs": [
    {
     "data": {
      "image/png": "[encoded data removed]",
      "text/plain": [
       "<Figure size 432x288 with 1 Axes>"
      ]
     },
     "metadata": {},
     "output_type": "display_data"
    }
   ],
   "source": [
    "\n",
    "x =  ['January', 'February', 'March', 'April', 'May', 'June', 'July', 'August', 'September', 'December 2019']\n",
    "sizes = CovidDF.groupby(['month']).sum()['cases']\n",
    "percent = 100.*sizes/sizes.sum()\n",
    "colors = ['pink', 'yellow', 'green', 'blue', 'purple', 'red', 'silver', 'orange', 'black', 'brown']\n",
    "explode = (0, 0, 0, 0, 0, 0,0,0,0,0)  # explode 1st slice\n",
    "labels = ['{0} - {1:1.2f} %'.format(i,j) for i,j in zip(x, percent)]\n",
    "# Plot\n",
    "plt.title(\"Cases by month\")\n",
    "patches, texts = plt.pie(sizes, colors=colors, shadow=True, startangle=90)\n",
    "plt.legend(patches, labels, loc=\"lower left\", bbox_to_anchor=(0.5,-0.80))\n",
    "plt.axis('equal')\n",
    "plt.show()"
   ]
  },
  {
   "cell_type": "code",
   "execution_count": 237,
   "metadata": {},
   "outputs": [
    {
     "data": {
      "image/png": "[encoded data removed]",
      "text/plain": [
       "<Figure size 432x288 with 1 Axes>"
      ]
     },
     "metadata": {},
     "output_type": "display_data"
    }
   ],
   "source": [
    "x =  ['January', 'February', 'March', 'April', 'May', 'June', 'July', 'August', 'September', 'December 2019']\n",
    "sizes = CovidDF.groupby(['month']).sum()['deaths']\n",
    "percent = 100.*sizes/sizes.sum()\n",
    "colors = ['pink', 'yellow', 'green', 'blue', 'purple', 'red', 'silver', 'orange', 'black', 'brown']\n",
    "explode = (0, 0, 0, 0, 0, 0,0,0,0,0)  # explode 1st slice\n",
    "labels = ['{0} - {1:1.2f} %'.format(i,j) for i,j in zip(x, percent)]\n",
    "# Plot\n",
    "plt.title(\"Deaths by month\")\n",
    "patches, texts = plt.pie(sizes, colors=colors, shadow=True, startangle=90)\n",
    "plt.legend(patches, labels, loc=\"lower left\", bbox_to_anchor=(0.5,-0.80))\n",
    "plt.axis('equal')\n",
    "plt.show()"
   ]
  },
  {
   "cell_type": "code",
   "execution_count": 238,
   "metadata": {},
   "outputs": [
    {
     "data": {
      "text/html": [
       "<div>\n",
       "<style scoped>\n",
       "    .dataframe tbody tr th:only-of-type {\n",
       "        vertical-align: middle;\n",
       "    }\n",
       "\n",
       "    .dataframe tbody tr th {\n",
       "        vertical-align: top;\n",
       "    }\n",
       "\n",
       "    .dataframe thead th {\n",
       "        text-align: right;\n",
       "    }\n",
       "</style>\n",
       "<table border=\"1\" class=\"dataframe\">\n",
       "  <thead>\n",
       "    <tr style=\"text-align: right;\">\n",
       "      <th></th>\n",
       "      <th>day</th>\n",
       "      <th>month</th>\n",
       "      <th>year</th>\n",
       "      <th>cases</th>\n",
       "      <th>deaths</th>\n",
       "      <th>popData2019</th>\n",
       "      <th>Cumulative_number_for_14_days_of_COVID-19_cases_per_100000</th>\n",
       "    </tr>\n",
       "    <tr>\n",
       "      <th>countriesAndTerritories</th>\n",
       "      <th></th>\n",
       "      <th></th>\n",
       "      <th></th>\n",
       "      <th></th>\n",
       "      <th></th>\n",
       "      <th></th>\n",
       "      <th></th>\n",
       "    </tr>\n",
       "  </thead>\n",
       "  <tbody>\n",
       "    <tr>\n",
       "      <td>United_States_of_America</td>\n",
       "      <td>3920</td>\n",
       "      <td>1243</td>\n",
       "      <td>502980</td>\n",
       "      <td>6630891</td>\n",
       "      <td>196802</td>\n",
       "      <td>8.193716e+10</td>\n",
       "      <td>27199.331614</td>\n",
       "    </tr>\n",
       "    <tr>\n",
       "      <td>India</td>\n",
       "      <td>3911</td>\n",
       "      <td>1240</td>\n",
       "      <td>500960</td>\n",
       "      <td>5118253</td>\n",
       "      <td>83198</td>\n",
       "      <td>3.388716e+11</td>\n",
       "      <td>4631.584427</td>\n",
       "    </tr>\n",
       "    <tr>\n",
       "      <td>Brazil</td>\n",
       "      <td>3920</td>\n",
       "      <td>1243</td>\n",
       "      <td>502980</td>\n",
       "      <td>4419083</td>\n",
       "      <td>134106</td>\n",
       "      <td>5.255133e+10</td>\n",
       "      <td>28058.085742</td>\n",
       "    </tr>\n",
       "    <tr>\n",
       "      <td>Russia</td>\n",
       "      <td>3920</td>\n",
       "      <td>1243</td>\n",
       "      <td>502980</td>\n",
       "      <td>1079519</td>\n",
       "      <td>18917</td>\n",
       "      <td>3.632219e+10</td>\n",
       "      <td>10017.866317</td>\n",
       "    </tr>\n",
       "    <tr>\n",
       "      <td>Peru</td>\n",
       "      <td>2857</td>\n",
       "      <td>1106</td>\n",
       "      <td>365620</td>\n",
       "      <td>744166</td>\n",
       "      <td>31049</td>\n",
       "      <td>5.884394e+09</td>\n",
       "      <td>30469.822299</td>\n",
       "    </tr>\n",
       "    <tr>\n",
       "      <td>...</td>\n",
       "      <td>...</td>\n",
       "      <td>...</td>\n",
       "      <td>...</td>\n",
       "      <td>...</td>\n",
       "      <td>...</td>\n",
       "      <td>...</td>\n",
       "      <td>...</td>\n",
       "    </tr>\n",
       "    <tr>\n",
       "      <td>Holy_See</td>\n",
       "      <td>2689</td>\n",
       "      <td>1085</td>\n",
       "      <td>351480</td>\n",
       "      <td>7</td>\n",
       "      <td>0</td>\n",
       "      <td>1.418100e+05</td>\n",
       "      <td>18527.607362</td>\n",
       "    </tr>\n",
       "    <tr>\n",
       "      <td>Saint_Kitts_and_Nevis</td>\n",
       "      <td>2543</td>\n",
       "      <td>1045</td>\n",
       "      <td>329260</td>\n",
       "      <td>6</td>\n",
       "      <td>0</td>\n",
       "      <td>8.611942e+06</td>\n",
       "      <td>287.693531</td>\n",
       "    </tr>\n",
       "    <tr>\n",
       "      <td>Greenland</td>\n",
       "      <td>2570</td>\n",
       "      <td>1069</td>\n",
       "      <td>341380</td>\n",
       "      <td>4</td>\n",
       "      <td>0</td>\n",
       "      <td>9.575540e+06</td>\n",
       "      <td>211.789622</td>\n",
       "    </tr>\n",
       "    <tr>\n",
       "      <td>Falkland_Islands_(Malvinas)</td>\n",
       "      <td>2435</td>\n",
       "      <td>1009</td>\n",
       "      <td>311080</td>\n",
       "      <td>2</td>\n",
       "      <td>0</td>\n",
       "      <td>5.192880e+05</td>\n",
       "      <td>3529.062871</td>\n",
       "    </tr>\n",
       "    <tr>\n",
       "      <td>Anguilla</td>\n",
       "      <td>2535</td>\n",
       "      <td>1041</td>\n",
       "      <td>327240</td>\n",
       "      <td>0</td>\n",
       "      <td>0</td>\n",
       "      <td>2.409264e+06</td>\n",
       "      <td>67.240452</td>\n",
       "    </tr>\n",
       "  </tbody>\n",
       "</table>\n",
       "<p>208 rows × 7 columns</p>\n",
       "</div>"
      ],
      "text/plain": [
       "                              day  month    year    cases  deaths  \\\n",
       "countriesAndTerritories                                             \n",
       "United_States_of_America     3920   1243  502980  6630891  196802   \n",
       "India                        3911   1240  500960  5118253   83198   \n",
       "Brazil                       3920   1243  502980  4419083  134106   \n",
       "Russia                       3920   1243  502980  1079519   18917   \n",
       "Peru                         2857   1106  365620   744166   31049   \n",
       "...                           ...    ...     ...      ...     ...   \n",
       "Holy_See                     2689   1085  351480        7       0   \n",
       "Saint_Kitts_and_Nevis        2543   1045  329260        6       0   \n",
       "Greenland                    2570   1069  341380        4       0   \n",
       "Falkland_Islands_(Malvinas)  2435   1009  311080        2       0   \n",
       "Anguilla                     2535   1041  327240        0       0   \n",
       "\n",
       "                              popData2019  \\\n",
       "countriesAndTerritories                     \n",
       "United_States_of_America     8.193716e+10   \n",
       "India                        3.388716e+11   \n",
       "Brazil                       5.255133e+10   \n",
       "Russia                       3.632219e+10   \n",
       "Peru                         5.884394e+09   \n",
       "...                                   ...   \n",
       "Holy_See                     1.418100e+05   \n",
       "Saint_Kitts_and_Nevis        8.611942e+06   \n",
       "Greenland                    9.575540e+06   \n",
       "Falkland_Islands_(Malvinas)  5.192880e+05   \n",
       "Anguilla                     2.409264e+06   \n",
       "\n",
       "                             Cumulative_number_for_14_days_of_COVID-19_cases_per_100000  \n",
       "countriesAndTerritories                                                                  \n",
       "United_States_of_America                                          27199.331614           \n",
       "India                                                              4631.584427           \n",
       "Brazil                                                            28058.085742           \n",
       "Russia                                                            10017.866317           \n",
       "Peru                                                              30469.822299           \n",
       "...                                                                        ...           \n",
       "Holy_See                                                          18527.607362           \n",
       "Saint_Kitts_and_Nevis                                               287.693531           \n",
       "Greenland                                                           211.789622           \n",
       "Falkland_Islands_(Malvinas)                                        3529.062871           \n",
       "Anguilla                                                             67.240452           \n",
       "\n",
       "[208 rows x 7 columns]"
      ]
     },
     "execution_count": 238,
     "metadata": {},
     "output_type": "execute_result"
    }
   ],
   "source": [
    "CovidDF = CovidDF.groupby(['countriesAndTerritories']).sum().sort_values(['cases'], ascending = False)\n",
    "CovidDF"
   ]
  },
  {
   "cell_type": "code",
   "execution_count": 239,
   "metadata": {},
   "outputs": [
    {
     "data": {
      "text/plain": [
       "<BarContainer object of 5 artists>"
      ]
     },
     "execution_count": 239,
     "metadata": {},
     "output_type": "execute_result"
    },
    {
     "data": {
      "image/png": "[encoded data removed]",
      "text/plain": [
       "<Figure size 432x288 with 1 Axes>"
      ]
     },
     "metadata": {
      "needs_background": "light"
     },
     "output_type": "display_data"
    }
   ],
   "source": [
    "plt.title('Top Five Countries by Cases')\n",
    "plt.xlabel('Countries')\n",
    "plt.ylabel('Cases')\n",
    "plt.bar(['United States', 'India', 'Brazil', 'Russia', 'Peru'], CovidDF['cases'][[0,1,2,3,4]], color = ['red', 'green', 'yellow', 'blue', 'purple'])"
   ]
  },
  {
   "cell_type": "code",
   "execution_count": 240,
   "metadata": {},
   "outputs": [
    {
     "data": {
      "text/html": [
       "<div>\n",
       "<style scoped>\n",
       "    .dataframe tbody tr th:only-of-type {\n",
       "        vertical-align: middle;\n",
       "    }\n",
       "\n",
       "    .dataframe tbody tr th {\n",
       "        vertical-align: top;\n",
       "    }\n",
       "\n",
       "    .dataframe thead th {\n",
       "        text-align: right;\n",
       "    }\n",
       "</style>\n",
       "<table border=\"1\" class=\"dataframe\">\n",
       "  <thead>\n",
       "    <tr style=\"text-align: right;\">\n",
       "      <th></th>\n",
       "      <th>day</th>\n",
       "      <th>month</th>\n",
       "      <th>year</th>\n",
       "      <th>cases</th>\n",
       "      <th>deaths</th>\n",
       "      <th>popData2019</th>\n",
       "      <th>Cumulative_number_for_14_days_of_COVID-19_cases_per_100000</th>\n",
       "    </tr>\n",
       "    <tr>\n",
       "      <th>countriesAndTerritories</th>\n",
       "      <th></th>\n",
       "      <th></th>\n",
       "      <th></th>\n",
       "      <th></th>\n",
       "      <th></th>\n",
       "      <th></th>\n",
       "      <th></th>\n",
       "    </tr>\n",
       "  </thead>\n",
       "  <tbody>\n",
       "    <tr>\n",
       "      <td>United_States_of_America</td>\n",
       "      <td>3920</td>\n",
       "      <td>1243</td>\n",
       "      <td>502980</td>\n",
       "      <td>6630891</td>\n",
       "      <td>196802</td>\n",
       "      <td>8.193716e+10</td>\n",
       "      <td>27199.331614</td>\n",
       "    </tr>\n",
       "    <tr>\n",
       "      <td>Brazil</td>\n",
       "      <td>3920</td>\n",
       "      <td>1243</td>\n",
       "      <td>502980</td>\n",
       "      <td>4419083</td>\n",
       "      <td>134106</td>\n",
       "      <td>5.255133e+10</td>\n",
       "      <td>28058.085742</td>\n",
       "    </tr>\n",
       "    <tr>\n",
       "      <td>India</td>\n",
       "      <td>3911</td>\n",
       "      <td>1240</td>\n",
       "      <td>500960</td>\n",
       "      <td>5118253</td>\n",
       "      <td>83198</td>\n",
       "      <td>3.388716e+11</td>\n",
       "      <td>4631.584427</td>\n",
       "    </tr>\n",
       "    <tr>\n",
       "      <td>Mexico</td>\n",
       "      <td>3866</td>\n",
       "      <td>1219</td>\n",
       "      <td>486820</td>\n",
       "      <td>680931</td>\n",
       "      <td>71978</td>\n",
       "      <td>3.074570e+10</td>\n",
       "      <td>7135.728201</td>\n",
       "    </tr>\n",
       "    <tr>\n",
       "      <td>United_Kingdom</td>\n",
       "      <td>3920</td>\n",
       "      <td>1243</td>\n",
       "      <td>502980</td>\n",
       "      <td>378219</td>\n",
       "      <td>41684</td>\n",
       "      <td>1.659513e+10</td>\n",
       "      <td>7515.737516</td>\n",
       "    </tr>\n",
       "    <tr>\n",
       "      <td>...</td>\n",
       "      <td>...</td>\n",
       "      <td>...</td>\n",
       "      <td>...</td>\n",
       "      <td>...</td>\n",
       "      <td>...</td>\n",
       "      <td>...</td>\n",
       "      <td>...</td>\n",
       "    </tr>\n",
       "    <tr>\n",
       "      <td>Bhutan</td>\n",
       "      <td>2716</td>\n",
       "      <td>1088</td>\n",
       "      <td>353500</td>\n",
       "      <td>243</td>\n",
       "      <td>0</td>\n",
       "      <td>1.335414e+08</td>\n",
       "      <td>432.450000</td>\n",
       "    </tr>\n",
       "    <tr>\n",
       "      <td>Saint_Kitts_and_Nevis</td>\n",
       "      <td>2543</td>\n",
       "      <td>1045</td>\n",
       "      <td>329260</td>\n",
       "      <td>6</td>\n",
       "      <td>0</td>\n",
       "      <td>8.611942e+06</td>\n",
       "      <td>287.693531</td>\n",
       "    </tr>\n",
       "    <tr>\n",
       "      <td>Saint_Lucia</td>\n",
       "      <td>2689</td>\n",
       "      <td>1085</td>\n",
       "      <td>351480</td>\n",
       "      <td>24</td>\n",
       "      <td>0</td>\n",
       "      <td>3.180633e+07</td>\n",
       "      <td>188.188955</td>\n",
       "    </tr>\n",
       "    <tr>\n",
       "      <td>Saint_Vincent_and_the_Grenadines</td>\n",
       "      <td>2556</td>\n",
       "      <td>1053</td>\n",
       "      <td>333300</td>\n",
       "      <td>57</td>\n",
       "      <td>0</td>\n",
       "      <td>1.824784e+07</td>\n",
       "      <td>767.679690</td>\n",
       "    </tr>\n",
       "    <tr>\n",
       "      <td>New_Caledonia</td>\n",
       "      <td>2568</td>\n",
       "      <td>1065</td>\n",
       "      <td>339360</td>\n",
       "      <td>10</td>\n",
       "      <td>0</td>\n",
       "      <td>4.750318e+07</td>\n",
       "      <td>76.037021</td>\n",
       "    </tr>\n",
       "  </tbody>\n",
       "</table>\n",
       "<p>208 rows × 7 columns</p>\n",
       "</div>"
      ],
      "text/plain": [
       "                                   day  month    year    cases  deaths  \\\n",
       "countriesAndTerritories                                                  \n",
       "United_States_of_America          3920   1243  502980  6630891  196802   \n",
       "Brazil                            3920   1243  502980  4419083  134106   \n",
       "India                             3911   1240  500960  5118253   83198   \n",
       "Mexico                            3866   1219  486820   680931   71978   \n",
       "United_Kingdom                    3920   1243  502980   378219   41684   \n",
       "...                                ...    ...     ...      ...     ...   \n",
       "Bhutan                            2716   1088  353500      243       0   \n",
       "Saint_Kitts_and_Nevis             2543   1045  329260        6       0   \n",
       "Saint_Lucia                       2689   1085  351480       24       0   \n",
       "Saint_Vincent_and_the_Grenadines  2556   1053  333300       57       0   \n",
       "New_Caledonia                     2568   1065  339360       10       0   \n",
       "\n",
       "                                   popData2019  \\\n",
       "countriesAndTerritories                          \n",
       "United_States_of_America          8.193716e+10   \n",
       "Brazil                            5.255133e+10   \n",
       "India                             3.388716e+11   \n",
       "Mexico                            3.074570e+10   \n",
       "United_Kingdom                    1.659513e+10   \n",
       "...                                        ...   \n",
       "Bhutan                            1.335414e+08   \n",
       "Saint_Kitts_and_Nevis             8.611942e+06   \n",
       "Saint_Lucia                       3.180633e+07   \n",
       "Saint_Vincent_and_the_Grenadines  1.824784e+07   \n",
       "New_Caledonia                     4.750318e+07   \n",
       "\n",
       "                                  Cumulative_number_for_14_days_of_COVID-19_cases_per_100000  \n",
       "countriesAndTerritories                                                                       \n",
       "United_States_of_America                                               27199.331614           \n",
       "Brazil                                                                 28058.085742           \n",
       "India                                                                   4631.584427           \n",
       "Mexico                                                                  7135.728201           \n",
       "United_Kingdom                                                          7515.737516           \n",
       "...                                                                             ...           \n",
       "Bhutan                                                                   432.450000           \n",
       "Saint_Kitts_and_Nevis                                                    287.693531           \n",
       "Saint_Lucia                                                              188.188955           \n",
       "Saint_Vincent_and_the_Grenadines                                         767.679690           \n",
       "New_Caledonia                                                             76.037021           \n",
       "\n",
       "[208 rows x 7 columns]"
      ]
     },
     "execution_count": 240,
     "metadata": {},
     "output_type": "execute_result"
    }
   ],
   "source": [
    "CovidDF = CovidDF.groupby(['countriesAndTerritories']).sum().sort_values(['deaths'], ascending = False)\n",
    "CovidDF"
   ]
  },
  {
   "cell_type": "code",
   "execution_count": 241,
   "metadata": {},
   "outputs": [
    {
     "data": {
      "text/plain": [
       "<BarContainer object of 5 artists>"
      ]
     },
     "execution_count": 241,
     "metadata": {},
     "output_type": "execute_result"
    },
    {
     "data": {
      "image/png": "[encoded data removed]",
      "text/plain": [
       "<Figure size 432x288 with 1 Axes>"
      ]
     },
     "metadata": {
      "needs_background": "light"
     },
     "output_type": "display_data"
    }
   ],
   "source": [
    "plt.title('Top Five Countries by Deaths')\n",
    "plt.xlabel('Countries')\n",
    "plt.ylabel('Deaths')\n",
    "plt.bar(['United States', 'Brazil', 'India', 'Mexico', 'UK'], CovidDF['deaths'][[0,1,2,3,4]], color = ['red', 'green', 'yellow', 'blue', 'purple'])"
   ]
  }
 ],
 "metadata": {
  "kernelspec": {
   "display_name": "Python 3",
   "language": "python",
   "name": "python3"
  },
  "language_info": {
   "codemirror_mode": {
    "name": "ipython",
    "version": 3
   },
   "file_extension": ".py",
   "mimetype": "text/x-python",
   "name": "python",
   "nbconvert_exporter": "python",
   "pygments_lexer": "ipython3",
   "version": "3.7.4"
  }
 },
 "nbformat": 4,
 "nbformat_minor": 2
}
