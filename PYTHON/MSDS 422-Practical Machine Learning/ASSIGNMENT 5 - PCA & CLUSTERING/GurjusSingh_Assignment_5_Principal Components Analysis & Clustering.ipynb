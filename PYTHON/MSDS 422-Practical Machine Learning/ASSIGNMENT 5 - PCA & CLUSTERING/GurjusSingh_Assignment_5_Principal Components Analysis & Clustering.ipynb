{
 "cells": [
  {
   "cell_type": "markdown",
   "metadata": {},
   "source": [
    "# Appendix"
   ]
  },
  {
   "cell_type": "code",
   "execution_count": null,
   "metadata": {},
   "outputs": [],
   "source": [
    "# Helper libraries\n",
    "import numpy as np\n",
    "import pandas as pd\n",
    "from time import time\n",
    "from collections import Counter\n",
    "\n",
    "import matplotlib\n",
    "import matplotlib.image as mpimg\n",
    "import matplotlib.pyplot as plt\n",
    "import seaborn as sns\n",
    "from IPython.display import display\n",
    "import plotly.offline as py\n",
    "import plotly.graph_objs as go\n",
    "import plotly.tools as tls\n",
    "\n",
    "from sklearn import metrics\n",
    "from sklearn.preprocessing import scale\n",
    "from sklearn.decomposition import PCA\n",
    "from sklearn.ensemble import RandomForestClassifier\n",
    "from sklearn.cluster import KMeans\n",
    "from sklearn.manifold import TSNE\n",
    "from sklearn.preprocessing import StandardScaler\n",
    "from sklearn.metrics.cluster import homogeneity_score"
   ]
  },
  {
   "cell_type": "code",
   "execution_count": null,
   "metadata": {},
   "outputs": [],
   "source": [
    "def warn(*args, **kwargs):\n",
    "    pass\n",
    "import warnings\n",
    "warnings.warn = warn"
   ]
  },
  {
   "cell_type": "code",
   "execution_count": null,
   "metadata": {},
   "outputs": [],
   "source": [
    "training_df = pd.read_csv(\"/Users/gurjy/Downloads/train.csv\")\n"
   ]
  },
  {
   "cell_type": "code",
   "execution_count": null,
   "metadata": {},
   "outputs": [],
   "source": [
    "print(training_df.shape)"
   ]
  },
  {
   "cell_type": "code",
   "execution_count": null,
   "metadata": {},
   "outputs": [],
   "source": [
    "#save label in different variable\n",
    "target = training_df['label']\n",
    "# Drop the label feature\n",
    "training_df.drop(\"label\",axis=1,inplace=True)"
   ]
  },
  {
   "cell_type": "code",
   "execution_count": null,
   "metadata": {},
   "outputs": [],
   "source": [
    "target.shape"
   ]
  },
  {
   "cell_type": "code",
   "execution_count": null,
   "metadata": {},
   "outputs": [],
   "source": [
    "X = training_df.values\n",
    "#scale features\n",
    "X_std = StandardScaler().fit_transform(X)\n",
    "\n",
    "# Calculating Eigenvectors and eigenvalues of Cov matirx\n",
    "mean_vec = np.mean(X_std, axis=0)\n",
    "cov_mat = np.cov(X_std.T)\n",
    "eig_vals, eig_vecs = np.linalg.eig(cov_mat)\n",
    "# Create a list of (eigenvalue, eigenvector) tuples\n",
    "eig_pairs = [ (np.abs(eig_vals[i]),eig_vecs[:,i]) for i in range(len(eig_vals))]\n",
    "\n",
    "# Sort the eigenvalue, eigenvector pair from high to low\n",
    "eig_pairs.sort(key = lambda x: x[0], reverse= True)\n",
    "\n",
    "# Calculation of Explained Variance from the eigenvalues\n",
    "tot = sum(eig_vals)\n",
    "var_exp = [(i/tot)*100 for i in sorted(eig_vals, reverse=True)] # Individual explained variance\n",
    "cum_var_exp = np.cumsum(var_exp) # Cumulative explained variance"
   ]
  },
  {
   "cell_type": "code",
   "execution_count": null,
   "metadata": {},
   "outputs": [],
   "source": [
    "X = training_df.values\n",
    "X_std = StandardScaler().fit_transform(X)\n",
    "\n",
    "mean_vec=np.mean(X_std,axis=0)\n",
    "cov_mat=np.cov(X_std.T)\n",
    "eigvalues ,eigvectors =np.linalg.eig(cov_mat)\n",
    "\n",
    "eigpairs=[(np.abs(eigvalues[i]),eigvectors[:,i] )for i in range(len(eigvalues))]\n",
    "\n",
    "\n",
    "eigpairs.sort(key=lambda x:x[0],reverse=True)\n",
    "   \n",
    "tot=sum(eigvalues)\n",
    "var_exp=[(i/tot)*100 for i in sorted(eigvalues,reverse=True)]\n",
    "cum_var_exp=np.cumsum(var_exp)"
   ]
  },
  {
   "cell_type": "code",
   "execution_count": null,
   "metadata": {},
   "outputs": [],
   "source": [
    "#shows how many PCAs are good to use to explain data in lower dimension\n",
    "trace1 = go.Scatter(\n",
    "    x=list(range(784)),\n",
    "    y= cum_var_exp,\n",
    "    mode='lines+markers',\n",
    "    name=\"'Cumulative Explained Variance'\",\n",
    "   \n",
    "    line = dict(\n",
    "        shape='spline',\n",
    "        color = 'goldenrod'\n",
    "    )\n",
    ")\n",
    "trace2 = go.Scatter(\n",
    "    x=list(range(784)),\n",
    "    y= var_exp,\n",
    "    mode='lines+markers',\n",
    "    name=\"'Individual Explained Variance'\",\n",
    " \n",
    "     line = dict(\n",
    "        shape='linear',\n",
    "        color = 'black'\n",
    "    )\n",
    ")\n",
    "fig = tls.make_subplots(insets=[{'cell': (1,1), 'l': 0.7, 'b': 0.5}],\n",
    "                          print_grid=True)\n",
    "\n",
    "fig.append_trace(trace1,1,1)\n",
    "fig.append_trace(trace2,1,1)\n",
    "\n",
    "\n",
    "fig.layout.title='explained Variance plots'\n",
    "fig.layout.xaxis=dict(range=[0,800],title='Feature columns')\n",
    "fig.layout.yaxis=dict(range=[0,100],title='explained variance')\n",
    "\n",
    "\n",
    "py.iplot(fig,filename='inset example')"
   ]
  },
  {
   "cell_type": "code",
   "execution_count": null,
   "metadata": {},
   "outputs": [],
   "source": [
    "#make 30 PCAs\n",
    "pca=PCA(30)\n",
    "pca.fit(X_std)"
   ]
  },
  {
   "cell_type": "code",
   "execution_count": null,
   "metadata": {},
   "outputs": [],
   "source": [
    "X_pca=pca.transform(X_std)"
   ]
  },
  {
   "cell_type": "code",
   "execution_count": null,
   "metadata": {},
   "outputs": [],
   "source": [
    "X_pca.shape"
   ]
  },
  {
   "cell_type": "code",
   "execution_count": null,
   "metadata": {},
   "outputs": [],
   "source": [
    "X_std.shape"
   ]
  },
  {
   "cell_type": "code",
   "execution_count": null,
   "metadata": {},
   "outputs": [],
   "source": [
    "eigenvectors=pca.components_\n",
    "eigenvectors.shape"
   ]
  },
  {
   "cell_type": "code",
   "execution_count": null,
   "metadata": {},
   "outputs": [],
   "source": [
    "plt.figure(figsize=(17,16))\n",
    "\n",
    "x_row=4\n",
    "y_col=7\n",
    "\n",
    "for i in list(range(x_row*y_col)):\n",
    "    \n",
    "    plt.subplot(x_row,y_col,i+1)\n",
    "    plt.imshow(eigenvectors[i].reshape(28,28),cmap='twilight_shifted')\n",
    "    title_='Eigenvector'+str(i+1)\n",
    "    plt.title(title_)\n",
    "    plt.xticks(())\n",
    "    plt.yticks(())\n",
    "plt.show()"
   ]
  },
  {
   "cell_type": "code",
   "execution_count": null,
   "metadata": {},
   "outputs": [],
   "source": [
    "plt.figure(figsize=(12,13))\n",
    "\n",
    "for i in list(range(0,70)):\n",
    "    plt.subplot(7,10,i+1)\n",
    "    plt.title(target[i])\n",
    "    plt.imshow(training_df.iloc[i].values.reshape(28,28), interpolation = \"none\", cmap='binary')\n",
    "    plt.xticks([])\n",
    "    plt.yticks([])\n",
    "plt.tight_layout()\n",
    "               \n",
    "plt.tight_layout"
   ]
  },
  {
   "cell_type": "code",
   "execution_count": null,
   "metadata": {},
   "outputs": [],
   "source": [
    "#140 PCS explain 80% of data\n",
    "X_=training_df\n",
    "X_std_=StandardScaler().fit_transform(X_)\n",
    "pca_=PCA(140)\n",
    "X_140d=pca_.fit_transform(X_std_)\n",
    "Target=target"
   ]
  },
  {
   "cell_type": "code",
   "execution_count": null,
   "metadata": {
    "scrolled": true
   },
   "outputs": [],
   "source": [
    "trace = go.Scatter(\n",
    "    x = X_140d[:,0],\n",
    "    y = X_140d[:,1],\n",
    "    name = str(Target),\n",
    "    \n",
    "    mode = 'markers',\n",
    "    text = Target,\n",
    "    showlegend = False,\n",
    "    marker = dict(\n",
    "        size = 8,\n",
    "        color = Target,\n",
    "        colorscale ='Jet',\n",
    "        showscale = False,\n",
    "        line = dict(\n",
    "            width = 2,\n",
    "            color = 'rgb(255, 255, 255)'\n",
    "        ),\n",
    "        \n",
    "        opacity = 0.8\n",
    "    )\n",
    ")\n",
    "\n",
    "data=[trace]\n",
    "\n",
    "layout=go.Layout(title='PCA',\n",
    "                hovermode='closest',\n",
    "                xaxis=dict(\n",
    "                    title='First principal direction',\n",
    "                    ticklen=5,\n",
    "                    zeroline=False),\n",
    "                 yaxis=dict(\n",
    "                 title='Second principal direction',\n",
    "                 ticklen=5\n",
    "            ),\n",
    "                 showlegend=True\n",
    "                \n",
    "                    \n",
    "                )\n",
    "fig=dict(data=data,layout=layout)\n",
    "py.iplot(fig,filename='pca')"
   ]
  },
  {
   "cell_type": "code",
   "execution_count": null,
   "metadata": {},
   "outputs": [],
   "source": [
    "#now see how good clustering does using PCs\n",
    "kmeans=KMeans(10)\n",
    "X_clustered140=kmeans.fit_predict(X_140d)"
   ]
  },
  {
   "cell_type": "code",
   "execution_count": null,
   "metadata": {},
   "outputs": [],
   "source": [
    "tracekmeans = go.Scatter(x=X_140d[:, 0], y= X_140d[:, 1], mode=\"markers\",\n",
    "                    showlegend=False,\n",
    "                    marker=dict(\n",
    "                            size=8,\n",
    "                            color = X_clustered140,\n",
    "                            colorscale = 'Portland',\n",
    "                            showscale=False, \n",
    "                            line = dict(\n",
    "            width = 2,\n",
    "            color = 'rgb(255, 255, 255)'\n",
    "        )\n",
    "                   ))\n",
    "\n",
    "\n",
    "layout=go.Layout(title='Kmeans clustering',\n",
    "                 hovermode='closest',\n",
    "                 xaxis=dict(title='first principal direction',\n",
    "                           ticklen=5,\n",
    "                           zeroline=False,\n",
    "                           gridwidth=2),\n",
    "                 yaxis=dict(title='second principal component',\n",
    "                           ticklen=5,\n",
    "                           gridwidth=2),\n",
    "                 showlegend=True\n",
    "                     )\n",
    "\n",
    "data = [tracekmeans]\n",
    "fig1 = dict(data=data, layout= layout)\n",
    "py.iplot(fig1, filename=\"svm\")"
   ]
  },
  {
   "cell_type": "code",
   "execution_count": null,
   "metadata": {},
   "outputs": [],
   "source": [
    "x_clusters_df=pd.DataFrame(X_clustered140, dtype=int)\n",
    "x_clusters_df.columns=['Cluster']\n",
    "targeted_df=pd.DataFrame(Target,dtype=int)"
   ]
  },
  {
   "cell_type": "code",
   "execution_count": null,
   "metadata": {},
   "outputs": [],
   "source": [
    "pd.crosstab(targeted_df.label, x_clusters_df.Cluster)"
   ]
  },
  {
   "cell_type": "code",
   "execution_count": null,
   "metadata": {},
   "outputs": [],
   "source": [
    "#use three metrics\n",
    "homogeneity_score(Target, X_clustered140)"
   ]
  },
  {
   "cell_type": "code",
   "execution_count": null,
   "metadata": {},
   "outputs": [],
   "source": [
    "metrics.silhouette_score(X_140d, X_clustered140)"
   ]
  },
  {
   "cell_type": "code",
   "execution_count": null,
   "metadata": {},
   "outputs": [],
   "source": [
    "metrics.completeness_score(Target, X_clustered140)"
   ]
  },
  {
   "cell_type": "code",
   "execution_count": null,
   "metadata": {},
   "outputs": [],
   "source": [
    "#do same thing with 319 PCs and 784 PCs\n",
    "X_=training_df\n",
    "X_std_=StandardScaler().fit_transform(X_)\n",
    "pca_=PCA(319)\n",
    "X_319d=pca_.fit_transform(X_std_)\n",
    "Target=target"
   ]
  },
  {
   "cell_type": "code",
   "execution_count": null,
   "metadata": {},
   "outputs": [],
   "source": [
    "trace = go.Scatter(\n",
    "    x = X_319d[:,0],\n",
    "    y = X_319d[:,1],\n",
    "    name = str(Target),\n",
    "    \n",
    "    mode = 'markers',\n",
    "    text = Target,\n",
    "    showlegend = False,\n",
    "    marker = dict(\n",
    "        size = 8,\n",
    "        color = Target,\n",
    "        colorscale ='Jet',\n",
    "        showscale = False,\n",
    "        line = dict(\n",
    "            width = 2,\n",
    "            color = 'rgb(255, 255, 255)'\n",
    "        ),\n",
    "        \n",
    "        opacity = 0.8\n",
    "    )\n",
    ")\n",
    "\n",
    "data=[trace]\n",
    "\n",
    "layout=go.Layout(title='PCA',\n",
    "                hovermode='closest',\n",
    "                xaxis=dict(\n",
    "                    title='First principal direction',\n",
    "                    ticklen=5,\n",
    "                    zeroline=False),\n",
    "                 yaxis=dict(\n",
    "                 title='Second principal direction',\n",
    "                 ticklen=5\n",
    "            ),\n",
    "                 showlegend=True\n",
    "                \n",
    "                    \n",
    "                )\n",
    "fig=dict(data=data,layout=layout)\n",
    "py.iplot(fig,filename='pca')"
   ]
  },
  {
   "cell_type": "code",
   "execution_count": null,
   "metadata": {},
   "outputs": [],
   "source": [
    "kmeans=KMeans(10)\n",
    "X_clustered319=kmeans.fit_predict(X_319d)"
   ]
  },
  {
   "cell_type": "code",
   "execution_count": null,
   "metadata": {},
   "outputs": [],
   "source": [
    "tracekmeans = go.Scatter(x=X_319d[:, 0], y= X_319d[:, 1], mode=\"markers\",\n",
    "                    showlegend=False,\n",
    "                    marker=dict(\n",
    "                            size=8,\n",
    "                            color = X_clustered319,\n",
    "                            colorscale = 'Portland',\n",
    "                            showscale=False, \n",
    "                            line = dict(\n",
    "            width = 2,\n",
    "            color = 'rgb(255, 255, 255)'\n",
    "        )\n",
    "                   ))\n",
    "\n",
    "\n",
    "layout=go.Layout(title='Kmeans clustering',\n",
    "                 hovermode='closest',\n",
    "                 xaxis=dict(title='first principal direction',\n",
    "                           ticklen=5,\n",
    "                           zeroline=False,\n",
    "                           gridwidth=2),\n",
    "                 yaxis=dict(title='second principal component',\n",
    "                           ticklen=5,\n",
    "                           gridwidth=2),\n",
    "                 showlegend=True\n",
    "                     )\n",
    "data = [tracekmeans]\n",
    "fig1 = dict(data=data, layout= layout)\n",
    "py.iplot(fig1, filename=\"svm\")"
   ]
  },
  {
   "cell_type": "code",
   "execution_count": null,
   "metadata": {},
   "outputs": [],
   "source": [
    "x_clusters_df=pd.DataFrame(X_clustered319, dtype=int)\n",
    "x_clusters_df.columns=['Cluster']\n",
    "targeted_df=pd.DataFrame(Target,dtype=int)"
   ]
  },
  {
   "cell_type": "code",
   "execution_count": null,
   "metadata": {},
   "outputs": [],
   "source": [
    "pd.crosstab(targeted_df.label, x_clusters_df.Cluster)"
   ]
  },
  {
   "cell_type": "code",
   "execution_count": null,
   "metadata": {},
   "outputs": [],
   "source": [
    "homogeneity_score(Target, X_clustered319)"
   ]
  },
  {
   "cell_type": "code",
   "execution_count": null,
   "metadata": {},
   "outputs": [],
   "source": [
    "metrics.silhouette_score(X_319d, X_clustered319)"
   ]
  },
  {
   "cell_type": "code",
   "execution_count": null,
   "metadata": {},
   "outputs": [],
   "source": [
    "metrics.completeness_score(Target, X_clustered319)"
   ]
  },
  {
   "cell_type": "code",
   "execution_count": null,
   "metadata": {},
   "outputs": [],
   "source": [
    "X_=training_df\n",
    "X_std_=StandardScaler().fit_transform(X_)\n",
    "pca_=PCA(784)\n",
    "X_784d=pca_.fit_transform(X_std_)\n",
    "Target=target"
   ]
  },
  {
   "cell_type": "code",
   "execution_count": null,
   "metadata": {},
   "outputs": [],
   "source": [
    "trace = go.Scatter(\n",
    "    x = X_784d[:,0],\n",
    "    y = X_784d[:,1],\n",
    "    name = str(Target),\n",
    "    \n",
    "    mode = 'markers',\n",
    "    text = Target,\n",
    "    showlegend = False,\n",
    "    marker = dict(\n",
    "        size = 8,\n",
    "        color = Target,\n",
    "        colorscale ='Jet',\n",
    "        showscale = False,\n",
    "        line = dict(\n",
    "            width = 2,\n",
    "            color = 'rgb(255, 255, 255)'\n",
    "        ),\n",
    "        \n",
    "        opacity = 0.8\n",
    "    )\n",
    ")\n",
    "\n",
    "data=[trace]\n",
    "\n",
    "layout=go.Layout(title='PCA',\n",
    "                hovermode='closest',\n",
    "                xaxis=dict(\n",
    "                    title='First principal direction',\n",
    "                    ticklen=5,\n",
    "                    zeroline=False),\n",
    "                 yaxis=dict(\n",
    "                 title='Second principal direction',\n",
    "                 ticklen=5\n",
    "            ),\n",
    "                 showlegend=True\n",
    "                \n",
    "                    \n",
    "                )\n",
    "fig=dict(data=data,layout=layout)\n",
    "py.iplot(fig,filename='pca')"
   ]
  },
  {
   "cell_type": "code",
   "execution_count": null,
   "metadata": {},
   "outputs": [],
   "source": [
    "kmeans=KMeans(10)\n",
    "X_clustered784=kmeans.fit_predict(X_784d)"
   ]
  },
  {
   "cell_type": "code",
   "execution_count": null,
   "metadata": {},
   "outputs": [],
   "source": [
    "tracekmeans = go.Scatter(x=X_784d[:, 0], y= X_784d[:, 1], mode=\"markers\",\n",
    "                    showlegend=False,\n",
    "                    marker=dict(\n",
    "                            size=8,\n",
    "                            color = X_clustered784,\n",
    "                            colorscale = 'Portland',\n",
    "                            showscale=False, \n",
    "                            line = dict(\n",
    "            width = 2,\n",
    "            color = 'rgb(255, 255, 255)'\n",
    "        )\n",
    "                   ))\n",
    "\n",
    "\n",
    "layout=go.Layout(title='Kmeans clustering',\n",
    "                 hovermode='closest',\n",
    "                 xaxis=dict(title='first principal direction',\n",
    "                           ticklen=5,\n",
    "                           zeroline=False,\n",
    "                           gridwidth=2),\n",
    "                 yaxis=dict(title='second principal component',\n",
    "                           ticklen=5,\n",
    "                           gridwidth=2),\n",
    "                 showlegend=True\n",
    "                     )\n",
    "data = [tracekmeans]\n",
    "fig1 = dict(data=data, layout= layout)\n",
    "py.iplot(fig1, filename=\"svm\")"
   ]
  },
  {
   "cell_type": "code",
   "execution_count": null,
   "metadata": {},
   "outputs": [],
   "source": [
    "x_clusters_df=pd.DataFrame(X_clustered784, dtype=int)\n",
    "x_clusters_df.columns=['Cluster']\n",
    "targeted_df=pd.DataFrame(Target,dtype=int)"
   ]
  },
  {
   "cell_type": "code",
   "execution_count": null,
   "metadata": {},
   "outputs": [],
   "source": [
    "pd.crosstab(targeted_df.label, x_clusters_df.Cluster)"
   ]
  },
  {
   "cell_type": "code",
   "execution_count": null,
   "metadata": {},
   "outputs": [],
   "source": [
    "homogeneity_score(Target, X_clustered784)"
   ]
  },
  {
   "cell_type": "code",
   "execution_count": null,
   "metadata": {},
   "outputs": [],
   "source": [
    "metrics.silhouette_score(X_784d, X_clustered784)"
   ]
  },
  {
   "cell_type": "code",
   "execution_count": null,
   "metadata": {},
   "outputs": [],
   "source": [
    "metrics.completeness_score(Target, X_clustered784)"
   ]
  },
  {
   "cell_type": "code",
   "execution_count": null,
   "metadata": {
    "scrolled": true
   },
   "outputs": [],
   "source": [
    "tracekmeans = go.Scatter(x=X_784d[:, 0], y= X_784d[:, 1], mode=\"markers\",\n",
    "                    showlegend=False,\n",
    "                    marker=dict(\n",
    "                            size=8,\n",
    "                            color = X_clustered784,\n",
    "                            colorscale = 'Portland',\n",
    "                            showscale=False, \n",
    "                            line = dict(\n",
    "            width = 2,\n",
    "            color = 'rgb(255, 255, 255)'\n",
    "        )\n",
    "                   ))\n",
    "\n",
    "\n",
    "layout=go.Layout(title='Kmeans clustering',\n",
    "                 hovermode='closest',\n",
    "                 xaxis=dict(title='first principal direction',\n",
    "                           ticklen=5,\n",
    "                           zeroline=False,\n",
    "                           gridwidth=2),\n",
    "                 yaxis=dict(title='second principal component',\n",
    "                           ticklen=5,\n",
    "                           gridwidth=2),\n",
    "                 showlegend=True\n",
    "                     )\n",
    "data = [tracekmeans]\n",
    "fig1 = dict(data=data, layout= layout)\n",
    "py.iplot(fig1, filename=\"svm\")"
   ]
  },
  {
   "cell_type": "code",
   "execution_count": null,
   "metadata": {},
   "outputs": [],
   "source": [
    "#DO KMEANS WITHOUT PCS using direct 784 features\n",
    "kmeans=KMeans(10)\n",
    "X_clustered=kmeans.fit_predict(training_df)"
   ]
  },
  {
   "cell_type": "code",
   "execution_count": null,
   "metadata": {},
   "outputs": [],
   "source": [
    "x_clusters_df=pd.DataFrame(X_clustered, dtype=int)\n",
    "x_clusters_df.columns=['Cluster']\n",
    "targeted_df=pd.DataFrame(Target,dtype=int)"
   ]
  },
  {
   "cell_type": "code",
   "execution_count": null,
   "metadata": {},
   "outputs": [],
   "source": [
    "pd.crosstab(targeted_df.label, x_clusters_df.Cluster)"
   ]
  },
  {
   "cell_type": "code",
   "execution_count": null,
   "metadata": {},
   "outputs": [],
   "source": [
    "homogeneity_score(Target, X_clustered)"
   ]
  },
  {
   "cell_type": "code",
   "execution_count": null,
   "metadata": {},
   "outputs": [],
   "source": [
    "metrics.silhouette_score(X_, X_clustered)"
   ]
  },
  {
   "cell_type": "code",
   "execution_count": null,
   "metadata": {},
   "outputs": [],
   "source": [
    "metrics.completeness_score(Target, X_clustered)"
   ]
  },
  {
   "cell_type": "code",
   "execution_count": null,
   "metadata": {},
   "outputs": [],
   "source": [
    "len(X_clustered)"
   ]
  },
  {
   "cell_type": "code",
   "execution_count": null,
   "metadata": {},
   "outputs": [],
   "source": [
    "test_df = pd.read_csv(\"/Users/gurjy/Downloads/test.csv\")"
   ]
  },
  {
   "cell_type": "code",
   "execution_count": null,
   "metadata": {},
   "outputs": [],
   "source": [
    "test_df.shape"
   ]
  },
  {
   "cell_type": "code",
   "execution_count": null,
   "metadata": {},
   "outputs": [],
   "source": [
    "X = test_df.values"
   ]
  },
  {
   "cell_type": "code",
   "execution_count": null,
   "metadata": {},
   "outputs": [],
   "source": [
    "kmeans=KMeans(10)\n",
    "X_clustered=kmeans.fit_predict(X)"
   ]
  },
  {
   "cell_type": "code",
   "execution_count": null,
   "metadata": {},
   "outputs": [],
   "source": [
    "len(X_clustered)"
   ]
  },
  {
   "cell_type": "code",
   "execution_count": null,
   "metadata": {},
   "outputs": [],
   "source": [
    "ID = [ i for i in range(1, len(X_clustered) + 1)]"
   ]
  },
  {
   "cell_type": "code",
   "execution_count": null,
   "metadata": {},
   "outputs": [],
   "source": [
    "df = pd.DataFrame({'ImageId' : ID, 'Label' : X_clustered})"
   ]
  },
  {
   "cell_type": "code",
   "execution_count": null,
   "metadata": {},
   "outputs": [],
   "source": [
    "filename = 'MNIST Predictions 1.csv'\n",
    "\n",
    "df.to_csv(filename,index=False)\n",
    "\n",
    "print('Saved file: ' + filename)"
   ]
  },
  {
   "cell_type": "code",
   "execution_count": null,
   "metadata": {},
   "outputs": [],
   "source": []
  }
 ],
 "metadata": {
  "kernelspec": {
   "display_name": "Python 3",
   "language": "python",
   "name": "python3"
  },
  "language_info": {
   "codemirror_mode": {
    "name": "ipython",
    "version": 3
   },
   "file_extension": ".py",
   "mimetype": "text/x-python",
   "name": "python",
   "nbconvert_exporter": "python",
   "pygments_lexer": "ipython3",
   "version": "3.7.4"
  }
 },
 "nbformat": 4,
 "nbformat_minor": 2
}
