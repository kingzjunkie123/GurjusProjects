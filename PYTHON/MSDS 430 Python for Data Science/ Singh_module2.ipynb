{
 "cells": [
  {
   "cell_type": "markdown",
   "metadata": {},
   "source": [
    "# MSDS 430 Module 2 Python Assignment"
   ]
  },
  {
   "cell_type": "markdown",
   "metadata": {},
   "source": [
    "<div class=\"alert alert-block alert-warning\"><b>In this assignment you will read through this notebook then complete the exercises. Once you are satisfied with your results, submit your notebook and html file to Canvas. Your files should include all output, i.e. run each cell and save your files before submitting.</b></div>"
   ]
  },
  {
   "cell_type": "markdown",
   "metadata": {},
   "source": [
    "<div class=\"alert alert-block alert-info\"> This week we are starting to learn how to write short programs in Python beyond basic print statements. We're learning about different data types such as integers, floats, strings, and Boolean types. Each of these data types serves different purposes. In this assignment, we start working with these data types and get our feet wet with conditional statements. Conditionals are quite useful in programming and we will work with them in nearly every assignment from here on out. </div>"
   ]
  },
  {
   "cell_type": "markdown",
   "metadata": {},
   "source": [
    "### Basic Calculations"
   ]
  },
  {
   "cell_type": "markdown",
   "metadata": {},
   "source": [
    "We've seen that Python can easily be used as a calculator. Notice we don't need a `print` command to return the result. We simply need to type in a mathematical expression then run the cell. Also, if all values in the expression are integers, Python will return an `int` value."
   ]
  },
  {
   "cell_type": "code",
   "execution_count": 1,
   "metadata": {},
   "outputs": [
    {
     "data": {
      "text/plain": [
       "64"
      ]
     },
     "execution_count": 1,
     "metadata": {},
     "output_type": "execute_result"
    }
   ],
   "source": [
    "19*5 - 31"
   ]
  },
  {
   "cell_type": "markdown",
   "metadata": {},
   "source": [
    "If at least one value in an expression is a float, Python will return a float value:"
   ]
  },
  {
   "cell_type": "code",
   "execution_count": 2,
   "metadata": {},
   "outputs": [
    {
     "data": {
      "text/plain": [
       "64.0"
      ]
     },
     "execution_count": 2,
     "metadata": {},
     "output_type": "execute_result"
    }
   ],
   "source": [
    "19*5 - 31.0"
   ]
  },
  {
   "cell_type": "markdown",
   "metadata": {},
   "source": [
    "To verify this is a float, we use the `type()` command. When we do this, Python will not return the result of the expression - only the `type` of the end result:"
   ]
  },
  {
   "cell_type": "code",
   "execution_count": 3,
   "metadata": {},
   "outputs": [
    {
     "data": {
      "text/plain": [
       "float"
      ]
     },
     "execution_count": 3,
     "metadata": {},
     "output_type": "execute_result"
    }
   ],
   "source": [
    "type(19*5 - 31.0)"
   ]
  },
  {
   "cell_type": "markdown",
   "metadata": {},
   "source": [
    "In this case we could assign a variable name to the expression, add a print statement to return the result of the calculation, and ask for the type."
   ]
  },
  {
   "cell_type": "code",
   "execution_count": 4,
   "metadata": {},
   "outputs": [
    {
     "name": "stdout",
     "output_type": "stream",
     "text": [
      "64.0\n"
     ]
    },
    {
     "data": {
      "text/plain": [
       "float"
      ]
     },
     "execution_count": 4,
     "metadata": {},
     "output_type": "execute_result"
    }
   ],
   "source": [
    "calc = 19*5 - 31.0\n",
    "print(calc)\n",
    "type(calc)"
   ]
  },
  {
   "cell_type": "markdown",
   "metadata": {},
   "source": [
    "We can also convert the result of the expression to another type. For example, we could convert the integer-valued expression above to a float. It will still return the result of the calculation, but notice the result is a float value:"
   ]
  },
  {
   "cell_type": "code",
   "execution_count": 5,
   "metadata": {},
   "outputs": [
    {
     "data": {
      "text/plain": [
       "64.0"
      ]
     },
     "execution_count": 5,
     "metadata": {},
     "output_type": "execute_result"
    }
   ],
   "source": [
    "float(19*5 - 31)"
   ]
  },
  {
   "cell_type": "markdown",
   "metadata": {},
   "source": [
    "<div class=\"alert alert-block alert-success\"><b>Problem 1 (2 pts.)</b>: In the <b><i>1st cell</i></b> below create a <b><i>single line of code</i></b> that uses Python to find the sum of -6.5 and 1.3 <b><i>and</i></b> converts the result to an integer. Do so without assigning a variable name and without using <font color=black><i>print(&nbsp;)</i></font>. Do the same in the <b><i>2nd cell</i></b> provided, except this time convert the sum to a string.</div>"
   ]
  },
  {
   "cell_type": "code",
   "execution_count": 6,
   "metadata": {},
   "outputs": [
    {
     "data": {
      "text/plain": [
       "-5"
      ]
     },
     "execution_count": 6,
     "metadata": {},
     "output_type": "execute_result"
    }
   ],
   "source": [
    "#Write a single line of code to find the sum of -6.5 and 1.3 that returns an integer.\n",
    "int(-6.5+1.3)"
   ]
  },
  {
   "cell_type": "code",
   "execution_count": 7,
   "metadata": {},
   "outputs": [
    {
     "data": {
      "text/plain": [
       "'-5.2'"
      ]
     },
     "execution_count": 7,
     "metadata": {},
     "output_type": "execute_result"
    }
   ],
   "source": [
    "#Write a single line of code to find the sum of -6.5 and 1.3 that returns a string.\n",
    "str(-6.5+1.3)"
   ]
  },
  {
   "cell_type": "markdown",
   "metadata": {},
   "source": [
    "<div class=\"alert alert-block alert-success\"><b>Problem 2 (2 pts.)</b>: Use Python as a calculator again. This time use <b><i>all five</i></b> mathematical operators (<font color=red>+</font>,<font color=red> –</font>,<font color=red> *</font>,<font color=red> /</font>,<font color=red> **</font>) in a <b><i>single expression</i></b> to produce the number 3.</div>"
   ]
  },
  {
   "cell_type": "code",
   "execution_count": 5,
   "metadata": {},
   "outputs": [
    {
     "data": {
      "text/plain": [
       "3"
      ]
     },
     "execution_count": 5,
     "metadata": {},
     "output_type": "execute_result"
    }
   ],
   "source": [
    "int(((3**3 / 3) * 2) + 10 - 25)"
   ]
  },
  {
   "cell_type": "markdown",
   "metadata": {},
   "source": [
    "### The Input Function"
   ]
  },
  {
   "cell_type": "markdown",
   "metadata": {},
   "source": [
    "In this week's readings you also learned about a built-in function in Python called `input`. When this is used in a program it will prompt the user to enter something, say a number or a string. It's helpful when creating a prompt to provide clear instructions for the user, such as `Enter your birthdate in the form MM/DD/YYYY` or `Enter your postal code` instead of a blank entry box."
   ]
  },
  {
   "cell_type": "code",
   "execution_count": null,
   "metadata": {
    "cocalc": {
     "outputs": {
      "0": {
       "name": "input",
       "opts": {
        "password": false,
        "prompt": "Enter your name: "
       },
       "output_type": "stream",
       "value": "John"
      },
      "1": {
       "name": "input",
       "opts": {
        "password": false,
        "prompt": "Enter your age: "
       },
       "output_type": "stream",
       "value": "2"
      }
     }
    }
   },
   "outputs": [],
   "source": [
    "name = input(\"Enter your name: \")\n",
    "age = input(\"Enter your age: \")\n",
    "print(name, \"is\", age, \"years old.\")"
   ]
  },
  {
   "cell_type": "markdown",
   "metadata": {},
   "source": [
    "Keep in mind that this function will return a string value unless told otherwise. If we try some type of mathematical calculation with `age`, it will treat it like a string:"
   ]
  },
  {
   "cell_type": "code",
   "execution_count": null,
   "metadata": {},
   "outputs": [],
   "source": [
    "age*3"
   ]
  },
  {
   "cell_type": "markdown",
   "metadata": {},
   "source": [
    "An alternative is to convert `age` to an `int` (or `float`) when it is input:"
   ]
  },
  {
   "cell_type": "code",
   "execution_count": null,
   "metadata": {
    "cocalc": {
     "outputs": {
      "0": {
       "name": "input",
       "opts": {
        "password": false,
        "prompt": "Enter your name: "
       },
       "output_type": "stream",
       "value": "John"
      },
      "1": {
       "name": "input",
       "opts": {
        "password": false,
        "prompt": "Enter your age: "
       },
       "output_type": "stream",
       "value": "2"
      }
     }
    }
   },
   "outputs": [],
   "source": [
    "name = input(\"Enter your name: \")\n",
    "age = int(input(\"Enter your age: \")) #We could also use float instead of int depending on preference.\n",
    "print(f\"{name} is {age} years old.\") # This time we use f-strings with the print statement"
   ]
  },
  {
   "cell_type": "markdown",
   "metadata": {},
   "source": [
    "Now when we attempt a mathematical calculation with age we get a more meaningful result."
   ]
  },
  {
   "cell_type": "code",
   "execution_count": null,
   "metadata": {},
   "outputs": [],
   "source": [
    "print(name, \"will be 65 years old in\", 65 - age, \"years.\")"
   ]
  },
  {
   "cell_type": "markdown",
   "metadata": {},
   "source": [
    "<div class=\"alert alert-block alert-success\"><b>Problem 3 (5 pts.)</b>: Write a program that asks a user for two numbers, then prints two sentences displaying the sum and product of those numbers, respectively. More specifically, the program should display the prompt <font color=black><i>Enter any number:</i>&nbsp;</font> and then wait for the user's input. After the user enters his/her input followed by pressing the enter/return key, the program prompts the user to enter a second number in a similar fashion. <br>  <br>Here is a sample of what this should look like to the user when your program is run:</div>\n",
    "\n",
    "`Enter any number: `5<br>\n",
    "`Enter a second number: `123 <br> \n",
    "`The sum of 5 and 123 is 128.`<br>\n",
    "`The product of 5 and 123 is 615.`"
   ]
  },
  {
   "cell_type": "code",
   "execution_count": 1,
   "metadata": {},
   "outputs": [
    {
     "name": "stdout",
     "output_type": "stream",
     "text": [
      "Enter any number: 5\n",
      "Enter a second number: 123\n",
      "The sum of 5 and 123 is 128.\n",
      "The product of 5 and 123 is 615.\n"
     ]
    }
   ],
   "source": [
    "anynum = input(\"Enter any number: \")\n",
    "secnum = input(\"Enter a second number: \")\n",
    "print(\"The sum of {} and {} is {}.\".format(int(anynum), int(secnum), int(anynum) + int(secnum)))\n",
    "print(\"The product of {} and {} is {}.\".format(int(anynum), int(secnum), int(anynum)* int(secnum)) )"
   ]
  },
  {
   "cell_type": "markdown",
   "metadata": {},
   "source": [
    "### More Mathematical Operators"
   ]
  },
  {
   "cell_type": "markdown",
   "metadata": {},
   "source": [
    "Above we worked with five mathematical operators, `+`, `-`, `*`, `/`, and `**`. Other basic operators in Python are `%` and `//`. The first is a modulus operator that returns the remainder upon division of the left operand by the right operand. For example `299 % 2` will return the remainder when 299 is divided by 2, i.e. the result would be 1. Below are a few examples. Feel free to try some of your own."
   ]
  },
  {
   "cell_type": "code",
   "execution_count": null,
   "metadata": {},
   "outputs": [],
   "source": [
    "print(28 % 3)\n",
    "print(400 % 211)\n",
    "print(250 % 4.0)"
   ]
  },
  {
   "cell_type": "markdown",
   "metadata": {},
   "source": [
    "The second operator, `//` is a floor division operator. This is the quotient of two numbers without the decimals. This does not mean it will return an `int` type. That will depend on the expression. For example, `299//2` has a quotient of 149 with a remainder of 1. So, `299//2` will return `149`, which is an int. Whereas, `299.0//2` will return `149.0`, which is a float. "
   ]
  },
  {
   "cell_type": "markdown",
   "metadata": {},
   "source": [
    "<div class=\"alert alert-block alert-success\"><b>Problem 4 (3 pts.)</b>: Write a program that asks a user to enter any number then returns whether the number is a multiple of 5 or not then test it with any integer. Here's a sample of what this should look like to the user:</div>\n",
    "\n",
    "`Enter any number: `319<br>\n",
    "`319 is not a multiple of 5.`"
   ]
  },
  {
   "cell_type": "code",
   "execution_count": 8,
   "metadata": {},
   "outputs": [
    {
     "name": "stdout",
     "output_type": "stream",
     "text": [
      "Enter any number: 319\n",
      "319 is not a multiple of 5.\n"
     ]
    }
   ],
   "source": [
    "anynum = input(\"Enter any number: \")\n",
    "num = int(anynum)\n",
    "if num % 5 == 0:\n",
    "    print(\"{} is a multiple of 5.\".format(num))\n",
    "else:\n",
    "    print(\"{} is not a multiple of 5.\".format(num))"
   ]
  },
  {
   "cell_type": "markdown",
   "metadata": {},
   "source": [
    "### Conditional Statements"
   ]
  },
  {
   "cell_type": "markdown",
   "metadata": {},
   "source": [
    "In `Problem 4` you likely used a simple conditional statement to determine if the input number was a multiple of 5. In that type of conditional there are only two courses of action. We test the value with the `if statement` to see if it is true. If it is, we can have our program print something relevant (or do other things). If it is false, we can have our program print something different."
   ]
  },
  {
   "cell_type": "code",
   "execution_count": null,
   "metadata": {},
   "outputs": [],
   "source": [
    "x = 45\n",
    "\n",
    "if x > 10:\n",
    "    print(x, \"is too large.\")\n",
    "\n",
    "else:\n",
    "    print(x, \"is small enough.\")"
   ]
  },
  {
   "cell_type": "markdown",
   "metadata": {},
   "source": [
    "If we want to, say compare two or more numbers, we can use nested conditionals. Suppose we want to know if a number is at least three times as large as another number."
   ]
  },
  {
   "cell_type": "code",
   "execution_count": null,
   "metadata": {},
   "outputs": [],
   "source": [
    "number1 = 110\n",
    "number2 = 330\n",
    "\n",
    "if number2 > 3*number1:\n",
    "    print(f\"{number2} is at least three times {number1}\")\n",
    "else:\n",
    "    if number2 < 3*number1:\n",
    "        print(number2, \"is less than three times\", number1)\n",
    "    \n",
    "    else:\n",
    "        print(f\"{number2} is exactly three times {number1}\")"
   ]
  },
  {
   "cell_type": "markdown",
   "metadata": {},
   "source": [
    "We can accomplish the same thing with what is sometimes called a chained conditional, which is sometimes preferred. This type of conditional uses the `elif` statement."
   ]
  },
  {
   "cell_type": "code",
   "execution_count": null,
   "metadata": {},
   "outputs": [],
   "source": [
    "number1 = 110\n",
    "number2 = 330\n",
    "\n",
    "if number2 > 3*number1:\n",
    "    print(number2, \"is at least three times\", number1)\n",
    "\n",
    "elif number2 < 3*number1:\n",
    "    print(number2, \"is less than three times\", number1)\n",
    "    \n",
    "else:\n",
    "    print(number2, \"is exactly three times\", number1)"
   ]
  },
  {
   "cell_type": "markdown",
   "metadata": {},
   "source": [
    "<div class=\"alert alert-block alert-success\"><b>Problem 5 (6 pts.)</b>: Jake is looking for a job but has some conditions. He would love a job in Hawaii and would accept it if it pays at least 85,000 per year. He does not like New York but would take a job if it pays at least 100,000 per year. He would work anywhere else if it pays at least 60,000. Write a program that prompts the user to enter two input values, <font color=black><i><u>location</u></i></font> and <font color=black><i><u>pay</u></i></font>, and returns \n",
    "\n",
    "(1) \"I'll take it!\" if the user entered Hawaii and at least 85,000, New York and at least 100,000, or anywhere else with pay at least 60,000, for `location` and `pay`, respectively, or  <br> \n",
    "(2) \"No way.\" if the user enters Hawaii and less than 85,000 or New York and less than 100,000, for `location` and `pay`, respectively, or <br> \n",
    "(3) \"No thanks, I can find something better.\" if the `location` is anywhere else and the `pay` is less than 60,000.</div>"
   ]
  },
  {
   "cell_type": "code",
   "execution_count": null,
   "metadata": {},
   "outputs": [],
   "source": [
    "#Create prompts for the user to enter location and pay.\n",
    "location =  input(\"Please tell me the location of the job: \")\n",
    "pay = input(\"How much are you willing to pay me? : \")\n",
    "pay = int(pay)\n",
    "if (location ==  \"Hawaii\" and pay >= 85000) or (location == \"New York\" and pay >= 100000):\n",
    "    print(\"I'll take it!\")\n",
    "elif (location ==  \"Hawaii\" and pay < 85000) or (location == \"New York\" and pay < 100000):\n",
    "    print(\"No Way.\")\n",
    "elif (location !=  \"Hawaii\" and pay >= 60000) or (location !=  \"New York\" and pay >= 60000):\n",
    "    print(\"I'll take it!\")\n",
    "else:\n",
    "    print(\"No Way.\")\n",
    "\n",
    "# consider using if, elif and else to create the appropriate response to the input\n",
    "# consider using nested consitions or chained conditions \n",
    "# test for Hawaii and 90,000\n",
    "# test for New York and 100,000\n",
    "# test for Madrid and 70,000\n",
    "# test for Hawaii and 60,000\n",
    "# test for New York and 60,000\n",
    "# test for Madrid and 30,000\n"
   ]
  },
  {
   "cell_type": "code",
   "execution_count": null,
   "metadata": {},
   "outputs": [],
   "source": []
  }
 ],
 "metadata": {
  "kernelspec": {
   "display_name": "Python 3",
   "language": "python",
   "name": "python3"
  },
  "language_info": {
   "codemirror_mode": {
    "name": "ipython",
    "version": 3
   },
   "file_extension": ".py",
   "mimetype": "text/x-python",
   "name": "python",
   "nbconvert_exporter": "python",
   "pygments_lexer": "ipython3",
   "version": "3.7.4"
  }
 },
 "nbformat": 4,
 "nbformat_minor": 1
}
