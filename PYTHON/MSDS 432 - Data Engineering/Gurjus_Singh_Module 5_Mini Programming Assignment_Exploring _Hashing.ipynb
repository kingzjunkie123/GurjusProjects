{
 "cells": [
  {
   "cell_type": "markdown",
   "metadata": {},
   "source": [
    "# PART 1"
   ]
  },
  {
   "cell_type": "code",
   "execution_count": 299,
   "metadata": {},
   "outputs": [
    {
     "data": {
      "text/plain": [
       "364.9679780000952"
      ]
     },
     "execution_count": 299,
     "metadata": {},
     "output_type": "execute_result"
    }
   ],
   "source": [
    "#creating a list of 100,000 names, no duplicates in the name\n",
    "import numpy as np\n",
    "import time\n",
    "import random\n",
    "import string\n",
    "np.random.seed()\n",
    "stringarray = [''.join(random.sample(string.ascii_letters, k = 10)) for _ in range(100000)]\n",
    "#store the names in a set\n",
    "copyarr = stringarray.copy()\n",
    "s = set(stringarray)\n",
    "\n",
    "#use quicksort\n",
    "def quicksort(array):\n",
    "    if len(array) < 2:\n",
    "    # base case, arrays with 0 or 1 element are already \"sorted\"\n",
    "        return array\n",
    "    else:\n",
    "        # recursive case\n",
    "        pivot = array[0]\n",
    "        # sub-array of all the elements less than the pivot\n",
    "        less = [i for i in array[1:] if i <= pivot]\n",
    "        # sub-array of all the elements greater than the pivot\n",
    "        greater = [i for i in array[1:] if i > pivot]\n",
    "        return quicksort(less) + [pivot] + quicksort(greater)\n",
    "\n",
    "a = time.perf_counter()\n",
    "#copy new unsorted array to sort\n",
    "sortedquickarray = quicksort(copyarr)\n",
    "b = time.perf_counter()\n",
    "stringquicksort = (b - a) * 1000\n",
    "\n",
    "#time of quicksort(in ms)\n",
    "stringquicksort\n"
   ]
  },
  {
   "cell_type": "markdown",
   "metadata": {},
   "source": [
    "# PART 2"
   ]
  },
  {
   "cell_type": "code",
   "execution_count": 300,
   "metadata": {},
   "outputs": [],
   "source": [
    "names = []\n",
    "index = [10000-1, 30000-1, 50000-1, 70000-1, 90000-1, len(stringarray)-1]\n",
    "for i in index:\n",
    "    names.append(stringarray[i])"
   ]
  },
  {
   "cell_type": "code",
   "execution_count": 301,
   "metadata": {},
   "outputs": [
    {
     "data": {
      "text/plain": [
       "['kgmnWoFtlV',\n",
       " 'dhtRAJYXeF',\n",
       " 'kyDVcNaYFt',\n",
       " 'qrFQBsLgGJ',\n",
       " 'OJHxRnaeFT',\n",
       " 'iWRSGqsOYz']"
      ]
     },
     "execution_count": 301,
     "metadata": {},
     "output_type": "execute_result"
    }
   ],
   "source": [
    "names"
   ]
  },
  {
   "cell_type": "code",
   "execution_count": 302,
   "metadata": {},
   "outputs": [],
   "source": [
    "#used algorithm from https://github.com/egonSchiele/grokking_algorithms/tree/master/01_introduction_to_algorithms\n",
    "def binary_search(list, item):\n",
    "  # low and high keep track of which part of the list you'll search in.\n",
    "    low = 0\n",
    "    high = len(list) - 1\n",
    " # While you haven't narrowed it down to one element ...\n",
    "    while low <= high:\n",
    "    # ... check the middle element\n",
    "        mid = (low + high) // 2\n",
    "        guess = list[mid]\n",
    "    # Found the item.\n",
    "        if guess == item:\n",
    "            return mid\n",
    "    # The guess was too high.\n",
    "        if guess > item:\n",
    "            high = mid - 1\n",
    "    # The guess was too low.\n",
    "        else:\n",
    "            low = mid + 1\n",
    "\n",
    "  # Item doesn't exist\n",
    "    return None"
   ]
  },
  {
   "cell_type": "code",
   "execution_count": 303,
   "metadata": {},
   "outputs": [],
   "source": [
    "#linearsearch\n",
    "#source: https://www.geeksforgeeks.org/linear-search/\n",
    "def linearsearch(array, x):\n",
    "    for i in range(0, len(array)):\n",
    "        if array[i] == x:\n",
    "            return i\n",
    "    return None"
   ]
  },
  {
   "cell_type": "markdown",
   "metadata": {},
   "source": [
    "# Part 3"
   ]
  },
  {
   "cell_type": "code",
   "execution_count": 311,
   "metadata": {},
   "outputs": [],
   "source": [
    "#using linear search on unsorted array\n",
    "timelinsearch = []\n",
    "for n in names:\n",
    "    a = time.perf_counter()\n",
    "    linearsearch(stringarray, n)\n",
    "    b = time.perf_counter()\n",
    "    timelinsearch.append((b - a) * 1000)"
   ]
  },
  {
   "cell_type": "code",
   "execution_count": 318,
   "metadata": {},
   "outputs": [],
   "source": [
    "#using binary search on sorted array, save index\n",
    "timebinsearch = []\n",
    "for n in names:\n",
    "    a = time.perf_counter()\n",
    "    binary_search(sortedquickarray, n)\n",
    "    b = time.perf_counter()\n",
    "    timebinsearch.append((b - a) * 1000)"
   ]
  },
  {
   "cell_type": "code",
   "execution_count": 342,
   "metadata": {},
   "outputs": [],
   "source": [
    "#using set operations\n",
    "timesetsearch = []\n",
    "for n in names:\n",
    "    a = time.perf_counter()\n",
    "    n in s\n",
    "    b = time.perf_counter()\n",
    "    timesetsearch.append((b - a) * 1000)"
   ]
  },
  {
   "cell_type": "markdown",
   "metadata": {},
   "source": [
    "# Part 4"
   ]
  },
  {
   "cell_type": "code",
   "execution_count": 343,
   "metadata": {},
   "outputs": [
    {
     "data": {
      "text/html": [
       "<div>\n",
       "<style scoped>\n",
       "    .dataframe tbody tr th:only-of-type {\n",
       "        vertical-align: middle;\n",
       "    }\n",
       "\n",
       "    .dataframe tbody tr th {\n",
       "        vertical-align: top;\n",
       "    }\n",
       "\n",
       "    .dataframe thead th {\n",
       "        text-align: right;\n",
       "    }\n",
       "</style>\n",
       "<table border=\"1\" class=\"dataframe\">\n",
       "  <thead>\n",
       "    <tr style=\"text-align: right;\">\n",
       "      <th></th>\n",
       "      <th>names</th>\n",
       "      <th>bin search time</th>\n",
       "      <th>lin search times</th>\n",
       "      <th>set search times</th>\n",
       "    </tr>\n",
       "  </thead>\n",
       "  <tbody>\n",
       "    <tr>\n",
       "      <td>0</td>\n",
       "      <td>kgmnWoFtlV</td>\n",
       "      <td>0.013649</td>\n",
       "      <td>0.867986</td>\n",
       "      <td>0.001382</td>\n",
       "    </tr>\n",
       "    <tr>\n",
       "      <td>1</td>\n",
       "      <td>dhtRAJYXeF</td>\n",
       "      <td>0.008623</td>\n",
       "      <td>2.125488</td>\n",
       "      <td>0.000490</td>\n",
       "    </tr>\n",
       "    <tr>\n",
       "      <td>2</td>\n",
       "      <td>kyDVcNaYFt</td>\n",
       "      <td>0.006938</td>\n",
       "      <td>4.043590</td>\n",
       "      <td>0.000413</td>\n",
       "    </tr>\n",
       "    <tr>\n",
       "      <td>3</td>\n",
       "      <td>qrFQBsLgGJ</td>\n",
       "      <td>0.007253</td>\n",
       "      <td>4.752273</td>\n",
       "      <td>0.000388</td>\n",
       "    </tr>\n",
       "    <tr>\n",
       "      <td>4</td>\n",
       "      <td>OJHxRnaeFT</td>\n",
       "      <td>0.007148</td>\n",
       "      <td>5.855889</td>\n",
       "      <td>0.000408</td>\n",
       "    </tr>\n",
       "    <tr>\n",
       "      <td>5</td>\n",
       "      <td>iWRSGqsOYz</td>\n",
       "      <td>0.007282</td>\n",
       "      <td>6.888165</td>\n",
       "      <td>0.000507</td>\n",
       "    </tr>\n",
       "  </tbody>\n",
       "</table>\n",
       "</div>"
      ],
      "text/plain": [
       "        names  bin search time  lin search times  set search times\n",
       "0  kgmnWoFtlV         0.013649          0.867986          0.001382\n",
       "1  dhtRAJYXeF         0.008623          2.125488          0.000490\n",
       "2  kyDVcNaYFt         0.006938          4.043590          0.000413\n",
       "3  qrFQBsLgGJ         0.007253          4.752273          0.000388\n",
       "4  OJHxRnaeFT         0.007148          5.855889          0.000408\n",
       "5  iWRSGqsOYz         0.007282          6.888165          0.000507"
      ]
     },
     "execution_count": 343,
     "metadata": {},
     "output_type": "execute_result"
    }
   ],
   "source": [
    "#put in dataframe\n",
    "import pandas as pd\n",
    "searchtimes = {\"names\": names, \"bin search time\":timebinsearch , \"lin search times\": timelinsearch , \"set search times\": timesetsearch}\n",
    "searchtimedf = pd.DataFrame(searchtimes)\n",
    "searchtimedf"
   ]
  },
  {
   "cell_type": "code",
   "execution_count": 344,
   "metadata": {},
   "outputs": [
    {
     "data": {
      "text/plain": [
       "Text(0.5, 1.0, 'names to linear search time')"
      ]
     },
     "execution_count": 344,
     "metadata": {},
     "output_type": "execute_result"
    },
    {
     "data": {
      "image/png": "[encoded data removed]",
      "text/plain": [
       "<Figure size 432x288 with 1 Axes>"
      ]
     },
     "metadata": {
      "needs_background": "light"
     },
     "output_type": "display_data"
    }
   ],
   "source": [
    "import matplotlib.pyplot as plt\n",
    "plt.xlabel('name position')\n",
    "plt.ylabel('time in ms')\n",
    "plt.plot(index, timelinsearch)\n",
    "plt.title('names to linear search time')"
   ]
  },
  {
   "cell_type": "code",
   "execution_count": 345,
   "metadata": {},
   "outputs": [
    {
     "data": {
      "text/plain": [
       "Text(0.5, 1.0, 'names to binary search time')"
      ]
     },
     "execution_count": 345,
     "metadata": {},
     "output_type": "execute_result"
    },
    {
     "data": {
      "image/png": "[encoded data removed]",
      "text/plain": [
       "<Figure size 432x288 with 1 Axes>"
      ]
     },
     "metadata": {
      "needs_background": "light"
     },
     "output_type": "display_data"
    }
   ],
   "source": [
    "plt.xlabel('name position')\n",
    "plt.ylabel('time in ms')\n",
    "plt.plot(index, timebinsearch)\n",
    "plt.title('names to binary search time')"
   ]
  },
  {
   "cell_type": "code",
   "execution_count": 346,
   "metadata": {},
   "outputs": [
    {
     "data": {
      "text/plain": [
       "Text(0.5, 1.0, 'names to set search time')"
      ]
     },
     "execution_count": 346,
     "metadata": {},
     "output_type": "execute_result"
    },
    {
     "data": {
      "image/png": "[encoded data removed]",
      "text/plain": [
       "<Figure size 432x288 with 1 Axes>"
      ]
     },
     "metadata": {
      "needs_background": "light"
     },
     "output_type": "display_data"
    }
   ],
   "source": [
    "plt.xlabel('name position')\n",
    "plt.ylabel('time in ms')\n",
    "plt.plot(index, timesetsearch)\n",
    "plt.title('names to set search time')"
   ]
  },
  {
   "cell_type": "code",
   "execution_count": 242,
   "metadata": {},
   "outputs": [
    {
     "data": {
      "text/plain": [
       "Text(0.5, 1.0, 'names to bin/lin search time')"
      ]
     },
     "execution_count": 242,
     "metadata": {},
     "output_type": "execute_result"
    },
    {
     "data": {
      "image/png": "[encoded data removed]",
      "text/plain": [
       "<Figure size 432x288 with 1 Axes>"
      ]
     },
     "metadata": {
      "needs_background": "light"
     },
     "output_type": "display_data"
    }
   ],
   "source": [
    "#compare both set search and linear search\n",
    "plt.xlabel('name position')\n",
    "plt.ylabel('time in ms')\n",
    "plt.plot(index, timesetsearch)\n",
    "plt.plot(index, timelinsearch)\n",
    "plt.legend(['set search', 'linear search'])\n",
    "plt.title('names to bin/lin search time')"
   ]
  },
  {
   "cell_type": "code",
   "execution_count": 320,
   "metadata": {},
   "outputs": [
    {
     "data": {
      "text/plain": [
       "Text(0.5, 1.0, 'names to bin/set search time')"
      ]
     },
     "execution_count": 320,
     "metadata": {},
     "output_type": "execute_result"
    },
    {
     "data": {
      "image/png": "[encoded data removed]",
      "text/plain": [
       "<Figure size 432x288 with 1 Axes>"
      ]
     },
     "metadata": {
      "needs_background": "light"
     },
     "output_type": "display_data"
    }
   ],
   "source": [
    "#compare both set search and binary search\n",
    "plt.xlabel('name position')\n",
    "plt.ylabel('time in ms')\n",
    "plt.plot(index, timesetsearch)\n",
    "plt.plot(index, timebinsearch)\n",
    "plt.legend(['set search', 'binary search'])\n",
    "plt.title('names to bin/set search time')"
   ]
  },
  {
   "cell_type": "code",
   "execution_count": 244,
   "metadata": {},
   "outputs": [
    {
     "data": {
      "image/png": "[encoded data removed]",
      "text/plain": [
       "<Figure size 432x288 with 1 Axes>"
      ]
     },
     "metadata": {
      "needs_background": "light"
     },
     "output_type": "display_data"
    }
   ],
   "source": [
    "ind = np.arange(len(index))  # the x locations for the groups\n",
    "width = 0.35  # the width of the bars\n",
    "\n",
    "fig, ax = plt.subplots()\n",
    "bar1 = ax.bar(ind - width, timelinsearch, width, label='Linear search')"
   ]
  },
  {
   "cell_type": "code",
   "execution_count": 347,
   "metadata": {},
   "outputs": [
    {
     "data": {
      "text/plain": [
       "<matplotlib.legend.Legend at 0x123f640d0>"
      ]
     },
     "execution_count": 347,
     "metadata": {},
     "output_type": "execute_result"
    },
    {
     "data": {
      "image/png": "[encoded data removed]",
      "text/plain": [
       "<Figure size 432x288 with 1 Axes>"
      ]
     },
     "metadata": {
      "needs_background": "light"
     },
     "output_type": "display_data"
    }
   ],
   "source": [
    "ind = np.arange(len(index))  # the x locations for the groups\n",
    "width = 0.35  # the width of the bars\n",
    "fig, ax = plt.subplots()\n",
    "bar1 = ax.bar(ind - width/2, timebinsearch, width, label='Binary search')\n",
    "bar2 = ax.bar(ind + width/2, timesetsearch, width, label='Set Search')\n",
    "ax.legend()"
   ]
  },
  {
   "cell_type": "markdown",
   "metadata": {},
   "source": [
    "# Summary"
   ]
  },
  {
   "cell_type": "markdown",
   "metadata": {},
   "source": [
    "In this exploration, I explored runtime of binary search vs linear search, and set lookup operation. I first started out by creating the array with 100,000 names of length 10. I later used quick sort and made a copy of the array. I got a time of 364 milliseconds. I used quick sort because it is an algorithm that divides the algorithm into arrays by organizing the array by a pivot. I thought this made logical sense to use because it is easier to sort the an array if you divide it into tiny chunks by putting and seeing where it fits compared to a specific number. I then converted the array copy to a set as well. I then used the linear search and binary search algorithms and set lookup operations.\n",
    "\n",
    "From my results from looking at each algorithm first is Linear Search is consistent with O(N) as the main implies. In the Binary Search algorithm, search algorithm starts out pretty slow, but through finding each middle element of, the running time gets more consistent to log(N). In the set lookup operation the same thing happens, but after looking up the first element the algorithm gets more consistent with O(1). When I compare linear and binary search you can see that the linear is so much slower than binary search which is consistent. When looking at set search, and binary search set seatch is consistent with a faster running time compared to binary search. From the bar graphs how much more the time complexity for the binary search compares to set lookup. Since Set Lookup has an underlying hashing type storage, it is close to constant on average."
   ]
  }
 ],
 "metadata": {
  "kernelspec": {
   "display_name": "Python 3",
   "language": "python",
   "name": "python3"
  },
  "language_info": {
   "codemirror_mode": {
    "name": "ipython",
    "version": 3
   },
   "file_extension": ".py",
   "mimetype": "text/x-python",
   "name": "python",
   "nbconvert_exporter": "python",
   "pygments_lexer": "ipython3",
   "version": "3.7.4"
  }
 },
 "nbformat": 4,
 "nbformat_minor": 2
}
