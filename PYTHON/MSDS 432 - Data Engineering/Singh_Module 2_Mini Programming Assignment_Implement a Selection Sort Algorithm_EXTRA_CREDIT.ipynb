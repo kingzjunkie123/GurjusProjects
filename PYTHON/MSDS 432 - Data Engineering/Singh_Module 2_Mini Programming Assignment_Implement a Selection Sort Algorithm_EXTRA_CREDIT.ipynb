{
 "cells": [
  {
   "cell_type": "markdown",
   "metadata": {},
   "source": [
    "# Extra Credit"
   ]
  },
  {
   "cell_type": "code",
   "execution_count": 2,
   "metadata": {},
   "outputs": [
    {
     "name": "stdout",
     "output_type": "stream",
     "text": [
      "5000\n",
      "10000\n",
      "15000\n",
      "20000\n",
      "25000\n",
      "5000\n",
      "10000\n",
      "15000\n",
      "20000\n",
      "25000\n",
      "5000\n",
      "10000\n",
      "15000\n",
      "20000\n",
      "25000\n",
      "5000\n",
      "10000\n",
      "15000\n",
      "20000\n",
      "25000\n"
     ]
    }
   ],
   "source": [
    "import numpy as np\n",
    "import time\n",
    "import random\n",
    "import string\n",
    "#use randint to create uniform random array\n",
    "sizes = [5000, 10000, 15000, 20000, 25000]\n",
    "arrays = []\n",
    "for s in sizes:\n",
    "    np.random.seed()\n",
    "    arrays.append(np.random.randint(1, 10000, size=s))\n",
    "    print(len(np.random.randint(1, 10000, size=s)))\n",
    "\n",
    "#use random to create uniform random float array\n",
    "floatarrays = []\n",
    "for s in sizes:\n",
    "    np.random.seed()\n",
    "    floatarrays.append(np.random.uniform(1, 10000, size=s))\n",
    "    print(len(np.random.uniform(1, 10000, size=s)))     \n",
    "\n",
    "\n",
    "miniarrays = []\n",
    "for s in sizes:\n",
    "    np.random.seed()\n",
    "    miniarrays.append([''.join(random.choices(string.ascii_letters, k = 5)) for _ in range(s)])\n",
    "    print(len([''.join(random.choices(string.ascii_letters, k = 5)) for _ in range(s)]))    \n",
    "\n",
    "\n",
    "megaarrays = []\n",
    "for s in sizes:\n",
    "    np.random.seed()\n",
    "    megaarrays.append([''.join(random.choices(string.ascii_letters, k = 15)) for _ in range(s)])\n",
    "    print(len([''.join(random.choices(string.ascii_letters, k = 15)) for _ in range(s)]))\n",
    "\n",
    "\n"
   ]
  },
  {
   "cell_type": "code",
   "execution_count": 3,
   "metadata": {},
   "outputs": [],
   "source": [
    "#source: https://github.com/egonSchiele/grokking_algorithms/blob/master/02_selection_sort/python/01_selection_sort.py\n",
    "# Finds the smallest value in an array\n",
    "def findSmallest(arr):\n",
    "  # Stores the smallest value\n",
    "    smallest = arr[0]\n",
    "  # Stores the index of the smallest value\n",
    "    smallest_index = 0\n",
    "    for i in range(1, len(arr)):\n",
    "        if arr[i] < smallest:\n",
    "            smallest_index = i\n",
    "            smallest = arr[i]      \n",
    "    return smallest_index\n",
    "\n",
    "# Sort array\n",
    "def selectionSort(arr):\n",
    "    newArr = []\n",
    "    for i in range(len(arr)):\n",
    "      # Finds the smallest element in the array and adds it to the new array\n",
    "        smallest = findSmallest(arr)\n",
    "        newArr.append(arr.pop(smallest))\n",
    "    return newArr"
   ]
  },
  {
   "cell_type": "code",
   "execution_count": 6,
   "metadata": {},
   "outputs": [],
   "source": [
    "sortedarrs = []\n",
    "for arrs in arrays:\n",
    "    sortedarrs.append(selectionSort(list(arrs)))\n",
    "\n",
    "floatsortedarrs = []\n",
    "for arrs in floatarrays:\n",
    "    floatsortedarrs.append(selectionSort(list(arrs)))\n",
    "\n",
    "\n",
    "minisortedarrs = []\n",
    "for arrs in miniarrays:\n",
    "    minisortedarrs.append(selectionSort(list(arrs)))\n",
    "\n",
    "megasortedarrs = []\n",
    "for arrs in megaarrays:\n",
    "    megasortedarrs.append(selectionSort(list(arrs)))\n",
    "\n"
   ]
  },
  {
   "cell_type": "code",
   "execution_count": 8,
   "metadata": {},
   "outputs": [],
   "source": [
    "#regular integer array\n",
    "selectsort = []\n",
    "for arr in arrays:\n",
    "        a = time.perf_counter()\n",
    "        selectionSort(list(arr))\n",
    "        b = time.perf_counter()\n",
    "        selectsort.append((b - a) * 1000)\n",
    "\n",
    "#float time\n",
    "floatselectsort = []\n",
    "for f in floatarrays:\n",
    "        a = time.perf_counter()\n",
    "        selectionSort(list(f))\n",
    "        b = time.perf_counter()\n",
    "        floatselectsort.append((b - a) * 1000)\n",
    "\n",
    "#string length 5 time\n",
    "miniselectsort = []\n",
    "for m in miniarrays:\n",
    "        a = time.perf_counter()\n",
    "        selectionSort(list(m))\n",
    "        b = time.perf_counter()\n",
    "        miniselectsort.append((b - a) * 1000)\n",
    "\n",
    "#stringlength15 time\n",
    "megaselectsort = []\n",
    "for meg in megaarrays:\n",
    "        a = time.perf_counter()\n",
    "        selectionSort(list(meg))\n",
    "        b = time.perf_counter()\n",
    "        megaselectsort.append((b - a) * 1000)\n"
   ]
  },
  {
   "cell_type": "code",
   "execution_count": 9,
   "metadata": {},
   "outputs": [
    {
     "data": {
      "text/html": [
       "<div>\n",
       "<style scoped>\n",
       "    .dataframe tbody tr th:only-of-type {\n",
       "        vertical-align: middle;\n",
       "    }\n",
       "\n",
       "    .dataframe tbody tr th {\n",
       "        vertical-align: top;\n",
       "    }\n",
       "\n",
       "    .dataframe thead th {\n",
       "        text-align: right;\n",
       "    }\n",
       "</style>\n",
       "<table border=\"1\" class=\"dataframe\">\n",
       "  <thead>\n",
       "    <tr style=\"text-align: right;\">\n",
       "      <th></th>\n",
       "      <th>length</th>\n",
       "      <th>select sort on reg arrays</th>\n",
       "      <th>select sort on float arrays</th>\n",
       "      <th>select sort on string 5 arrays</th>\n",
       "      <th>select sort on string 15 arrays</th>\n",
       "    </tr>\n",
       "  </thead>\n",
       "  <tbody>\n",
       "    <tr>\n",
       "      <td>0</td>\n",
       "      <td>5000</td>\n",
       "      <td>842.349711</td>\n",
       "      <td>829.082230</td>\n",
       "      <td>753.211867</td>\n",
       "      <td>779.869488</td>\n",
       "    </tr>\n",
       "    <tr>\n",
       "      <td>1</td>\n",
       "      <td>10000</td>\n",
       "      <td>3269.968338</td>\n",
       "      <td>3347.113049</td>\n",
       "      <td>3240.230670</td>\n",
       "      <td>3050.475732</td>\n",
       "    </tr>\n",
       "    <tr>\n",
       "      <td>2</td>\n",
       "      <td>15000</td>\n",
       "      <td>7412.601950</td>\n",
       "      <td>7597.009747</td>\n",
       "      <td>7060.369168</td>\n",
       "      <td>6956.264927</td>\n",
       "    </tr>\n",
       "    <tr>\n",
       "      <td>3</td>\n",
       "      <td>20000</td>\n",
       "      <td>13158.850110</td>\n",
       "      <td>13447.503110</td>\n",
       "      <td>12327.786532</td>\n",
       "      <td>12342.894188</td>\n",
       "    </tr>\n",
       "    <tr>\n",
       "      <td>4</td>\n",
       "      <td>25000</td>\n",
       "      <td>20852.969901</td>\n",
       "      <td>21364.734854</td>\n",
       "      <td>19522.994740</td>\n",
       "      <td>19598.347130</td>\n",
       "    </tr>\n",
       "  </tbody>\n",
       "</table>\n",
       "</div>"
      ],
      "text/plain": [
       "   length  select sort on reg arrays  select sort on float arrays  \\\n",
       "0    5000                 842.349711                   829.082230   \n",
       "1   10000                3269.968338                  3347.113049   \n",
       "2   15000                7412.601950                  7597.009747   \n",
       "3   20000               13158.850110                 13447.503110   \n",
       "4   25000               20852.969901                 21364.734854   \n",
       "\n",
       "   select sort on string 5 arrays  select sort on string 15 arrays  \n",
       "0                      753.211867                       779.869488  \n",
       "1                     3240.230670                      3050.475732  \n",
       "2                     7060.369168                      6956.264927  \n",
       "3                    12327.786532                     12342.894188  \n",
       "4                    19522.994740                     19598.347130  "
      ]
     },
     "execution_count": 9,
     "metadata": {},
     "output_type": "execute_result"
    }
   ],
   "source": [
    "import pandas as pd\n",
    "pd.DataFrame({'length': sizes,\n",
    "                'select sort on reg arrays': selectsort,\n",
    "               'select sort on float arrays': floatselectsort,\n",
    "               'select sort on string 5 arrays': miniselectsort,\n",
    "               'select sort on string 15 arrays': megaselectsort})\n"
   ]
  },
  {
   "cell_type": "code",
   "execution_count": 12,
   "metadata": {},
   "outputs": [
    {
     "data": {
      "text/plain": [
       "[<matplotlib.lines.Line2D at 0x119cf1990>]"
      ]
     },
     "execution_count": 12,
     "metadata": {},
     "output_type": "execute_result"
    },
    {
     "data": {
      "image/png": "[encoded data removed]",
      "text/plain": [
       "<Figure size 432x288 with 1 Axes>"
      ]
     },
     "metadata": {
      "needs_background": "light"
     },
     "output_type": "display_data"
    }
   ],
   "source": [
    "#selectionsort\n",
    "import matplotlib.pyplot as plt\n",
    "plt.xlabel('array size')\n",
    "plt.ylabel('selection time in ms')\n",
    "plt.plot(sizes, selectsort)\n",
    "plt.plot(sizes, floatselectsort)\n",
    "plt.plot(sizes, miniselectsort)\n",
    "plt.plot(sizes, megaselectsort)"
   ]
  },
  {
   "cell_type": "markdown",
   "metadata": {},
   "source": [
    "# Summary"
   ]
  },
  {
   "cell_type": "markdown",
   "metadata": {},
   "source": [
    "The graphs accurately represents n^2  parabala graph, which is selection sort regardless of types in the list. This algorithm works because it finds the smallest element in the list and moves it to the front of the list. This can take up to n comparisons to get it to the front of the list. The other n is for placement of all the elements in their correct positions so in total it it n x n or n^2. This algorithm is not as efficient as other sorting algorithms, and but is useful if a time constraint is not necessary."
   ]
  }
 ],
 "metadata": {
  "kernelspec": {
   "display_name": "Python 3",
   "language": "python",
   "name": "python3"
  },
  "language_info": {
   "codemirror_mode": {
    "name": "ipython",
    "version": 3
   },
   "file_extension": ".py",
   "mimetype": "text/x-python",
   "name": "python",
   "nbconvert_exporter": "python",
   "pygments_lexer": "ipython3",
   "version": "3.7.4"
  }
 },
 "nbformat": 4,
 "nbformat_minor": 2
}
