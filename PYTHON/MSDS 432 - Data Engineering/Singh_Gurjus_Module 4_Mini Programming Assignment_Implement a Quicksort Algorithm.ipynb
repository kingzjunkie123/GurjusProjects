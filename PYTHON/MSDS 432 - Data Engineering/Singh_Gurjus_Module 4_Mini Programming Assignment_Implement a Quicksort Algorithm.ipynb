{
 "cells": [
  {
   "cell_type": "markdown",
   "metadata": {},
   "source": [
    "# PART 1"
   ]
  },
  {
   "cell_type": "code",
   "execution_count": 1,
   "metadata": {},
   "outputs": [
    {
     "name": "stdout",
     "output_type": "stream",
     "text": [
      "200\n",
      "400\n",
      "600\n",
      "800\n",
      "1000\n"
     ]
    }
   ],
   "source": [
    "import numpy as np\n",
    "import time\n",
    "import random\n",
    "import string\n",
    "sizes = [200, 400, 600, 800, 1000]\n",
    "stringarray = []\n",
    "for s in sizes:\n",
    "    np.random.seed()\n",
    "    stringarray.append([''.join(random.choices(string.ascii_letters, k = 50)) for _ in range(s)])\n",
    "    print(len([''.join(random.choices(string.ascii_letters, k = 50)) for _ in range(s)])) \n",
    "  "
   ]
  },
  {
   "cell_type": "markdown",
   "metadata": {},
   "source": [
    "# PART 2"
   ]
  },
  {
   "cell_type": "code",
   "execution_count": 2,
   "metadata": {},
   "outputs": [],
   "source": [
    "# source: https://github.com/egonSchiele/grokking_algorithms/blob/master/04_quicksort/python/05_quicksort.py\n",
    "def quicksort(array):\n",
    "    if len(array) < 2:\n",
    "    # base case, arrays with 0 or 1 element are already \"sorted\"\n",
    "        return array\n",
    "    else:\n",
    "        # recursive case\n",
    "        pivot = array[0]\n",
    "        # sub-array of all the elements less than the pivot\n",
    "        less = [i for i in array[1:] if i <= pivot]\n",
    "        # sub-array of all the elements greater than the pivot\n",
    "        greater = [i for i in array[1:] if i > pivot]\n",
    "        return quicksort(less) + [pivot] + quicksort(greater)"
   ]
  },
  {
   "cell_type": "markdown",
   "metadata": {},
   "source": [
    "# PART 3"
   ]
  },
  {
   "cell_type": "code",
   "execution_count": 3,
   "metadata": {},
   "outputs": [],
   "source": [
    "# SOURCE: https://www.geeksforgeeks.org/sorting-algorithms/"
   ]
  },
  {
   "cell_type": "code",
   "execution_count": 4,
   "metadata": {},
   "outputs": [],
   "source": [
    "def bubbleSort(arr): \n",
    "    n = len(arr) \n",
    "  \n",
    "    # Traverse through all array elements \n",
    "    for i in range(n): \n",
    "  \n",
    "        # Last i elements are already in place \n",
    "        for j in range(0, n-i-1): \n",
    "  \n",
    "            # traverse the array from 0 to n-i-1 \n",
    "            # Swap if the element found is greater \n",
    "            # than the next element \n",
    "            if arr[j] > arr[j+1] : \n",
    "                arr[j], arr[j+1] = arr[j+1], arr[j] "
   ]
  },
  {
   "cell_type": "code",
   "execution_count": 5,
   "metadata": {},
   "outputs": [],
   "source": [
    "def mergeSort(arr): \n",
    "    if len(arr) >1: \n",
    "        mid = len(arr)//2 # Finding the mid of the array \n",
    "        L = arr[:mid] # Dividing the array elements  \n",
    "        R = arr[mid:] # into 2 halves \n",
    "  \n",
    "        mergeSort(L) # Sorting the first half \n",
    "        mergeSort(R) # Sorting the second half \n",
    "  \n",
    "        i = j = k = 0\n",
    "          \n",
    "        # Copy data to temp arrays L[] and R[] \n",
    "        while i < len(L) and j < len(R): \n",
    "            if L[i] < R[j]: \n",
    "                arr[k] = L[i] \n",
    "                i+= 1\n",
    "            else: \n",
    "                arr[k] = R[j] \n",
    "                j+= 1\n",
    "            k+= 1\n",
    "          \n",
    "        # Checking if any element was left \n",
    "        while i < len(L): \n",
    "            arr[k] = L[i] \n",
    "            i+= 1\n",
    "            k+= 1\n",
    "          \n",
    "        while j < len(R): \n",
    "            arr[k] = R[j] \n",
    "            j+= 1\n",
    "            k+= 1"
   ]
  },
  {
   "cell_type": "code",
   "execution_count": 6,
   "metadata": {},
   "outputs": [],
   "source": [
    "stringsort = []\n",
    "for st in stringarray:\n",
    "        a = time.time()\n",
    "        mergeSort(st.copy())\n",
    "        b = time.time()\n",
    "        stringsort.append((b - a) * 1000)"
   ]
  },
  {
   "cell_type": "code",
   "execution_count": 8,
   "metadata": {},
   "outputs": [],
   "source": [
    "stringbubblesort = []\n",
    "for st in stringarray:\n",
    "        a = time.time()\n",
    "        bubbleSort(st.copy())\n",
    "        b = time.time()\n",
    "        stringbubblesort.append((b - a) * 1000)"
   ]
  },
  {
   "cell_type": "code",
   "execution_count": 9,
   "metadata": {},
   "outputs": [],
   "source": [
    "stringquicksort = []\n",
    "for st in stringarray:\n",
    "        a = time.time()\n",
    "        quicksort(st.copy())\n",
    "        b = time.time()\n",
    "        stringquicksort.append((b - a) * 1000)"
   ]
  },
  {
   "cell_type": "markdown",
   "metadata": {},
   "source": [
    "# PART 4"
   ]
  },
  {
   "cell_type": "code",
   "execution_count": 10,
   "metadata": {},
   "outputs": [
    {
     "data": {
      "text/html": [
       "<div>\n",
       "<style scoped>\n",
       "    .dataframe tbody tr th:only-of-type {\n",
       "        vertical-align: middle;\n",
       "    }\n",
       "\n",
       "    .dataframe tbody tr th {\n",
       "        vertical-align: top;\n",
       "    }\n",
       "\n",
       "    .dataframe thead th {\n",
       "        text-align: right;\n",
       "    }\n",
       "</style>\n",
       "<table border=\"1\" class=\"dataframe\">\n",
       "  <thead>\n",
       "    <tr style=\"text-align: right;\">\n",
       "      <th></th>\n",
       "      <th>Length</th>\n",
       "      <th>bubble sort times</th>\n",
       "      <th>Quick Sort Times</th>\n",
       "      <th>Merge sort times</th>\n",
       "    </tr>\n",
       "  </thead>\n",
       "  <tbody>\n",
       "    <tr>\n",
       "      <td>0</td>\n",
       "      <td>200</td>\n",
       "      <td>3.360033</td>\n",
       "      <td>0.881910</td>\n",
       "      <td>0.633001</td>\n",
       "    </tr>\n",
       "    <tr>\n",
       "      <td>1</td>\n",
       "      <td>400</td>\n",
       "      <td>13.387918</td>\n",
       "      <td>1.471996</td>\n",
       "      <td>1.539230</td>\n",
       "    </tr>\n",
       "    <tr>\n",
       "      <td>2</td>\n",
       "      <td>600</td>\n",
       "      <td>33.827066</td>\n",
       "      <td>2.176046</td>\n",
       "      <td>2.552032</td>\n",
       "    </tr>\n",
       "    <tr>\n",
       "      <td>3</td>\n",
       "      <td>800</td>\n",
       "      <td>56.930065</td>\n",
       "      <td>1.853228</td>\n",
       "      <td>3.427744</td>\n",
       "    </tr>\n",
       "    <tr>\n",
       "      <td>4</td>\n",
       "      <td>1000</td>\n",
       "      <td>82.092047</td>\n",
       "      <td>2.226353</td>\n",
       "      <td>3.811121</td>\n",
       "    </tr>\n",
       "  </tbody>\n",
       "</table>\n",
       "</div>"
      ],
      "text/plain": [
       "   Length  bubble sort times  Quick Sort Times  Merge sort times\n",
       "0     200           3.360033          0.881910          0.633001\n",
       "1     400          13.387918          1.471996          1.539230\n",
       "2     600          33.827066          2.176046          2.552032\n",
       "3     800          56.930065          1.853228          3.427744\n",
       "4    1000          82.092047          2.226353          3.811121"
      ]
     },
     "execution_count": 10,
     "metadata": {},
     "output_type": "execute_result"
    }
   ],
   "source": [
    "import pandas as pd\n",
    "Times = pd.DataFrame({'Length': sizes, 'bubble sort times': stringbubblesort, 'Quick Sort Times': stringquicksort, 'Merge sort times': stringsort})\n",
    "Times"
   ]
  },
  {
   "cell_type": "code",
   "execution_count": 11,
   "metadata": {},
   "outputs": [
    {
     "data": {
      "text/plain": [
       "Text(0.5, 1.0, 'array size to bubble sort times')"
      ]
     },
     "execution_count": 11,
     "metadata": {},
     "output_type": "execute_result"
    }
   ],
   "source": [
    "import matplotlib.pyplot as plt\n",
    "plt.xlabel('array size')\n",
    "plt.ylabel('time in ms')\n",
    "plt.plot(sizes, stringbubblesort)\n",
    "plt.title('array size to bubble sort times')"
   ]
  },
  {
   "cell_type": "code",
   "execution_count": 12,
   "metadata": {},
   "outputs": [
    {
     "data": {
      "text/plain": [
       "Text(0.5, 1.0, 'array size to Quick sort times')"
      ]
     },
     "execution_count": 12,
     "metadata": {},
     "output_type": "execute_result"
    },
    {
     "data": {
      "image/png": "[encoded data removed]",
      "text/plain": [
       "<Figure size 432x288 with 1 Axes>"
      ]
     },
     "metadata": {
      "needs_background": "light"
     },
     "output_type": "display_data"
    }
   ],
   "source": [
    "plt.xlabel('array size')\n",
    "plt.ylabel('time in ms')\n",
    "plt.plot(sizes, stringquicksort)\n",
    "plt.title('array size to Quick sort times')"
   ]
  },
  {
   "cell_type": "code",
   "execution_count": 13,
   "metadata": {},
   "outputs": [
    {
     "data": {
      "text/plain": [
       "Text(0.5, 1.0, 'array size to Merge sort times')"
      ]
     },
     "execution_count": 13,
     "metadata": {},
     "output_type": "execute_result"
    },
    {
     "data": {
      "image/png": "[encoded data removed]",
      "text/plain": [
       "<Figure size 432x288 with 1 Axes>"
      ]
     },
     "metadata": {
      "needs_background": "light"
     },
     "output_type": "display_data"
    }
   ],
   "source": [
    "plt.xlabel('array size')\n",
    "plt.ylabel('time in ms')\n",
    "plt.plot(sizes, stringsort)\n",
    "plt.title('array size to Merge sort times')"
   ]
  },
  {
   "cell_type": "code",
   "execution_count": 14,
   "metadata": {},
   "outputs": [
    {
     "data": {
      "text/plain": [
       "<matplotlib.legend.Legend at 0x115cc9f10>"
      ]
     },
     "execution_count": 14,
     "metadata": {},
     "output_type": "execute_result"
    },
    {
     "data": {
      "image/png": "[encoded data removed]",
      "text/plain": [
       "<Figure size 432x288 with 1 Axes>"
      ]
     },
     "metadata": {
      "needs_background": "light"
     },
     "output_type": "display_data"
    }
   ],
   "source": [
    "#plot sorting algos\n",
    "plt.xlabel('array number')\n",
    "plt.ylabel('time in ms')\n",
    "plt.plot(sizes, stringsort)\n",
    "plt.plot(sizes, stringquicksort)\n",
    "plt.plot(sizes, stringbubblesort)\n",
    "plt.title('array number to times')\n",
    "plt.legend(['mergesort', 'quicksort', 'bubblesort'])"
   ]
  },
  {
   "cell_type": "markdown",
   "metadata": {},
   "source": [
    "My findings suggest by looking at the algorithms is that bubblesort and quicksort algorithms have relatively the saame running time. Merge sort is a much faster than both quicksort and bubblesort."
   ]
  },
  {
   "cell_type": "markdown",
   "metadata": {},
   "source": [
    "# Summary"
   ]
  },
  {
   "cell_type": "markdown",
   "metadata": {},
   "source": [
    "The algorithms are different with bubble sort being O(n^2). The way this algorithm works is by swapping elements if they are out of order from least to greatest. Quick sort average case is O(n log n), while worst case is similar to bubble sort. The way this algorithm works is by finding a pivot and finding everything less than and greater than the pivot and putting those elements in separate arrays. Merge sort is also (n log  n) best and worst case, and the way it works is dividng the list into n separate lists then stitching it back together to get a sorted list. This is connected to the graph as all three are consistent with their running times with bubble sort and quick sort showing n^2 and mergesort showing a faster running time close to nlogn."
   ]
  },
  {
   "cell_type": "markdown",
   "metadata": {},
   "source": [
    "# Extra Credit"
   ]
  },
  {
   "cell_type": "code",
   "execution_count": 149,
   "metadata": {},
   "outputs": [],
   "source": [
    "def alteredquicksort(array):\n",
    "    if len(array) < 2:\n",
    "    # base case, arrays with 0 or 1 element are already \"sorted\"\n",
    "        return array\n",
    "    else:\n",
    "        # recursive case\n",
    "        pivot = array[len(array)-1]\n",
    "        # sub-array of all the elements less than the pivot\n",
    "        less = [i for i in array[1:] if i <= pivot]\n",
    "        # sub-array of all the elements greater than the pivot\n",
    "        greater = [i for i in array[1:] if i > pivot]\n",
    "        return quicksort(less) + [pivot] + quicksort(greater)\n",
    "    \n",
    "def alteredquicksort2(array):\n",
    "    if len(array) < 2:\n",
    "    # base case, arrays with 0 or 1 element are already \"sorted\"\n",
    "        return array\n",
    "    else:\n",
    "        # recursive case\n",
    "        pivot = array[0]\n",
    "        # sub-array of all the elements less than the pivot\n",
    "        less = [i for i in array[1:] if i <= pivot]\n",
    "        # sub-array of all the elements greater than the pivot\n",
    "        greater = [i for i in array[1:] if i > pivot]\n",
    "        return quicksort(less) + [pivot] + quicksort(greater)\n",
    "\n",
    "def alteredquicksort3(array):\n",
    "    if len(array) < 2:\n",
    "    # base case, arrays with 0 or 1 element are already \"sorted\"\n",
    "        return array\n",
    "    else:\n",
    "        # recursive case\n",
    "        pivot = array[1]\n",
    "        # sub-array of all the elements less than the pivot\n",
    "        less = [i for i in array[1:] if i <= pivot]\n",
    "        # sub-array of all the elements greater than the pivot\n",
    "        greater = [i for i in array[1:] if i > pivot]\n",
    "        return quicksort(less) + [pivot] + quicksort(greater)"
   ]
  },
  {
   "cell_type": "code",
   "execution_count": 173,
   "metadata": {},
   "outputs": [],
   "source": [
    "stringalteredquicksort = []\n",
    "for st in stringarray:\n",
    "        a = time.time()\n",
    "        alteredquicksort(st)\n",
    "        b = time.time()\n",
    "        stringalteredquicksort.append((b - a) * 1000)\n",
    "\n",
    "stringalteredquicksort2 = []\n",
    "for st in stringarray:\n",
    "        a = time.time()\n",
    "        alteredquicksort2(st)\n",
    "        b = time.time()\n",
    "        stringalteredquicksort2.append((b - a) * 1000)\n",
    "\n",
    "stringalteredquicksort3 = []\n",
    "for st in stringarray:\n",
    "        a = time.time()\n",
    "        alteredquicksort3(st)\n",
    "        b = time.time()\n",
    "        stringalteredquicksort3.append((b - a) * 1000)\n",
    "stringalteredquicksort4 = []\n",
    "for st in [[1,1], [1,1,1], [1,1,1,1,1,1,1], [1,1,1,1,1,1,1,1,1,1,1,1,1,1], [1,1,1,1,1,1,1,1,1,1,1,1,1,1,1,1,1,1,1,1,1,1,1]]:\n",
    "        a = time.time()\n",
    "        alteredquicksort2(st)\n",
    "        b = time.time()\n",
    "        stringalteredquicksort4.append((b - a) * 1000)\n",
    "stringalteredquicksort5 = []\n",
    "for st in [[1,2,3], [1,2,3,4], [1,2,3,4,5], [1,2,3,4,5,6,7,8,9,10], [1,2,3,4,5,6,7,8,9,10,11,12,13,14,15,16,17,18,19,20]]:\n",
    "        a = time.time()\n",
    "        alteredquicksort2(st)\n",
    "        b = time.time()\n",
    "        stringalteredquicksort5.append((b - a) * 1000)\n",
    "        "
   ]
  },
  {
   "cell_type": "code",
   "execution_count": 174,
   "metadata": {},
   "outputs": [
    {
     "data": {
      "text/plain": [
       "<matplotlib.legend.Legend at 0x125070f10>"
      ]
     },
     "execution_count": 174,
     "metadata": {},
     "output_type": "execute_result"
    },
    {
     "data": {
      "image/png": "[encoded data removed]",
      "text/plain": [
       "<Figure size 432x288 with 1 Axes>"
      ]
     },
     "metadata": {
      "needs_background": "light"
     },
     "output_type": "display_data"
    }
   ],
   "source": [
    "plt.xlabel('array size')\n",
    "plt.ylabel('time in ms')\n",
    "plt.plot(sizes, stringalteredquicksort)\n",
    "plt.plot(sizes, stringalteredquicksort2)\n",
    "plt.plot(sizes, stringalteredquicksort3)\n",
    "plt.plot([2,3,7,14, 22], stringalteredquicksort4)\n",
    "plt.plot([3,4,5,10, 20], stringalteredquicksort5)\n",
    "plt.title('array size to Quick sort times')\n",
    "plt.legend(['quicksort1', 'quicksort2', 'quicksort3', 'quicksort4', 'quicksort5'])"
   ]
  },
  {
   "cell_type": "code",
   "execution_count": 175,
   "metadata": {},
   "outputs": [
    {
     "data": {
      "text/plain": [
       "[<matplotlib.lines.Line2D at 0x1251a3290>]"
      ]
     },
     "execution_count": 175,
     "metadata": {},
     "output_type": "execute_result"
    },
    {
     "data": {
      "image/png": "[encoded data removed]",
      "text/plain": [
       "<Figure size 432x288 with 1 Axes>"
      ]
     },
     "metadata": {
      "needs_background": "light"
     },
     "output_type": "display_data"
    }
   ],
   "source": [
    "plt.xlabel('array size')\n",
    "plt.ylabel('time in ms')\n",
    "plt.plot([3,4,5,10, 20], stringalteredquicksort5)"
   ]
  },
  {
   "cell_type": "code",
   "execution_count": 176,
   "metadata": {},
   "outputs": [
    {
     "data": {
      "text/plain": [
       "[<matplotlib.lines.Line2D at 0x124c19fd0>]"
      ]
     },
     "execution_count": 176,
     "metadata": {},
     "output_type": "execute_result"
    },
    {
     "data": {
      "image/png": "[encoded data removed]",
      "text/plain": [
       "<Figure size 432x288 with 1 Axes>"
      ]
     },
     "metadata": {
      "needs_background": "light"
     },
     "output_type": "display_data"
    }
   ],
   "source": [
    "plt.xlabel('array size')\n",
    "plt.ylabel('time in ms')\n",
    "plt.plot([3,4,5,10, 20], stringalteredquicksort4)"
   ]
  },
  {
   "cell_type": "markdown",
   "metadata": {},
   "source": [
    "What I see when I change the pivot to a number at the end of the list is the algorithm is slower in the beginning but as the array size increases it has similar time complexity as the quicksort when the pivot is chosen at the beginning of the list. When same elements are in the list the sorting algorithm is linear which means the time inreases linearly to the length. As the array increases for a sorted list with different numbers the time it takes to check if the list is sorted is linear."
   ]
  }
 ],
 "metadata": {
  "kernelspec": {
   "display_name": "Python 3",
   "language": "python",
   "name": "python3"
  },
  "language_info": {
   "codemirror_mode": {
    "name": "ipython",
    "version": 3
   },
   "file_extension": ".py",
   "mimetype": "text/x-python",
   "name": "python",
   "nbconvert_exporter": "python",
   "pygments_lexer": "ipython3",
   "version": "3.7.4"
  }
 },
 "nbformat": 4,
 "nbformat_minor": 2
}
