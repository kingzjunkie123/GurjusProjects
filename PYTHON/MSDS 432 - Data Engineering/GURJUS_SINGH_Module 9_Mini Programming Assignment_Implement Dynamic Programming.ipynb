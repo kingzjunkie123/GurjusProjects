{
 "cells": [
  {
   "cell_type": "code",
   "execution_count": 39,
   "metadata": {},
   "outputs": [],
   "source": [
    "import time\n",
    "import numpy as np\n",
    "import matplotlib.pyplot as plt"
   ]
  },
  {
   "cell_type": "code",
   "execution_count": 46,
   "metadata": {},
   "outputs": [],
   "source": [
    "#Source: https://www.geeksforgeeks.org/longest-increasing-subsequence-dp-3/\n",
    "# Dynamic programming Python implementation \n",
    "# of LIS problem \n",
    "  \n",
    "# lis returns length of the longest  \n",
    "# increasing subsequence in arr of size n \n",
    "def lis(arr): \n",
    "    n = len(arr) \n",
    "  \n",
    "    # Declare the list (array) for LIS and  \n",
    "    # initialize LIS values for all indexes \n",
    "    lis = [1]*n \n",
    "  \n",
    "    # Compute optimized LIS values in bottom up manner \n",
    "    for i in range (1 , n): \n",
    "        for j in range(0 , i): \n",
    "            if arr[i] > arr[j] and lis[i]< lis[j] + 1 : \n",
    "                lis[i] = lis[j]+1\n",
    "  \n",
    "    # Initialize maximum to 0 to get  \n",
    "    # the maximum of all LIS \n",
    "    maximum = 0\n",
    "    # Pick maximum of all LIS values \n",
    "    for i in range(n): \n",
    "        maximum = max(maximum , lis[i]) \n",
    "  \n",
    "    return maximum \n"
   ]
  },
  {
   "cell_type": "code",
   "execution_count": 66,
   "metadata": {},
   "outputs": [],
   "source": [
    "\n",
    "arr = [10 , 22 , 9 , 33 , 21 , 50 , 41 , 60] \n",
    "a = time.perf_counter()\n",
    "lis(arr)\n",
    "b = time.perf_counter()\n",
    "listime = (b - a)*1000\n",
    "\n",
    "# Driver program to test the above function \n",
    "arr2 = [10 , 22 , 9 , 33 , 21 , 50 , 41 , 60, 40, 90, 50, 20, 100, 40, 70, 1000, 30]  \n",
    "a = time.perf_counter()\n",
    "lis(arr2)\n",
    "b = time.perf_counter()\n",
    "listime2 = (b - a)*1000\n",
    "\n",
    "\n",
    "arr3 = [6 , 24 , 90 , 33 , 21 , 2 , 41 , 60, 40, 90, 50, 20, 100, 7, 70, 1000, 30, 10, 11, 10000, 0, 8, 10, 50]  \n",
    "a = time.perf_counter()\n",
    "lis(arr3)\n",
    "b = time.perf_counter()\n",
    "listime3 = (b - a)*1000\n",
    "\n",
    "arr4 = [6 , 24 , 90 , 33 , 21 , 2 , 41 , 60, 40, 90, 50, 20, 100, 7, 70, 1000, 30, 10, 11, 10000, 0, 8, 10, 50, 70, 30000, 40000, 1, 8, 9]  \n",
    "a = time.perf_counter()\n",
    "lis(arr4)\n",
    "b = time.perf_counter()\n",
    "listime4 = (b - a)*1000\n",
    "\n",
    "\n",
    "arr5 = [6 , 24 , 90 , 33 , 21 , 2 , 41 , 60, 40, 90, 50, 20, 100, 7, 70, 1000, 30, 10, 11, 10000, 0, 8, 10, 50, 6, 7, 8, 9, 10000, 9, 9, 8, 7, 20000, 9, 10, 11, 12, 13, 14]  \n",
    "a = time.perf_counter()\n",
    "lis(arr5)\n",
    "b = time.perf_counter()\n",
    "listime5 = (b - a)*1000"
   ]
  },
  {
   "cell_type": "code",
   "execution_count": 67,
   "metadata": {},
   "outputs": [
    {
     "data": {
      "text/plain": [
       "Text(0.5, 1.0, 'N items to Knap Sack Time')"
      ]
     },
     "execution_count": 67,
     "metadata": {},
     "output_type": "execute_result"
    },
    {
     "data": {
      "image/png": "[encoded data removed]",
      "text/plain": [
       "<Figure size 432x288 with 1 Axes>"
      ]
     },
     "metadata": {
      "needs_background": "light"
     },
     "output_type": "display_data"
    }
   ],
   "source": [
    "ind = np.arange(5)  # the x locations for the groups\n",
    "width = 0.35  # the width of the bars\n",
    "fig, ax = plt.subplots()\n",
    "bar1 = ax.bar(['lisprob1'], listime, width)\n",
    "bar2 = ax.bar(['lisprob2'], listime2, width)\n",
    "bar3 = ax.bar(['lisprob3'], listime3, width)\n",
    "bar3 = ax.bar(['lisprob4'], listime4, width)\n",
    "bar3 = ax.bar(['lisprob5'], listime5, width)\n",
    "ax.set_ylabel('List Time')\n",
    "ax.set_xlabel('Problems')\n",
    "ax.set_title('N items to Knap Sack Time')"
   ]
  },
  {
   "cell_type": "code",
   "execution_count": 68,
   "metadata": {},
   "outputs": [
    {
     "data": {
      "text/plain": [
       "[<matplotlib.lines.Line2D at 0x121a61c50>]"
      ]
     },
     "execution_count": 68,
     "metadata": {},
     "output_type": "execute_result"
    },
    {
     "data": {
      "image/png": "[encoded data removed]",
      "text/plain": [
       "<Figure size 432x288 with 1 Axes>"
      ]
     },
     "metadata": {
      "needs_background": "light"
     },
     "output_type": "display_data"
    }
   ],
   "source": [
    "plt.plot([len(arr), len(arr2), len(arr3), len(arr4), len(arr5)], [listime, listime2, listime3, listime4, listime5])"
   ]
  },
  {
   "cell_type": "code",
   "execution_count": 72,
   "metadata": {},
   "outputs": [
    {
     "data": {
      "text/html": [
       "<div>\n",
       "<style scoped>\n",
       "    .dataframe tbody tr th:only-of-type {\n",
       "        vertical-align: middle;\n",
       "    }\n",
       "\n",
       "    .dataframe tbody tr th {\n",
       "        vertical-align: top;\n",
       "    }\n",
       "\n",
       "    .dataframe thead th {\n",
       "        text-align: right;\n",
       "    }\n",
       "</style>\n",
       "<table border=\"1\" class=\"dataframe\">\n",
       "  <thead>\n",
       "    <tr style=\"text-align: right;\">\n",
       "      <th></th>\n",
       "      <th>length of input</th>\n",
       "      <th>time</th>\n",
       "      <th>length of longest sequence</th>\n",
       "    </tr>\n",
       "  </thead>\n",
       "  <tbody>\n",
       "    <tr>\n",
       "      <td>0</td>\n",
       "      <td>8</td>\n",
       "      <td>0.064847</td>\n",
       "      <td>5</td>\n",
       "    </tr>\n",
       "    <tr>\n",
       "      <td>1</td>\n",
       "      <td>17</td>\n",
       "      <td>0.072465</td>\n",
       "      <td>8</td>\n",
       "    </tr>\n",
       "    <tr>\n",
       "      <td>2</td>\n",
       "      <td>24</td>\n",
       "      <td>0.089940</td>\n",
       "      <td>9</td>\n",
       "    </tr>\n",
       "    <tr>\n",
       "      <td>3</td>\n",
       "      <td>30</td>\n",
       "      <td>0.109666</td>\n",
       "      <td>11</td>\n",
       "    </tr>\n",
       "    <tr>\n",
       "      <td>4</td>\n",
       "      <td>40</td>\n",
       "      <td>0.152520</td>\n",
       "      <td>10</td>\n",
       "    </tr>\n",
       "  </tbody>\n",
       "</table>\n",
       "</div>"
      ],
      "text/plain": [
       "   length of input      time  length of longest sequence\n",
       "0                8  0.064847                           5\n",
       "1               17  0.072465                           8\n",
       "2               24  0.089940                           9\n",
       "3               30  0.109666                          11\n",
       "4               40  0.152520                          10"
      ]
     },
     "execution_count": 72,
     "metadata": {},
     "output_type": "execute_result"
    }
   ],
   "source": [
    "import pandas as pd\n",
    "dynamtab = [\n",
    " {\"length of input\": len(arr),  \"time\": listime,   \"length of longest sequence\":lis(arr)},\n",
    " {\"length of input\": len(arr2), \"time\": listime2, \"length of longest sequence\":lis(arr2)},\n",
    " {\"length of input\": len(arr3), \"time\": listime3, \"length of longest sequence\":lis(arr3)},\n",
    " {\"length of input\": len(arr4), \"time\": listime4, \"length of longest sequence\":lis(arr4)},\n",
    " {\"length of input\": len(arr5), \"time\": listime5, \"length of longest sequence\":lis(arr5) }]\n",
    "pd.DataFrame(dynamtab)"
   ]
  },
  {
   "cell_type": "markdown",
   "metadata": {},
   "source": [
    "This Dynamic Programming is called the Longest Increasing Subsequence problem. The way it works is you pass an array of numbers, and the algorithm trys to find the longest sequence of a subarray of numbers that are in increasing order in the original array. The technical details are the input array is an array of numbers in a random sequence. An LIS output array is also setup to keep track of the best optimal solution. This output array is initially set to an values of 1. In the algorithm there will be two indxes which are i an j. The i index will be current index and will see the number at i is greater or equal  to j. If it is then then update the output array to the output at j + 1. In the end the ouput array will have the optimal solution and is sort of like a grid as described in Grokking algorithms. Each time we iterate over the grid we check to see if we have the maximum value that can go in the grid box. In this case we are trying to find the maximum length to do before we have start a new sequence. The subproblems are to check every number and compare it to see if it is greater to j, if it is we update the length of the biggest ordered increasing sequence we can find.\n",
    "\n",
    "As mentioned on the site the time complexity of this algorithm is O(2^n). This is consistent wiht my results from the two plots which I made. The algorithm grows exponentially with array size, because we are making more and more comparisons. This algorithm is useful to data engineers, for when you have an unordered list, and want to find ordered lists of subarrays."
   ]
  }
 ],
 "metadata": {
  "kernelspec": {
   "display_name": "Python 3",
   "language": "python",
   "name": "python3"
  },
  "language_info": {
   "codemirror_mode": {
    "name": "ipython",
    "version": 3
   },
   "file_extension": ".py",
   "mimetype": "text/x-python",
   "name": "python",
   "nbconvert_exporter": "python",
   "pygments_lexer": "ipython3",
   "version": "3.7.4"
  }
 },
 "nbformat": 4,
 "nbformat_minor": 2
}
