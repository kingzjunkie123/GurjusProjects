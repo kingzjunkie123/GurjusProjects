{
 "cells": [
  {
   "cell_type": "markdown",
   "metadata": {},
   "source": [
    "# PART 1"
   ]
  },
  {
   "cell_type": "code",
   "execution_count": 13,
   "metadata": {},
   "outputs": [],
   "source": [
    "import numpy as np\n",
    "import time\n",
    "import matplotlib.pyplot as plt\n",
    "from collections import deque"
   ]
  },
  {
   "cell_type": "code",
   "execution_count": 14,
   "metadata": {},
   "outputs": [],
   "source": [
    "graph = {}\n",
    "#Level 1\n",
    "graph[\"Level 1\"] = [\"Harry\", \"Grant\", \"Jackson\", \"Blu\", \"Noodles\"]\n",
    "#Level 2\n",
    "graph[\"Harry\"] = [\"Strawberry\", \"Banana\", \"Lucas\", \"Google\", \"Parrot\"]\n",
    "graph[\"Grant\"] = [\"Strawberry\", \"Banana\", \"Lucas\", \"Google\", \"Parrot\"]\n",
    "graph[\"Jackson\"] = [\"Strawberry\", \"Banana\", \"Lucas\", \"Google\", \"Parrot\"]\n",
    "graph[\"Blu\"] = [\"Strawberry\", \"Banana\", \"Lucas\", \"Google\", \"Parrot\"]\n",
    "graph[\"Noodles\"] = [\"Strawberry\", \"Banana\", \"Lucas\", \"Google\", \"Parrot\"]\n",
    "#Level 3 \n",
    "graph[\"Strawberry\"] = [\"Florida\", \"California\", \"Illinois\", \"Texas\", \"Massachusetts\"]\n",
    "graph[\"Banana\"] = [\"Florida\", \"California\", \"Illinois\", \"Texas\", \"Massachusetts\"]\n",
    "graph[\"Lucas\"] = [\"Florida\", \"California\", \"Illinois\", \"Texas\", \"Massachusetts\"]\n",
    "graph[\"Google\"] = [\"Florida\", \"California\", \"Illinois\", \"Texas\", \"Massachusetts\"]\n",
    "graph[\"Parrot\"] = [\"Florida\", \"California\", \"Illinois\", \"Texas\", \"Massachusetts\"]\n",
    "\n",
    "#Level 4\n",
    "graph[\"Florida\"] = [\"Obama\", \"Trump\", \"Bush\", \"Lincoln\", \"Johnson\"]\n",
    "graph[\"California\"] = [\"Obama\", \"Trump\", \"Bush\", \"Lincoln\", \"Johnson\"]\n",
    "graph[\"Illinois\"] = [\"Obama\", \"Trump\", \"Bush\", \"Lincoln\", \"Johnson\"]\n",
    "graph[\"Texas\"] = [\"Obama\", \"Trump\", \"Bush\", \"Lincoln\", \"Johnson\"]\n",
    "graph[\"Massachusetts\"] = [\"Obama\", \"Trump\", \"Bush\", \"Lincoln\", \"Johnson\"]\n",
    "\n",
    "#Level 5\n",
    "graph[\"Obama\"] = [\"Fox\", \"Session\", \"Root\", \"Java\", \"Python\"]\n",
    "graph[\"Trump\"] = [\"Fox\", \"Session\", \"Root\", \"Java\", \"Python\"]\n",
    "graph[\"Bush\"] = [\"Fox\", \"Session\", \"Root\", \"Java\", \"Python\"]\n",
    "graph[\"Lincoln\"] = [\"Fox\", \"Session\", \"Root\", \"Java\", \"Python\"]\n",
    "graph[\"Johnson\"] = [\"Fox\", \"Session\", \"Root\", \"Java\", \"Python\"]\n",
    "\n",
    "graph[\"Fox\"] = []\n",
    "graph[\"Session\"] = []\n",
    "graph[\"Root\"] = []\n",
    "graph[\"Java\"] = []\n",
    "graph[\"Python\"] = []"
   ]
  },
  {
   "cell_type": "markdown",
   "metadata": {},
   "source": [
    "# PART 2"
   ]
  },
  {
   "cell_type": "code",
   "execution_count": 123,
   "metadata": {},
   "outputs": [],
   "source": [
    "#Bread-First Search\n",
    "#Source: https://github.com/egonSchiele/grokking_algorithms/blob/master/06_breadth-first_search/python/01_breadth-first_search.py\n",
    "def search(name):\n",
    "    search_queue = deque()\n",
    "    #changed from name to level 1 so it added the level 1 first to the queue before adding it's connections from before\n",
    "    search_queue += graph[\"Level 1\"]\n",
    "    # This array is how you keep track of which people you've searched before.\n",
    "    searched = []\n",
    "    while search_queue:\n",
    "        person = search_queue.popleft()\n",
    "        # Only search this person if you haven't already searched them.\n",
    "        if person not in searched:\n",
    "            # since we are not searching for mango owners took out that line and instead we are returning \n",
    "            #when the person in the graph is found make sure it's is the name variable\n",
    "            if person is name:\n",
    "                return True\n",
    "            else:\n",
    "                search_queue += graph[person]\n",
    "                # Marks this person as searched\n",
    "                searched.append(person)\n",
    "    return False"
   ]
  },
  {
   "cell_type": "code",
   "execution_count": 124,
   "metadata": {},
   "outputs": [
    {
     "data": {
      "text/plain": [
       "[[0.004335000994615257, 0.0029340008040890098, 0.0023809989215806127],\n",
       " [0.004180999894742854, 0.002962000507977791, 0.0025170011213049293],\n",
       " [0.008256998626166023, 0.007361999450949952, 0.008101000275928527],\n",
       " [0.014188000932335854, 0.015800000255694613, 0.014724999346071854],\n",
       " [0.022301001081359573, 0.023611000870005228, 0.02397599928372074]]"
      ]
     },
     "execution_count": 124,
     "metadata": {},
     "output_type": "execute_result"
    }
   ],
   "source": [
    "#calculating breadth first search time for all levels\n",
    "names = [[\"Harry\", \"Blu\", \"Noodles\"], \n",
    "         [\"Google\", \"Lucas\", \"Banana\"], \n",
    "         [\"California\", \"Florida\", \"Illinois\"],\n",
    "         [\"Obama\", \"Lincoln\", \"Bush\"],\n",
    "         [\"Fox\", \"Java\", \"Python\"]]\n",
    "levels = []\n",
    "timedgraph = []\n",
    "level = 1\n",
    "for n in names:\n",
    "    leveled = []\n",
    "    timed = []\n",
    "    for s in n:\n",
    "        a = 0\n",
    "        b = 0\n",
    "        a = time.perf_counter()\n",
    "        search(s)\n",
    "        b = time.perf_counter()\n",
    "        timed.append((b - a) * 1000)\n",
    "    levels.append(level)\n",
    "    level += 1\n",
    "    timedgraph.append(timed) \n",
    "timedgraph"
   ]
  },
  {
   "cell_type": "markdown",
   "metadata": {},
   "source": [
    "# Part 3"
   ]
  },
  {
   "cell_type": "code",
   "execution_count": 125,
   "metadata": {},
   "outputs": [
    {
     "data": {
      "text/html": [
       "<div>\n",
       "<style scoped>\n",
       "    .dataframe tbody tr th:only-of-type {\n",
       "        vertical-align: middle;\n",
       "    }\n",
       "\n",
       "    .dataframe tbody tr th {\n",
       "        vertical-align: top;\n",
       "    }\n",
       "\n",
       "    .dataframe thead th {\n",
       "        text-align: right;\n",
       "    }\n",
       "</style>\n",
       "<table border=\"1\" class=\"dataframe\">\n",
       "  <thead>\n",
       "    <tr style=\"text-align: right;\">\n",
       "      <th></th>\n",
       "      <th>name</th>\n",
       "      <th>level</th>\n",
       "      <th>breadth-first search time</th>\n",
       "    </tr>\n",
       "  </thead>\n",
       "  <tbody>\n",
       "    <tr>\n",
       "      <td>0</td>\n",
       "      <td>Harry</td>\n",
       "      <td>1</td>\n",
       "      <td>0.004335</td>\n",
       "    </tr>\n",
       "    <tr>\n",
       "      <td>1</td>\n",
       "      <td>Blu</td>\n",
       "      <td>1</td>\n",
       "      <td>0.002934</td>\n",
       "    </tr>\n",
       "    <tr>\n",
       "      <td>2</td>\n",
       "      <td>Noodles</td>\n",
       "      <td>1</td>\n",
       "      <td>0.002381</td>\n",
       "    </tr>\n",
       "    <tr>\n",
       "      <td>3</td>\n",
       "      <td>Google</td>\n",
       "      <td>2</td>\n",
       "      <td>0.004181</td>\n",
       "    </tr>\n",
       "    <tr>\n",
       "      <td>4</td>\n",
       "      <td>Lucas</td>\n",
       "      <td>2</td>\n",
       "      <td>0.002962</td>\n",
       "    </tr>\n",
       "    <tr>\n",
       "      <td>5</td>\n",
       "      <td>Banana</td>\n",
       "      <td>2</td>\n",
       "      <td>0.002517</td>\n",
       "    </tr>\n",
       "    <tr>\n",
       "      <td>6</td>\n",
       "      <td>California</td>\n",
       "      <td>3</td>\n",
       "      <td>0.008257</td>\n",
       "    </tr>\n",
       "    <tr>\n",
       "      <td>7</td>\n",
       "      <td>Florida</td>\n",
       "      <td>3</td>\n",
       "      <td>0.007362</td>\n",
       "    </tr>\n",
       "    <tr>\n",
       "      <td>8</td>\n",
       "      <td>Illinois</td>\n",
       "      <td>3</td>\n",
       "      <td>0.008101</td>\n",
       "    </tr>\n",
       "    <tr>\n",
       "      <td>9</td>\n",
       "      <td>Obama</td>\n",
       "      <td>4</td>\n",
       "      <td>0.014188</td>\n",
       "    </tr>\n",
       "    <tr>\n",
       "      <td>10</td>\n",
       "      <td>Lincoln</td>\n",
       "      <td>4</td>\n",
       "      <td>0.015800</td>\n",
       "    </tr>\n",
       "    <tr>\n",
       "      <td>11</td>\n",
       "      <td>Bush</td>\n",
       "      <td>4</td>\n",
       "      <td>0.014725</td>\n",
       "    </tr>\n",
       "    <tr>\n",
       "      <td>12</td>\n",
       "      <td>Fox</td>\n",
       "      <td>5</td>\n",
       "      <td>0.022301</td>\n",
       "    </tr>\n",
       "    <tr>\n",
       "      <td>13</td>\n",
       "      <td>Java</td>\n",
       "      <td>5</td>\n",
       "      <td>0.023611</td>\n",
       "    </tr>\n",
       "    <tr>\n",
       "      <td>14</td>\n",
       "      <td>Python</td>\n",
       "      <td>5</td>\n",
       "      <td>0.023976</td>\n",
       "    </tr>\n",
       "  </tbody>\n",
       "</table>\n",
       "</div>"
      ],
      "text/plain": [
       "          name  level  breadth-first search time\n",
       "0        Harry      1                   0.004335\n",
       "1          Blu      1                   0.002934\n",
       "2      Noodles      1                   0.002381\n",
       "3       Google      2                   0.004181\n",
       "4        Lucas      2                   0.002962\n",
       "5       Banana      2                   0.002517\n",
       "6   California      3                   0.008257\n",
       "7      Florida      3                   0.007362\n",
       "8     Illinois      3                   0.008101\n",
       "9        Obama      4                   0.014188\n",
       "10     Lincoln      4                   0.015800\n",
       "11        Bush      4                   0.014725\n",
       "12         Fox      5                   0.022301\n",
       "13        Java      5                   0.023611\n",
       "14      Python      5                   0.023976"
      ]
     },
     "execution_count": 125,
     "metadata": {},
     "output_type": "execute_result"
    }
   ],
   "source": [
    "#put in dataframe\n",
    "import pandas as pd\n",
    "searchtimes = [{\"name\": names[0][0],\"level\":levels[0], \"breadth-first search time\": timedgraph[0][0]}, \n",
    "               {\"name\": names[0][1],\"level\":levels[0], \"breadth-first search time\": timedgraph[0][1]},\n",
    "               {\"name\": names[0][2],\"level\":levels[0], \"breadth-first search time\": timedgraph[0][2]},\n",
    "               {\"name\": names[1][0],\"level\":levels[1], \"breadth-first search time\": timedgraph[1][0]},\n",
    "               {\"name\": names[1][1],\"level\":levels[1], \"breadth-first search time\": timedgraph[1][1]},\n",
    "               {\"name\": names[1][2],\"level\":levels[1], \"breadth-first search time\": timedgraph[1][2]},\n",
    "               {\"name\": names[2][0],\"level\":levels[2], \"breadth-first search time\": timedgraph[2][0]},\n",
    "               {\"name\": names[2][1],\"level\":levels[2], \"breadth-first search time\": timedgraph[2][1]},\n",
    "               {\"name\": names[2][2],\"level\":levels[2], \"breadth-first search time\": timedgraph[2][2]},\n",
    "               {\"name\": names[3][0],\"level\":levels[3], \"breadth-first search time\": timedgraph[3][0]},\n",
    "               {\"name\": names[3][1],\"level\":levels[3], \"breadth-first search time\": timedgraph[3][1]},\n",
    "               {\"name\": names[3][2],\"level\":levels[3], \"breadth-first search time\": timedgraph[3][2]},\n",
    "               {\"name\": names[4][0],\"level\":levels[4], \"breadth-first search time\": timedgraph[4][0]},\n",
    "               {\"name\": names[4][1],\"level\":levels[4], \"breadth-first search time\": timedgraph[4][1]},\n",
    "               {\"name\": names[4][2],\"level\":levels[4], \"breadth-first search time\": timedgraph[4][2]}]\n",
    "searchtimedf = pd.DataFrame(searchtimes)\n",
    "searchtimedf"
   ]
  },
  {
   "cell_type": "code",
   "execution_count": 126,
   "metadata": {},
   "outputs": [],
   "source": [
    "means = []\n",
    "for t in timedgraph:\n",
    "    means.append(sum(t)/len(t))"
   ]
  },
  {
   "cell_type": "code",
   "execution_count": 127,
   "metadata": {},
   "outputs": [
    {
     "data": {
      "text/plain": [
       "Text(0.5, 1.0, 'Levels to Breadth-First Search Time')"
      ]
     },
     "execution_count": 127,
     "metadata": {},
     "output_type": "execute_result"
    },
    {
     "data": {
      "image/png": "[encoded data removed]",
      "text/plain": [
       "<Figure size 432x288 with 1 Axes>"
      ]
     },
     "metadata": {
      "needs_background": "light"
     },
     "output_type": "display_data"
    }
   ],
   "source": [
    "ind = np.arange(len(levels))  # the x locations for the groups\n",
    "width = 0.35  # the width of the bars\n",
    "fig, ax = plt.subplots()\n",
    "bar1 = ax.bar(ind - width/2, means, width, label='Breadth-First search')\n",
    "ax.set_ylabel('Breadth-First Search Time')\n",
    "ax.set_xlabel('Levels')\n",
    "ax.set_title('Levels to Breadth-First Search Time')"
   ]
  },
  {
   "cell_type": "markdown",
   "metadata": {},
   "source": [
    "This week we learned about Breadth-First Search which is used to find the corret node. The first thing we did this week was set up the graph, which makes an intial level 1, then level 1 makes connections to level 2 which has 5 people, and level 3 is connected by level 2 and so on. Once I figured out the graph, we then used a search algorithm, which was used to keep track of the nodes which we search. In the first part we set up a dequeue, pop from the dequeue and see if the person is equal to what we want if not we set up a list to keep track of what we searched. Later I then calculated run time, but setting up a few list to keep track of level, runtime, and names we searched to use in the dataframe. \n",
    "\n",
    "I found out that runtime increases when going from level to level. This is consistent because the more levels we go down, the more our search run time increases, which is similar to O(V+E). We are searching through each of the nodes, if they are not it then we search through their neighbors. This will increase the run time exponentially as shown in the barplot graph. The way I made the bargraph was I made sure it was plotting the mean of each level as seen in the cell before implementing the barplot"
   ]
  }
 ],
 "metadata": {
  "kernelspec": {
   "display_name": "Python 3",
   "language": "python",
   "name": "python3"
  },
  "language_info": {
   "codemirror_mode": {
    "name": "ipython",
    "version": 3
   },
   "file_extension": ".py",
   "mimetype": "text/x-python",
   "name": "python",
   "nbconvert_exporter": "python",
   "pygments_lexer": "ipython3",
   "version": "3.7.4"
  }
 },
 "nbformat": 4,
 "nbformat_minor": 2
}
