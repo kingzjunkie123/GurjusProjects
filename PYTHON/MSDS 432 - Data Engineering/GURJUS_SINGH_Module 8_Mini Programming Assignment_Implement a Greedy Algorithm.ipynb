{
 "cells": [
  {
   "cell_type": "markdown",
   "metadata": {},
   "source": [
    "# PART 1 -3"
   ]
  },
  {
   "cell_type": "code",
   "execution_count": 134,
   "metadata": {},
   "outputs": [],
   "source": [
    "import numpy as np\n",
    "#First create a cost function that takes in number of hours and overtime worked and use it to find cost:\n",
    "\n",
    "#cost function using constraints where we have $15 per 8 hours, and $20 for more than eight hours\n",
    "def cost(regular, overtime):\n",
    "    #overtime cannot be negative\n",
    "    if overtime < 0:\n",
    "        overtime = 0\n",
    "   \n",
    "    return regular*15 + overtime*20"
   ]
  },
  {
   "cell_type": "code",
   "execution_count": 144,
   "metadata": {},
   "outputs": [],
   "source": [
    "#create a cost list and calculate cost using function above\n",
    "hrsperday = 24\n",
    "workhrs = 8\n",
    "costs = []\n",
    "workers = []\n",
    "hrsperworker = []\n",
    "# range used to get a list from 1 -6 workers\n",
    "for i in range(1, 7):\n",
    "    #append each number of worker scenario\n",
    "    workers.append(i)\n",
    "    #over time is number of hours beyound 8 hours so we subtract\n",
    "    overtime = hrsperday/i - workhrs\n",
    "    #make sure we are dividing the number of workers by total hours if less than 8 set it equal to work hours \n",
    "    #to pass into cost function above for regular hours\n",
    "    if hrsperday/i <= 8:\n",
    "        hrsperworker.append(hrsperday/i)\n",
    "        workhrs = hrsperday/i\n",
    "    costs.append(cost(workhrs, overtime)*i)\n",
    "costs = np.sort(costs)"
   ]
  },
  {
   "cell_type": "markdown",
   "metadata": {},
   "source": [
    "# PART 4"
   ]
  },
  {
   "cell_type": "code",
   "execution_count": 145,
   "metadata": {},
   "outputs": [],
   "source": [
    "#finding lowest_costs in a list of computations\n",
    "def find_lowest_cost(costs):\n",
    "    lowest_cost = float(\"inf\")\n",
    "    for c in costs:\n",
    "        #if cost is in the cost list is lesst than lowest_cost stored we assign it to the variable\n",
    "        if c < lowest_cost:\n",
    "            lowest_cost = c\n",
    "    #returns the least cost in the list\n",
    "    return lowest_cost"
   ]
  },
  {
   "cell_type": "code",
   "execution_count": 146,
   "metadata": {},
   "outputs": [
    {
     "name": "stdout",
     "output_type": "stream",
     "text": [
      "With number workers of: 1-6, we get the total minimum cost of 360.0.\n",
      "This means that the hours of work for each worker  for the number or workers ranging from 3-6 workers are 8.0 - 4.0  hrs.\n"
     ]
    }
   ],
   "source": [
    "print(\"With number workers of: \" +  str(workers[0]) +  \"-\" + str(workers[len(workers) - 1])\n",
    "      + \", we get the total minimum cost of \" + str(find_lowest_cost(costs)) + \".\") \n",
    "print(\"This means that the hours of work for each worker  for the number or workers ranging from 3-6 workers are \" +\n",
    "     str(hrsperworker[0]) +  \" - \" + str(hrsperworker[len(hrsperworker) - 1]) + \"  hrs.\")"
   ]
  },
  {
   "cell_type": "code",
   "execution_count": 147,
   "metadata": {},
   "outputs": [
    {
     "data": {
      "text/plain": [
       "0.05737900028179865"
      ]
     },
     "execution_count": 147,
     "metadata": {},
     "output_type": "execute_result"
    }
   ],
   "source": [
    "import time\n",
    "import matplotlib.pyplot as plt\n",
    "a = time.perf_counter()\n",
    "find_lowest_cost(costs)\n",
    "b = time.perf_counter()\n",
    "getgreedytime =(b - a)*1000\n",
    "\n",
    "getgreedytime"
   ]
  },
  {
   "cell_type": "code",
   "execution_count": 148,
   "metadata": {},
   "outputs": [
    {
     "data": {
      "text/html": [
       "<div>\n",
       "<style scoped>\n",
       "    .dataframe tbody tr th:only-of-type {\n",
       "        vertical-align: middle;\n",
       "    }\n",
       "\n",
       "    .dataframe tbody tr th {\n",
       "        vertical-align: top;\n",
       "    }\n",
       "\n",
       "    .dataframe thead th {\n",
       "        text-align: right;\n",
       "    }\n",
       "</style>\n",
       "<table border=\"1\" class=\"dataframe\">\n",
       "  <thead>\n",
       "    <tr style=\"text-align: right;\">\n",
       "      <th></th>\n",
       "      <th>cost</th>\n",
       "      <th>time</th>\n",
       "      <th># of workers</th>\n",
       "      <th>hours worked</th>\n",
       "    </tr>\n",
       "  </thead>\n",
       "  <tbody>\n",
       "    <tr>\n",
       "      <td>0</td>\n",
       "      <td>360</td>\n",
       "      <td>0.057379</td>\n",
       "      <td>3</td>\n",
       "      <td>8.0</td>\n",
       "    </tr>\n",
       "    <tr>\n",
       "      <td>1</td>\n",
       "      <td>360</td>\n",
       "      <td>0.057379</td>\n",
       "      <td>4</td>\n",
       "      <td>6.0</td>\n",
       "    </tr>\n",
       "    <tr>\n",
       "      <td>2</td>\n",
       "      <td>360</td>\n",
       "      <td>0.057379</td>\n",
       "      <td>5</td>\n",
       "      <td>4.8</td>\n",
       "    </tr>\n",
       "    <tr>\n",
       "      <td>3</td>\n",
       "      <td>360</td>\n",
       "      <td>0.057379</td>\n",
       "      <td>6</td>\n",
       "      <td>4.0</td>\n",
       "    </tr>\n",
       "  </tbody>\n",
       "</table>\n",
       "</div>"
      ],
      "text/plain": [
       "   cost      time  # of workers  hours worked\n",
       "0   360  0.057379             3           8.0\n",
       "1   360  0.057379             4           6.0\n",
       "2   360  0.057379             5           4.8\n",
       "3   360  0.057379             6           4.0"
      ]
     },
     "execution_count": 148,
     "metadata": {},
     "output_type": "execute_result"
    }
   ],
   "source": [
    "#put in dataframe\n",
    "import pandas as pd\n",
    "mincost = [{\"cost\":360, \"time\": getgreedytime, \"# of workers\": workers[2], \"hours worked\":hrsperworker[0]},\n",
    " {\"cost\":360, \"time\": getgreedytime, \"# of workers\": workers[3], \"hours worked\":hrsperworker[1]},\n",
    " {\"cost\":360, \"time\": getgreedytime, \"# of workers\": workers[4], \"hours worked\":hrsperworker[2]},\n",
    " {\"cost\":360, \"time\": getgreedytime, \"# of workers\": workers[5], \"hours worked\":hrsperworker[3]}]\n",
    "pd.DataFrame(mincost)"
   ]
  },
  {
   "cell_type": "markdown",
   "metadata": {},
   "source": [
    "# Questions Answered + Summary"
   ]
  },
  {
   "cell_type": "markdown",
   "metadata": {},
   "source": [
    "To find the minimum cost, I first created a cost function to compute all the costs for the different scenarios from 1-6. I created a list to store these computations. The algorithm part was pretty straightforward, and was similar to find_least_node from Dijkstra's algorithm. It involved looping through my created list seeing if it is less than the value stored in the least_cost variable I created, if so then reassign the cost. The complexity is in the worst case it will through the entire list to find the cost. So in the worst case it would take linear time. For my greedy algorithm, I think it could have been improved by maybe implementing a graph of the least cost and using Djikstra's algorthm to find the cos . Although this was the simplest route to take as the logic was clear and did provide the best solution. If the scenarios were different I think my algorithm would have to be improved. For example, if we wanted to find the minimum number of guards that can be on duty during one time frame while minimizing cost and allowing a balanced staff during the entire week. I think for this type of algorithm the cost will have to be compared and added to a total for the whole week. So my list will have to factor in the cost for the whole week and each day. We will also need to see how many hours each person worked per week. If we had more than workers than the algorithm will be straightforward, but diminishing the number of workers than it will become more difficult to have a balanced work schedule, and my algorithm will be more complex. I think if greedy algorithms were not used, I think I would want to solve this problem using linear programming from what I learned in Math 400. We learned how to solve these type of problems with constraints which I was thinking about here. I could also just use the min function used for a list to find the cost.\n",
    "\n",
    "This algorithm as mentioned iterated over the list to find the cost for each scencario the if n was the number of items the if case was comparing then the time complexity was O(n). I think this is an algorithm that can be used by engineers and can be implemented recursively also which will make the solution more elegant. This was used for part of Djikstra's algorithm, although I just used a different data structure. \n",
    "\n",
    "There were different scenarios as calculated in the dataframe:\n",
    "\n",
    "For 3 workers, each worked a total of 8 hours\n",
    "For 4 workers, each worked a total of 6 hours\n",
    "For 5 workers, each worked a total of 4 hours.\n",
    "\n",
    "Each ended with a minimum cost of $360. So any one of these combinations could be used. Timing to find the minimum cost took the same time since there multiple scenarios which had the same cost."
   ]
  }
 ],
 "metadata": {
  "kernelspec": {
   "display_name": "Python 3",
   "language": "python",
   "name": "python3"
  },
  "language_info": {
   "codemirror_mode": {
    "name": "ipython",
    "version": 3
   },
   "file_extension": ".py",
   "mimetype": "text/x-python",
   "name": "python",
   "nbconvert_exporter": "python",
   "pygments_lexer": "ipython3",
   "version": "3.7.4"
  }
 },
 "nbformat": 4,
 "nbformat_minor": 2
}
