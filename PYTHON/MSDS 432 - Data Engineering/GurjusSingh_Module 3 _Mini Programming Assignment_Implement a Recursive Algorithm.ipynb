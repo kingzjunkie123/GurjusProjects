{
 "cells": [
  {
   "cell_type": "markdown",
   "metadata": {},
   "source": [
    "# Question 1"
   ]
  },
  {
   "cell_type": "code",
   "execution_count": 4,
   "metadata": {},
   "outputs": [
    {
     "name": "stdout",
     "output_type": "stream",
     "text": [
      "10\n",
      "[457 178 100 463 285 488 254 265 296 463]\n"
     ]
    }
   ],
   "source": [
    "import numpy as np\n",
    "import time\n",
    "#use randint to create uniform random array\n",
    "#make an array between 100 and 500 with just 10 numbers\n",
    "array = np.random.randint(100, 500, size=10)\n",
    "print(len(array))\n",
    "print(array)"
   ]
  },
  {
   "cell_type": "markdown",
   "metadata": {},
   "source": [
    "# Question 2"
   ]
  },
  {
   "cell_type": "code",
   "execution_count": 26,
   "metadata": {},
   "outputs": [],
   "source": [
    "# make a iterative version of recursion\n",
    "from decimal import Decimal\n",
    "def factiter(x):\n",
    "    result = 1\n",
    "    if x < 1:\n",
    "        return None\n",
    "    elif x == 0:\n",
    "        return 1\n",
    "    else:\n",
    "        for i in range(1, x+1):\n",
    "               result =  result*i\n",
    "    return result\n",
    "\n",
    "#capture output\n",
    "factiterarr = []\n",
    "for i in array:\n",
    "    factiterarr.append(Decimal(factiter(i)))\n",
    "\n",
    "#capture time\n",
    "factitertime = []\n",
    "for i in array:\n",
    "    a = time.perf_counter()\n",
    "    factiter(i)\n",
    "    b = time.perf_counter()\n",
    "    factitertime.append((b - a) * 1000)"
   ]
  },
  {
   "cell_type": "markdown",
   "metadata": {},
   "source": [
    "# Question 3"
   ]
  },
  {
   "cell_type": "markdown",
   "metadata": {},
   "source": [
    "Calculate the factorial of each of the numbers using recursion.  Please capture the start/end times and store the results in an array, or linked list, or dictionary."
   ]
  },
  {
   "cell_type": "code",
   "execution_count": 27,
   "metadata": {},
   "outputs": [
    {
     "name": "stderr",
     "output_type": "stream",
     "text": [
      "/opt/anaconda3/lib/python3.7/site-packages/ipykernel_launcher.py:6: RuntimeWarning: overflow encountered in long_scalars\n",
      "  \n"
     ]
    }
   ],
   "source": [
    "#recursive version\n",
    "def fact(x):\n",
    "    if x == 1:\n",
    "        return 1\n",
    "    else:\n",
    "        return x * fact(x-1)\n",
    "\n",
    "#recursive time\n",
    "factrecurtime = []\n",
    "for i in np.sort(array):\n",
    "    a = time.perf_counter()\n",
    "    fact(i)\n",
    "    b = time.perf_counter()\n",
    "    factrecurtime.append((b - a) * 1000)"
   ]
  },
  {
   "cell_type": "markdown",
   "metadata": {},
   "source": [
    "# Question 4"
   ]
  },
  {
   "cell_type": "code",
   "execution_count": 20,
   "metadata": {},
   "outputs": [
    {
     "data": {
      "text/html": [
       "<div>\n",
       "<style scoped>\n",
       "    .dataframe tbody tr th:only-of-type {\n",
       "        vertical-align: middle;\n",
       "    }\n",
       "\n",
       "    .dataframe tbody tr th {\n",
       "        vertical-align: top;\n",
       "    }\n",
       "\n",
       "    .dataframe thead th {\n",
       "        text-align: right;\n",
       "    }\n",
       "</style>\n",
       "<table border=\"1\" class=\"dataframe\">\n",
       "  <thead>\n",
       "    <tr style=\"text-align: right;\">\n",
       "      <th></th>\n",
       "      <th>number</th>\n",
       "      <th>factorial answer</th>\n",
       "      <th>time of factorial iteration</th>\n",
       "      <th>time of factorial recursive</th>\n",
       "    </tr>\n",
       "  </thead>\n",
       "  <tbody>\n",
       "    <tr>\n",
       "      <td>0</td>\n",
       "      <td>100</td>\n",
       "      <td>6890526849941669911782115319882194970027353643...</td>\n",
       "      <td>0.067080</td>\n",
       "      <td>0.383025</td>\n",
       "    </tr>\n",
       "    <tr>\n",
       "      <td>1</td>\n",
       "      <td>178</td>\n",
       "      <td>6235135397241908741680674639927586558582878361...</td>\n",
       "      <td>0.017551</td>\n",
       "      <td>0.225536</td>\n",
       "    </tr>\n",
       "    <tr>\n",
       "      <td>2</td>\n",
       "      <td>254</td>\n",
       "      <td>9332621544394415268169923885626670049071596826...</td>\n",
       "      <td>0.008798</td>\n",
       "      <td>0.253436</td>\n",
       "    </tr>\n",
       "    <tr>\n",
       "      <td>3</td>\n",
       "      <td>265</td>\n",
       "      <td>6570710251495957257837272260167054866368469858...</td>\n",
       "      <td>0.065751</td>\n",
       "      <td>0.281100</td>\n",
       "    </tr>\n",
       "    <tr>\n",
       "      <td>4</td>\n",
       "      <td>285</td>\n",
       "      <td>3044367737049900539998958460974513321193564462...</td>\n",
       "      <td>0.040370</td>\n",
       "      <td>0.472222</td>\n",
       "    </tr>\n",
       "    <tr>\n",
       "      <td>5</td>\n",
       "      <td>296</td>\n",
       "      <td>5708736216291824326084018771595821975032866013...</td>\n",
       "      <td>0.098075</td>\n",
       "      <td>0.477307</td>\n",
       "    </tr>\n",
       "    <tr>\n",
       "      <td>6</td>\n",
       "      <td>457</td>\n",
       "      <td>1314059092130580046138300048531299977263758456...</td>\n",
       "      <td>0.039783</td>\n",
       "      <td>0.787583</td>\n",
       "    </tr>\n",
       "    <tr>\n",
       "      <td>7</td>\n",
       "      <td>463</td>\n",
       "      <td>4819126545189115249857996730960986251533770366...</td>\n",
       "      <td>0.041439</td>\n",
       "      <td>0.370669</td>\n",
       "    </tr>\n",
       "    <tr>\n",
       "      <td>8</td>\n",
       "      <td>463</td>\n",
       "      <td>3855119878077670351435595549786415218359800612...</td>\n",
       "      <td>0.045558</td>\n",
       "      <td>0.417591</td>\n",
       "    </tr>\n",
       "    <tr>\n",
       "      <td>9</td>\n",
       "      <td>488</td>\n",
       "      <td>6570710251495957257837272260167054866368469858...</td>\n",
       "      <td>0.075329</td>\n",
       "      <td>0.423955</td>\n",
       "    </tr>\n",
       "  </tbody>\n",
       "</table>\n",
       "</div>"
      ],
      "text/plain": [
       "   number                                   factorial answer  \\\n",
       "0     100  6890526849941669911782115319882194970027353643...   \n",
       "1     178  6235135397241908741680674639927586558582878361...   \n",
       "2     254  9332621544394415268169923885626670049071596826...   \n",
       "3     265  6570710251495957257837272260167054866368469858...   \n",
       "4     285  3044367737049900539998958460974513321193564462...   \n",
       "5     296  5708736216291824326084018771595821975032866013...   \n",
       "6     457  1314059092130580046138300048531299977263758456...   \n",
       "7     463  4819126545189115249857996730960986251533770366...   \n",
       "8     463  3855119878077670351435595549786415218359800612...   \n",
       "9     488  6570710251495957257837272260167054866368469858...   \n",
       "\n",
       "   time of factorial iteration  time of factorial recursive  \n",
       "0                     0.067080                     0.383025  \n",
       "1                     0.017551                     0.225536  \n",
       "2                     0.008798                     0.253436  \n",
       "3                     0.065751                     0.281100  \n",
       "4                     0.040370                     0.472222  \n",
       "5                     0.098075                     0.477307  \n",
       "6                     0.039783                     0.787583  \n",
       "7                     0.041439                     0.370669  \n",
       "8                     0.045558                     0.417591  \n",
       "9                     0.075329                     0.423955  "
      ]
     },
     "execution_count": 20,
     "metadata": {},
     "output_type": "execute_result"
    }
   ],
   "source": [
    "#put in dataframe\n",
    "import pandas as pd\n",
    "facttimes = {'number': np.sort(array), 'factorial answer': factiterarr,'time of factorial iteration':factitertime , 'time of factorial recursive': factrecurtime}\n",
    "factdf = pd.DataFrame(facttimes)\n",
    "factdf"
   ]
  },
  {
   "cell_type": "markdown",
   "metadata": {},
   "source": [
    "# Question 5"
   ]
  },
  {
   "cell_type": "code",
   "execution_count": 28,
   "metadata": {},
   "outputs": [
    {
     "data": {
      "text/plain": [
       "Text(0.5, 1.0, 'array number to times')"
      ]
     },
     "execution_count": 28,
     "metadata": {},
     "output_type": "execute_result"
    },
    {
     "data": {
      "image/png": "[encoded data removed]",
      "text/plain": [
       "<Figure size 432x288 with 1 Axes>"
      ]
     },
     "metadata": {
      "needs_background": "light"
     },
     "output_type": "display_data"
    }
   ],
   "source": [
    "#plot iterative times\n",
    "import matplotlib.pyplot as plt\n",
    "plt.xlabel('array number')\n",
    "plt.ylabel('time in ms')\n",
    "plt.plot(np.sort(array), factitertime)\n",
    "plt.title('array number to times')"
   ]
  },
  {
   "cell_type": "code",
   "execution_count": 29,
   "metadata": {},
   "outputs": [
    {
     "data": {
      "text/plain": [
       "Text(0.5, 1.0, 'array number to times')"
      ]
     },
     "execution_count": 29,
     "metadata": {},
     "output_type": "execute_result"
    },
    {
     "data": {
      "image/png": "[encoded data removed]",
      "text/plain": [
       "<Figure size 432x288 with 1 Axes>"
      ]
     },
     "metadata": {
      "needs_background": "light"
     },
     "output_type": "display_data"
    }
   ],
   "source": [
    "#plot recursive version\n",
    "plt.xlabel('array number')\n",
    "plt.ylabel('time in ms')\n",
    "plt.plot(np.sort(array), factrecurtime)\n",
    "plt.title('array number to times')"
   ]
  },
  {
   "cell_type": "code",
   "execution_count": 30,
   "metadata": {},
   "outputs": [
    {
     "data": {
      "text/plain": [
       "<matplotlib.legend.Legend at 0x1152c2e50>"
      ]
     },
     "execution_count": 30,
     "metadata": {},
     "output_type": "execute_result"
    },
    {
     "data": {
      "image/png": "[encoded data removed]",
      "text/plain": [
       "<Figure size 432x288 with 1 Axes>"
      ]
     },
     "metadata": {
      "needs_background": "light"
     },
     "output_type": "display_data"
    }
   ],
   "source": [
    "#plot both\n",
    "plt.xlabel('array number')\n",
    "plt.ylabel('time in ms')\n",
    "plt.plot(np.sort(array), factrecurtime)\n",
    "plt.plot(np.sort(array), factitertime)\n",
    "plt.title('array number to times')\n",
    "plt.legend(['recursive', 'loop'])"
   ]
  },
  {
   "cell_type": "markdown",
   "metadata": {},
   "source": [
    "# Extra Credit Question 1"
   ]
  },
  {
   "cell_type": "code",
   "execution_count": 10,
   "metadata": {},
   "outputs": [
    {
     "data": {
      "text/plain": [
       "Decimal('2962')"
      ]
     },
     "execution_count": 10,
     "metadata": {},
     "output_type": "execute_result"
    }
   ],
   "source": [
    "#keep adding basecases to use less stack\n",
    "def factory(x):\n",
    "    if x in range(1, x+1):\n",
    "        return x\n",
    "    else:\n",
    "        return x * factory(x-1)\n",
    "Decimal(factory(2962))"
   ]
  },
  {
   "cell_type": "markdown",
   "metadata": {},
   "source": [
    "# Extra Credit Question 2"
   ]
  },
  {
   "cell_type": "code",
   "execution_count": 19,
   "metadata": {},
   "outputs": [
    {
     "name": "stdout",
     "output_type": "stream",
     "text": [
      ".Rhistory\n",
      "QSG_Solutions.html\n",
      "Excel102Exercises.xlsx\n",
      "MSDS 401 Assignment Submission Example.pdf\n",
      "Singh_Module 2_Mini Programming Assignment_Implement a Selection Sort Algorithm_EXTRA_CREDIT.html\n",
      "GurjusSingh_Module 3 _Mini Programming Assignmen_tImplement a Recursive Algorithm.ipynb\n",
      "Chapter4Wilcox.pdf\n",
      "SQL Training Logistics Email_v2rtAFrt.docx\n",
      ".DS_Store\n",
      ".localized\n",
      "ch05.pptx\n",
      "pareto-charts-75-925-copy.pdf\n",
      "Excel102Exercises.txt\n",
      "MSDS 401 Assignment Submission Example (1).pdf\n",
      "Singh_Module 2_Mini Programming Assignment_Implement a Selection Sort Algorithm_EXTRA_CREDIT.ipynb\n",
      "sqlite-tools-osx-x86-3310100\n",
      "SN04446.pdf\n",
      "Ferreira2017_Chapter_EventLogs.pdf\n",
      ".RData\n",
      "Misuse of statistics.pdf\n",
      "R-Course-HTML-Notes\n",
      ".ipynb_checkpoints\n",
      "Singh_Module 2_Mini Programming Assignment_Implement a Selection Sort Algorithm.ipynb\n",
      "Singh_Module 2_Mini Programming Assignment_Implement a Selection Sort Algorithm.html\n",
      "Instructions for Use of RMarkdown.pdf\n",
      "SN04446 (1).pdf\n",
      "TextEditor-master.zip\n"
     ]
    }
   ],
   "source": [
    "import os\n",
    "path = '.'\n",
    "files = os.listdir(path) #list directories\n",
    "def filedirtraversal(file):\n",
    "    if len(file) == 0:\n",
    "        return\n",
    "    else:\n",
    "        print(file[0])\n",
    "        return filedirtraversal(file[1:]) #traverse through whole list\n",
    "    \n",
    "filedirtraversal(files)"
   ]
  },
  {
   "cell_type": "markdown",
   "metadata": {},
   "source": [
    "# ANSWER"
   ]
  },
  {
   "cell_type": "markdown",
   "metadata": {},
   "source": [
    "From the results it is consistent that the recursion factorail function takes longer than the iteration version. The iteration version is better if you want to keep comparing larger and larger errors as with the recursion version you will eventually run out of stack space and will get a recursion error. In order to fix this problem you will need to add base cases to save more stack space. The factorial works by multiplying by n then decrementing n to n -1 and multiplying n by n-1 then n-2 and so on. This can be implemented recursively or iteratively."
   ]
  }
 ],
 "metadata": {
  "kernelspec": {
   "display_name": "Python 3",
   "language": "python",
   "name": "python3"
  },
  "language_info": {
   "codemirror_mode": {
    "name": "ipython",
    "version": 3
   },
   "file_extension": ".py",
   "mimetype": "text/x-python",
   "name": "python",
   "nbconvert_exporter": "python",
   "pygments_lexer": "ipython3",
   "version": "3.7.4"
  }
 },
 "nbformat": 4,
 "nbformat_minor": 2
}
