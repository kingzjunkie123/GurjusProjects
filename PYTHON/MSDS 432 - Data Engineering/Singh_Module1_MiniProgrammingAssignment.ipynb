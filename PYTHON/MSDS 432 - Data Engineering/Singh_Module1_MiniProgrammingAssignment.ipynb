{
 "cells": [
  {
   "cell_type": "markdown",
   "metadata": {},
   "source": [
    "# Question 1"
   ]
  },
  {
   "cell_type": "markdown",
   "metadata": {},
   "source": [
    "To begin, let's generate some random data to work with. Ensure that a common random number seed is used to generate each of the arrays. We will make five arrays, each of length 512, 1024, 2048, 4096, and 8192 containing randomly generated uniformly distributed integers from 1 to 10000.  You may use the numpy package for this. "
   ]
  },
  {
   "cell_type": "code",
   "execution_count": 107,
   "metadata": {},
   "outputs": [
    {
     "name": "stdout",
     "output_type": "stream",
     "text": [
      "512\n",
      "1024\n",
      "2048\n",
      "4096\n",
      "8192\n"
     ]
    }
   ],
   "source": [
    "import numpy as np\n",
    "import time\n",
    "#use randint to create uniform random array\n",
    "\n",
    "array1 = np.random.randint(1, 10000, size=512)\n",
    "print(len(array1))\n",
    "\n",
    "\n",
    "array2 = np.random.randint(1, 10000, size=1024)\n",
    "print(len(array2))\n",
    "\n",
    "array3 = np.random.randint(1, 10000, size=2048)\n",
    "print(len(array3))\n",
    "\n",
    "\n",
    "array4 = np.random.randint(1, 10000, size=4096)\n",
    "print(len(array4))\n",
    "\n",
    "array5 = np.random.randint(1, 10000, size=8192)\n",
    "print(len(array5))"
   ]
  },
  {
   "cell_type": "markdown",
   "metadata": {},
   "source": [
    "# Question 2"
   ]
  },
  {
   "cell_type": "markdown",
   "metadata": {},
   "source": [
    "Sort each of the random number arrays from smallest to largest.  You may use any algorithm to sort the data."
   ]
  },
  {
   "cell_type": "code",
   "execution_count": 80,
   "metadata": {},
   "outputs": [],
   "source": [
    "#https://numpy.org/devdocs/reference/generated/numpy.sort.html\n",
    "#sort using algorithm\n",
    "sort1 = np.sort(array1)\n",
    "sort2 = np.sort(array2)\n",
    "sort3 = np.sort(array3)\n",
    "sort4 = np.sort(array4)\n",
    "sort5 = np.sort(array5)"
   ]
  },
  {
   "cell_type": "markdown",
   "metadata": {},
   "source": [
    "# Question 3"
   ]
  },
  {
   "cell_type": "markdown",
   "metadata": {},
   "source": [
    "Execute the base search algorithm (binary search) (from the text and github code) for each of array, noting the execution time for each array.  With each execution use the maximum value of the random number array as the number for which you are searching."
   ]
  },
  {
   "cell_type": "code",
   "execution_count": 126,
   "metadata": {},
   "outputs": [],
   "source": [
    "#used algorithm from https://github.com/egonSchiele/grokking_algorithms/tree/master/01_introduction_to_algorithms\n",
    "def binary_search(list, item):\n",
    "  # low and high keep track of which part of the list you'll search in.\n",
    "    low = 0\n",
    "    high = len(list) - 1\n",
    "\n",
    "  # While you haven't narrowed it down to one element ...\n",
    "    while low <= high:\n",
    "    # ... check the middle element\n",
    "        mid = (low + high) // 2\n",
    "        guess = list[mid]\n",
    "    # Found the item.\n",
    "        if guess == item:\n",
    "            return mid\n",
    "    # The guess was too high.\n",
    "        if guess > item:\n",
    "            high = mid - 1\n",
    "    # The guess was too low.\n",
    "        else:\n",
    "            low = mid + 1\n",
    "\n",
    "  # Item doesn't exist\n",
    "    return None"
   ]
  },
  {
   "cell_type": "markdown",
   "metadata": {},
   "source": [
    "# Question 4"
   ]
  },
  {
   "cell_type": "markdown",
   "metadata": {},
   "source": [
    "Now we will compare this to a linear search.  Use python (perhaps with the Pandas package) to prepare a five-column table containing the following columns with all times in milliseconds:\n",
    "- length of the random number array\n",
    "- sort time\n",
    "- linear search time for the sorted array\n",
    "- binary search time for the sorted array\n",
    "- binary search plus sort times"
   ]
  },
  {
   "cell_type": "code",
   "execution_count": 127,
   "metadata": {},
   "outputs": [],
   "source": [
    "#linearsearch\n",
    "#source: https://www.geeksforgeeks.org/linear-search/\n",
    "def linearsearch(array, x):\n",
    "    for i in range(0, len(array)):\n",
    "        if array[i] == x:\n",
    "            return i\n",
    "    return None"
   ]
  },
  {
   "cell_type": "code",
   "execution_count": 128,
   "metadata": {},
   "outputs": [],
   "source": [
    "a = time.time()\n",
    "linearsearch(sort1, max(sort1))\n",
    "b = time.time()\n",
    "linarr1 = (b - a) * 1000\n",
    "a = time.time()\n",
    "linearsearch(sort2, max(sort2))\n",
    "b = time.time()\n",
    "linarr2 = (b - a) * 1000\n",
    "a = time.time()\n",
    "linearsearch(sort3, max(sort3))\n",
    "b = time.time()\n",
    "linarr3 = (b - a) * 1000\n",
    "a = time.time()\n",
    "linearsearch(sort4, max(sort4))\n",
    "b = time.time()\n",
    "linarr4 = (b - a) * 1000\n",
    "a = time.time()\n",
    "linearsearch(sort5, max(sort5))\n",
    "b = time.time()\n",
    "linarr5 = (b - a) * 1000"
   ]
  },
  {
   "cell_type": "code",
   "execution_count": 137,
   "metadata": {},
   "outputs": [],
   "source": [
    "a = time.time()\n",
    "binary_search(sort1, max(sort1))\n",
    "b = time.time()\n",
    "binarr1 = (b - a) * 1000\n",
    "\n",
    "a = time.time()\n",
    "binary_search(sort2, max(sort2))\n",
    "b = time.time()\n",
    "binarr2 = (b - a) * 1000\n",
    "\n",
    "a = time.time()\n",
    "binary_search(sort3, max(sort3))\n",
    "b = time.time()\n",
    "binarr3 = (b - a) * 1000\n",
    "\n",
    "a = time.time()\n",
    "binary_search(sort4, max(sort4))\n",
    "b = time.time()\n",
    "binarr4 = (b - a) * 1000\n",
    "\n",
    "a = time.time()\n",
    "binary_search(sort5, max(sort5))\n",
    "b = time.time()\n",
    "binarr5 = (b - a) * 1000"
   ]
  },
  {
   "cell_type": "code",
   "execution_count": 130,
   "metadata": {},
   "outputs": [],
   "source": [
    "a = time.time()\n",
    "sort1\n",
    "b = time.time()\n",
    "sortarr1 = (b - a) * 1000\n",
    "a = time.time()\n",
    "sort2\n",
    "b = time.time()\n",
    "sortarr2 = (b - a) * 1000\n",
    "a = time.time()\n",
    "sort3\n",
    "b = time.time()\n",
    "sortarr3 = (b - a) * 1000\n",
    "a = time.time()\n",
    "sort4\n",
    "b = time.time()\n",
    "sortarr4 = (b - a) * 1000\n",
    "a = time.time()\n",
    "sort5\n",
    "b = time.time()\n",
    "sortarr5 = (b - a) * 1000"
   ]
  },
  {
   "cell_type": "code",
   "execution_count": 131,
   "metadata": {},
   "outputs": [
    {
     "data": {
      "text/html": [
       "<div>\n",
       "<style scoped>\n",
       "    .dataframe tbody tr th:only-of-type {\n",
       "        vertical-align: middle;\n",
       "    }\n",
       "\n",
       "    .dataframe tbody tr th {\n",
       "        vertical-align: top;\n",
       "    }\n",
       "\n",
       "    .dataframe thead th {\n",
       "        text-align: right;\n",
       "    }\n",
       "</style>\n",
       "<table border=\"1\" class=\"dataframe\">\n",
       "  <thead>\n",
       "    <tr style=\"text-align: right;\">\n",
       "      <th></th>\n",
       "      <th>length</th>\n",
       "      <th>sort time</th>\n",
       "      <th>binary search time on sorted</th>\n",
       "      <th>linear search time on sorted</th>\n",
       "      <th>binary search time plus sort</th>\n",
       "    </tr>\n",
       "  </thead>\n",
       "  <tbody>\n",
       "    <tr>\n",
       "      <td>0</td>\n",
       "      <td>Array 1 Length: 512</td>\n",
       "      <td>0.09298324584960938 ms</td>\n",
       "      <td>0.1430511474609375 ms</td>\n",
       "      <td>0.23293495178222656 ms</td>\n",
       "      <td>0.23603439331054688 ms</td>\n",
       "    </tr>\n",
       "    <tr>\n",
       "      <td>1</td>\n",
       "      <td>Array 1 Length: 1024</td>\n",
       "      <td>0.07510185241699219 ms</td>\n",
       "      <td>0.17213821411132812 ms</td>\n",
       "      <td>0.34809112548828125 ms</td>\n",
       "      <td>0.2472400665283203 ms</td>\n",
       "    </tr>\n",
       "    <tr>\n",
       "      <td>2</td>\n",
       "      <td>Array 1 Length: 2048</td>\n",
       "      <td>0.07104873657226562 ms</td>\n",
       "      <td>0.2880096435546875 ms</td>\n",
       "      <td>0.6399154663085938 ms</td>\n",
       "      <td>0.3590583801269531 ms</td>\n",
       "    </tr>\n",
       "    <tr>\n",
       "      <td>3</td>\n",
       "      <td>Array 1 Length: 4096</td>\n",
       "      <td>0.06985664367675781 ms</td>\n",
       "      <td>0.5218982696533203 ms</td>\n",
       "      <td>1.361846923828125 ms</td>\n",
       "      <td>0.5917549133300781 ms</td>\n",
       "    </tr>\n",
       "    <tr>\n",
       "      <td>4</td>\n",
       "      <td>Array 1 Length: 8192</td>\n",
       "      <td>0.07200241088867188 ms</td>\n",
       "      <td>1.13677978515625 ms</td>\n",
       "      <td>2.7010440826416016 ms</td>\n",
       "      <td>1.2087821960449219 ms</td>\n",
       "    </tr>\n",
       "  </tbody>\n",
       "</table>\n",
       "</div>"
      ],
      "text/plain": [
       "                 length               sort time binary search time on sorted  \\\n",
       "0   Array 1 Length: 512  0.09298324584960938 ms        0.1430511474609375 ms   \n",
       "1  Array 1 Length: 1024  0.07510185241699219 ms       0.17213821411132812 ms   \n",
       "2  Array 1 Length: 2048  0.07104873657226562 ms        0.2880096435546875 ms   \n",
       "3  Array 1 Length: 4096  0.06985664367675781 ms        0.5218982696533203 ms   \n",
       "4  Array 1 Length: 8192  0.07200241088867188 ms          1.13677978515625 ms   \n",
       "\n",
       "  linear search time on sorted binary search time plus sort  \n",
       "0       0.23293495178222656 ms       0.23603439331054688 ms  \n",
       "1       0.34809112548828125 ms        0.2472400665283203 ms  \n",
       "2        0.6399154663085938 ms        0.3590583801269531 ms  \n",
       "3         1.361846923828125 ms        0.5917549133300781 ms  \n",
       "4        2.7010440826416016 ms        1.2087821960449219 ms  "
      ]
     },
     "execution_count": 131,
     "metadata": {},
     "output_type": "execute_result"
    }
   ],
   "source": [
    "import pandas as pd\n",
    "algos = [{'length': \"Array 1 Length: \" + str(len(sort1)), 'sort time':'{} ms'.format(sortarr1) , 'binary search time on sorted': '{} ms'.format(binarr1) , 'linear search time on sorted': '{} ms'.format(linarr1), 'binary search time plus sort': '{} ms'.format(binarr1 + sortarr1)},\n",
    "         {'length': \"Array 1 Length: \" + str(len(sort2)), 'sort time':'{} ms'.format(sortarr2) , 'binary search time on sorted': '{} ms'.format(binarr2) , 'linear search time on sorted': '{} ms'.format(linarr2), 'binary search time plus sort': '{} ms'.format(binarr2 + sortarr2)}, \n",
    "         {'length': \"Array 1 Length: \" + str(len(sort3)), 'sort time':'{} ms'.format(sortarr3) , 'binary search time on sorted': '{} ms'.format(binarr3) , 'linear search time on sorted': '{} ms'.format(linarr3), 'binary search time plus sort': '{} ms'.format(binarr3 + sortarr3)}, \n",
    "         {'length': \"Array 1 Length: \" + str(len(sort4)), 'sort time':'{} ms'.format(sortarr4) , 'binary search time on sorted': '{} ms'.format(binarr4) , 'linear search time on sorted': '{} ms'.format(linarr4), 'binary search time plus sort': '{} ms'.format(binarr4 + sortarr4)},\n",
    "         {'length': \"Array 1 Length: \" + str(len(sort5)), 'sort time':'{} ms'.format(sortarr5) , 'binary search time on sorted': '{} ms'.format(binarr5) , 'linear search time on sorted': '{} ms'.format(linarr5), 'binary search time plus sort': '{} ms'.format(binarr5 + sortarr5)}]\n",
    "algosdf = pd.DataFrame(algos)\n",
    "algosdf"
   ]
  },
  {
   "cell_type": "markdown",
   "metadata": {},
   "source": [
    "# Question 5"
   ]
  },
  {
   "cell_type": "markdown",
   "metadata": {},
   "source": [
    "Use python matplotlib or Seaborn to generate a plot with the size of the random number array on the horizontal axis and with execution time in milliseconds on the vertical axis. The plot should show execution time against array size for linear and binary search algorithms alone.  Discuss the results."
   ]
  },
  {
   "cell_type": "code",
   "execution_count": 138,
   "metadata": {},
   "outputs": [
    {
     "data": {
      "text/plain": [
       "Text(0, 0.5, 'time in ms')"
      ]
     },
     "execution_count": 138,
     "metadata": {},
     "output_type": "execute_result"
    },
    {
     "data": {
      "image/png": "[encoded data removed]",
      "text/plain": [
       "<Figure size 432x288 with 1 Axes>"
      ]
     },
     "metadata": {
      "needs_background": "light"
     },
     "output_type": "display_data"
    }
   ],
   "source": [
    "#Binary Search Plot alone\n",
    "import matplotlib.pyplot as plt\n",
    "plt.plot([len(array1), len(array2), len(array3), len(array4), len(array5)], [binarr1, binarr2, binarr3, binarr4, binarr5])\n",
    "plt.xlabel('array size')\n",
    "plt.ylabel('time in ms')"
   ]
  },
  {
   "cell_type": "code",
   "execution_count": 139,
   "metadata": {},
   "outputs": [
    {
     "data": {
      "text/plain": [
       "Text(0, 0.5, 'time in ms')"
      ]
     },
     "execution_count": 139,
     "metadata": {},
     "output_type": "execute_result"
    },
    {
     "data": {
      "image/png": "[encoded data removed]",
      "text/plain": [
       "<Figure size 432x288 with 1 Axes>"
      ]
     },
     "metadata": {
      "needs_background": "light"
     },
     "output_type": "display_data"
    }
   ],
   "source": [
    "#linear search plot\n",
    "plt.plot([len(array1), len(array2), len(array3), len(array4), len(array5)], [linarr1, linarr2, linarr3, linarr4, linarr5])\n",
    "plt.xlabel('array size')\n",
    "plt.ylabel('time in ms')"
   ]
  },
  {
   "cell_type": "markdown",
   "metadata": {},
   "source": [
    "As the graphs show they are binary search is faster, and flattens out like log(n). With Linear search it takes on a linear plot as can be inferred by the name. As the array size increases the run time increases in linear search."
   ]
  },
  {
   "cell_type": "markdown",
   "metadata": {},
   "source": [
    "# Question 6"
   ]
  },
  {
   "cell_type": "markdown",
   "metadata": {},
   "source": [
    "Use Python matplotlib or Seaborn to generate a measure of the size of the data set on the horizontal axis and with execution time in milliseconds on the vertical axis. The plot should show execution time against array size for each form of the algorithm being tested (last four columns of the table).  Discuss the results."
   ]
  },
  {
   "cell_type": "code",
   "execution_count": 140,
   "metadata": {},
   "outputs": [
    {
     "data": {
      "text/plain": [
       "Text(0, 0.5, 'time in ms')"
      ]
     },
     "execution_count": 140,
     "metadata": {},
     "output_type": "execute_result"
    },
    {
     "data": {
      "image/png": "[encoded data removed]",
      "text/plain": [
       "<Figure size 432x288 with 1 Axes>"
      ]
     },
     "metadata": {
      "needs_background": "light"
     },
     "output_type": "display_data"
    }
   ],
   "source": [
    "#linsearch plot\n",
    "plt.plot([len(array1), len(array2), len(array3), len(array4), len(array5)], [linarr1, linarr2, linarr3, linarr4, linarr5])\n",
    "plt.xlabel('array size')\n",
    "plt.ylabel('time in ms')"
   ]
  },
  {
   "cell_type": "code",
   "execution_count": 141,
   "metadata": {},
   "outputs": [
    {
     "data": {
      "text/plain": [
       "Text(0, 0.5, 'time in ms')"
      ]
     },
     "execution_count": 141,
     "metadata": {},
     "output_type": "execute_result"
    },
    {
     "data": {
      "image/png": "[encoded data removed]",
      "text/plain": [
       "<Figure size 432x288 with 1 Axes>"
      ]
     },
     "metadata": {
      "needs_background": "light"
     },
     "output_type": "display_data"
    }
   ],
   "source": [
    "#binarysearch plot\n",
    "plt.plot([len(array1), len(array2), len(array3), len(array4), len(array5)], [binarr1, binarr2, binarr3, binarr4, binarr5])\n",
    "plt.xlabel('array size')\n",
    "plt.ylabel('time in ms')"
   ]
  },
  {
   "cell_type": "code",
   "execution_count": 144,
   "metadata": {},
   "outputs": [
    {
     "data": {
      "text/plain": [
       "[0, 10000, 0, 3]"
      ]
     },
     "execution_count": 144,
     "metadata": {},
     "output_type": "execute_result"
    },
    {
     "data": {
      "image/png": "[encoded data removed]",
      "text/plain": [
       "<Figure size 432x288 with 1 Axes>"
      ]
     },
     "metadata": {
      "needs_background": "light"
     },
     "output_type": "display_data"
    }
   ],
   "source": [
    "#selection sort + binary search + linear search cominined\n",
    "\n",
    "\n",
    "plt.xlabel('array size')\n",
    "plt.ylabel('time in ms')\n",
    "\n",
    "plt.plot([len(array1), len(array2), len(array3), len(array4), len(array5)], [sortarr1, sortarr2, sortarr3, sortarr4, sortarr5])\n",
    "plt.plot([len(array1), len(array2), len(array3), len(array4), len(array5)], [linarr1 + linarr1, linarr2 + linarr2, linarr3 + sortarr3, linarr4 + sortarr4, linarr5 + sortarr5])\n",
    "plt.plot([len(array1), len(array2), len(array3), len(array4), len(array5)], [binarr1 + sortarr1, binarr2 + sortarr2, binarr3 + sortarr3, binarr4 + sortarr4, binarr5 + sortarr5])\n",
    "plt.plot([len(array1), len(array2), len(array3), len(array4), len(array5)], [binarr1, binarr2, binarr3, binarr4, binarr5])\n",
    "plt.plot([len(array1), len(array2), len(array3), len(array4), len(array5)], [linarr1, linarr2, linarr3, linarr4, linarr5], color = 'k')\n",
    "plt.legend(['sort','lin search + sort' , 'binary search + sort', 'binarysearch', 'linear search'])\n",
    "plt.axis([0, 10000, 0, 3])\n"
   ]
  },
  {
   "cell_type": "code",
   "execution_count": 145,
   "metadata": {},
   "outputs": [
    {
     "data": {
      "text/plain": [
       "[<matplotlib.lines.Line2D at 0x125304950>]"
      ]
     },
     "execution_count": 145,
     "metadata": {},
     "output_type": "execute_result"
    },
    {
     "data": {
      "image/png": "[encoded data removed]",
      "text/plain": [
       "<Figure size 432x288 with 1 Axes>"
      ]
     },
     "metadata": {
      "needs_background": "light"
     },
     "output_type": "display_data"
    }
   ],
   "source": [
    "#binary search + sort\n",
    "plt.xlabel('array size')\n",
    "plt.ylabel('time in ms')\n",
    "\n",
    "plt.plot([len(array1), len(array2), len(array3), len(array4), len(array5)], [binarr1 + sortarr1, binarr2 + sortarr2, binarr3 + sortarr3, binarr4 + sortarr4, binarr5 + sortarr5])\n"
   ]
  },
  {
   "cell_type": "markdown",
   "metadata": {},
   "source": [
    "As the graphs show they are definitly the binary search is faster and is a logarithm where it gets slower everytime until it is flat. Linear search has a linear line just about. With selection sort you it also increases in runtime generally as array size increases. With binary search + sort the time is similar to the binary search just a little slower."
   ]
  },
  {
   "cell_type": "markdown",
   "metadata": {},
   "source": [
    "# Summary"
   ]
  },
  {
   "cell_type": "markdown",
   "metadata": {},
   "source": [
    "Prepare an executive summary of your results, referring to the table and figures you have generated. Explain how your results relate to big O notation. Describe your results in language that management can understand. This summary should be included as text paragraphs in the Jupyter notebook. Explain how the algorithm works and why it is a useful to data engineers.\n",
    "\n",
    "Program code should conform to best practices in software development, as described in the coding/software development textbook used in the course.\n",
    "\n",
    "Set up a personal computer-based Git repository (or private repository on Github) for your work with algorithms this term. Beginning with this week's mini programming assignment, utilize Git as you work on software development."
   ]
  },
  {
   "cell_type": "markdown",
   "metadata": {},
   "source": [
    "# Answer "
   ]
  },
  {
   "cell_type": "markdown",
   "metadata": {},
   "source": [
    "The results are related to big O notation as logarithm usually increases slowly as seen in binary search plot so it is correct like I guessed. Linear is just like how I would have predicted, as well in binary search being faster than linear time. What is ironic it took me a couple of cell runs to come up with the correct log plot.\n",
    "\n",
    "For linear search the algorithm is pretty simple you search every number until you find the correct index. For binary search you divide at the median point of array and if the target is less than median you can throw out half of the array every time. The worst case is log(n). For np.sort, it is a lot faster than all the other algorithms.\n",
    "\n",
    "These algorithms are useful for data engineers, as it is important to have fast algorithms since there can so much data to sort through, or search through. These algorithms make it easier to find a specific occurrence in the volume of data we now have."
   ]
  }
 ],
 "metadata": {
  "kernelspec": {
   "display_name": "Python 3",
   "language": "python",
   "name": "python3"
  },
  "language_info": {
   "codemirror_mode": {
    "name": "ipython",
    "version": 3
   },
   "file_extension": ".py",
   "mimetype": "text/x-python",
   "name": "python",
   "nbconvert_exporter": "python",
   "pygments_lexer": "ipython3",
   "version": "3.7.4"
  }
 },
 "nbformat": 4,
 "nbformat_minor": 2
}
